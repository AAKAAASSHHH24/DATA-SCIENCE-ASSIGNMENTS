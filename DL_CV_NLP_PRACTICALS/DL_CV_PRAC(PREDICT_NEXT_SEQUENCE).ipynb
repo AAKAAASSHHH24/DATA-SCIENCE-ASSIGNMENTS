{
  "nbformat": 4,
  "nbformat_minor": 0,
  "metadata": {
    "colab": {
      "provenance": []
    },
    "kernelspec": {
      "name": "python3",
      "display_name": "Python 3"
    },
    "language_info": {
      "name": "python"
    }
  },
  "cells": [
    {
      "cell_type": "markdown",
      "source": [
        "**Objective: - Predict Next Sequence**\n",
        "\n",
        "To start with deep learning, the very basic project that you can build is to\n",
        "predict the next digit in a sequence.\n",
        "\n",
        "Dataset: - Create a sequence like a list of odd numbers and then build a model\n",
        "and train it to predict the next digit in the sequence.\n",
        "\n",
        "**Task: - A simple neural network with 2 layers would be sufficient to build the\n",
        "model.**"
      ],
      "metadata": {
        "id": "OoxvRA5WujcC"
      }
    },
    {
      "cell_type": "markdown",
      "source": [
        "To implement the task of predicting the next digit in a sequence of odd numbers, you can follow the following steps:\n",
        "\n",
        "Create a dataset of odd numbers, say from 1 to 19.\n",
        "\n",
        "Split the dataset into training and testing sets, with a ratio of 80-20 or 70-30.\n",
        "\n",
        "Preprocess the data by converting the numbers into arrays of the same length, with each element representing a digit.\n",
        "\n",
        "Build a simple neural network with 2 hidden layers and a sigmoid activation function.\n",
        "\n",
        "Train the model on the training set using a suitable optimization algorithm like stochastic gradient descent (SGD), Adam, or RMSprop.\n",
        "\n",
        "Evaluate the model's performance on the testing set using metrics like mean squared error (MSE) or accuracy.\n",
        "\n",
        "Fine-tune the model based on the evaluation results and repeat the training and evaluation process until satisfactory results are obtained.\n",
        "\n",
        "Use the trained model to predict the next digit in a sequence and evaluate its \n",
        "performance.\n",
        "\n",
        "This is a simple project to start with deep learning and gain a basic understanding of how neural networks can be used to solve sequential problems."
      ],
      "metadata": {
        "id": "kbeKfm5tu82b"
      }
    },
    {
      "cell_type": "code",
      "execution_count": 1,
      "metadata": {
        "colab": {
          "base_uri": "https://localhost:8080/"
        },
        "id": "nTCjp6y7uZpB",
        "outputId": "105c3158-9b2b-4087-c5ee-09af12a598e0"
      },
      "outputs": [
        {
          "output_type": "stream",
          "name": "stdout",
          "text": [
            "Predicted next digit: 25.781982\n"
          ]
        }
      ],
      "source": [
        "import numpy as np\n",
        "import tensorflow as tf\n",
        "\n",
        "# Define the dataset as a list of odd numbers\n",
        "data = np.array([1, 3, 5, 7, 9, 11, 13, 15, 17, 19], dtype=np.float32)\n",
        "\n",
        "# Split the data into input and target sequences\n",
        "def split_sequence(sequence, n_steps):\n",
        "    X, y = list(), list()\n",
        "    for i in range(len(sequence)):\n",
        "        end_ix = i + n_steps\n",
        "        if end_ix > len(sequence)-1:\n",
        "            break\n",
        "        seq_x, seq_y = sequence[i:end_ix], sequence[end_ix]\n",
        "        X.append(seq_x)\n",
        "        y.append(seq_y)\n",
        "    return np.array(X), np.array(y)\n",
        "\n",
        "n_steps = 3\n",
        "X, y = split_sequence(data, n_steps)\n",
        "\n",
        "# Build the model\n",
        "model = tf.keras.Sequential()\n",
        "\n",
        "#Add a simple dense layer with 64 units\n",
        "\n",
        "model.add(tf.keras.layers.Dense(64, activation='relu', input_dim=n_steps))\n",
        "\n",
        "#Add a second dense layer with 1 unit to predict the next digit\n",
        "\n",
        "model.add(tf.keras.layers.Dense(1))\n",
        "\n",
        "#Compile the model with mean squared error as the loss function\n",
        "\n",
        "model.compile(optimizer='adam', loss='mean_squared_error')\n",
        "\n",
        "#Train the model on the input-target pairs\n",
        "\n",
        "model.fit(X, y, epochs=200, verbose=0)\n",
        "\n",
        "#Use the trained model to predict the next digit\n",
        "\n",
        "x_input = np.array([17, 19, 21], dtype=np.float32)\n",
        "\n",
        "x_input = x_input.reshape((1, n_steps))\n",
        "\n",
        "yhat = model.predict(x_input, verbose=0)\n",
        "\n",
        "print(\"Predicted next digit:\", yhat[0][0])\n"
      ]
    },
    {
      "cell_type": "markdown",
      "source": [],
      "metadata": {
        "id": "H10uOlOIvg-Y"
      }
    }
  ]
}