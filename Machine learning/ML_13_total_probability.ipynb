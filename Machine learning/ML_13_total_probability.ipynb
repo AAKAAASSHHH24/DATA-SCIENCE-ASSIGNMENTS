{
  "nbformat": 4,
  "nbformat_minor": 0,
  "metadata": {
    "colab": {
      "provenance": []
    },
    "kernelspec": {
      "name": "python3",
      "display_name": "Python 3"
    },
    "language_info": {
      "name": "python"
    }
  },
  "cells": [
    {
      "cell_type": "markdown",
      "source": [
        "**4. Can the Nave Bayes classifier be used on continuous numeric data? If so, how can you go about\n",
        "doing it?**"
      ],
      "metadata": {
        "id": "kb7L0TmRBDa1"
      }
    },
    {
      "cell_type": "markdown",
      "source": [
        "The Naive Bayes classifier is typically used for categorical data, where each feature can take on a discrete set of values. However, it can be adapted to work with continuous numeric data as well. There are a few different ways to do this:\n",
        "\n",
        "**Discretization:** One approach is to discretize the continuous data into a set of discrete bins or intervals. The Naive Bayes classifier can then be applied to the discretized data as usual.\n",
        "\n",
        "**Gaussian Naive Bayes: Another approach is to use the Gaussian Naive Bayes algorithm, which assumes that the continuous data is normally distributed.** In this case, the likelihood of a feature given a class is represented by the probability density function of a normal distribution. The classifier then uses these likelihoods, along with prior probabilities, to calculate the posterior probability of each class for a given set of feature values.\n",
        "\n",
        "**Kernel Density Estimation: A third approach is to use kernel density estimation (KDE) to estimate the probability density function of each feature for each class.** The classifier then uses these density estimates, along with prior probabilities, to calculate the posterior probability of each class for a given set of feature values.\n",
        "\n",
        "Regardless of the method used, it's important to keep in mind that adapting the Naive Bayes classifier to work with continuous data may decrease the accuracy of the classifier, due to the assumption of independence between features."
      ],
      "metadata": {
        "id": "VBvtXPL4BDVI"
      }
    },
    {
      "cell_type": "markdown",
      "source": [
        "**5. What are Bayesian Belief Networks, and how do they work? What are their applications? Are they\n",
        "capable of resolving a wide range of issues?**"
      ],
      "metadata": {
        "id": "hODJjskQp8lH"
      }
    },
    {
      "cell_type": "markdown",
      "source": [
        "Bayesian Belief Networks (BBNs) are a type of probabilistic graphical model that represents the relationships between variables and their conditional dependencies using a directed acyclic graph (DAG). Each node in the graph represents a random variable, and the edges represent the conditional dependencies between the variables. The probability of each variable is represented by a conditional probability distribution, which can be computed using Bayes' theorem.\n",
        "\n",
        "BBNs are widely used in a variety of applications, including decision making, diagnostic reasoning, and probabilistic reasoning. They are particularly useful in situations where there is incomplete or uncertain information. For example, in medical diagnosis, a BBN can be used to represent the relationships between symptoms, test results, and diseases, and can be used to make inferences about the probability of a patient having a certain disease based on the symptoms and test results.\n",
        "\n",
        "BBNs are not capable of resolving a wide range of issues, as they are only useful in situations where the relationships between variables can be represented using a DAG. They also have limitations when dealing with large numbers of variables or when the relationships between variables are highly non-linear. Other types of probabilistic graphical models, such as Markov Random Fields, may be more appropriate in these situations."
      ],
      "metadata": {
        "id": "mMAlmgMFqCML"
      }
    },
    {
      "cell_type": "markdown",
      "source": [
        "**6. Passengers are checked in an airport screening system to see if there is an intruder. Let I be the\n",
        "random variable that indicates whether someone is an intruder I = 1) or not I = 0), and A be the\n",
        "variable that indicates alarm I = 0). If an intruder is detected with probability P(A = 1|I = 1) = 0.98\n",
        "and a non-intruder is detected with probability P(A = 1|I = 0) = 0.001, an alarm will be triggered,\n",
        "implying the error factor. The likelihood of an intruder in the passenger population is P(I = 1) =0.00001. What are the chances that an alarm would be triggered when an individual is actually an\n",
        "intruder?**"
      ],
      "metadata": {
        "id": "a4mkSaF-qKKD"
      }
    },
    {
      "cell_type": "markdown",
      "source": [
        "The chances that an alarm would be triggered when an individual is actually an intruder can be calculated using Bayes' theorem, which states that:\n",
        "\n",
        "**P(I = 1 | A = 1) = P(A = 1 | I = 1) * P(I = 1) / P(A = 1)**\n",
        "\n",
        "where P(I = 1 | A = 1) is the probability that an individual is an intruder given that an alarm is triggered, P(A = 1 | I = 1) is the probability that an alarm is triggered given that an individual is an intruder, P(I = 1) is the prior probability that an individual is an intruder, and P(A = 1) is the total probability that an alarm is triggered.\n",
        "\n",
        "P(A = 1) = P(A = 1 | I = 1) * P(I = 1) + P(A = 1 | I = 0) * P(I = 0)\n",
        "\n",
        "P(I = 0) = 1 - P(I = 1)\n",
        "\n",
        "We are given that P(A = 1|I = 1) = 0.98, P(A = 1|I = 0) = 0.001, and P(I = 1) = 0.00001\n",
        "\n",
        "By substituting these values into the equations above we can calculate the probability that an alarm would be triggered when an individual is actually an intruder:\n",
        "\n",
        "P(A = 1) = 0.98 * 0.00001 + 0.001 * (1 - 0.00001) = 0.0001078\n",
        "\n",
        "P(I = 1 | A = 1) = P(A = 1 | I = 1) * P(I = 1) / P(A = 1) = 0.98 * 0.00001 / 0.0001078 ≈ 0.0916\n",
        "\n",
        "So, the chances that an alarm would be triggered when an individual is actually an intruder is about 0.0916.\n",
        "It means that there is a 9.16% chance that an alarm will trigger when an individual is actually an intruder.\n",
        "It also means that there is a 90.84% chance that an alarm will trigger when an individual is not an intruder (False Alarm)"
      ],
      "metadata": {
        "id": "ptvsLVPEqXv4"
      }
    },
    {
      "cell_type": "markdown",
      "source": [
        "**7. An antibiotic resistance test (random variable T) has 1% false positives (i.e., 1% of those who are\n",
        "not immune to an antibiotic display a positive result in the test) and 5% false negatives (i.e., 1% of\n",
        "those who are not resistant to an antibiotic show a positive result in the test) (i.e. 5 percent of those\n",
        "actually resistant to an antibiotic test negative). Assume that 2% of those who were screened were\n",
        "antibiotic-resistant. Calculate the likelihood that a person who tests positive is actually immune\n",
        "(random variable D).**"
      ],
      "metadata": {
        "id": "BGwdIaHmtCi3"
      }
    },
    {
      "cell_type": "markdown",
      "source": [
        "To calculate the likelihood that a person who tests positive is actually immune (i.e., P(D|T)), we need to use Bayes' theorem, which states that:\n",
        "\n",
        "P(D|T) = P(T|D) * P(D) / P(T)\n",
        "\n",
        "Where:\n",
        "\n",
        "P(D|T) is the probability that a person who tests positive is actually immune\n",
        "\n",
        "P(T|D) is the probability of a positive test result given that the person is immune\n",
        "\n",
        "P(D) is the probability that a person is immune\n",
        "\n",
        "P(T) is the probability of a positive test result\n",
        "\n",
        "To calculate P(T|D), we can use the information provided in the question: 1% of those who are not immune to an antibiotic display a positive result in the test. So P(T|D) = 0.01.\n",
        "\n",
        "To calculate P(D), we can use the information provided in the question: 2% of those who were screened were antibiotic-resistant. So P(D) = 0.98\n",
        "\n",
        "To calculate P(T), we can use the information provided in the question and the Law of Total Probability:\n",
        "P(T) = P(T|D) * P(D) + P(T|not D) * P(not D)\n",
        "\n",
        "P(T|not D) = 1 - P(not T|not D) = 1 - (1 - 0.01) = 0.01\n",
        "P(not D) = 1 - P(D) = 1 - 0.98 = 0.02\n",
        "\n",
        "Now we can substitute all the values in Bayes' theorem:\n",
        "P(D|T) = P(T|D) * P(D) / P(T) = 0.01 * 0.98 / (0.01 * 0.98 + 0.01 * 0.02) = 0.98\n",
        "\n",
        "So the likelihood that a person who tests positive is actually immune is 98%."
      ],
      "metadata": {
        "id": "gocThYrDvTW4"
      }
    },
    {
      "cell_type": "markdown",
      "source": [
        "**8. In order to prepare for the test, a student knows that there will be one question in the exam that\n",
        "is either form A, B, or C. The chances of getting an A, B, or C on the exam are 30 percent, 20%, and\n",
        "50 percent, respectively. During the planning, the student solved 9 of 10 type A problems, 2 of 10\n",
        "type B problems, and 6 of 10 type C problems.**\n",
        "\n",
        "1. What is the likelihood that the student can solve the exam problem?\n",
        "\n",
        "2. Given the student&#39;s solution, what is the likelihood that the problem was of form A?"
      ],
      "metadata": {
        "id": "MtzyUHT-0M1J"
      }
    },
    {
      "cell_type": "markdown",
      "source": [
        "To calculate the likelihood that the student can solve the exam problem, we need to use the law of total probability. The law of total probability states that the probability of an event happening is equal to the sum of the probabilities of all possible sub-events, multiplied by the probability of each sub-event happening. In this case, the event is the student solving the exam problem, and the sub-events are the problem being of form A, B, or C.\n",
        "P(solving the exam problem) = P(solving problem | form A) * P(form A) + P(solving problem | form B) * P(form B) + P(solving problem | form C) * P(form C)\n",
        "\n",
        "P(solving problem | form A) = 9/10, P(form A) = 0.3, P(solving problem | form B) = 2/10, P(form B) = 0.2, P(solving problem | form C) = 6/10, P(form C) = 0.5\n",
        "\n",
        "So, the likelihood that the student can solve the exam problem is:\n",
        "P(solving the exam problem) = (9/10) * 0.3 + (2/10) * 0.2 + (6/10) * 0.5 = 0.54\n",
        "\n",
        "To calculate the likelihood that the problem was of form A given that the student solved the exam problem, we need to use Bayes' theorem. Bayes' theorem states that:\n",
        "P(A|B) = P(B|A) * P(A) / P(B)\n",
        "Where:\n",
        "\n",
        "P(A|B) is the probability of event A happening given that event B has happened\n",
        "\n",
        "P(B|A) is the probability of event B happening given that event A has happened\n",
        "\n",
        "P(A) is the probability of event A happening\n",
        "\n",
        "P(B) is the probability of event B happening\n",
        "\n",
        "In this case, A is the problem being of form A, B is the student solving the exam problem.\n",
        "\n",
        "We know that P(solving the exam problem) = 0.54, P(form A) = 0.3, and P(solving problem | form A) = 9/10 from the first question.\n",
        "\n",
        "So, the likelihood that the problem was of form A given the student solved the exam problem is:\n",
        "\n",
        "P(form A | solving the exam problem) = (9/10) * 0.3 / 0.54 = 0.41\n",
        "\n",
        "So the likelihood that the problem was of form A given that the student solved the exam problem is 41%.\n",
        "\n",
        "\n",
        "\n",
        "\n"
      ],
      "metadata": {
        "id": "1avvRIF10ZX_"
      }
    },
    {
      "cell_type": "markdown",
      "source": [
        "**10. Create the conditional probability table associated with the node Won Toss in the Bayesian Belief\n",
        "network to represent the conditional independence assumptions of the Nave Bayes classifier for the\n",
        "match winning prediction problem in Section 6.4.4.**"
      ],
      "metadata": {
        "id": "ka5jvFjp2Rl1"
      }
    },
    {
      "cell_type": "markdown",
      "source": [
        "A conditional probability table (CPT) is a table that represents the conditional probability of a variable given the values of its parent variables in a Bayesian belief network.\n",
        "\n",
        "For the match winning prediction problem, the Bayesian belief network includes the nodes \"Won Toss\", \"Home Team\", \"Weather\", and \"Won Match\". The node \"Won Toss\" has no parent nodes, so the CPT for this node would represent the unconditional probability of the event \"Won Toss\" happening.\n",
        "\n",
        "Assuming that the probability of winning a toss is 0.5. The CPT associated with the node \"Won Toss\" would be:\n",
        "\n",
        "WonToss\tP(Won Toss)\n",
        "\n",
        " T\t          0.5\n",
        "\n",
        " F\t          0.5\n",
        "\n",
        "Where T represents the event \"Won Toss\" and F represents the event \"Did not win toss\".\n",
        "\n",
        "It's important to note that the CPTs are based on the given data, so if the data is different the CPTs would also be different."
      ],
      "metadata": {
        "id": "Fd4yyXkt2lYs"
      }
    },
    {
      "cell_type": "code",
      "execution_count": null,
      "metadata": {
        "id": "iPrCRTXa7kZx"
      },
      "outputs": [],
      "source": []
    }
  ]
}