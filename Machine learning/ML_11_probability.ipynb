{
  "nbformat": 4,
  "nbformat_minor": 0,
  "metadata": {
    "colab": {
      "provenance": []
    },
    "kernelspec": {
      "name": "python3",
      "display_name": "Python 3"
    },
    "language_info": {
      "name": "python"
    }
  },
  "cells": [
    {
      "cell_type": "markdown",
      "source": [
        "2. Two equal and fair dice are rolled, and we observed two numbers X and Y.\n",
        "\n",
        " Find RX, RY, and the PMFs of X and Y.\n",
        "\n",
        " Find P(X = 2,Y = 6).\n",
        "\n",
        " Find P(X&gt;3|Y = 2).\n",
        "\n",
        " If Z = X + Y. Find the range and PMF of Z.\n",
        " \n",
        " Find P(X = 4|Z = 8)."
      ],
      "metadata": {
        "id": "2bWFofCJenJX"
      }
    },
    {
      "cell_type": "markdown",
      "source": [
        "RX and RY for the two dice are {1, 2, 3, 4, 5, 6} each. The PMF (probability mass function) of X and Y would be (1/6, 1/6, 1/6, 1/6, 1/6, 1/6) for each, as each outcome is equally likely.\n",
        "\n",
        "P(X = 2, Y = 6) would be (1/36) since the probability of each outcome is (1/6) and these events are independent.\n",
        "\n",
        "P(X > 3 | Y = 2) would be (2/3) since there are three outcomes out of six total outcomes where X > 3 given Y = 2.\n",
        "\n",
        "The range of Z would be 2 to 12 and the PMF would depend on how the outcomes of X and Y are combined. It would be the sum of the probabilities of each possible outcome of X and Y.\n",
        "\n",
        "P(X = 4 | Z = 8) would be (1/5) since there are five outcomes out of thirty-six total outcomes where X = 4 and Z = 8."
      ],
      "metadata": {
        "id": "LCuIIsO_e4uf"
      }
    },
    {
      "cell_type": "markdown",
      "source": [
        "**3. In an exam, there were 20 multiple-choice questions. Each question had 44 possible\n",
        "options. A student knew the answer to 10 questions, but the other 10 questions were unknown\n",
        "to him, and he chose answers randomly. If the student X&#39;s score is equal to the total number\n",
        "of correct answers, then find out the PMF of X. What is P(X&gt;15)?**"
      ],
      "metadata": {
        "id": "6dBwqz73f6uR"
      }
    },
    {
      "cell_type": "markdown",
      "source": [
        "The probability mass function (PMF) of X, the number of correct answers, is given by the binomial distribution:\n",
        "\n",
        "P(X = k) = (C(20, k) * (1/44)^k * (43/44)^(20-k))\n",
        "\n",
        "Where C(20, k) is the number of ways to choose k questions out of 20, and (1/44)^k is the probability of getting k of the 10 known questions correct, and (43/44)^(20-k) is the probability of getting the other (20-k) questions wrong.\n",
        "\n",
        "P(X>15) = 1 - P(X<=15) = 1 - (P(X=0) + P(X=1) + ... + P(X=15))\n",
        "\n",
        "By calculating each of the P(X=k) and summing them up until k=15 and subtracting the result from 1, we can find the exact probability."
      ],
      "metadata": {
        "id": "yH2xfTRVgQJY"
      }
    },
    {
      "cell_type": "markdown",
      "source": [
        "**4.The number of students arriving at a college between a time interval is a Poisson random\n",
        "variable. On average, 10 students arrive per hour. Let Y be the number of students arriving\n",
        "from 10 am to 11:30 am. What is P(10&lt;Y≤15)?**"
      ],
      "metadata": {
        "id": "K1ckLxmgiSQ0"
      }
    },
    {
      "cell_type": "markdown",
      "source": [
        "The number of students arriving at a college between a time interval is a Poisson random variable with parameter lambda = 10 students per hour.\n",
        "\n",
        "Let Y be the number of students arriving from 10 am to 11:30 am, which is 1.5 hours.\n",
        "\n",
        "P(10<Y≤15) = P(Y=11) + P(Y=12) + P(Y=13) + P(Y=14) + P(Y=15)\n",
        "\n",
        "Using Poisson distribution, the probability mass function of Y is given by:\n",
        "\n",
        "P(Y=y) = (λ^y * e^(-λ)) / y!\n",
        "\n",
        "where λ = 10*1.5 = 15"
      ],
      "metadata": {
        "id": "vvdVIBRXibfn"
      }
    },
    {
      "cell_type": "markdown",
      "source": [
        "**5.Two independent random variables, X and Y,are given such that X ~ Poisson(α) and\n",
        "Y~ Poisson(β). State a new random variable as Z = X + Y. Find out the PMF of Z.**"
      ],
      "metadata": {
        "id": "_gBz1vJmiu_r"
      }
    },
    {
      "cell_type": "markdown",
      "source": [
        "When two independent random variables, X and Y, are added together, the resulting random variable Z = X + Y follows a Poisson distribution with parameter λ = α + β.\n",
        "\n",
        "The probability mass function of Z is given by:\n",
        "\n",
        "P(Z=z) = (λ^z * e^(-λ)) / z!\n",
        "\n",
        "where λ = α + β\n",
        "\n",
        "Therefore, if XPoisson(α) and YPoisson(β), then the PMF of Z = X + Y is given by:\n",
        "\n",
        "P(Z=z) = ( (α + β)^z * e^(-(α + β)) ) / z!\n",
        "\n",
        "So, in this case, since X and Y are independent Poisson random variables, their sum Z also follows a Poisson distribution with parameter λ = α + β."
      ],
      "metadata": {
        "id": "jfeeuThAiyK5"
      }
    },
    {
      "cell_type": "markdown",
      "source": [
        "**8.There are 100 men on a ship. If Xi is the ith man&#39;s weight on the ship and Xi&#39;s are independent and\n",
        "identically distributed and EXi = μ = 170 and σXi = σ = 30. Find the probability that the men&#39;s total\n",
        "weight on the ship exceeds 18,000.**"
      ],
      "metadata": {
        "id": "ECEc4p5UjqdO"
      }
    },
    {
      "cell_type": "markdown",
      "source": [
        "The total weight of the men on the ship is given by the sum of the weights of the individual men, which is X = Σ Xi. Since the Xi's are independent and identically distributed, the total weight X is also a sum of independent and identically distributed random variables.\n",
        "\n",
        "The mean and variance of X are given by:\n",
        "\n",
        "EX = ΣEXi = 100μ = 100170 = 17000\n",
        "Var(X) = ΣVar(Xi) = 100σ^2 = 10030^2 = 9000\n",
        "\n",
        "Using the central limit theorem, we can approximate X as a normal distribution with mean EX and standard deviation σX = sqrt(Var(X)) = sqrt(9000) = 30sqrt(100) = 3010 = 300\n",
        "\n",
        "So,\n",
        "X~ N(17000,300^2)\n",
        "\n",
        "Therefore,\n",
        "P(X > 18000) = 1 - P(X <= 18000) = 1- P(Z <= (18000-17000)/300) = 1- P(Z <= 1)\n",
        "where Z is the standard normal distribution.\n",
        "Now, we can use the standard normal table to find the P(Z <= 1) which is about 0.8413.\n",
        "so the probability that the men's total weight on the ship exceeds 18000 is\n",
        "P(X > 18000) = 1- 0.8413 = 0.1587"
      ],
      "metadata": {
        "id": "HGF-5sO9jvjg"
      }
    },
    {
      "cell_type": "code",
      "execution_count": null,
      "metadata": {
        "id": "nwonU04XDuQU"
      },
      "outputs": [],
      "source": []
    }
  ]
}