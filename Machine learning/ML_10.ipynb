{
  "nbformat": 4,
  "nbformat_minor": 0,
  "metadata": {
    "colab": {
      "provenance": []
    },
    "kernelspec": {
      "name": "python3",
      "display_name": "Python 3"
    },
    "language_info": {
      "name": "python"
    }
  },
  "cells": [
    {
      "cell_type": "markdown",
      "source": [
        "**1. Define the Bayesian interpretation of probability.**\n"
      ],
      "metadata": {
        "id": "YnXZ-ivFp53U"
      }
    },
    {
      "cell_type": "markdown",
      "source": [
        "The Bayesian interpretation of probability is a way of understanding probability as a measure of degree of belief in an event or hypothesis. In this interpretation, probability is assigned to a hypothesis or event based on prior knowledge or belief, and is updated as new information becomes available. This interpretation is often used in Bayesian statistics, where probability is used to update beliefs about the parameters of a model based on data."
      ],
      "metadata": {
        "id": "I26Be4Y8qHsh"
      }
    },
    {
      "cell_type": "markdown",
      "source": [
        "**2. Define probability of a union of two events with equation.**"
      ],
      "metadata": {
        "id": "QzMLPpfMp9Fm"
      }
    },
    {
      "cell_type": "markdown",
      "source": [
        "The probability of a union of two events A and B, denoted P(A ∪ B), is the probability that either event A or event B, or both, will occur. The equation for the probability of a union of two events is:\n",
        "\n",
        "P(A ∪ B) = P(A) + P(B) - P(A ∩ B)"
      ],
      "metadata": {
        "id": "RBiHYe6-qNoo"
      }
    },
    {
      "cell_type": "markdown",
      "source": [
        "**3. What is joint probability? What is its formula?**"
      ],
      "metadata": {
        "id": "9FubD4hxqA52"
      }
    },
    {
      "cell_type": "markdown",
      "source": [
        "Joint probability is a measure of the likelihood of two events occurring together. It is denoted as P(A and B) or P(A, B). The formula for joint probability is:\n",
        "P(A, B) = P(A|B) * P(B) = P(B|A) * P(A)\n",
        "\n",
        "Where P(A|B) is the conditional probability of A given B, and P(B|A) is the conditional probability of B given A."
      ],
      "metadata": {
        "id": "dZFJx32NqT8D"
      }
    },
    {
      "cell_type": "markdown",
      "source": [
        "**4. What is chain rule of probability?**\n"
      ],
      "metadata": {
        "id": "iQ0ooLyQq_oO"
      }
    },
    {
      "cell_type": "markdown",
      "source": [
        "The chain rule of probability, also known as the \"product rule\" or the \"multiplication rule,\" states that the probability of a sequence of events occurring together is the product of the probabilities of each individual event occurring. Mathematically, it is written as:\n",
        "\n",
        "P(A1 ∩ A2 ∩ ... ∩ An) = P(A1) * P(A2|A1) * P(A3|A1 ∩ A2) * ... * P(An|A1 ∩ A2 ∩ ... ∩ An-1)\n",
        "\n",
        "Where A1, A2, ..., An are events."
      ],
      "metadata": {
        "id": "al2qZ-DPrZ0j"
      }
    },
    {
      "cell_type": "markdown",
      "source": [
        "**5. What is conditional probability means? What is the formula of it?**\n"
      ],
      "metadata": {
        "id": "zh3SiEHwrFvX"
      }
    },
    {
      "cell_type": "markdown",
      "source": [
        "Conditional probability is the probability of an event occurring given that another event has already occurred. It is denoted as P(A|B) and the formula for conditional probability is :\n",
        "\n",
        "P(A|B) = P(A ∩ B) / P(B)\n",
        "\n",
        "This formula is only valid when P(B) is not zero."
      ],
      "metadata": {
        "id": "o3wMhIkWrtij"
      }
    },
    {
      "cell_type": "markdown",
      "source": [
        "**6. What are continuous random variables?**"
      ],
      "metadata": {
        "id": "JoqeYtHFrKxZ"
      }
    },
    {
      "cell_type": "markdown",
      "source": [
        "Continuous random variables are random variables that can take on an infinite number of possible values. The values of a continuous random variable can be any value within a specified range, rather than being limited to a set of discrete values. Examples of continuous random variables include the height of a person, the time it takes to run a mile, or the temperature of a room. Continuous random variables are typically described by probability density functions (pdf), rather than probability mass functions (pmf).\n",
        "\n",
        "**A probability density function (pdf) is a function that describes the likelihood of a continuous random variable taking on a particular value.** The value of the pdf for a particular point on the number line tells us the probability per unit length of the continuous random variable taking on a value within an infinitesimal range around that point. The integral of the pdf over a range of values represents the probability that the random variable will take on a value within that range. The integral of pdf over the entire range of possible values is equal to one.\n",
        "\n",
        "**A probability mass function (pmf) is a function that describes the likelihood of a discrete random variable taking on a particular value.** The value of the pmf for a particular value of the discrete random variable tells us the probability of the random variable taking on that value. The sum of the pmf over all possible values of the random variable is equal to one.\n",
        "\n",
        "In summary, pdf is used to describe the probability of continuous random variables and pmf is used to describe the probability of discrete random variables."
      ],
      "metadata": {
        "id": "QqnCCR4Wr2li"
      }
    },
    {
      "cell_type": "markdown",
      "source": [
        "**7. What are Bernoulli distributions? What is the formula of it?**\n"
      ],
      "metadata": {
        "id": "G5Is9qMwunGq"
      }
    },
    {
      "cell_type": "markdown",
      "source": [
        "A Bernoulli distribution is a probability distribution that describes the outcome of a single binary trial. A binary trial is an experiment that has two possible outcomes: success or failure. A Bernoulli random variable is a random variable that takes on the value 1 with probability p and the value 0 with probability (1-p). \n",
        "\n",
        "The probability mass function (pmf) for a Bernoulli distribution is given by the formula:\n",
        "\n",
        "P(X = x) = p^x(1-p)^(1-x)\n",
        "\n",
        "Where x = 0 for failure and x = 1 for success, and 0<=p<=1"
      ],
      "metadata": {
        "id": "YX5SXHb5u5E7"
      }
    },
    {
      "cell_type": "markdown",
      "source": [
        "\n",
        "**8. What is binomial distribution? What is the formula?**\n"
      ],
      "metadata": {
        "id": "ENwSHj6Xuoc9"
      }
    },
    {
      "cell_type": "markdown",
      "source": [
        "A binomial distribution is a probability distribution that **describes the number of successes in a fixed number of binary trials**. A binomial random variable is the number of successes in n independent Bernoulli trials, each with probability of success p. \n",
        "\n",
        "The probability mass function (pmf) for a binomial distribution is given by the formula:\n",
        "\n",
        "P(X = x) = (n choose x) * p^x * (1-p)^(n-x)\n",
        "\n",
        "Where x is the number of successes in n trials, and 0 <= x <= n"
      ],
      "metadata": {
        "id": "I1qMiaQhvU_q"
      }
    },
    {
      "cell_type": "markdown",
      "source": [
        "**9. What is Poisson distribution? What is the formula?**"
      ],
      "metadata": {
        "id": "my25uXsZuxNC"
      }
    },
    {
      "cell_type": "markdown",
      "source": [
        "A Poisson distribution is a **probability distribution that describes the number of times an event occurs in a fixed interval of time or space**. A Poisson random variable is the number of times an event occurs in a fixed interval, given the average number of times the event occurs in that interval. \n",
        "\n",
        "The probability mass function (pmf) for a Poisson distribution is given by the formula:\n",
        "\n",
        "P(X = x) = (e^(-λ) * λ^x) / x!\n",
        "\n",
        "Where x is the number of occurrences of the event, λ is the average number of occurrences of the event in the given interval, and e is the base of the natural logarithm.\n",
        "\n",
        "\n",
        "\n",
        "\n"
      ],
      "metadata": {
        "id": "TxMctTTIvcHk"
      }
    },
    {
      "cell_type": "markdown",
      "source": [
        "**10. Define covariance.**\n"
      ],
      "metadata": {
        "id": "rxhgdREvwqPf"
      }
    },
    {
      "cell_type": "markdown",
      "source": [
        "Covariance is a measure of the degree to which two random variables change together. Covariance is a number that describes the direction and strength of the linear relationship between two variables. \n",
        "\n",
        "The formula for covariance is:\n",
        "\n",
        "Cov(X, Y) = E[(X - E(X))(Y - E(Y))]\n",
        "\n",
        "Where E(X) and E(Y) are the expected values of X and Y, respectively.\n",
        "\n",
        "To calculate the expected value (E(X)) of a random variable X, we use the following formula:\n",
        "\n",
        "**E(X) = ∑x * P(X = x)**\n",
        "\n",
        "Where x are the possible values of the random variable X and P(X = x) is the probability of the random variable X taking on the value x. The expected value is the sum of the product of each possible value of the random variable and its corresponding probability. It represents the long-term average value of the random variable."
      ],
      "metadata": {
        "id": "lv3uxkO2x33b"
      }
    },
    {
      "cell_type": "markdown",
      "source": [
        "**11. Define correlation**\n"
      ],
      "metadata": {
        "id": "YogH2Kaowwf_"
      }
    },
    {
      "cell_type": "markdown",
      "source": [
        "Correlation is a measure of the degree to which two random variables are related. Correlation is a number between -1 and 1 that describes the direction and strength of the linear relationship between two variables. \n",
        "\n",
        "The formula for correlation is:\n",
        "\n",
        "Corr(X, Y) = Cov(X, Y) / (StdDev(X) * StdDev(Y))\n",
        "\n",
        "Where StdDev(X) and StdDev(Y) are the standard deviations of X and Y, respectively.\n",
        "\n",
        "To calculate the standard deviation (σ) of a random variable X, we use the following formula:\n",
        "\n",
        "σ = √(E((X - E(X))^2))\n",
        "\n",
        "**The standard deviation is the square root of the expected value of the squared deviation of the random variable from its mean value. It describes the spread or dispersion of the probability distribution around the mean.**\n",
        "\n",
        "In practice, the standard deviation is often used as a measure of the variability or spread of a set of data. In a normal distribution, about 68% of the data falls within one standard deviation of the mean, about 95% falls within two standard deviations, and about 99.7% falls within three standard deviations.\n",
        "\n",
        "For example, let's say we have a random variable X that can take on the values 1, 2, or 3, with probabilities 0.2, 0.5, and 0.3 respectively. To calculate the expected value of X, we would use the following formula:\n",
        "\n",
        "E(X) = (1 * 0.2) + (2 * 0.5) + (3 * 0.3) = 1.8\n",
        "so, the expected value of X is 1.8\n",
        "\n",
        "To calculate the standard deviation of X, we first need to calculate the variance. To calculate the variance, we use the following formula:\n",
        "\n",
        "Var(X) = E((X - E(X))^2) = (1 - 1.8)^2 * 0.2 + (2 - 1.8)^2 * 0.5 + (3 - 1.8)^2 * 0.3 = 0.44\n",
        "The standard deviation is the square root of the variance, so we would have:\n",
        "σ = √(0.44) = 0.66\n",
        "so, the standard deviation of X is 0.66"
      ],
      "metadata": {
        "id": "lsvAhDlfyOIf"
      }
    },
    {
      "cell_type": "markdown",
      "source": [
        "**12. Define sampling with replacement. Give example.**\n"
      ],
      "metadata": {
        "id": "PNgEjS4gw0VF"
      }
    },
    {
      "cell_type": "markdown",
      "source": [
        "Sampling with replacement means that after each sample is chosen, it is put back into the population, so that it can be selected again. This is akin to drawing a ball from a bag and placing it back after selection. An example of sampling with replacement would be drawing names from a hat where the names are not returned."
      ],
      "metadata": {
        "id": "Widh5Vkzy80T"
      }
    },
    {
      "cell_type": "markdown",
      "source": [
        "**13. What is sampling without replacement? Give example.**\n"
      ],
      "metadata": {
        "id": "Zm4BfcKUw4VG"
      }
    },
    {
      "cell_type": "markdown",
      "source": [
        "Sampling without replacement means that after each sample is chosen, it is not put back into the population, so it cannot be selected again. This is akin to drawing a ball from a bag and not placing it back after selection. An example of sampling without replacement would be drawing cards from a deck of cards and not returning them to the deck after drawing"
      ],
      "metadata": {
        "id": "w0sJ2fBpzHbf"
      }
    },
    {
      "cell_type": "markdown",
      "source": [
        "**14. What is hypothesis? Give example.**"
      ],
      "metadata": {
        "id": "2uf4r6fnw98N"
      }
    },
    {
      "cell_type": "markdown",
      "source": [
        "A hypothesis is a statement or assumption about a property of a population or a relationship between variables. Hypothesis testing is a method of statistical inference used to test a claim or hypothesis about a population. An example of a hypothesis is \"The mean weight of apples from Orchard A is the same as the mean weight of apples from Orchard B.\""
      ],
      "metadata": {
        "id": "A0GJoyh8zL6y"
      }
    },
    {
      "cell_type": "code",
      "execution_count": null,
      "metadata": {
        "id": "RkVIPf8App35"
      },
      "outputs": [],
      "source": []
    },
    {
      "cell_type": "code",
      "source": [],
      "metadata": {
        "id": "wyf1E2z3qADY"
      },
      "execution_count": null,
      "outputs": []
    }
  ]
}