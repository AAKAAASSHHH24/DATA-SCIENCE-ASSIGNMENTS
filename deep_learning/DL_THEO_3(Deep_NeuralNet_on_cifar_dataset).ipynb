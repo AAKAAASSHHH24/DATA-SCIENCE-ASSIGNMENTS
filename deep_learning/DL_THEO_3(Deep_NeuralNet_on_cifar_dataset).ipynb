{
  "nbformat": 4,
  "nbformat_minor": 0,
  "metadata": {
    "colab": {
      "provenance": []
    },
    "kernelspec": {
      "name": "python3",
      "display_name": "Python 3"
    },
    "language_info": {
      "name": "python"
    }
  },
  "cells": [
    {
      "cell_type": "markdown",
      "source": [
        "**1. Is it OK to initialize all the weights to the same value as long as that value is selected\n",
        "randomly using He initialization?**"
      ],
      "metadata": {
        "id": "xQGIE0WHuojR"
      }
    },
    {
      "cell_type": "markdown",
      "source": [
        "Initializing all the weights to the same value can lead to symmetry issues in neural networks and may prevent the network from learning. He initialization, which is a method to initialize the weights with a random value drawn from a normal distribution with a mean of 0 and a standard deviation of sqrt(2/number of inputs), is used to prevent such issues. Therefore, it is not recommended to initialize all the weights to the same value, even if using He initialization."
      ],
      "metadata": {
        "id": "3k-2NgKHuwkn"
      }
    },
    {
      "cell_type": "markdown",
      "source": [
        "**2. Is it OK to initialize the bias terms to 0?**\n"
      ],
      "metadata": {
        "id": "FF1njOwPu5cD"
      }
    },
    {
      "cell_type": "markdown",
      "source": [
        "Initializing the bias terms to 0 is a common practice, but it may not always be the best choice. In some cases, initializing the biases to a non-zero value can improve the performance of the network. It's worth experimenting with different values to see what works best for a particular problem."
      ],
      "metadata": {
        "id": "5O-X8AVEvDa0"
      }
    },
    {
      "cell_type": "markdown",
      "source": [
        "**3. Name three advantages of the SELU activation function over ReLU.**"
      ],
      "metadata": {
        "id": "ZJ9ZRKn4u8e6"
      }
    },
    {
      "cell_type": "markdown",
      "source": [
        "Three advantages of the Scaled Exponential Linear Unit (SELU) activation function over the Rectified Linear Unit (ReLU) activation function are:\n",
        "\n",
        "SELU can lead to better network performance as it can produce more accurate results for deep networks.\n",
        "\n",
        "SELU can alleviate the vanishing/exploding gradient problem, which is a common issue in deep networks.\n",
        "\n",
        "SELU can preserve the mean and variance of the activations during forward propagation, which is beneficial for the training process."
      ],
      "metadata": {
        "id": "srujdkxvvG2A"
      }
    },
    {
      "cell_type": "markdown",
      "source": [
        "**4. In which cases would you want to use each of the following activation functions: SELU, leaky\n",
        "ReLU (and its variants), ReLU, tanh, logistic, and softmax?**"
      ],
      "metadata": {
        "id": "e5u9rSZHvc2V"
      }
    },
    {
      "cell_type": "markdown",
      "source": [
        "Here are some general guidelines for choosing activation functions:\n",
        "\n",
        "SELU: This activation function is well suited for deep neural networks as it has the property of self-normalization, which helps alleviate the vanishing/exploding gradient problem.\n",
        "\n",
        "Leaky ReLU (and its variants): These activation functions are a modification of ReLU that allow for a small, non-zero gradient when the input is negative, which can help mitigate the dying ReLU problem. They are often used as an alternative to ReLU when the network is experiencing saturation.\n",
        "\n",
        "ReLU: ReLU is a popular activation function that is computationally efficient and easy to train. It is often used as the activation function in the hidden layers of a network.\n",
        "\n",
        "tanh: tanh is a sigmoid activation function that maps its inputs to values between -1 and 1. It is often used in recurrent neural networks, where the mean-centered outputs are desirable.\n",
        "\n",
        "Logistic: The logistic activation function is similar to the tanh activation function, but maps its inputs to the range [0, 1], making it useful for binary classification problems.\n",
        "\n",
        "Softmax: The softmax activation function is commonly used in the output layer of a network for multi-class classification problems. It maps the inputs to a probability distribution over the classes, making it useful for selecting the class with the highest predicted probability."
      ],
      "metadata": {
        "id": "xapHxSGSvhu2"
      }
    },
    {
      "cell_type": "markdown",
      "source": [
        "**5. What may happen if you set the momentum hyperparameter too close to 1 (e.g., 0.99999)\n",
        "when using an SGD optimizer?**"
      ],
      "metadata": {
        "id": "KDJ6koOtwMwZ"
      }
    },
    {
      "cell_type": "markdown",
      "source": [
        "If the momentum hyperparameter is set too close to 1 when using an Stochastic Gradient Descent (SGD) optimizer, the optimizer may overshoot the minimum value of the loss function and oscillate around it. This can result in slow convergence or even cause the optimizer to diverge.\n",
        "\n",
        "When the momentum is close to 1, the optimizer will heavily rely on the previous update direction and neglect the current gradient information. This can result in the optimizer getting stuck in a local minimum or fluctuating around it, making it difficult for the optimizer to converge to the global minimum.\n",
        "\n",
        "Therefore, it is important to set the momentum hyperparameter carefully and ensure that it is not too close to 1, as this can negatively impact the optimization process."
      ],
      "metadata": {
        "id": "p95vkCs-wIpx"
      }
    },
    {
      "cell_type": "markdown",
      "source": [
        "**6. Name three ways you can produce a sparse model.**"
      ],
      "metadata": {
        "id": "E_GOnuTAwhvZ"
      }
    },
    {
      "cell_type": "markdown",
      "source": [
        "L1 Regularization: This method adds a penalty term to the loss function proportional to the sum of the absolute values of the weights, encouraging the network to use only a small number of the weights.\n",
        "\n",
        "Dropout: This technique randomly drops out a certain fraction of the neurons during each training iteration, forcing the network to learn a more compact and robust representation.\n",
        "\n",
        "Pruning: This method involves removing the smallest magnitude weights from the network after training, effectively reducing the number of parameters in the model and producing a sparse representation.\n",
        "\n",
        "These techniques can help produce sparse models, which can be faster to run, easier to interpret, and more computationally efficient than dense models.L1 "
      ],
      "metadata": {
        "id": "5qn380G_wm7Z"
      }
    },
    {
      "cell_type": "markdown",
      "source": [
        "**7. Does dropout slow down training? Does it slow down inference (i.e., making predictions on\n",
        "new instances)? What about MC Dropout?**"
      ],
      "metadata": {
        "id": "mnr2ORO5w67L"
      }
    },
    {
      "cell_type": "markdown",
      "source": [
        "**Dropout can slow down training** as it involves randomly dropping out neurons during each iteration, which increases the computational cost of training.\n",
        "During training, dropout involves randomly dropping out neurons in the network with a certain probability (the dropout rate), effectively reducing the size of the network. This can increase the computational cost of training as each iteration involves a larger number of forward and backward computations, which can result in slower convergence.\n",
        "\n",
        "For example, consider a fully-connected layer with N neurons. During each iteration, a fraction (1-p) of the neurons will be dropped out, where p is the dropout rate. This means that instead of computing the activations for N neurons, the forward pass will now only compute the activations for (1-p)N neurons, which increases the computational cost. Additionally, during the backward pass, the gradients must be calculated for all N neurons, even though only (1-p)N of them are used during the forward pass. This further increases the computational cost of training.\n",
        "\n",
        "Overall, the use of dropout can slow down the training process, but it can also improve the generalization performance of the model and prevent overfitting.\n",
        "\n",
        "**Dropout does not slow down inference** as it is typically only used during training and is not applied during the evaluation phase.\n",
        "\n",
        "MC Dropout is a variation of Dropout that involves applying Dropout during inference to obtain multiple predictions for each input and estimate the model's uncertainty. MC Dropout can slow down inference as it involves making multiple forward passes through the network with different dropout masks, which increases the computational cost."
      ],
      "metadata": {
        "id": "Nol0Dbqsxa4z"
      }
    },
    {
      "cell_type": "markdown",
      "source": [
        "**Practice training a deep neural network on the CIFAR10 image dataset:**\n",
        "\n",
        "a. **Build a DNN with 20 hidden layers of 100 neurons each (that’s too many, but it’s the\n",
        "point of this exercise). Use He initialization and the ELU activation function.**"
      ],
      "metadata": {
        "id": "CvTIwZKIydmb"
      }
    },
    {
      "cell_type": "code",
      "execution_count": 1,
      "metadata": {
        "id": "1E05bzWZuQpD"
      },
      "outputs": [],
      "source": [
        "import keras\n",
        "from keras.models import Sequential\n",
        "from keras.layers import Dense, Activation, Flatten\n",
        "from keras.initializers import HeNormal\n",
        "\n",
        "model = Sequential()\n",
        "\n",
        "# Initialize the first layer with He Normal initialization\n",
        "model.add(Dense(100, input_shape=(32,32,3), kernel_initializer=HeNormal()))\n",
        "model.add(Activation('elu'))\n",
        "\n",
        "# Add the remaining 19 hidden layers\n",
        "for i in range(19):\n",
        "    model.add(Dense(100, kernel_initializer=HeNormal()))\n",
        "    model.add(Activation('elu'))\n",
        "\n",
        "# Add the final output layer\n",
        "model.add(Dense(10, activation='softmax'))\n",
        "\n",
        "model.compile(optimizer='adam',\n",
        "              loss='categorical_crossentropy',\n",
        "              metrics=['accuracy'])\n"
      ]
    },
    {
      "cell_type": "markdown",
      "source": [
        "*Note that this code only defines the architecture of the model and does not perform the actual training. To train the model, you would need to pass the training data (images and labels) to the fit method of the model.*"
      ],
      "metadata": {
        "id": "4i23RuX7ysrU"
      }
    },
    {
      "cell_type": "markdown",
      "source": [
        "**b. Using Nadam optimization and early stopping, train the network on the CIFAR10\n",
        "dataset. You can load it with keras.datasets.cifar10.load_​data(). The dataset is\n",
        "composed of 60,000 32 × 32–pixel color images (50,000 for training, 10,000 for\n",
        "testing) with 10 classes, so you’ll need a softmax output layer with 10 neurons.\n",
        "Remember to search for the right learning rate each time you change the model’s\n",
        "architecture or hyperparameters.**"
      ],
      "metadata": {
        "id": "S7uy5CoizXxj"
      }
    },
    {
      "cell_type": "code",
      "source": [
        "from keras.callbacks import EarlyStopping\n",
        "from keras.datasets import cifar10\n",
        "from keras.layers import Dense, Activation, Flatten\n",
        "import numpy as np\n",
        "\n",
        "# Load the CIFAR10 dataset\n",
        "(X_train, y_train), (X_test, y_test) = cifar10.load_data()\n",
        "\n",
        "# Preprocess the data\n",
        "X_train = X_train.astype('float32') / 255.\n",
        "X_test = X_test.astype('float32') / 255.\n",
        "\n",
        "y_train = keras.utils.to_categorical(y_train, 10)\n",
        "y_test = keras.utils.to_categorical(y_test, 10)\n",
        "\n",
        "# Reshape target data\n",
        "y_train = np.reshape(y_train, (len(y_train), 10))\n",
        "y_test = np.reshape(y_test, (len(y_test), 10))\n",
        "\n",
        "\n",
        "\n",
        "\n",
        "# Build model\n",
        "model2 = Sequential()\n",
        "model2.add(Flatten(input_shape=(32, 32, 3)))\n",
        "model2.add(Dense(100, kernel_initializer='he_normal'))\n",
        "model2.add(Activation('elu'))\n",
        "\n",
        "for i in range(19):\n",
        "    model2.add(Dense(100, kernel_initializer=HeNormal()))\n",
        "    model2.add(Activation('elu'))\n",
        "\n",
        "\n",
        "# Output Layer\n",
        "model2.add(Dense(10))\n",
        "model2.add(Activation('softmax'))\n",
        "\n",
        "model2.compile(optimizer='Nadam',\n",
        "              loss='categorical_crossentropy',\n",
        "              metrics=['accuracy'])\n",
        "\n",
        "# Define early stopping\n",
        "early_stopping = EarlyStopping(monitor='val_loss', patience=3)\n",
        "\n",
        "# Train the model\n",
        "history = model2.fit(X_train, y_train,\n",
        "                    epochs=100,\n",
        "                    batch_size=128,\n",
        "                    validation_data=(X_test, y_test),\n",
        "                    callbacks=[early_stopping])\n"
      ],
      "metadata": {
        "colab": {
          "base_uri": "https://localhost:8080/"
        },
        "id": "Xngoy1r8yukA",
        "outputId": "9f78c6e2-6182-4c4c-fd1d-a175e0ed9099"
      },
      "execution_count": 22,
      "outputs": [
        {
          "output_type": "stream",
          "name": "stdout",
          "text": [
            "Epoch 1/100\n",
            "391/391 [==============================] - 13s 24ms/step - loss: 2.2297 - accuracy: 0.2169 - val_loss: 2.0003 - val_accuracy: 0.2584\n",
            "Epoch 2/100\n",
            "391/391 [==============================] - 9s 23ms/step - loss: 1.8873 - accuracy: 0.3148 - val_loss: 1.7632 - val_accuracy: 0.3567\n",
            "Epoch 3/100\n",
            "391/391 [==============================] - 9s 23ms/step - loss: 1.7894 - accuracy: 0.3594 - val_loss: 1.8808 - val_accuracy: 0.3205\n",
            "Epoch 4/100\n",
            "391/391 [==============================] - 9s 22ms/step - loss: 1.7113 - accuracy: 0.3883 - val_loss: 1.6885 - val_accuracy: 0.3859\n",
            "Epoch 5/100\n",
            "391/391 [==============================] - 9s 22ms/step - loss: 1.6511 - accuracy: 0.4102 - val_loss: 1.6137 - val_accuracy: 0.4308\n",
            "Epoch 6/100\n",
            "391/391 [==============================] - 9s 24ms/step - loss: 1.6058 - accuracy: 0.4280 - val_loss: 1.5628 - val_accuracy: 0.4522\n",
            "Epoch 7/100\n",
            "391/391 [==============================] - 9s 22ms/step - loss: 1.5624 - accuracy: 0.4417 - val_loss: 1.5878 - val_accuracy: 0.4401\n",
            "Epoch 8/100\n",
            "391/391 [==============================] - 9s 22ms/step - loss: 1.5267 - accuracy: 0.4585 - val_loss: 1.5049 - val_accuracy: 0.4698\n",
            "Epoch 9/100\n",
            "391/391 [==============================] - 9s 23ms/step - loss: 1.4958 - accuracy: 0.4700 - val_loss: 1.4996 - val_accuracy: 0.4694\n",
            "Epoch 10/100\n",
            "391/391 [==============================] - 9s 23ms/step - loss: 1.4673 - accuracy: 0.4802 - val_loss: 1.5291 - val_accuracy: 0.4505\n",
            "Epoch 11/100\n",
            "391/391 [==============================] - 10s 26ms/step - loss: 1.4417 - accuracy: 0.4897 - val_loss: 1.4994 - val_accuracy: 0.4810\n",
            "Epoch 12/100\n",
            "391/391 [==============================] - 9s 23ms/step - loss: 1.4130 - accuracy: 0.4986 - val_loss: 1.4919 - val_accuracy: 0.4719\n",
            "Epoch 13/100\n",
            "391/391 [==============================] - 9s 23ms/step - loss: 1.3884 - accuracy: 0.5065 - val_loss: 1.5070 - val_accuracy: 0.4767\n",
            "Epoch 14/100\n",
            "391/391 [==============================] - 9s 22ms/step - loss: 1.3666 - accuracy: 0.5156 - val_loss: 1.4993 - val_accuracy: 0.4764\n",
            "Epoch 15/100\n",
            "391/391 [==============================] - 9s 24ms/step - loss: 1.3462 - accuracy: 0.5241 - val_loss: 1.4470 - val_accuracy: 0.4908\n",
            "Epoch 16/100\n",
            "391/391 [==============================] - 9s 23ms/step - loss: 1.3212 - accuracy: 0.5340 - val_loss: 1.5033 - val_accuracy: 0.4715\n",
            "Epoch 17/100\n",
            "391/391 [==============================] - 9s 23ms/step - loss: 1.3015 - accuracy: 0.5403 - val_loss: 1.4542 - val_accuracy: 0.4900\n",
            "Epoch 18/100\n",
            "391/391 [==============================] - 9s 24ms/step - loss: 1.2811 - accuracy: 0.5488 - val_loss: 1.5246 - val_accuracy: 0.4806\n"
          ]
        }
      ]
    },
    {
      "cell_type": "code",
      "source": [
        "model2.summary()"
      ],
      "metadata": {
        "colab": {
          "base_uri": "https://localhost:8080/"
        },
        "id": "AtedlERCXAbm",
        "outputId": "1263a9b1-e167-4e67-b7c6-2513aacf38a2"
      },
      "execution_count": 17,
      "outputs": [
        {
          "output_type": "stream",
          "name": "stdout",
          "text": [
            "Model: \"sequential_7\"\n",
            "_________________________________________________________________\n",
            " Layer (type)                Output Shape              Param #   \n",
            "=================================================================\n",
            " flatten_1 (Flatten)         (None, 3072)              0         \n",
            "                                                                 \n",
            " dense_147 (Dense)           (None, 100)               307300    \n",
            "                                                                 \n",
            " activation_143 (Activation)  (None, 100)              0         \n",
            "                                                                 \n",
            " dense_148 (Dense)           (None, 100)               10100     \n",
            "                                                                 \n",
            " activation_144 (Activation)  (None, 100)              0         \n",
            "                                                                 \n",
            " dense_149 (Dense)           (None, 100)               10100     \n",
            "                                                                 \n",
            " activation_145 (Activation)  (None, 100)              0         \n",
            "                                                                 \n",
            " dense_150 (Dense)           (None, 100)               10100     \n",
            "                                                                 \n",
            " activation_146 (Activation)  (None, 100)              0         \n",
            "                                                                 \n",
            " dense_151 (Dense)           (None, 100)               10100     \n",
            "                                                                 \n",
            " activation_147 (Activation)  (None, 100)              0         \n",
            "                                                                 \n",
            " dense_152 (Dense)           (None, 100)               10100     \n",
            "                                                                 \n",
            " activation_148 (Activation)  (None, 100)              0         \n",
            "                                                                 \n",
            " dense_153 (Dense)           (None, 100)               10100     \n",
            "                                                                 \n",
            " activation_149 (Activation)  (None, 100)              0         \n",
            "                                                                 \n",
            " dense_154 (Dense)           (None, 100)               10100     \n",
            "                                                                 \n",
            " activation_150 (Activation)  (None, 100)              0         \n",
            "                                                                 \n",
            " dense_155 (Dense)           (None, 100)               10100     \n",
            "                                                                 \n",
            " activation_151 (Activation)  (None, 100)              0         \n",
            "                                                                 \n",
            " dense_156 (Dense)           (None, 100)               10100     \n",
            "                                                                 \n",
            " activation_152 (Activation)  (None, 100)              0         \n",
            "                                                                 \n",
            " dense_157 (Dense)           (None, 100)               10100     \n",
            "                                                                 \n",
            " activation_153 (Activation)  (None, 100)              0         \n",
            "                                                                 \n",
            " dense_158 (Dense)           (None, 100)               10100     \n",
            "                                                                 \n",
            " activation_154 (Activation)  (None, 100)              0         \n",
            "                                                                 \n",
            " dense_159 (Dense)           (None, 100)               10100     \n",
            "                                                                 \n",
            " activation_155 (Activation)  (None, 100)              0         \n",
            "                                                                 \n",
            " dense_160 (Dense)           (None, 100)               10100     \n",
            "                                                                 \n",
            " activation_156 (Activation)  (None, 100)              0         \n",
            "                                                                 \n",
            " dense_161 (Dense)           (None, 100)               10100     \n",
            "                                                                 \n",
            " activation_157 (Activation)  (None, 100)              0         \n",
            "                                                                 \n",
            " dense_162 (Dense)           (None, 100)               10100     \n",
            "                                                                 \n",
            " activation_158 (Activation)  (None, 100)              0         \n",
            "                                                                 \n",
            " dense_163 (Dense)           (None, 100)               10100     \n",
            "                                                                 \n",
            " activation_159 (Activation)  (None, 100)              0         \n",
            "                                                                 \n",
            " dense_164 (Dense)           (None, 100)               10100     \n",
            "                                                                 \n",
            " activation_160 (Activation)  (None, 100)              0         \n",
            "                                                                 \n",
            " dense_165 (Dense)           (None, 100)               10100     \n",
            "                                                                 \n",
            " activation_161 (Activation)  (None, 100)              0         \n",
            "                                                                 \n",
            " dense_166 (Dense)           (None, 100)               10100     \n",
            "                                                                 \n",
            " activation_162 (Activation)  (None, 100)              0         \n",
            "                                                                 \n",
            " dense_167 (Dense)           (None, 10)                1010      \n",
            "                                                                 \n",
            " activation_163 (Activation)  (None, 10)               0         \n",
            "                                                                 \n",
            "=================================================================\n",
            "Total params: 500,210\n",
            "Trainable params: 500,210\n",
            "Non-trainable params: 0\n",
            "_________________________________________________________________\n"
          ]
        }
      ]
    },
    {
      "cell_type": "code",
      "source": [
        "y_train.shape"
      ],
      "metadata": {
        "colab": {
          "base_uri": "https://localhost:8080/"
        },
        "id": "i8XHlHyQK-sR",
        "outputId": "e9978052-311d-48b3-876a-b4eaddf06ff9"
      },
      "execution_count": 13,
      "outputs": [
        {
          "output_type": "execute_result",
          "data": {
            "text/plain": [
              "(50000, 10)"
            ]
          },
          "metadata": {},
          "execution_count": 13
        }
      ]
    },
    {
      "cell_type": "markdown",
      "source": [
        "*In this code, the EarlyStopping callback is used to stop training when the validation loss stops improving. The fit method trains the model on the training data X_train and y_train and uses the validation data X_test and y_test to evaluate the model's performance during training. The history object returned by the fit method contains information about the model's training and validation loss and accuracy for each epoch, which can be used for model evaluation and hyperparameter tuning.*"
      ],
      "metadata": {
        "id": "o6X7EaVfzryH"
      }
    },
    {
      "cell_type": "markdown",
      "source": [
        "**c. Now try adding Batch Normalization and compare the learning curves: Is it\n",
        "converging faster than before? Does it produce a better model? How does it affect\n",
        "training speed?**"
      ],
      "metadata": {
        "id": "pUQ5NjWp0YoG"
      }
    },
    {
      "cell_type": "code",
      "source": [
        "import keras\n",
        "from keras.callbacks import EarlyStopping\n",
        "from keras.datasets import cifar10\n",
        "from keras.layers import BatchNormalization\n",
        "\n",
        "# Load the CIFAR10 dataset\n",
        "(X_train, y_train), (X_test, y_test) = cifar10.load_data()\n",
        "\n",
        "# Preprocess the data\n",
        "X_train = X_train.astype('float32') / 255.\n",
        "X_test = X_test.astype('float32') / 255.\n",
        "\n",
        "y_train = keras.utils.to_categorical(y_train, 10)\n",
        "y_test = keras.utils.to_categorical(y_test, 10)\n",
        "\n",
        "\n",
        "# Build model\n",
        "model = Sequential()\n",
        "model.add(Flatten(input_shape=(32, 32, 3)))\n",
        "model.add(Dense(100, kernel_initializer='he_normal'))\n",
        "model.add(BatchNormalization())\n",
        "model.add(Activation('elu'))\n",
        "\n",
        "for i in range(19):\n",
        "    model.add(Dense(100, kernel_initializer=HeNormal()))\n",
        "    model.add(BatchNormalization())\n",
        "    model.add(Activation('elu'))\n",
        "\n",
        "model.add(Dense(10, activation='softmax'))\n",
        "\n",
        "model.compile(optimizer='Nadam',\n",
        "              loss='categorical_crossentropy',\n",
        "              metrics=['accuracy'])\n",
        "\n",
        "# Define early stopping\n",
        "early_stopping = EarlyStopping(monitor='val_loss', patience=3)\n",
        "\n",
        "# Train the model\n",
        "history_bn = model.fit(X_train, y_train,\n",
        "                       epochs=100,\n",
        "                       batch_size=128,\n",
        "                       validation_data=(X_test, y_test),\n",
        "                       callbacks=[early_stopping])\n"
      ],
      "metadata": {
        "colab": {
          "base_uri": "https://localhost:8080/"
        },
        "id": "VtijuBcBz2yY",
        "outputId": "3fd3544d-130d-4a62-d0e4-ef5da64c897f"
      },
      "execution_count": 19,
      "outputs": [
        {
          "output_type": "stream",
          "name": "stdout",
          "text": [
            "Epoch 1/100\n",
            "391/391 [==============================] - 24s 34ms/step - loss: 1.7497 - accuracy: 0.3743 - val_loss: 2.1513 - val_accuracy: 0.3024\n",
            "Epoch 2/100\n",
            "391/391 [==============================] - 13s 33ms/step - loss: 1.5359 - accuracy: 0.4538 - val_loss: 1.7103 - val_accuracy: 0.3991\n",
            "Epoch 3/100\n",
            "391/391 [==============================] - 12s 30ms/step - loss: 1.4490 - accuracy: 0.4863 - val_loss: 1.8103 - val_accuracy: 0.3793\n",
            "Epoch 4/100\n",
            "391/391 [==============================] - 13s 32ms/step - loss: 1.3892 - accuracy: 0.5058 - val_loss: 1.8890 - val_accuracy: 0.3781\n",
            "Epoch 5/100\n",
            "391/391 [==============================] - 12s 32ms/step - loss: 1.3345 - accuracy: 0.5241 - val_loss: 1.6159 - val_accuracy: 0.4505\n",
            "Epoch 6/100\n",
            "391/391 [==============================] - 13s 34ms/step - loss: 1.2919 - accuracy: 0.5420 - val_loss: 1.7134 - val_accuracy: 0.4301\n",
            "Epoch 7/100\n",
            "391/391 [==============================] - 13s 33ms/step - loss: 1.2554 - accuracy: 0.5520 - val_loss: 1.5968 - val_accuracy: 0.4377\n",
            "Epoch 8/100\n",
            "391/391 [==============================] - 12s 32ms/step - loss: 1.2212 - accuracy: 0.5666 - val_loss: 1.5491 - val_accuracy: 0.4643\n",
            "Epoch 9/100\n",
            "391/391 [==============================] - 13s 33ms/step - loss: 1.1892 - accuracy: 0.5766 - val_loss: 1.5744 - val_accuracy: 0.4701\n",
            "Epoch 10/100\n",
            "391/391 [==============================] - 12s 32ms/step - loss: 1.1596 - accuracy: 0.5879 - val_loss: 1.5418 - val_accuracy: 0.4747\n",
            "Epoch 11/100\n",
            "391/391 [==============================] - 12s 30ms/step - loss: 1.1331 - accuracy: 0.5971 - val_loss: 1.6858 - val_accuracy: 0.4411\n",
            "Epoch 12/100\n",
            "391/391 [==============================] - 13s 33ms/step - loss: 1.1075 - accuracy: 0.6060 - val_loss: 1.6316 - val_accuracy: 0.4371\n",
            "Epoch 13/100\n",
            "391/391 [==============================] - 13s 32ms/step - loss: 1.0809 - accuracy: 0.6166 - val_loss: 1.4940 - val_accuracy: 0.4924\n",
            "Epoch 14/100\n",
            "391/391 [==============================] - 12s 31ms/step - loss: 1.0563 - accuracy: 0.6265 - val_loss: 1.5480 - val_accuracy: 0.4692\n",
            "Epoch 15/100\n",
            "391/391 [==============================] - 12s 32ms/step - loss: 1.0359 - accuracy: 0.6317 - val_loss: 1.6790 - val_accuracy: 0.4721\n",
            "Epoch 16/100\n",
            "391/391 [==============================] - 12s 32ms/step - loss: 1.0106 - accuracy: 0.6436 - val_loss: 1.6983 - val_accuracy: 0.4418\n"
          ]
        }
      ]
    },
    {
      "cell_type": "markdown",
      "source": [
        "*In this code, batch normalization is added after each dense layer. Batch normalization normalizes the activations of each layer in a mini-batch, which can help to stabilize the training process and improve the model's performance.*\n",
        "\n",
        "To compare the learning curves with the previous example, you can plot the training and validation loss and accuracy using matplotlib:"
      ],
      "metadata": {
        "id": "GyW-Aory0fWv"
      }
    },
    {
      "cell_type": "code",
      "source": [
        "import matplotlib.pyplot as plt\n",
        "\n",
        "plt.plot(history.history['loss'], label='Without Batch Normalization')\n",
        "plt.plot(history_bn.history['loss'], label='With Batch Normalization')\n",
        "plt.legend()\n",
        "plt.title('Training Loss')\n",
        "plt.xlabel('Epochs')\n",
        "plt.ylabel('Loss')\n",
        "plt.show()\n",
        "\n",
        "plt.plot(history.history['val_loss'], label='Without Batch Normalization')\n",
        "plt.plot(history_bn.history['val_loss'], label='With Batch Normalization')\n",
        "plt.legend()\n",
        "plt.title('Validation Loss')\n",
        "plt.xlabel('Epochs')\n",
        "plt.ylabel('Loss')\n",
        "plt.show()\n",
        "\n",
        "plt.plot(history.history['accuracy'], label='Without Batch Normalization')\n",
        "plt.plot(history_bn.history['accuracy'], label='With Batch Normalization')\n",
        "plt.legend()\n",
        "plt.title('Train accuracy')\n",
        "plt.xlabel('Epochs')\n",
        "plt.ylabel('accuracy')\n",
        "plt.show()\n"
      ],
      "metadata": {
        "colab": {
          "base_uri": "https://localhost:8080/",
          "height": 851
        },
        "id": "2LTB4M8Q0hFV",
        "outputId": "ba815027-61d0-42b7-b4ff-64c29ee755da"
      },
      "execution_count": 24,
      "outputs": [
        {
          "output_type": "display_data",
          "data": {
            "text/plain": [
              "<Figure size 432x288 with 1 Axes>"
            ],
            "image/png": "[encoded data removed]"
          },
          "metadata": {
            "needs_background": "light"
          }
        },
        {
          "output_type": "display_data",
          "data": {
            "text/plain": [
              "<Figure size 432x288 with 1 Axes>"
            ],
            "image/png": "[encoded data removed]"
          },
          "metadata": {
            "needs_background": "light"
          }
        },
        {
          "output_type": "display_data",
          "data": {
            "text/plain": [
              "<Figure size 432x288 with 1 Axes>"
            ],
            "image/png": "[encoded data removed]"
          },
          "metadata": {
            "needs_background": "light"
          }
        }
      ]
    },
    {
      "cell_type": "markdown",
      "source": [
        "**d. Try replacing Batch Normalization with SELU, and make the necessary adjustements\n",
        "to ensure the network self-normalizes (i.e., standardize the input features, use\n",
        "LeCun normal initialization, make sure the DNN contains only a sequence of dense\n",
        "layers, etc.).**"
      ],
      "metadata": {
        "id": "iEest-mT09nD"
      }
    },
    {
      "cell_type": "markdown",
      "source": [
        "To replace Batch Normalization with SELU, the first step is to standardize the input features by subtracting the mean and dividing by the standard deviation. This can be done using scikit-learn's StandardScaler. Then, we'll use the LeCun normal initialization method to initialize the weights."
      ],
      "metadata": {
        "id": "AIVuNKRh1nqw"
      }
    },
    {
      "cell_type": "code",
      "source": [
        "import numpy as np\n",
        "import tensorflow as tf\n",
        "from sklearn.preprocessing import StandardScaler\n",
        "from tensorflow import keras\n",
        "\n",
        "(X_train, y_train), (X_test, y_test) = keras.datasets.cifar10.load_data()\n",
        "\n",
        "# Standardize input features\n",
        "scaler = StandardScaler()\n",
        "X_train = scaler.fit_transform(X_train.reshape(-1, 32 * 32 * 3)).reshape(-1, 32, 32, 3)\n",
        "X_test = scaler.transform(X_test.reshape(-1, 32 * 32 * 3)).reshape(-1, 32, 32, 3)\n",
        "\n",
        "# Convert labels to one-hot encoding\n",
        "y_train = keras.utils.to_categorical(y_train)\n",
        "y_test = keras.utils.to_categorical(y_test)\n",
        "\n",
        "# Define model\n",
        "model = keras.models.Sequential()\n",
        "model.add(Flatten(input_shape=(32, 32, 3)))\n",
        "model.add(keras.layers.Flatten(input_shape=(32, 32, 3)))\n",
        "for _ in range(20):\n",
        "    model.add(keras.layers.Dense(100, activation='selu', \n",
        "                                 kernel_initializer='lecun_normal'))\n",
        "model.add(keras.layers.Dense(10, activation='softmax'))\n",
        "\n",
        "# Compile model\n",
        "model.compile(optimizer='nadam', loss='categorical_crossentropy', \n",
        "              metrics=['accuracy'])\n",
        "\n",
        "# Train model\n",
        "early_stopping = keras.callbacks.EarlyStopping(patience=10)\n",
        "history = model.fit(X_train, y_train, batch_size=32, epochs=100, \n",
        "                    validation_split=0.1, callbacks=[early_stopping])\n",
        "\n",
        "# Evaluate model\n",
        "test_loss, test_acc = model.evaluate(X_test, y_test)\n",
        "print('Test Loss:', test_loss)\n",
        "print('Test Accuracy:', test_acc)\n"
      ],
      "metadata": {
        "colab": {
          "base_uri": "https://localhost:8080/"
        },
        "id": "isqPTR2c0_Bc",
        "outputId": "4b0ed2a7-57d4-4e19-e598-f123e2c00ae7"
      },
      "execution_count": 21,
      "outputs": [
        {
          "output_type": "stream",
          "name": "stdout",
          "text": [
            "Epoch 1/100\n",
            "1407/1407 [==============================] - 25s 14ms/step - loss: 1.9837 - accuracy: 0.2809 - val_loss: 1.9218 - val_accuracy: 0.2856\n",
            "Epoch 2/100\n",
            "1407/1407 [==============================] - 21s 15ms/step - loss: 1.7637 - accuracy: 0.3659 - val_loss: 1.8455 - val_accuracy: 0.3484\n",
            "Epoch 3/100\n",
            "1407/1407 [==============================] - 23s 17ms/step - loss: 1.6708 - accuracy: 0.4007 - val_loss: 1.7916 - val_accuracy: 0.3870\n",
            "Epoch 4/100\n",
            "1407/1407 [==============================] - 20s 15ms/step - loss: 1.6079 - accuracy: 0.4244 - val_loss: 1.8636 - val_accuracy: 0.3592\n",
            "Epoch 5/100\n",
            "1407/1407 [==============================] - 22s 15ms/step - loss: 1.5614 - accuracy: 0.4458 - val_loss: 1.6081 - val_accuracy: 0.4430\n",
            "Epoch 6/100\n",
            "1407/1407 [==============================] - 21s 15ms/step - loss: 1.5215 - accuracy: 0.4634 - val_loss: 1.6037 - val_accuracy: 0.4498\n",
            "Epoch 7/100\n",
            "1407/1407 [==============================] - 20s 14ms/step - loss: 1.4895 - accuracy: 0.4765 - val_loss: 1.5461 - val_accuracy: 0.4650\n",
            "Epoch 8/100\n",
            "1407/1407 [==============================] - 21s 15ms/step - loss: 1.4511 - accuracy: 0.4875 - val_loss: 1.5597 - val_accuracy: 0.4520\n",
            "Epoch 9/100\n",
            "1407/1407 [==============================] - 20s 15ms/step - loss: 1.4214 - accuracy: 0.5004 - val_loss: 1.5423 - val_accuracy: 0.4670\n",
            "Epoch 10/100\n",
            "1407/1407 [==============================] - 21s 15ms/step - loss: 1.3911 - accuracy: 0.5121 - val_loss: 1.5192 - val_accuracy: 0.4732\n",
            "Epoch 11/100\n",
            "1407/1407 [==============================] - 21s 15ms/step - loss: 1.3687 - accuracy: 0.5238 - val_loss: 1.5809 - val_accuracy: 0.4662\n",
            "Epoch 12/100\n",
            "1407/1407 [==============================] - 21s 15ms/step - loss: 1.3390 - accuracy: 0.5324 - val_loss: 1.5211 - val_accuracy: 0.4734\n",
            "Epoch 13/100\n",
            "1407/1407 [==============================] - 21s 15ms/step - loss: 1.3250 - accuracy: 0.5408 - val_loss: 1.5168 - val_accuracy: 0.4794\n",
            "Epoch 14/100\n",
            "1407/1407 [==============================] - 21s 15ms/step - loss: 1.2918 - accuracy: 0.5474 - val_loss: 1.5597 - val_accuracy: 0.4822\n",
            "Epoch 15/100\n",
            "1407/1407 [==============================] - 22s 15ms/step - loss: 1.2902 - accuracy: 0.5511 - val_loss: 1.4566 - val_accuracy: 0.5088\n",
            "Epoch 16/100\n",
            "1407/1407 [==============================] - 21s 15ms/step - loss: 1.2478 - accuracy: 0.5684 - val_loss: 1.5378 - val_accuracy: 0.4714\n",
            "Epoch 17/100\n",
            "1407/1407 [==============================] - 22s 15ms/step - loss: 1.2405 - accuracy: 0.5687 - val_loss: 1.5070 - val_accuracy: 0.4944\n",
            "Epoch 18/100\n",
            "1407/1407 [==============================] - 21s 15ms/step - loss: 1.2561 - accuracy: 0.5691 - val_loss: 1.5386 - val_accuracy: 0.4892\n",
            "Epoch 19/100\n",
            "1407/1407 [==============================] - 21s 15ms/step - loss: 16.8606 - accuracy: 0.4988 - val_loss: 1.4988 - val_accuracy: 0.4866\n",
            "Epoch 20/100\n",
            "1407/1407 [==============================] - 20s 14ms/step - loss: 1.2759 - accuracy: 0.5447 - val_loss: 1.5025 - val_accuracy: 0.4982\n",
            "Epoch 21/100\n",
            "1407/1407 [==============================] - 21s 15ms/step - loss: 1.2254 - accuracy: 0.5650 - val_loss: 1.4647 - val_accuracy: 0.5010\n",
            "Epoch 22/100\n",
            "1407/1407 [==============================] - 21s 15ms/step - loss: 2.3108 - accuracy: 0.5557 - val_loss: 1.5373 - val_accuracy: 0.4706\n",
            "Epoch 23/100\n",
            "1407/1407 [==============================] - 21s 15ms/step - loss: 1.2649 - accuracy: 0.5547 - val_loss: 1.4620 - val_accuracy: 0.5036\n",
            "Epoch 24/100\n",
            "1407/1407 [==============================] - 20s 15ms/step - loss: 1.2087 - accuracy: 0.5745 - val_loss: 1.4623 - val_accuracy: 0.5060\n",
            "Epoch 25/100\n",
            "1407/1407 [==============================] - 20s 14ms/step - loss: 1.2400 - accuracy: 0.5695 - val_loss: 1.4885 - val_accuracy: 0.4966\n",
            "313/313 [==============================] - 1s 4ms/step - loss: 1.5047 - accuracy: 0.4876\n",
            "Test Loss: 1.5047391653060913\n",
            "Test Accuracy: 0.4875999987125397\n"
          ]
        }
      ]
    },
    {
      "cell_type": "markdown",
      "source": [
        "**e. Try regularizing the model with alpha dropout. Then, without retraining your model,\n",
        "see if you can achieve better accuracy using MC Dropout.**"
      ],
      "metadata": {
        "id": "4_PNyuea2VYu"
      }
    },
    {
      "cell_type": "code",
      "source": [
        "from keras.models import Sequential\n",
        "from keras.layers import Dense, Dropout\n",
        "\n",
        "model = Sequential()\n",
        "model.add(Dense(100, activation='elu', kernel_initializer='he_normal', input_shape=(32 * 32 * 3,)))\n",
        "for _ in range(19):\n",
        "    model.add(Dense(100, activation='elu', kernel_initializer='he_normal'))\n",
        "    model.add(Dropout(0.5))\n",
        "model.add(Dense(10, activation='softmax'))\n",
        "\n",
        "model.compile(optimizer='nadam', loss='categorical_crossentropy', metrics=['accuracy'])\n"
      ],
      "metadata": {
        "id": "8QfI4x6A2W94"
      },
      "execution_count": null,
      "outputs": []
    },
    {
      "cell_type": "markdown",
      "source": [
        "*To implement MC Dropout, you would wrap the model in a Dropout layer during prediction time and sample the dropout mask multiple times for each input. Here's an example implementation in Keras:*"
      ],
      "metadata": {
        "id": "QI6Sn7KF3BE0"
      }
    },
    {
      "cell_type": "code",
      "source": [
        "import numpy as np\n",
        "\n",
        "def predict_with_mc_dropout(model, X, n_samples=100):\n",
        "    Y_probas = [model.predict(X, batch_size=32) for _ in range(n_samples)]\n",
        "    return np.mean(Y_probas, axis=0)\n",
        "\n",
        "model_with_dropout = Sequential(model.layers[:-1])\n",
        "model_with_dropout.add(Dropout(0.5))\n",
        "model_with_dropout.add(Dense(10, activation='softmax'))\n",
        "\n",
        "Y_probas = predict_with_mc_dropout(model_with_dropout, X_test)\n"
      ],
      "metadata": {
        "id": "uSvGn7uK3CI8"
      },
      "execution_count": null,
      "outputs": []
    }
  ]
}