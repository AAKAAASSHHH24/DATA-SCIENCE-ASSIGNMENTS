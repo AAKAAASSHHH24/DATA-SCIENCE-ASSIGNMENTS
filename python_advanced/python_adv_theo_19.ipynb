{
  "nbformat": 4,
  "nbformat_minor": 0,
  "metadata": {
    "colab": {
      "provenance": []
    },
    "kernelspec": {
      "name": "python3",
      "display_name": "Python 3"
    },
    "language_info": {
      "name": "python"
    }
  },
  "cells": [
    {
      "cell_type": "markdown",
      "source": [
        "**Q1. Define the relationship between a class and its instances. Is it a one-to-one or a one-to-many\n",
        "partnership, for example?**"
      ],
      "metadata": {
        "id": "vt_XraK3pm3V"
      }
    },
    {
      "cell_type": "markdown",
      "source": [
        "The relationship between a class and its instances is a one-to-many partnership, where one class can have many instances."
      ],
      "metadata": {
        "id": "u_Pm-DFPp1J6"
      }
    },
    {
      "cell_type": "markdown",
      "source": [
        "**Q2. What kind of data is held only in an instance?**"
      ],
      "metadata": {
        "id": "yhoUF_WUpwBd"
      }
    },
    {
      "cell_type": "markdown",
      "source": [
        ". Data that is specific to an individual instance, rather than shared across all instances of a class, is held only in that instance. This can include data that is unique to the individual instance, such as instance variables with different values for different instances."
      ],
      "metadata": {
        "id": "KltTItWcp49x"
      }
    },
    {
      "cell_type": "markdown",
      "source": [
        "**Q3. What kind of knowledge is stored in a class?**\n"
      ],
      "metadata": {
        "id": "oml6Pz-pqE9k"
      }
    },
    {
      "cell_type": "markdown",
      "source": [
        "A class stores knowledge in the form of attributes and methods. Attributes are variables that store data related to the class, such as instance variables that store data unique to each instance of the class. Methods are functions that are defined within the class and are used to perform operations on the data stored in the class."
      ],
      "metadata": {
        "id": "HXoyCl2hqVPR"
      }
    },
    {
      "cell_type": "markdown",
      "source": [
        "**Q4. What exactly is a method, and how is it different from a regular function?**"
      ],
      "metadata": {
        "id": "velb9n5JqKZI"
      }
    },
    {
      "cell_type": "markdown",
      "source": [
        " A method is a function that is defined within a class and is used to perform operations on the data stored in the class. A method is different from a regular function in that it is bound to the class and can access the data stored in the class."
      ],
      "metadata": {
        "id": "VoC-5DUiqZ5i"
      }
    },
    {
      "cell_type": "markdown",
      "source": [
        "**Q5. Is inheritance supported in Python, and if so, what is the syntax?**"
      ],
      "metadata": {
        "id": "WfD33VKYqPLs"
      }
    },
    {
      "cell_type": "markdown",
      "source": [
        ". Yes, inheritance is supported in Python. Inheritance is a way to create a new class that is a modified version of an existing class. The new class is called the subclass, and the existing class is the superclass. The subclass inherits attributes and methods from the superclass, and can also have additional attributes and methods of its own.\n",
        "\n",
        "The syntax for creating a subclass in Python is as follows:"
      ],
      "metadata": {
        "id": "-jLicZq4qdxy"
      }
    },
    {
      "cell_type": "code",
      "source": [
        "class SuperClass:\n",
        "  pass\n",
        "\n",
        "class SubClass(SuperClass):\n",
        "  pass\n",
        "    # Class definition\n"
      ],
      "metadata": {
        "id": "o0gTJzJPqRi3"
      },
      "execution_count": 3,
      "outputs": []
    },
    {
      "cell_type": "markdown",
      "source": [
        "Where SubClass is the name of the subclass and SuperClass is the name of the superclass."
      ],
      "metadata": {
        "id": "axssBuGWqxpo"
      }
    },
    {
      "cell_type": "markdown",
      "source": [
        "**Q6. How much encapsulation (making instance or class variables private) does Python support?**\n"
      ],
      "metadata": {
        "id": "cg79mBcprEAk"
      }
    },
    {
      "cell_type": "markdown",
      "source": [
        "Python does not have strict rules for encapsulation, and does not have a private keyword like some other object-oriented programming languages. However, Python does have a convention for indicating that a class or instance variable should be treated as private, by prefixing the name of the variable with an underscore (e.g., _private_var). This is not enforced by the language, but is used as a hint to indicate that the variable should not be accessed directly from outside the class.\n",
        "\n"
      ],
      "metadata": {
        "id": "p2jMXi07rOKp"
      }
    },
    {
      "cell_type": "markdown",
      "source": [
        "**Q7. How do you distinguish between a class variable and an instance variable?**"
      ],
      "metadata": {
        "id": "GtHXVRXyrJ_F"
      }
    },
    {
      "cell_type": "markdown",
      "source": [
        " In Python, you can distinguish between a class variable and an instance variable by the way the variable is accessed. Class variables are variables that are shared across all instances of a class, and are accessed using the class name (e.g., ClassName.class_var). Instance variables are variables that are unique to each instance of a class, and are accessed using the instance name (e.g., instance_name.instance_var).\n",
        "\n",
        "It is also possible to access instance variables using the class name, but this is generally not recommended, as it can lead to confusion and can make it more difficult to understand the code."
      ],
      "metadata": {
        "id": "HwsX-9_wrSP5"
      }
    },
    {
      "cell_type": "markdown",
      "source": [
        "**Q9.What is the difference between the _ _add_ _ and the _ _radd_ _ methods?**\n"
      ],
      "metadata": {
        "id": "z0juwRs4rcQ-"
      }
    },
    {
      "cell_type": "markdown",
      "source": [
        " The __add__ method is a special method in Python that is used to define the behavior of the + operator when it is applied to objects of a class. This method is called when the + operator is used to add two objects of the class together.\n",
        "\n",
        "The __radd__ method is similar to the __add__ method, but it is called when the + operator is used to add an object of the class to another object that is not of the class. This method is used to define the behavior of the + operator when it is applied in this way."
      ],
      "metadata": {
        "id": "RqXQttYaroQt"
      }
    },
    {
      "cell_type": "markdown",
      "source": [
        "**Q10. When is it necessary to use a reflection method? When do you not need it, even though you\n",
        "support the operation in question?**"
      ],
      "metadata": {
        "id": "hciVzvpHriPv"
      }
    },
    {
      "cell_type": "markdown",
      "source": [
        "It is necessary to use reflection methods when you want to define the behavior of a special operator (such as +, -, *, etc.) or a built-in function (such as len, str, etc.) for objects of a class. Reflection methods allow you to customize the behavior of these operators and functions for your class, so that they can be used with your class in the same way that they are used with built-in types.\n",
        "\n",
        "Reflection methods are not needed when the operation in question is not supported for your class. For example, if you do not define the __add__ method for your class, the + operator will not be supported for objects of that class. In this case, you do not need to use the __radd__ method, even if you want to support the + operator for objects of other classes when they are added to objects of your class."
      ],
      "metadata": {
        "id": "ylIEt6pGrq6s"
      }
    },
    {
      "cell_type": "markdown",
      "source": [
        "**Q11. What is the _ _iadd_ _ method called?**"
      ],
      "metadata": {
        "id": "HB_FuHd2s3hl"
      }
    },
    {
      "cell_type": "markdown",
      "source": [
        "The __iadd__ method is a special method in Python that is used to define the behavior of the += operator when it is applied to objects of a class. This method is called when the += operator is used to add an object to itself in-place.\n",
        "\n",
        "For example:"
      ],
      "metadata": {
        "id": "7BoTtftYs9gn"
      }
    },
    {
      "cell_type": "code",
      "source": [
        "class MyClass:\n",
        "    def __init__(self, value):\n",
        "        self.value = value\n",
        "\n",
        "    def __iadd__(self, other):\n",
        "        self.value += other.value\n",
        "        return self\n",
        "\n"
      ],
      "metadata": {
        "id": "HHttl-ESs6rz"
      },
      "execution_count": 5,
      "outputs": []
    },
    {
      "cell_type": "markdown",
      "source": [
        "In this example, the __iadd__ method is used to define the behavior of the += operator when it is used with objects of the MyClass class. When the += operator is used, the __iadd__ method is called to add the value of other to the value of self in-place, and then return the modified object.\n",
        "\n",
        "The __iadd__ method is often used in conjunction with the __add__ method to define the behavior of the + and += operators for a class. If the __iadd__ method is not defined, the __add__ method is used to implement the += operator."
      ],
      "metadata": {
        "id": "M8xeaAhttDt1"
      }
    },
    {
      "cell_type": "markdown",
      "source": [
        "**Q12. Is the _ _init_ _ method inherited by subclasses? What do you do if you need to customize its\n",
        "behavior within a subclass?**"
      ],
      "metadata": {
        "id": "ZFmNapYPseNo"
      }
    },
    {
      "cell_type": "markdown",
      "source": [
        ". The __init__ method is a special method in Python that is used to initialize an object when it is created. The __init__ method is called automatically when an object is created, and is used to set up the attributes of the object.\n",
        "\n",
        "The __init__ method is not inherited by subclasses by default. However, if you want to customize the behavior of the __init__ method in a subclass, you can define a new __init__ method in the subclass. This will overwrite the __init__ method of the superclass, and the new __init__ method will be used to initialize objects of the subclass.\n",
        "\n",
        "For example:"
      ],
      "metadata": {
        "id": "ymHKdRa5sj2X"
      }
    },
    {
      "cell_type": "code",
      "source": [
        "class SuperClass:\n",
        "    def __init__(self):\n",
        "        self.attr1 = 1\n",
        "        self.attr2 = 2\n",
        "\n",
        "class SubClass(SuperClass):\n",
        "    def __init__(self):\n",
        "        # Customize the behavior of the __init__ method\n",
        "        self.attr1 = 3\n",
        "        self.attr2 = 4\n",
        "        self.attr3 = 5\n",
        "\n"
      ],
      "metadata": {
        "id": "3gsuxg3Drkov"
      },
      "execution_count": 4,
      "outputs": []
    },
    {
      "cell_type": "markdown",
      "source": [
        "In this example, the __init__ method of the SubClass will be used to initialize objects of the SubClass, rather than the __init__ method of the SuperClass. The __init__ method of the SubClass sets the values of attr1, attr2, and attr3 for objects of the SubClass, and also calls the __init__ method of the SuperClass using super().__init__() to set the values of attr1 and attr2. This allows the SubClass to customize the behavior of the __init__ method, while still inheriting the attributes and behavior of the SuperClass."
      ],
      "metadata": {
        "id": "NKxo4VbCsqcX"
      }
    },
    {
      "cell_type": "code",
      "source": [],
      "metadata": {
        "id": "26hhZtTksnMA"
      },
      "execution_count": null,
      "outputs": []
    }
  ]
}