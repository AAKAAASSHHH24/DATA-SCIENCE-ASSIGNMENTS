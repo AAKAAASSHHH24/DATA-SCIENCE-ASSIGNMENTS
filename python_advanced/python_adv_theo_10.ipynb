{
  "nbformat": 4,
  "nbformat_minor": 0,
  "metadata": {
    "colab": {
      "provenance": []
    },
    "kernelspec": {
      "name": "python3",
      "display_name": "Python 3"
    },
    "language_info": {
      "name": "python"
    }
  },
  "cells": [
    {
      "cell_type": "markdown",
      "source": [
        "**Q3. What are the key differences in functionality between __getattr__ and __getattribute__, as well as\n",
        "properties and descriptors?**"
      ],
      "metadata": {
        "id": "rqMREeP4uXHz"
      }
    },
    {
      "cell_type": "markdown",
      "source": [
        "The __getattr__ and __getattribute__ methods are special methods in Python that are used to customize attribute access for an object. They are defined in the object's class and are invoked when an attribute of the object is accessed.\n",
        "\n",
        "The key difference between __getattr__ and __getattribute__ is when they are called:\n",
        "\n",
        "__getattr__ is called only when an attribute is not found in the object's dictionary. This means that __getattr__ is only called as a fallback when an attribute cannot be found in the usual way.\n",
        "\n",
        "__getattribute__ is called every time an attribute is accessed, regardless of whether the attribute is found in the object's dictionary or not. This means that __getattribute__ can be used to customize attribute access in a more general way."
      ],
      "metadata": {
        "id": "rBy1GokZulBD"
      }
    },
    {
      "cell_type": "markdown",
      "source": [
        "*Properties and descriptors are ways to customize attribute access in Python. They allow you to define methods that are invoked when an attribute is accessed, and can be used to implement getters, setters, and deleters for an attribute.*\n",
        "\n",
        "The key difference between properties and descriptors is how they are defined and accessed:\n",
        "\n",
        "*Properties are defined using the property built-in function. They are accessed like normal attributes, using dot notation (e.g., obj.attr).*\n",
        "\n",
        "*Descriptors are implemented using a class that defines the __get__, __set__, and __delete__ methods. They are accessed using dot notation on the class, not the object (e.g., MyClass.attr).*\n",
        "\n",
        "Both properties and descriptors can be used to customize attribute access in Python. However, properties are simpler to use, and are often sufficient for most cases. Descriptors are more powerful, but are also more complex to use.*"
      ],
      "metadata": {
        "id": "A3e-FL4Xuqrx"
      }
    },
    {
      "cell_type": "code",
      "execution_count": null,
      "metadata": {
        "id": "O1vH2tG8uGNp"
      },
      "outputs": [],
      "source": []
    }
  ]
}