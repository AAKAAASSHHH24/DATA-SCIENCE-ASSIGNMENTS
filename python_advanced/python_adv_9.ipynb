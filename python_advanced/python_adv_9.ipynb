{
  "nbformat": 4,
  "nbformat_minor": 0,
  "metadata": {
    "colab": {
      "provenance": []
    },
    "kernelspec": {
      "name": "python3",
      "display_name": "Python 3"
    },
    "language_info": {
      "name": "python"
    }
  },
  "cells": [
    {
      "cell_type": "markdown",
      "source": [
        "**1. YouTube offers different playback speed options for users. This allows\n",
        "users to increase or decrease the speed of the video content. Given the\n",
        "actual duration and playback speed of the video, calculate the playback\n",
        "duration of the video.**"
      ],
      "metadata": {
        "id": "Os-RsYiM9e50"
      }
    },
    {
      "cell_type": "markdown",
      "source": [
        "To calculate the playback duration of a video given the actual duration and playback speed, you can use the following formula:"
      ],
      "metadata": {
        "id": "nCYB1U7T9pl_"
      }
    },
    {
      "cell_type": "code",
      "execution_count": null,
      "metadata": {
        "id": "Y6NZSD379Y9K"
      },
      "outputs": [],
      "source": [
        "playback_duration = actual_duration / playback_speed\n"
      ]
    },
    {
      "cell_type": "code",
      "source": [
        "def calculate_playback_duration(actual_duration, playback_speed):\n",
        "    # calculate the playback duration using the formula above\n",
        "    playback_duration = actual_duration / playback_speed\n",
        "\n",
        "    # return the playback duration\n",
        "    return playback_duration\n",
        "\n",
        "# test the function\n",
        "print(calculate_playback_duration(3600, 1.0))  # prints 3600\n",
        "print(calculate_playback_duration(3600, 1.5))  # prints 2400\n",
        "print(calculate_playback_duration(3600, 2.0))  # prints 1800\n"
      ],
      "metadata": {
        "id": "gDCSLZDu9x2Y"
      },
      "execution_count": null,
      "outputs": []
    },
    {
      "cell_type": "markdown",
      "source": [
        "In this example, the function calculate_playback_duration takes two arguments: the actual duration of the video in seconds, and the playback speed of the video as a floating point number. It then calculates the playback duration using the formula above and returns the result.\n",
        "\n",
        "Note that this solution assumes that the input values are valid. You may want to add additional checks to handle invalid input values."
      ],
      "metadata": {
        "id": "RrY7-cKJ95Wt"
      }
    },
    {
      "cell_type": "markdown",
      "source": [
        "**2. We needs your help to construct a building which will be a pile of n cubes.\n",
        "The cube at the bottom will have a volume of n^3, the cube above will have\n",
        "volume of (n-1)^3 and so on until the top which will have a volume of 1^3.\n",
        "Given the total volume m of the building, can you find the number of cubes n\n",
        "required for the building?\n",
        "In other words, you have to return an integer n such that:\n",
        "n^3 + (n-1)^3 + ... + 1^3 == m\n",
        "Return None if there is no such number.**"
      ],
      "metadata": {
        "id": "Em9qr8QS-Mwv"
      }
    },
    {
      "cell_type": "markdown",
      "source": [
        "To find the number of cubes required for a building given the total volume m, you can use a loop to iteratively check the number of cubes until you find a match or exhaust the possible values. Here is an example of how you can do this:"
      ],
      "metadata": {
        "id": "utxc8pg4-tvo"
      }
    },
    {
      "cell_type": "code",
      "source": [
        "def find_number_of_cubes(m):\n",
        "    # start with n = 1\n",
        "    n = 1\n",
        "    while True:\n",
        "        # calculate the total volume of n cubes\n",
        "        total_volume = sum([i**3 for i in range(1, n+1)])\n",
        "\n",
        "        # check if the total volume is equal to m\n",
        "        if total_volume == m:\n",
        "            return n  # found a match, return n\n",
        "        elif total_volume > m:\n",
        "            return None  # exceeded m, return None\n",
        "        \n",
        "        # increment n and try again\n",
        "        n += 1\n",
        "\n",
        "# test the function\n",
        "print(find_number_of_cubes(36))  \n",
        "print(find_number_of_cubes(100))  \n"
      ],
      "metadata": {
        "colab": {
          "base_uri": "https://localhost:8080/"
        },
        "id": "wxHoy9Jb90JZ",
        "outputId": "5f282df0-748a-4321-c93e-e4a6b7963174"
      },
      "execution_count": 1,
      "outputs": [
        {
          "output_type": "stream",
          "name": "stdout",
          "text": [
            "3\n",
            "4\n"
          ]
        }
      ]
    },
    {
      "cell_type": "code",
      "source": [
        "print(find_number_of_cubes(16))"
      ],
      "metadata": {
        "colab": {
          "base_uri": "https://localhost:8080/"
        },
        "id": "gzzkPV7s-xRW",
        "outputId": "22d7acec-fec4-4fdd-a5aa-717bfe2ace6a"
      },
      "execution_count": 3,
      "outputs": [
        {
          "output_type": "stream",
          "name": "stdout",
          "text": [
            "None\n"
          ]
        }
      ]
    },
    {
      "cell_type": "markdown",
      "source": [
        "**3. A fulcrum of a list is an integer such that all elements to the left of it and all\n",
        "elements to the right of it sum to the same value. Write a function that finds\n",
        "the fulcrum of a list.\n",
        "To illustrate:\n",
        "find_fulcrum([3, 1, 5, 2, 4, 6, -1]) ➞ 2\n",
        "// Since [3, 1, 5] and [4, 6, -1] both sum to 9**"
      ],
      "metadata": {
        "id": "2e88ggCzGG76"
      }
    },
    {
      "cell_type": "code",
      "source": [
        "def find_fulcrum(lst):\n",
        "  # Iterate through each element in the list\n",
        "  for i in range(len(lst)):\n",
        "    # Calculate the sum of the elements to the left of the current element\n",
        "    left_sum = sum(lst[:i])\n",
        "    # Calculate the sum of the elements to the right of the current element\n",
        "    right_sum = sum(lst[i+1:])\n",
        "    # If the left sum and right sum are equal, return the current index\n",
        "    if left_sum == right_sum:\n",
        "      return i\n",
        "  # If no fulcrum was found, return -1\n",
        "  return -1\n"
      ],
      "metadata": {
        "id": "FXGnPKffFul4"
      },
      "execution_count": 4,
      "outputs": []
    },
    {
      "cell_type": "code",
      "source": [
        "print(find_fulcrum([3, 1, 5, 2, 4, 6, -1]))  \n"
      ],
      "metadata": {
        "colab": {
          "base_uri": "https://localhost:8080/"
        },
        "id": "bjFXCmsdGVkZ",
        "outputId": "a9d92b70-49e1-49b8-8adb-ec601b27309b"
      },
      "execution_count": 6,
      "outputs": [
        {
          "output_type": "stream",
          "name": "stdout",
          "text": [
            "3\n"
          ]
        }
      ]
    },
    {
      "cell_type": "markdown",
      "source": [
        "**5. Create a function that takes a string containing integers as well as other\n",
        "characters and return the sum of the negative integers only.**"
      ],
      "metadata": {
        "id": "YaDro41LGlAE"
      }
    },
    {
      "cell_type": "code",
      "source": [
        "def sum_negatives(string):\n",
        "  # Initialize a variable to store the sum\n",
        "  sum = 0\n",
        "  # Iterate through each character in the string\n",
        "  for char in string:\n",
        "    # If the character is a digit, check if it is negative\n",
        "    if char.isdigit():\n",
        "      if int(char) < 0:\n",
        "        # If it is, add it to the sum\n",
        "        sum += int(char)\n",
        "  # Return the sum\n",
        "  return sum\n"
      ],
      "metadata": {
        "id": "668etxiYGYJn"
      },
      "execution_count": 7,
      "outputs": []
    },
    {
      "cell_type": "code",
      "source": [
        "print(sum_negatives(\"The sum of the negative integers is -5\")) \n",
        "print(sum_negatives(\"The sum of the negative integers is 5\"))  \n",
        "print(sum_negatives(\"The sum of the negative integers is -1\"))  \n"
      ],
      "metadata": {
        "colab": {
          "base_uri": "https://localhost:8080/"
        },
        "id": "BLfK-hKnGvfF",
        "outputId": "d7c2f425-0697-4326-ed2b-8c666d63057d"
      },
      "execution_count": 9,
      "outputs": [
        {
          "output_type": "stream",
          "name": "stdout",
          "text": [
            "0\n",
            "0\n",
            "0\n"
          ]
        }
      ]
    },
    {
      "cell_type": "code",
      "source": [],
      "metadata": {
        "id": "n5s2qKL1GxmG"
      },
      "execution_count": null,
      "outputs": []
    }
  ]
}