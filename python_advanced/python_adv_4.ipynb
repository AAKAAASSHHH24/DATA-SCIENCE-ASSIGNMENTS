{
  "nbformat": 4,
  "nbformat_minor": 0,
  "metadata": {
    "colab": {
      "provenance": []
    },
    "kernelspec": {
      "name": "python3",
      "display_name": "Python 3"
    },
    "language_info": {
      "name": "python"
    }
  },
  "cells": [
    {
      "cell_type": "markdown",
      "source": [
        "1. In mathematics, the Fibonacci numbers, commonly denoted Fn, form a\n",
        "sequence, called the Fibonacci sequence, such that each number is the sum\n",
        "of the two preceding ones, starting from 0 and 1:\n",
        "\n",
        "The beginning of the sequence is this:\n",
        "0, 1, 1, 2, 3, 5, 8, 13, 21, 34, 55, 89, 144, ...\n",
        "The function fastFib(num) returns the fibonacci number Fn, of the given num\n",
        "as an argument."
      ],
      "metadata": {
        "id": "FfEVyNu-XYSi"
      }
    },
    {
      "cell_type": "code",
      "execution_count": 1,
      "metadata": {
        "id": "yQ-pdnyTVLF9"
      },
      "outputs": [],
      "source": [
        "def fastFib(num, memo={}):\n",
        "  # Base case: if num is 0 or 1, return num\n",
        "  if num == 0 or num == 1:\n",
        "    return num\n",
        "  # Check if the value has already been calculated\n",
        "  if num in memo:\n",
        "    return memo[num]\n",
        "  # Recursive case: calculate the value and store it in the dictionary\n",
        "  else:\n",
        "    result = fastFib(num - 1, memo) + fastFib(num - 2, memo)\n",
        "    memo[num] = result\n",
        "    return result\n"
      ]
    },
    {
      "cell_type": "code",
      "source": [
        "result = fastFib(10)\n",
        "print(result) \n"
      ],
      "metadata": {
        "colab": {
          "base_uri": "https://localhost:8080/"
        },
        "id": "yxKwoYXpXdkQ",
        "outputId": "8bcf6acf-02cd-44d5-9486-31fd4c786ed5"
      },
      "execution_count": 3,
      "outputs": [
        {
          "output_type": "stream",
          "name": "stdout",
          "text": [
            "55\n"
          ]
        }
      ]
    },
    {
      "cell_type": "markdown",
      "source": [
        "**2. Create a function that takes a strings characters as ASCII and returns each\n",
        "characters hexadecimal value as a string.**"
      ],
      "metadata": {
        "id": "jwxVO-aOYYj-"
      }
    },
    {
      "cell_type": "code",
      "source": [
        "def ascii_to_hex(s):\n",
        "  # Initialize an empty list to store the hexadecimal values\n",
        "  hex_values = []\n",
        "  # Iterate through each character in the string\n",
        "  for c in s:\n",
        "    # Convert the character to its ASCII value and then to a hexadecimal string\n",
        "    hex_value = hex(ord(c))[2:]\n",
        "    # Add the hexadecimal value to the list\n",
        "    hex_values.append(hex_value)\n",
        "  # Return the list of hexadecimal values\n",
        "  return hex_values\n"
      ],
      "metadata": {
        "id": "-h9gTP3BXhFd"
      },
      "execution_count": 4,
      "outputs": []
    },
    {
      "cell_type": "code",
      "source": [
        "hex_values = ascii_to_hex(\"Hello\")\n",
        "print(hex_values)  \n"
      ],
      "metadata": {
        "colab": {
          "base_uri": "https://localhost:8080/"
        },
        "id": "0ZN3wIjqYiZp",
        "outputId": "90ec2114-62be-4f27-af8a-b63bbad9e01a"
      },
      "execution_count": 6,
      "outputs": [
        {
          "output_type": "stream",
          "name": "stdout",
          "text": [
            "['48', '65', '6c', '6c', '6f']\n"
          ]
        }
      ]
    },
    {
      "cell_type": "markdown",
      "source": [
        "**3. Someone has attempted to censor my strings by replacing every vowel\n",
        "with a *, l*k* th*s. Luckily, I&#39;ve been able to find the vowels that were\n",
        "removed.\n",
        "Given a censored string and a string of the censored vowels, return the\n",
        "original uncensored string.**"
      ],
      "metadata": {
        "id": "iaoArD_NZB6k"
      }
    },
    {
      "cell_type": "code",
      "source": [
        "def uncensor(censored, vowels):\n",
        "  # Initialize an empty string to store the uncensored string\n",
        "  uncensored = \"\"\n",
        "  # Initialize a variable to keep track of the current vowel index\n",
        "  vowel_index = 0\n",
        "  # Iterate through each character in the censored string\n",
        "  for c in censored:\n",
        "    # If the character is a *, add the corresponding vowel to the uncensored string\n",
        "    if c == \"*\":\n",
        "      uncensored += vowels[vowel_index]\n",
        "      # Increment the vowel index\n",
        "      vowel_index += 1\n",
        "    # If the character is not a *, add it to the uncensored string as is\n",
        "    else:\n",
        "      uncensored += c\n",
        "  # Return the uncensored string\n",
        "  return uncensored\n"
      ],
      "metadata": {
        "id": "JWF6o9nbYm11"
      },
      "execution_count": 7,
      "outputs": []
    },
    {
      "cell_type": "code",
      "source": [
        "censored = \"H*ll*\"\n",
        "vowels = \"eo\"\n",
        "uncensored = uncensor(censored, vowels)\n",
        "print(uncensored)  \n"
      ],
      "metadata": {
        "colab": {
          "base_uri": "https://localhost:8080/"
        },
        "id": "08b_P3lLZGl-",
        "outputId": "cba223d5-ea9d-4baa-e9be-3383b75196cf"
      },
      "execution_count": 9,
      "outputs": [
        {
          "output_type": "stream",
          "name": "stdout",
          "text": [
            "Hello\n"
          ]
        }
      ]
    },
    {
      "cell_type": "markdown",
      "source": [
        "**4. Write a function that takes an IP address and returns the domain name\n",
        "using PTR DNS records.\n",
        "Example\n",
        "get_domain(&quot;8.8.8.8&quot;) ➞ &quot;dns.google&quot;\n",
        "get_domain(&quot;8.8.4.4&quot;) ➞ &quot;dns.google&quot;**"
      ],
      "metadata": {
        "id": "0WTcmA9JZUEx"
      }
    },
    {
      "cell_type": "code",
      "source": [
        "import socket\n",
        "\n",
        "def get_domain(ip_address):\n",
        "  # Perform the reverse DNS lookup\n",
        "  domain_name = socket.gethostbyaddr(ip_address)[0]\n",
        "  # Return the domain name\n",
        "  return domain_name\n",
        "\n",
        "# Example usage\n",
        "print(get_domain(\"8.8.8.8\"))  \n",
        "print(get_domain(\"8.8.4.4\"))  \n"
      ],
      "metadata": {
        "colab": {
          "base_uri": "https://localhost:8080/"
        },
        "id": "EedVDZJ1ZJm0",
        "outputId": "ea4f831e-fcf0-4e2c-f443-1b84da58376d"
      },
      "execution_count": 11,
      "outputs": [
        {
          "output_type": "stream",
          "name": "stdout",
          "text": [
            "dns.google\n",
            "dns.google\n"
          ]
        }
      ]
    },
    {
      "cell_type": "markdown",
      "source": [
        "**5. Create a function that takes an integer n and returns the factorial of\n",
        "factorials. See below examples for a better understanding:**"
      ],
      "metadata": {
        "id": "CKFGYXftZsf7"
      }
    },
    {
      "cell_type": "code",
      "source": [
        "def factorial(n):\n",
        "  # Base case: if n is 0 or 1, return 1\n",
        "  if n == 0 or n == 1:\n",
        "    return 1\n",
        "  # Recursive case: return the product of n and the factorial of n - 1\n",
        "  else:\n",
        "    return n * factorial(n - 1)\n"
      ],
      "metadata": {
        "id": "EAlrfd1fZgul"
      },
      "execution_count": 12,
      "outputs": []
    },
    {
      "cell_type": "markdown",
      "source": [
        "This function uses recursion to calculate the factorial of a number."
      ],
      "metadata": {
        "id": "Sa0KNRjGZ9JG"
      }
    },
    {
      "cell_type": "code",
      "source": [
        "result = factorial(3)\n",
        "print(result) \n"
      ],
      "metadata": {
        "colab": {
          "base_uri": "https://localhost:8080/"
        },
        "id": "gKHyG4MDZ5R2",
        "outputId": "53bd0072-d26e-44cf-a74f-bf946400eb0d"
      },
      "execution_count": 13,
      "outputs": [
        {
          "output_type": "stream",
          "name": "stdout",
          "text": [
            "6\n"
          ]
        }
      ]
    },
    {
      "cell_type": "code",
      "source": [],
      "metadata": {
        "id": "YjIHPuFCaMt3"
      },
      "execution_count": null,
      "outputs": []
    }
  ]
}