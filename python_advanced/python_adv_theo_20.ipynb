{
  "nbformat": 4,
  "nbformat_minor": 0,
  "metadata": {
    "colab": {
      "provenance": []
    },
    "kernelspec": {
      "name": "python3",
      "display_name": "Python 3"
    },
    "language_info": {
      "name": "python"
    }
  },
  "cells": [
    {
      "cell_type": "markdown",
      "source": [
        "**1. Compare and contrast the float and Decimal classes&#39; benefits and drawbacks.**\n",
        "\n"
      ],
      "metadata": {
        "id": "9TqLJxc3t6ct"
      }
    },
    {
      "cell_type": "markdown",
      "source": [
        "The float class represents a floating-point number in Python, which is a data type that is used to store approximate decimal values. The main benefit of the float class is that it is fast and efficient, and can represent a wide range of values with good precision. However, the float class has some drawbacks as well. One disadvantage is that it is not suitable for storing exact decimal values, because the internal representation of a floating-point number is not exact. This can cause rounding errors and loss of precision when working with decimal values.\n",
        "The Decimal class, on the other hand, is specifically designed for storing exact decimal values. The Decimal class provides a high degree of precision and allows you to store and manipulate decimal values with a high degree of accuracy. The main disadvantage of the Decimal class is that it is slower and more memory-intensive than the float class, because it stores decimal values as integer values internally."
      ],
      "metadata": {
        "id": "QkWFTlSeuN_D"
      }
    },
    {
      "cell_type": "markdown",
      "source": [
        "**2. Decimal(&#39;1.200&#39;) and Decimal(&#39;1.2&#39;) are two objects to consider. In what sense are these the same\n",
        "object? Are these just two ways of representing the exact same value, or do they correspond to\n",
        "different internal states?**"
      ],
      "metadata": {
        "id": "mu-Mlmv_t_SK"
      }
    },
    {
      "cell_type": "markdown",
      "source": [
        "Decimal('1.200') and Decimal('1.2') are two different objects that represent the same value (1.2). They are not just two different ways of representing the same value, but rather correspond to different internal states. The Decimal class stores decimal values as integer values internally, so Decimal('1.200') and Decimal('1.2') are stored as different integer values."
      ],
      "metadata": {
        "id": "pvfKoTVYuS9P"
      }
    },
    {
      "cell_type": "markdown",
      "source": [
        "**3. What happens if the equality of Decimal(&#39;1.200&#39;) and Decimal(&#39;1.2&#39;) is checked?**"
      ],
      "metadata": {
        "id": "BFYXkTvOuFpi"
      }
    },
    {
      "cell_type": "markdown",
      "source": [
        "If the equality of Decimal('1.200') and Decimal('1.2') is checked using the == operator, the result will be True, because these two objects represent the same value. The Decimal class defines the == operator to compare the values of two Decimal objects, rather than their internal representations, so Decimal('1.200') and Decimal('1.2') are considered equal."
      ],
      "metadata": {
        "id": "10OZ3DqauX21"
      }
    },
    {
      "cell_type": "markdown",
      "source": [
        "**4. Why is it preferable to start a Decimal object with a string rather than a floating-point value?**\n"
      ],
      "metadata": {
        "id": "jQK3gCZlvHw1"
      }
    },
    {
      "cell_type": "markdown",
      "source": [
        "It is preferable to start a Decimal object with a string rather than a floating-point value because the internal representation of a floating-point value is not exact. When a floating-point value is converted to a Decimal object, it is first converted to an approximate decimal value, which can cause loss of precision. By starting a Decimal object with a string, you can create an exact decimal value that is stored as an integer internally, which avoids the loss of precision that can occur when using floating-point values."
      ],
      "metadata": {
        "id": "faXJTLNLveUQ"
      }
    },
    {
      "cell_type": "markdown",
      "source": [
        "**5. In an arithmetic phrase, how simple is it to combine Decimal objects with integers?**"
      ],
      "metadata": {
        "id": "CA55Mt6tvTMI"
      }
    },
    {
      "cell_type": "markdown",
      "source": [
        "It is simple to combine Decimal objects with integers in an arithmetic expression. The Decimal class defines the appropriate arithmetic methods to allow you to perform arithmetic operations with Decimal objects and integers."
      ],
      "metadata": {
        "id": "9T6uxZwNvi7C"
      }
    },
    {
      "cell_type": "markdown",
      "source": [
        "\n",
        "**6. Can Decimal objects and floating-point values be combined easily?**"
      ],
      "metadata": {
        "id": "LJlFvTFWvYzd"
      }
    },
    {
      "cell_type": "markdown",
      "source": [
        "It is not as simple to combine Decimal objects and floating-point values in an arithmetic expression. The Decimal class does not define the appropriate arithmetic methods to allow you to perform arithmetic operations with Decimal objects and floating-point values directly. To combine Decimal objects and floating-point values, you will need to convert the floating-point values to Decimal objects first. This can be done using the Decimal() constructor, which takes a floating-point value as an argument and returns a new Decimal object."
      ],
      "metadata": {
        "id": "_fONnNitvm75"
      }
    },
    {
      "cell_type": "markdown",
      "source": [
        "**Q9.Consider the following two fraction objects: Fraction(1, 2) and Fraction(1, 2). (5, 10). Is the internal\n",
        "state of these two objects the same? Why do you think that is?**\n",
        "\n"
      ],
      "metadata": {
        "id": "cOySFZxIwmNi"
      }
    },
    {
      "cell_type": "markdown",
      "source": [
        "The internal state of the two fraction objects Fraction(1, 2) and Fraction(5, 10) is the same, because these two objects represent the same fraction (1/2). The Fraction class stores fractions as two integers, the numerator and the denominator, and these two integers are used to represent the fraction. In this case, both Fraction(1, 2) and Fraction(5, 10) have a numerator of 1 and a denominator of 2, so they represent the same fraction."
      ],
      "metadata": {
        "id": "NN-hMMZnw01C"
      }
    },
    {
      "cell_type": "markdown",
      "source": [
        "**Q10. How do the Fraction class and the integer type (int) relate to each other? Containment or\n",
        "inheritance?**"
      ],
      "metadata": {
        "id": "zae9BKtuwsKR"
      }
    },
    {
      "cell_type": "markdown",
      "source": [
        " The Fraction class is related to the integer type (int) through inheritance. The Fraction class is a subclass of the numbers.Rational class, which is a subclass of the numbers.Real class, which is a subclass of the numbers.Number class. The Number class is an abstract base class that defines the methods and attributes that are common to all numeric types in Python, including the int type. This means that the Fraction class inherits the methods and attributes of the Number class, and can be used in the same way as the int type in many cases."
      ],
      "metadata": {
        "id": "J9vxCWEPw5Mz"
      }
    },
    {
      "cell_type": "code",
      "source": [],
      "metadata": {
        "id": "b9BLVLpCvbK4"
      },
      "execution_count": null,
      "outputs": []
    }
  ]
}