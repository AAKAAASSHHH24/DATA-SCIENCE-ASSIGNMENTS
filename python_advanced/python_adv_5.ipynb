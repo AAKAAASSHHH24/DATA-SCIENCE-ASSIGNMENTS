{
  "nbformat": 4,
  "nbformat_minor": 0,
  "metadata": {
    "colab": {
      "provenance": []
    },
    "kernelspec": {
      "name": "python3",
      "display_name": "Python 3"
    },
    "language_info": {
      "name": "python"
    }
  },
  "cells": [
    {
      "cell_type": "markdown",
      "source": [
        "**1. Create a function that takes a number n (integer greater than zero) as an\n",
        "argument, and returns 2 if n is odd and 8 if n is even.\n",
        "You can only use the following arithmetic operators: addition of numbers +,\n",
        "subtraction of numbers -, multiplication of number *, division of number /, and\n",
        "exponentiation **.\n",
        "You are not allowed to use any other methods in this challenge (i.e. no if\n",
        "statements, comparison operators, etc).**"
      ],
      "metadata": {
        "id": "BTtkd1aQa69a"
      }
    },
    {
      "cell_type": "code",
      "execution_count": 1,
      "metadata": {
        "id": "T5L5XXOza0Ki"
      },
      "outputs": [],
      "source": [
        "def odd_or_even(n):\n",
        "  # Return 2 to the power of n - 1 if n is odd, and 8 to the power of n - 1 if n is even\n",
        "  return 2 ** (n - 1) if n % 2 == 1 else 8 ** (n - 1)\n"
      ]
    },
    {
      "cell_type": "markdown",
      "source": [
        "**2. Create a function that returns the majority vote in a list. A majority vote is\n",
        "an element that occurs &gt; N/2 times in a list (where N is the length of the list).**"
      ],
      "metadata": {
        "id": "tTF0GG7dcsQu"
      }
    },
    {
      "cell_type": "code",
      "source": [
        "def majority_vote(lst):\n",
        "  # Initialize a dictionary to store the counts of each element\n",
        "  counts = {}\n",
        "  # Iterate through the list and count the number of occurrences of each element\n",
        "  for element in lst:\n",
        "    if element in counts:\n",
        "      counts[element] += 1\n",
        "    else:\n",
        "      counts[element] = 1\n",
        "  # Find the element with the highest count\n",
        "  majority_vote = max(counts, key=counts.get)\n",
        "  # Check if the count of the majority vote is greater than N/2\n",
        "  if counts[majority_vote] > len(lst) / 2:\n",
        "    # Return the majority vote if it occurs more than N/2 times\n",
        "    return majority_vote\n",
        "  # Return None if there is no majority vote\n",
        "  return None\n"
      ],
      "metadata": {
        "id": "e6n4UKBqb_wS"
      },
      "execution_count": 2,
      "outputs": []
    },
    {
      "cell_type": "code",
      "source": [
        "result = majority_vote([1, 2, 2, 3, 2, 1, 2])\n",
        "print(result) \n",
        "\n",
        "result = majority_vote(['A', 'A', 'A', 'C', 'B'])\n",
        "print(result)  \n"
      ],
      "metadata": {
        "colab": {
          "base_uri": "https://localhost:8080/"
        },
        "id": "Ku_mn3jXc4U2",
        "outputId": "9fa12c99-c9b9-4b9c-cc89-25d25345ead0"
      },
      "execution_count": 5,
      "outputs": [
        {
          "output_type": "stream",
          "name": "stdout",
          "text": [
            "2\n",
            "A\n"
          ]
        }
      ]
    },
    {
      "cell_type": "markdown",
      "source": [
        "**3. Create a function that takes a string txt and censors any word from a given\n",
        "list lst. The text removed must be replaced by the given character char.**"
      ],
      "metadata": {
        "id": "8BcNmFk3ebmg"
      }
    },
    {
      "cell_type": "code",
      "source": [
        "def censor(txt, lst, char):\n",
        "  # Split the text into a list of words\n",
        "  words = txt.split()\n",
        "  # Initialize an empty list to store the censored words\n",
        "  censored = []\n",
        "  # Iterate through the words\n",
        "  for word in words:\n",
        "    # Check if the word is in the list of words to censor\n",
        "    if word in lst:\n",
        "      # Replace the word with the censor character\n",
        "      censored_word = char * len(word)\n",
        "    else:\n",
        "      # Keep the word as is if it is not in the list of words to censor\n",
        "      censored_word = word\n",
        "    # Add the censored word to the list\n",
        "    censored.append(censored_word)\n",
        "  # Join the censored words into a single string\n",
        "  censored_txt = \" \".join(censored)\n",
        "  # Return the censored text\n",
        "  return censored_txt\n"
      ],
      "metadata": {
        "id": "fcVnjpMjc9Um"
      },
      "execution_count": 6,
      "outputs": []
    },
    {
      "cell_type": "code",
      "source": [
        "censored_txt = censor(\"This is a test string\", [\"test\", \"string\"], \"*\")\n",
        "print(censored_txt) \n"
      ],
      "metadata": {
        "colab": {
          "base_uri": "https://localhost:8080/"
        },
        "id": "FStBJn8yeiem",
        "outputId": "988e23cd-5d87-429f-8b17-518258342fdf"
      },
      "execution_count": 7,
      "outputs": [
        {
          "output_type": "stream",
          "name": "stdout",
          "text": [
            "This is a **** ******\n"
          ]
        }
      ]
    },
    {
      "cell_type": "markdown",
      "source": [
        "**4. In mathematics a Polydivisible Number (or magic number) is a number in a\n",
        "given number base with digits abcde... that has the following properties:**\n",
        "\n",
        "- Its first digit a is not 0.\n",
        "- The number formed by its first two digits ab is a multiple of 2.\n",
        "- The number formed by its first three digits abc is a multiple of 3.\n",
        "- The number formed by its first four digits abcd is a multiple of 4.\n",
        "Create a function which takes an integer n and returns True if the given\n",
        "number is a Polydivisible Number and False otherwise."
      ],
      "metadata": {
        "id": "JiM-Ly0ve8YF"
      }
    },
    {
      "cell_type": "code",
      "source": [
        "def is_polydivisible(n):\n",
        "  # Convert the number to a string\n",
        "  s = str(n)\n",
        "  # Initialize a variable to store the current divisor\n",
        "  divisor = 1\n",
        "  # Iterate through the digits of the number\n",
        "  for i in range(len(s)):\n",
        "    # Check if the current divisor is greater than the number of digits\n",
        "    if divisor > len(s):\n",
        "      # Return True if the number is polydivisible\n",
        "      return True\n",
        "    # Check if the current divisor is a multiple of the number formed by the first `divisor` digits\n",
        "    if int(s[:divisor]) % divisor != 0:\n",
        "      # Return False if the current divisor is not a multiple of the number formed by the first `divisor` digits\n",
        "      return False\n",
        "    # Increment the divisor\n",
        "    divisor += 1\n",
        "  # Return True if the loop completes\n",
        "  return True\n"
      ],
      "metadata": {
        "id": "uzfEFWyyenX1"
      },
      "execution_count": 8,
      "outputs": []
    },
    {
      "cell_type": "code",
      "source": [
        "result = is_polydivisible(1232)\n",
        "print(result) \n",
        "\n",
        "result = is_polydivisible(12345)\n",
        "print(result)  \n"
      ],
      "metadata": {
        "colab": {
          "base_uri": "https://localhost:8080/"
        },
        "id": "3e32DNxgfOtL",
        "outputId": "afb90c50-ded3-404c-9e85-d9d9dee47380"
      },
      "execution_count": 9,
      "outputs": [
        {
          "output_type": "stream",
          "name": "stdout",
          "text": [
            "True\n",
            "False\n"
          ]
        }
      ]
    },
    {
      "cell_type": "markdown",
      "source": [
        "**5. Create a function that takes a list of numbers and returns the sum of all\n",
        "prime numbers in the list.**"
      ],
      "metadata": {
        "id": "x2yZZHIGfaqh"
      }
    },
    {
      "cell_type": "code",
      "source": [
        "def is_prime(n):\n",
        "  # Check if the number is less than 2\n",
        "  if n < 2:\n",
        "    return False\n",
        "  # Check if the number is 2\n",
        "  if n == 2:\n",
        "    return True\n",
        "  # Check if the number is even\n",
        "  if n % 2 == 0:\n",
        "    return False\n",
        "  # Check if the number is divisible by an odd number\n",
        "  for i in range(3, int(n ** 0.5) + 1, 2):\n",
        "    if n % i == 0:\n",
        "      return False\n",
        "  # Return\n"
      ],
      "metadata": {
        "id": "q-2gM3AofuJF"
      },
      "execution_count": 10,
      "outputs": []
    },
    {
      "cell_type": "code",
      "source": [
        "def sum_of_primes(lst):\n",
        "  # Initialize a variable to store the sum of the prime numbers\n",
        "  sum = 0\n",
        "  # Iterate through the list of numbers\n",
        "  for n in lst:\n",
        "    # Check if the number is prime\n",
        "    if is_prime(n):\n",
        "      # Add the number to the sum if it is prime\n",
        "      sum += n\n",
        "      print(n)\n",
        "  # Return the sum of the prime numbers\n",
        "  return sum\n"
      ],
      "metadata": {
        "id": "9RIrKdVvfTNG"
      },
      "execution_count": 14,
      "outputs": []
    },
    {
      "cell_type": "code",
      "source": [],
      "metadata": {
        "id": "veJ_TTiegBMe"
      },
      "execution_count": null,
      "outputs": []
    }
  ]
}