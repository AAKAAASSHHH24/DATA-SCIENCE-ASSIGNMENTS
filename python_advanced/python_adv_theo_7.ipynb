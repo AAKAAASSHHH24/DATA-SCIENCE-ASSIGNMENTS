{
  "nbformat": 4,
  "nbformat_minor": 0,
  "metadata": {
    "colab": {
      "provenance": []
    },
    "kernelspec": {
      "name": "python3",
      "display_name": "Python 3"
    },
    "language_info": {
      "name": "python"
    }
  },
  "cells": [
    {
      "cell_type": "markdown",
      "source": [
        "**Q1. What is the purpose of the try statement?**"
      ],
      "metadata": {
        "id": "4mxp9tUUM3v2"
      }
    },
    {
      "cell_type": "markdown",
      "source": [
        "The purpose of the try statement is to provide a way to handle exceptions (unexpected runtime errors) in Python. It allows you to write code that may throw an exception and handle it gracefully, rather than crashing your program."
      ],
      "metadata": {
        "id": "zqgBKX6QM8i2"
      }
    },
    {
      "cell_type": "markdown",
      "source": [
        "**Q2. What are the two most popular try statement variations?**"
      ],
      "metadata": {
        "id": "Sex1vEYdNAP3"
      }
    },
    {
      "cell_type": "markdown",
      "source": [
        " The two most popular variations of the try statement are:\n",
        "\n",
        "The try-except statement, which allows you to catch and handle specific exceptions that may occur in your code.\n",
        "\n",
        "The try-finally statement, which allows you to specify code that should always be executed, whether or not an exception occurs."
      ],
      "metadata": {
        "id": "yo_CzaVpNFMJ"
      }
    },
    {
      "cell_type": "markdown",
      "source": [
        "**Q3. What is the purpose of the raise statement?**"
      ],
      "metadata": {
        "id": "vDy51HQgNLSu"
      }
    },
    {
      "cell_type": "markdown",
      "source": [
        "The purpose of the raise statement is to raise an exception. It is typically used inside an except clause to indicate that the exception should be re-raised, or to raise a new exception. For example, you might use it to raise a custom exception if some condition is not met, or to re-raise an exception if you are unable to handle it."
      ],
      "metadata": {
        "id": "e7AlKJ6VNQIC"
      }
    },
    {
      "cell_type": "markdown",
      "source": [
        "**Q4. What does the assert statement do, and what other statement is it like?**"
      ],
      "metadata": {
        "id": "fZKQfJ7HNm1d"
      }
    },
    {
      "cell_type": "markdown",
      "source": [
        "The assert statement is used to test a condition, and if the condition is false, it raises an AssertionError exception. It is used to help debug your code, and is often used to check that certain conditions are met before proceeding with the rest of the code. It is similar to the if statement, in that it tests a condition and takes some action based on the result of the test."
      ],
      "metadata": {
        "id": "eu0g3RQNN9nB"
      }
    },
    {
      "cell_type": "markdown",
      "source": [
        "**Q5. What is the purpose of the with/as argument, and what other statement is it like?**"
      ],
      "metadata": {
        "id": "4Yij9X8bNuU4"
      }
    },
    {
      "cell_type": "markdown",
      "source": [
        "The with/as statement is used to wrap the execution of a block of code with methods defined by a context manager. A context manager is an object that defines the methods enter and exit, which are used to set up and tear down a block of code. The purpose of the with/as statement is to make it easier to work with resources that need to be managed, such as files, locks, and network connections. It is similar to the try/finally statement, in that it ensures that certain code is always executed, regardless of whether an exception occurs."
      ],
      "metadata": {
        "id": "2VYJM1y3OBcL"
      }
    },
    {
      "cell_type": "code",
      "execution_count": null,
      "metadata": {
        "id": "GPBqxKDFMx6X"
      },
      "outputs": [],
      "source": []
    }
  ]
}