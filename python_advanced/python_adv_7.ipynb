{
  "nbformat": 4,
  "nbformat_minor": 0,
  "metadata": {
    "colab": {
      "provenance": []
    },
    "kernelspec": {
      "name": "python3",
      "display_name": "Python 3"
    },
    "language_info": {
      "name": "python"
    }
  },
  "cells": [
    {
      "cell_type": "markdown",
      "source": [
        "**1. Write a function that counts how many concentric layers a rug.\n",
        "Examples\n",
        "count_layers([\n",
        "&quot;AAAA&quot;,\n",
        "&quot;ABBA&quot;,\n",
        "&quot;AAAA&quot;\n",
        "]) ➞ 2**"
      ],
      "metadata": {
        "id": "zIum6tsjnoeE"
      }
    },
    {
      "cell_type": "code",
      "execution_count": 2,
      "metadata": {
        "colab": {
          "base_uri": "https://localhost:8080/"
        },
        "id": "-XGoNDRInnPz",
        "outputId": "a0f03c06-85d6-4749-e5a8-9537abaee7ef"
      },
      "outputs": [
        {
          "output_type": "stream",
          "name": "stdout",
          "text": [
            "0\n"
          ]
        }
      ],
      "source": [
        "def count_layers(rug):\n",
        "    counter = 0\n",
        "    for i in range(1, len(rug) - 1):\n",
        "        for j in range(1, len(rug[i]) - 1):\n",
        "            if rug[i][j] == rug[i-1][j] == rug[i+1][j] == rug[i][j-1] == rug[i][j+1]:\n",
        "                counter += 1\n",
        "    return counter\n",
        "\n",
        "# Example usage:\n",
        "print(count_layers([\n",
        "    \"AAAA\",\n",
        "    \"ABBA\",\n",
        "    \"AAAA\"\n",
        "])) \n"
      ]
    },
    {
      "cell_type": "markdown",
      "source": [
        "**2. There are many different styles of music and many albums exhibit multiple\n",
        "styles. Create a function that takes a list of musical styles from albums and\n",
        "returns how many styles are unique.\n",
        "Examples\n",
        "unique_styles([\n",
        "&quot;Dub,Dancehall&quot;,\n",
        "&quot;Industrial,Heavy Metal&quot;,\n",
        "&quot;Techno,Dubstep&quot;,\n",
        "&quot;Synth-pop,Euro-Disco&quot;,\n",
        "&quot;Industrial,Techno,Minimal&quot;\n",
        "]) ➞ 9**"
      ],
      "metadata": {
        "id": "Ka-Kk-MloEN0"
      }
    },
    {
      "cell_type": "code",
      "source": [
        "def unique_styles(styles):\n",
        "    unique_styles = set()\n",
        "    for style in styles:\n",
        "        for s in style.split(','):\n",
        "            unique_styles.add(s)\n",
        "    return len(unique_styles)\n",
        "\n",
        "# Example usage:\n",
        "print(unique_styles([\n",
        "    \"Dub,Dancehall\",\n",
        "    \"Industrial,Heavy Metal\",\n",
        "    \"Techno,Dubstep\",\n",
        "    \"Synth-pop,Euro-Disco\",\n",
        "    \"Industrial,Techno,Minimal\"\n",
        "]))  \n"
      ],
      "metadata": {
        "colab": {
          "base_uri": "https://localhost:8080/"
        },
        "id": "ryhGj8Itnuyt",
        "outputId": "7c77af28-0c73-4f48-ea21-dd8ea05fa092"
      },
      "execution_count": 4,
      "outputs": [
        {
          "output_type": "stream",
          "name": "stdout",
          "text": [
            "9\n"
          ]
        }
      ]
    },
    {
      "cell_type": "markdown",
      "source": [
        "**3. Create a function that finds a target number in a list of prime numbers.\n",
        "Implement a binary search algorithm in your function. The target number will\n",
        "be from 2 through 97. If the target is prime then return &quot;yes&quot; else return &quot;no&quot;.**"
      ],
      "metadata": {
        "id": "KSlsm7h7pKUe"
      }
    },
    {
      "cell_type": "code",
      "source": [
        "import math\n",
        "\n",
        "def is_prime(n):\n",
        "    if n < 2:\n",
        "        return False\n",
        "    for i in range(2, int(math.sqrt(n)) + 1):\n",
        "        if n % i == 0:\n",
        "            return False\n",
        "    return True\n",
        "\n",
        "def find_target(nums, target):\n",
        "    low = 0\n",
        "    high = len(nums) - 1\n",
        "    while low <= high:\n",
        "        mid = (low + high) // 2\n",
        "        if nums[mid] == target:\n",
        "            return \"yes\"\n",
        "        elif nums[mid] > target:\n",
        "            high = mid - 1\n",
        "        else:\n",
        "            low = mid + 1\n",
        "    return \"no\"\n",
        "\n",
        "# Example usage:\n",
        "primes = [2, 3, 5, 7, 11, 13, 17, 19, 23, 29, 31, 37, 41, 43, 47, 53, 59, 61, 67, 71, 73, 79, 83, 89, 97]\n",
        "print(find_target(primes, 11)) \n",
        "print(find_target(primes, 4))   \n"
      ],
      "metadata": {
        "colab": {
          "base_uri": "https://localhost:8080/"
        },
        "id": "_IQ60kEcofxL",
        "outputId": "c75d46ab-8055-413c-8aff-6500052fc288"
      },
      "execution_count": 6,
      "outputs": [
        {
          "output_type": "stream",
          "name": "stdout",
          "text": [
            "yes\n",
            "no\n"
          ]
        }
      ]
    },
    {
      "cell_type": "markdown",
      "source": [
        "**5. Given a number, return the difference between the maximum and minimum\n",
        "numbers that can be formed when the digits are rearranged.**"
      ],
      "metadata": {
        "id": "2tFVriOFpcK0"
      }
    },
    {
      "cell_type": "code",
      "source": [
        "def max_min_difference(num):\n",
        "    num_str = str(num)\n",
        "    sorted_num_str = ''.join(sorted(num_str))\n",
        "    min_num = int(sorted_num_str)\n",
        "    max_num = int(sorted_num_str[::-1])\n",
        "    return max_num - min_num\n",
        "\n",
        "# Example usage:\n",
        "print(max_min_difference(9584))  \n"
      ],
      "metadata": {
        "colab": {
          "base_uri": "https://localhost:8080/"
        },
        "id": "5ix-MhjZpTxy",
        "outputId": "efec3c4e-c69c-46e4-c15c-53d876afd596"
      },
      "execution_count": 9,
      "outputs": [
        {
          "output_type": "stream",
          "name": "stdout",
          "text": [
            "5265\n"
          ]
        }
      ]
    },
    {
      "cell_type": "code",
      "source": [],
      "metadata": {
        "id": "yekCaeitqBjv"
      },
      "execution_count": null,
      "outputs": []
    }
  ]
}