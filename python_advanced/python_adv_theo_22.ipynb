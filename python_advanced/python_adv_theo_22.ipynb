{
  "nbformat": 4,
  "nbformat_minor": 0,
  "metadata": {
    "colab": {
      "provenance": []
    },
    "kernelspec": {
      "name": "python3",
      "display_name": "Python 3"
    },
    "language_info": {
      "name": "python"
    }
  },
  "cells": [
    {
      "cell_type": "markdown",
      "source": [
        "**Q1. What are the benefits of the built-in array package, if any?**\n",
        "\n"
      ],
      "metadata": {
        "id": "m3qAn08d2Tbx"
      }
    },
    {
      "cell_type": "markdown",
      "source": [
        "The array package is a built-in module in Python that provides a simple data structure for storing sequences of elements of the same type. Some benefits of the array package include:\n",
        "\n",
        "Efficiency: The array module is implemented in C, which makes it faster and more memory-efficient than using a Python list to store large sequences of elements.\n",
        "\n",
        "Type checking: The array module allows you to specify the type of the elements that are stored in the array, which can help to prevent type errors and improve the efficiency of your code.\n",
        "\n",
        "Compactness: The array module uses a compact representation for storing elements, which makes it more memory-efficient than a Python list."
      ],
      "metadata": {
        "id": "A-421eNR24xs"
      }
    },
    {
      "cell_type": "markdown",
      "source": [
        "**Q2. What are some of the array package&#39;s limitations?**"
      ],
      "metadata": {
        "id": "EDaobjIa2rs3"
      }
    },
    {
      "cell_type": "markdown",
      "source": [
        "However, the array package has some limitations as well. One limitation is that the array module can only store elements of the same type, which can make it less flexible than a Python list. Additionally, the array module does not provide as many built-in functions and methods as a Python list, which can make it more difficult to manipulate the elements of an array."
      ],
      "metadata": {
        "id": "Q3SHEZm629na"
      }
    },
    {
      "cell_type": "markdown",
      "source": [
        "**Q3. Describe the main differences between the array and numpy packages.**"
      ],
      "metadata": {
        "id": "xnWOqVAI2w8o"
      }
    },
    {
      "cell_type": "markdown",
      "source": [
        "The main difference between the array package and the numpy package is that numpy provides a much wider range of functions and data types for working with arrays. The numpy package is designed for scientific computing and provides a powerful and efficient interface for working with large arrays of data. In comparison, the array package is a more basic data structure that is designed for storing simple sequences of elements of the same type."
      ],
      "metadata": {
        "id": "mcQFSy893Cct"
      }
    },
    {
      "cell_type": "markdown",
      "source": [
        "**Q4. Explain the distinctions between the empty, ones, and zeros functions.**\n"
      ],
      "metadata": {
        "id": "migC1nEm3TLJ"
      }
    },
    {
      "cell_type": "markdown",
      "source": [
        "he empty function returns an array of a specified size with all elements set to zero, without initializing the memory. This means that the array elements will have whatever values were previously stored at that memory location, and can be very fast. However, it is generally recommended to use zeros instead, because the values of the array are guaranteed to be initialized to zero.\n",
        "\n",
        "The ones function returns an array of a specified size with all elements set to one.\n",
        "\n",
        "Here is an example of how to use these functions:"
      ],
      "metadata": {
        "id": "ceR0HHdx3_zB"
      }
    },
    {
      "cell_type": "code",
      "source": [
        "import numpy as np\n",
        "\n",
        "# Create a 3x3 array of zeros\n",
        "a = np.zeros((3, 3))\n",
        "print(a)\n",
        "\n",
        "# Output:\n",
        "# [[0. 0. 0.]\n",
        "#  [0. 0. 0.]\n",
        "#  [0. 0. 0.]]\n",
        "\n",
        "# Create a 2x2 array of ones\n",
        "b = np.ones((2, 2))\n",
        "print(b)\n",
        "\n",
        "# Output:\n",
        "# [[1. 1.]\n",
        "#  [1. 1.]]\n",
        "\n",
        "# Create a 3x3 array without initializing its values\n",
        "c = np.empty((3, 3))\n",
        "print(c)\n",
        "\n",
        "# Output:\n",
        "# [[0. 0. 0.]\n",
        "#  [0. 0. 0.]\n",
        "#  [0. 0. 0.]]\n"
      ],
      "metadata": {
        "colab": {
          "base_uri": "https://localhost:8080/"
        },
        "id": "t5G7B2Aq2zHp",
        "outputId": "2ce3d704-b962-46ad-e85d-87df09188f00"
      },
      "execution_count": 1,
      "outputs": [
        {
          "output_type": "stream",
          "name": "stdout",
          "text": [
            "[[0. 0. 0.]\n",
            " [0. 0. 0.]\n",
            " [0. 0. 0.]]\n",
            "[[1. 1.]\n",
            " [1. 1.]]\n",
            "[[0. 0. 0.]\n",
            " [0. 0. 0.]\n",
            " [0. 0. 0.]]\n"
          ]
        }
      ]
    },
    {
      "cell_type": "markdown",
      "source": [
        "Note that the empty function does not initialize the array elements to zero or any other value. The values of the array will be whatever values happen to be stored at those memory locations."
      ],
      "metadata": {
        "id": "QsnFDlyL4MgD"
      }
    },
    {
      "cell_type": "markdown",
      "source": [
        "**Q5. In the fromfunction function, which is used to construct new arrays, what is the role of the callable\n",
        "argument?**\n",
        "\n"
      ],
      "metadata": {
        "id": "FLPl0nwY3wgt"
      }
    },
    {
      "cell_type": "markdown",
      "source": [
        "The fromfunction function in NumPy is a flexible way to create an array by applying a function to a set of indices. The syntax is as follows:"
      ],
      "metadata": {
        "id": "HWy9WyKY4lPZ"
      }
    },
    {
      "cell_type": "code",
      "source": [
        "import numpy\n",
        "numpy.fromfunction(function, shape, **kwargs)\n"
      ],
      "metadata": {
        "id": "okXuG3hd32I8"
      },
      "execution_count": null,
      "outputs": []
    },
    {
      "cell_type": "markdown",
      "source": [
        "The function argument is a callable that takes an N-dimensional index (a tuple of N integers) and returns a single value. This function is applied to each index in the output array, and the resulting values are placed in the output array.\n",
        "\n",
        "Here is an example of how to use fromfunction:"
      ],
      "metadata": {
        "id": "z4Gr7twA44Qf"
      }
    },
    {
      "cell_type": "code",
      "source": [
        "import numpy as np\n",
        "\n",
        "# Create a 2x2 array using a function that takes a 2D index (i, j) and returns the value i + j\n",
        "a = np.fromfunction(lambda i, j: i + j, (2, 2))\n",
        "print(a)\n",
        "\n",
        "\n"
      ],
      "metadata": {
        "colab": {
          "base_uri": "https://localhost:8080/"
        },
        "id": "Co6ftD6249wV",
        "outputId": "cb972cc0-77d5-4575-a029-1ad6c91d3a26"
      },
      "execution_count": 4,
      "outputs": [
        {
          "output_type": "stream",
          "name": "stdout",
          "text": [
            "[[0. 1.]\n",
            " [1. 2.]]\n"
          ]
        }
      ]
    },
    {
      "cell_type": "markdown",
      "source": [
        "In this example, the function lambda i, j: i + j is applied to each index in the output array. For the element at index (0, 0), the function returns 0 + 0 = 0. For the element at index (0, 1), the function returns 0 + 1 = 1, and so on. The resulting values are placed in the output array.\n",
        "\n",
        "The shape argument specifies the shape of the output array, and kwargs can be used to pass additional arguments to the function."
      ],
      "metadata": {
        "id": "PhiWjTr2-U11"
      }
    },
    {
      "cell_type": "markdown",
      "source": [
        "**Q6. What happens when a numpy array is combined with a single-value operand (a scalar, such as\n",
        "an int or a floating-point value) through addition, as in the expression A + n?**"
      ],
      "metadata": {
        "id": "AqAMFzan321d"
      }
    },
    {
      "cell_type": "markdown",
      "source": [
        "When a numpy array A is combined with a single-value operand n through addition, n is added to each element of A. This is called broadcasting.\n",
        "\n",
        "Here is an example:"
      ],
      "metadata": {
        "id": "9YPkKNBBDBGE"
      }
    },
    {
      "cell_type": "code",
      "source": [
        "import numpy as np\n",
        "\n",
        "A = np.array([[1, 2], [3, 4]])\n",
        "n = 2\n",
        "\n",
        "B = A + n\n",
        "\n",
        "print(B)\n"
      ],
      "metadata": {
        "colab": {
          "base_uri": "https://localhost:8080/"
        },
        "id": "f-PkOkrt352X",
        "outputId": "c57f4225-40c8-4bf8-efd1-97f30e0d13d8"
      },
      "execution_count": 5,
      "outputs": [
        {
          "output_type": "stream",
          "name": "stdout",
          "text": [
            "[[3 4]\n",
            " [5 6]]\n"
          ]
        }
      ]
    },
    {
      "cell_type": "markdown",
      "source": [
        "This will output the following numpy array:\n",
        "\n",
        "[[3 4]\n",
        "\n",
        " [5 6]]\n",
        "\n",
        "\n",
        "Note that the shape of the output array is the same as the shape of the input array A."
      ],
      "metadata": {
        "id": "y5pudglTDJvi"
      }
    },
    {
      "cell_type": "markdown",
      "source": [
        "**Q7. Can array-to-scalar operations use combined operation-assign operators (such as += or *=)?\n",
        "What is the outcome?**\n"
      ],
      "metadata": {
        "id": "MsyuVFauSJ59"
      }
    },
    {
      "cell_type": "markdown",
      "source": [
        "Array-to-scalar operations can use combined operation-assign operators such as += or *=. However, the outcome will depend on the specific operation being performed and the elements in the array.\n",
        "\n",
        "For example, consider the following code:"
      ],
      "metadata": {
        "id": "f_4PURBOSVrm"
      }
    },
    {
      "cell_type": "code",
      "source": [
        "import numpy as np\n",
        "\n",
        "# Create an array with three elements\n",
        "arr = np.array([1, 2, 3])\n",
        "\n",
        "# Add 10 to each element in the array using the += operator\n",
        "arr += 10\n",
        "print(arr)\n"
      ],
      "metadata": {
        "colab": {
          "base_uri": "https://localhost:8080/"
        },
        "id": "s-7tP5mIDFQM",
        "outputId": "b5a9a07c-c01d-4daf-a18c-fdc4b09b7550"
      },
      "execution_count": 6,
      "outputs": [
        {
          "output_type": "stream",
          "name": "stdout",
          "text": [
            "[11 12 13]\n"
          ]
        }
      ]
    },
    {
      "cell_type": "markdown",
      "source": [
        "On the other hand, consider the following code:"
      ],
      "metadata": {
        "id": "zxwQ2_cTSiXF"
      }
    },
    {
      "cell_type": "code",
      "source": [
        "import numpy as np\n",
        "\n",
        "# Create an array with three elements\n",
        "arr = np.array([1, 2, 3])\n",
        "\n",
        "# Multiply each element in the array by 10 using the *= operator\n",
        "arr *= 10\n",
        "print(arr)\n"
      ],
      "metadata": {
        "colab": {
          "base_uri": "https://localhost:8080/"
        },
        "id": "HA_oSXUVSkO1",
        "outputId": "ba8055d1-b238-471c-d59c-6178ed72cd6e"
      },
      "execution_count": 7,
      "outputs": [
        {
          "output_type": "stream",
          "name": "stdout",
          "text": [
            "[10 20 30]\n"
          ]
        }
      ]
    },
    {
      "cell_type": "markdown",
      "source": [
        "**Q8. Does a numpy array contain fixed-length strings? What happens if you allocate a longer string to\n",
        "one of these arrays?**"
      ],
      "metadata": {
        "id": "CxLliHPCSO9d"
      }
    },
    {
      "cell_type": "markdown",
      "source": [
        "Numpy arrays do not contain fixed-length strings. Numpy arrays can contain elements of any data type, including strings, but the length of the strings is not fixed. If you allocate a longer string to one of these arrays, it will simply be treated as a longer string. For example:"
      ],
      "metadata": {
        "id": "nquez5akTKAA"
      }
    },
    {
      "cell_type": "code",
      "source": [
        "import numpy as np\n",
        "\n",
        "# Create an array with three elements, each of which is a string\n",
        "arr = np.array(['a', 'bb', 'ccc'])\n",
        "\n",
        "# Allocate a longer string to the second element of the array\n",
        "arr[1] = 'ddddd'\n",
        "print(arr)\n"
      ],
      "metadata": {
        "colab": {
          "base_uri": "https://localhost:8080/"
        },
        "id": "Q1abMI_cSRJD",
        "outputId": "6249fc8d-a5da-42c5-a5a4-5d165650de47"
      },
      "execution_count": 11,
      "outputs": [
        {
          "output_type": "stream",
          "name": "stdout",
          "text": [
            "['a' 'ddd' 'ccc']\n"
          ]
        }
      ]
    },
    {
      "cell_type": "markdown",
      "source": [
        "**Q9. What happens when you combine two numpy arrays using an operation like addition (+) or\n",
        "multiplication (*)? What are the conditions for combining two numpy arrays?**\n",
        "\n"
      ],
      "metadata": {
        "id": "kiSC6CcXYILh"
      }
    },
    {
      "cell_type": "markdown",
      "source": [
        "When you combine two numpy arrays using an operation like addition (+) or multiplication (*), the operation is applied element-wise. This means that the operation is performed on corresponding elements in the two arrays.\n",
        "\n",
        "For example, consider the following code:"
      ],
      "metadata": {
        "id": "oAnByvDjYbMz"
      }
    },
    {
      "cell_type": "code",
      "source": [
        "import numpy as np\n",
        "\n",
        "# Create two arrays with three elements each\n",
        "arr1 = np.array([1, 2, 3])\n",
        "arr2 = np.array([4, 5, 6])\n",
        "\n",
        "# Add the arrays element-wise\n",
        "result = arr1 + arr2\n",
        "print(result)\n"
      ],
      "metadata": {
        "colab": {
          "base_uri": "https://localhost:8080/"
        },
        "id": "-DIwmjMBXvo-",
        "outputId": "822477dd-2c4a-451c-d7fd-c86318ea0f17"
      },
      "execution_count": 12,
      "outputs": [
        {
          "output_type": "stream",
          "name": "stdout",
          "text": [
            "[5 7 9]\n"
          ]
        }
      ]
    },
    {
      "cell_type": "markdown",
      "source": [
        "The condition for combining two numpy arrays is that they must have the same shape. "
      ],
      "metadata": {
        "id": "qBR-pU8HYkQj"
      }
    },
    {
      "cell_type": "code",
      "source": [
        "import numpy as np\n",
        "\n",
        "# Create two arrays with different shapes\n",
        "arr1 = np.array([1, 2, 3])\n",
        "arr2 = np.array([[4], [5], [6]])\n",
        "\n",
        "result = arr1 + arr2\n",
        "print(result)\n"
      ],
      "metadata": {
        "colab": {
          "base_uri": "https://localhost:8080/"
        },
        "id": "P1mn89ZDYn0l",
        "outputId": "cb8ac137-52ac-4260-9804-6c962ef59a52"
      },
      "execution_count": 16,
      "outputs": [
        {
          "output_type": "stream",
          "name": "stdout",
          "text": [
            "[[5 6 7]\n",
            " [6 7 8]\n",
            " [7 8 9]]\n"
          ]
        }
      ]
    },
    {
      "cell_type": "markdown",
      "source": [
        "**Q10. What is the best way to use a Boolean array to mask another array?**"
      ],
      "metadata": {
        "id": "2sbdEjdmYP5c"
      }
    },
    {
      "cell_type": "markdown",
      "source": [
        "One way to use a Boolean array to mask another array is to use the Boolean array as an index to select elements from the other array. For example:"
      ],
      "metadata": {
        "id": "_mL77DUuaGWl"
      }
    },
    {
      "cell_type": "code",
      "source": [
        "import numpy as np\n",
        "\n",
        "# Create a mask with three elements\n",
        "mask = np.array([True, False, True])\n",
        "\n",
        "# Create an array with three elements\n",
        "arr = np.array([1, 2, 3])\n",
        "\n",
        "# Use the mask to select elements from the array\n",
        "result = arr[mask]\n",
        "print(result)\n"
      ],
      "metadata": {
        "colab": {
          "base_uri": "https://localhost:8080/"
        },
        "id": "E8VKy0MiYSEj",
        "outputId": "fa92447a-cc10-4b17-89d0-ce70e2558af3"
      },
      "execution_count": 17,
      "outputs": [
        {
          "output_type": "stream",
          "name": "stdout",
          "text": [
            "[1 3]\n"
          ]
        }
      ]
    },
    {
      "cell_type": "markdown",
      "source": [
        "Another way to use a Boolean array to mask another array is to use the numpy.where function. This function returns elements from one array based on the value of a Boolean array. For example:"
      ],
      "metadata": {
        "id": "3bofl7jXaNPD"
      }
    },
    {
      "cell_type": "code",
      "source": [
        "import numpy as np\n",
        "\n",
        "# Create a mask with three elements\n",
        "mask = np.array([True, False, True])\n",
        "\n",
        "# Create two arrays with three elements each\n",
        "arr1 = np.array([1, 2, 3])\n",
        "arr2 = np.array([4, 5, 6])\n",
        "\n",
        "# Use the numpy.where function to select elements from arr1 or arr2 based on the value of mask\n",
        "result = np.where(mask, arr1, arr2)\n",
        "print(result)\n"
      ],
      "metadata": {
        "colab": {
          "base_uri": "https://localhost:8080/"
        },
        "id": "Io5yXbDYaI7v",
        "outputId": "ca955f30-5804-4b52-eca5-445ba6940a77"
      },
      "execution_count": 18,
      "outputs": [
        {
          "output_type": "stream",
          "name": "stdout",
          "text": [
            "[1 5 3]\n"
          ]
        }
      ]
    },
    {
      "cell_type": "markdown",
      "source": [
        "**Q11. What are three different ways to get the standard deviation of a wide collection of data using\n",
        "both standard Python and its packages? Sort the three of them by how quickly they execute.**"
      ],
      "metadata": {
        "id": "Hp-EuIVqaZeE"
      }
    },
    {
      "cell_type": "markdown",
      "source": [
        "Here are three different ways to get the standard deviation of a wide collection of data using standard Python and its packages:\n",
        "\n",
        "Using the statistics module in the Python Standard Library:"
      ],
      "metadata": {
        "id": "pboyBE_MbFR1"
      }
    },
    {
      "cell_type": "code",
      "source": [
        "import statistics\n",
        "\n",
        "data = [1, 2, 3, 4, 5]\n",
        "stdev = statistics.stdev(data)\n",
        "print(stdev)\n"
      ],
      "metadata": {
        "colab": {
          "base_uri": "https://localhost:8080/"
        },
        "id": "ePEYbG-xbHgw",
        "outputId": "ccd46557-a98d-46f2-99fb-fbe4c60edd65"
      },
      "execution_count": 21,
      "outputs": [
        {
          "output_type": "stream",
          "name": "stdout",
          "text": [
            "1.5811388300841898\n"
          ]
        }
      ]
    },
    {
      "cell_type": "markdown",
      "source": [
        "Using the numpy library:"
      ],
      "metadata": {
        "id": "OEAV5L9kbOOJ"
      }
    },
    {
      "cell_type": "code",
      "source": [
        "import numpy as np\n",
        "\n",
        "data = [1, 2, 3, 4, 5]\n",
        "stdev = np.std(data)\n",
        "print(stdev)\n"
      ],
      "metadata": {
        "colab": {
          "base_uri": "https://localhost:8080/"
        },
        "id": "d5b7qCyqbPPv",
        "outputId": "d70541c3-a676-4d11-e6bd-c9ff82b0a417"
      },
      "execution_count": 22,
      "outputs": [
        {
          "output_type": "stream",
          "name": "stdout",
          "text": [
            "1.4142135623730951\n"
          ]
        }
      ]
    },
    {
      "cell_type": "markdown",
      "source": [
        "Using the pandas library:"
      ],
      "metadata": {
        "id": "wRkHKVzpbbp5"
      }
    },
    {
      "cell_type": "code",
      "source": [
        "import pandas as pd\n",
        "\n",
        "data = [1, 2, 3, 4, 5]\n",
        "stdev = pd.Series(data).std()\n",
        "print(stdev)\n"
      ],
      "metadata": {
        "colab": {
          "base_uri": "https://localhost:8080/"
        },
        "id": "LFWtth7Ybcs-",
        "outputId": "e02408ce-4680-4f92-a674-b8b9efcece7d"
      },
      "execution_count": 23,
      "outputs": [
        {
          "output_type": "stream",
          "name": "stdout",
          "text": [
            "1.5811388300841898\n"
          ]
        }
      ]
    },
    {
      "cell_type": "markdown",
      "source": [
        "In terms of execution speed, the numpy method is usually the fastest, followed by the statistics method and then the pandas method."
      ],
      "metadata": {
        "id": "xKzKpALfbodM"
      }
    },
    {
      "cell_type": "markdown",
      "source": [
        "**12. What is the dimensionality of a Boolean mask-generated array?**"
      ],
      "metadata": {
        "id": "0rcxvYZYaeuo"
      }
    },
    {
      "cell_type": "markdown",
      "source": [
        "The dimensionality of a Boolean mask-generated array depends on the shape of the mask and the original array. If the mask is a one-dimensional array, the resulting array will have the same dimensionality as the original array. If the mask is a two-dimensional array, the resulting array will have one less dimension than the original array.\n",
        "\n",
        "For example:"
      ],
      "metadata": {
        "id": "k88TFIpMak-f"
      }
    },
    {
      "cell_type": "code",
      "source": [
        "import numpy as np\n",
        "\n",
        "# Create a one-dimensional mask with three elements\n",
        "mask = np.array([True, False, True])\n",
        "\n",
        "# Create a one-dimensional array with three elements\n",
        "arr = np.array([1, 2, 3])\n",
        "\n",
        "# Use the mask to select elements from the array\n",
        "result = arr[mask]\n",
        "print(result)\n",
        "print(result.shape)\n"
      ],
      "metadata": {
        "colab": {
          "base_uri": "https://localhost:8080/"
        },
        "id": "_FJNc9pxaQTy",
        "outputId": "d67df2f3-e211-424f-bc7b-00ac223342ab"
      },
      "execution_count": 19,
      "outputs": [
        {
          "output_type": "stream",
          "name": "stdout",
          "text": [
            "[1 3]\n",
            "(2,)\n"
          ]
        }
      ]
    },
    {
      "cell_type": "markdown",
      "source": [
        "Here, the resulting array has the same dimensionality as the original array."
      ],
      "metadata": {
        "id": "xhtDWPe0avaV"
      }
    },
    {
      "cell_type": "code",
      "source": [
        "import numpy as np\n",
        "\n",
        "# Create a two-dimensional mask with three elements\n",
        "mask = np.array([[True, False], [False, True], [True, False]])\n",
        "\n",
        "# Create a two-dimensional array with three elements\n",
        "arr = np.array([[1, 2], [3, 4], [5, 6]])\n",
        "\n",
        "# Use the mask to select elements from the array\n",
        "result = arr[mask]\n",
        "print(result)\n",
        "print(result.shape)\n"
      ],
      "metadata": {
        "colab": {
          "base_uri": "https://localhost:8080/"
        },
        "id": "txCGzsQ4awpe",
        "outputId": "32953128-1177-4f7f-eb51-75f7ae88e8d7"
      },
      "execution_count": 20,
      "outputs": [
        {
          "output_type": "stream",
          "name": "stdout",
          "text": [
            "[1 4 5]\n",
            "(3,)\n"
          ]
        }
      ]
    },
    {
      "cell_type": "code",
      "source": [],
      "metadata": {
        "id": "BuZ7sXdIahNa"
      },
      "execution_count": null,
      "outputs": []
    }
  ]
}