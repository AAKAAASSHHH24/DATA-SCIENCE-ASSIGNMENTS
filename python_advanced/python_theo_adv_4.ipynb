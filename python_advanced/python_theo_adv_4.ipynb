{
  "nbformat": 4,
  "nbformat_minor": 0,
  "metadata": {
    "colab": {
      "provenance": []
    },
    "kernelspec": {
      "name": "python3",
      "display_name": "Python 3"
    },
    "language_info": {
      "name": "python"
    }
  },
  "cells": [
    {
      "cell_type": "markdown",
      "source": [
        "**Q1. Which two operator overloading methods can you use in your classes to support iteration?**"
      ],
      "metadata": {
        "id": "dGm2VHLb6Hcl"
      }
    },
    {
      "cell_type": "markdown",
      "source": [
        "In Python, you can use the __iter__() and __next__() methods to support iteration in your classes.\n",
        "\n",
        "The __iter__() method is called when the iterable object is initialized, and it should return an iterator object that defines the __next__() method.\n",
        "\n",
        "The __next__() method is called repeatedly to retrieve the next element in the iterable object. It should raise a StopIteration exception when there are no more elements to return.\n",
        "\n",
        "Here is an example of how to use the __iter__() and __next__() methods to support iteration in a Python class:"
      ],
      "metadata": {
        "id": "miQz0BL56ORO"
      }
    },
    {
      "cell_type": "code",
      "execution_count": null,
      "metadata": {
        "colab": {
          "base_uri": "https://localhost:8080/"
        },
        "id": "IlIeJOh46CTo",
        "outputId": "6f4eaee4-a5ae-4a71-ee1f-951a15d02f39"
      },
      "outputs": [
        {
          "output_type": "stream",
          "name": "stdout",
          "text": [
            "1\n",
            "2\n",
            "3\n"
          ]
        }
      ],
      "source": [
        "class MyIterable:\n",
        "    def __init__(self, data):\n",
        "        self.data = data\n",
        "        self.index = 0\n",
        "\n",
        "    def __iter__(self):\n",
        "        return self\n",
        "\n",
        "    def __next__(self):\n",
        "        if self.index >= len(self.data):\n",
        "            raise StopIteration\n",
        "        value = self.data[self.index]\n",
        "        self.index += 1\n",
        "        return value\n",
        "\n",
        "# Create an instance of MyIterable\n",
        "iterable = MyIterable([1, 2, 3])\n",
        "\n",
        "# Iterate over the elements of the iterable\n",
        "for x in iterable:\n",
        "    print(x)  \n"
      ]
    },
    {
      "cell_type": "markdown",
      "source": [
        "*In this example, the MyIterable class defines the __iter__() and __next__() methods to support iteration. The __iter__() method returns the instance object itself, which implements the __next__() method. The __next__() method retrieves the next element in the data attribute of the instance and increments the index attribute to keep*"
      ],
      "metadata": {
        "id": "a5xSTJWW6Xbq"
      }
    },
    {
      "cell_type": "markdown",
      "source": [
        "**Q2. In what contexts do the two operator overloading methods manage printing?**"
      ],
      "metadata": {
        "id": "rlzuz5GnFKNR"
      }
    },
    {
      "cell_type": "markdown",
      "source": [
        "*In Python, the __str__() and __repr__() methods are used to manage printing in different contexts.*\n",
        "\n",
        "The __str__() method is called when the object is printed using the print() function or when the str() function is applied to the object. It should return a string representation of the object that is suitable for human consumption.\n",
        "\n",
        "The __repr__() method is called when the object is printed in an interactive interpreter or when the repr() function is applied to the object. It should return a string representation of the object that is unambiguous and can be used to recreate the object.\n",
        "\n",
        "Here is an example of how to use the __str__() and __repr__() methods in a Python class:"
      ],
      "metadata": {
        "id": "RLE3k2V9FSFt"
      }
    },
    {
      "cell_type": "code",
      "source": [
        "class MyClass:\n",
        "    def __init__(self, value):\n",
        "        self.value = value\n",
        "\n",
        "    def __str__(self):\n",
        "        return f\"MyClass({self.value})\"\n",
        "\n",
        "    def __repr__(self):\n",
        "        return f\"MyClass({self.value!r})\"\n",
        "\n",
        "# Create an instance of MyClass\n",
        "obj = MyClass(10)\n",
        "\n",
        "# Print the object using the print() function\n",
        "print(obj)  # Output: \"MyClass(10)\"\n",
        "\n",
        "# Print the object using the str() function\n",
        "print(str(obj))  # Output: \"MyClass(10)\"\n",
        "\n",
        "# Print the object using the repr() function\n",
        "print(repr(obj))  # Output: \"MyClass(10)\"\n"
      ],
      "metadata": {
        "colab": {
          "base_uri": "https://localhost:8080/"
        },
        "id": "BM_Opu2C6TDt",
        "outputId": "4e707362-329a-4d34-ddc4-308f6e3383bb"
      },
      "execution_count": null,
      "outputs": [
        {
          "output_type": "stream",
          "name": "stdout",
          "text": [
            "MyClass(10)\n",
            "MyClass(10)\n",
            "MyClass(10)\n"
          ]
        }
      ]
    },
    {
      "cell_type": "markdown",
      "source": [
        "**Q3. In a class, how do you intercept slice operations?**"
      ],
      "metadata": {
        "id": "dFKabyV8GYgA"
      }
    },
    {
      "cell_type": "markdown",
      "source": [
        "*You can intercept slice operations by defining the __getitem__ method in your class. The __getitem__ method is called whenever your class instance is indexed with a slice. Here is an example of how you can use the __getitem__ method to intercept slice operations in a class:*"
      ],
      "metadata": {
        "id": "QtRmMmmOGey1"
      }
    },
    {
      "cell_type": "code",
      "source": [
        "class MyList:\n",
        "  def __init__(self, *args):\n",
        "      self.items = list(args)\n",
        "  \n",
        "  def __getitem__(self, index):\n",
        "      if isinstance(index, slice):\n",
        "          # Return a new instance of MyList with the sliced items\n",
        "          return MyList(*self.items[index])\n",
        "      else:\n",
        "          # Return the item at the index\n",
        "          return self.items[index]\n",
        "\n",
        "# Create a new instance of MyList\n",
        "my_list = MyList(1, 2, 3, 4, 5)\n",
        "\n",
        "# Slice the list\n",
        "sliced_list = my_list[1:3]\n",
        "\n",
        "# The sliced_list is now a new instance of MyList\n",
        "print(type(sliced_list))  # prints \"<class '__main__.MyList'>\"\n"
      ],
      "metadata": {
        "colab": {
          "base_uri": "https://localhost:8080/"
        },
        "id": "ntz1rJo2FdNb",
        "outputId": "483d6c5c-686d-4c36-89cb-255de90244bb"
      },
      "execution_count": null,
      "outputs": [
        {
          "output_type": "stream",
          "name": "stdout",
          "text": [
            "<class '__main__.MyList'>\n"
          ]
        }
      ]
    },
    {
      "cell_type": "markdown",
      "source": [
        "Note that the __getitem__ method should return the value at the given index or slice for the class instance. If you want to modify the slice operation, you can do so by modifying the self.items list in the __getitem__ method before returning the value."
      ],
      "metadata": {
        "id": "6NYMS4NhGomZ"
      }
    },
    {
      "cell_type": "markdown",
      "source": [
        "**Q4. In a class, how do you capture in-place addition?**"
      ],
      "metadata": {
        "id": "iyxyF__P3E7m"
      }
    },
    {
      "cell_type": "markdown",
      "source": [
        "*To capture in-place addition in a class, you can define the __iadd__ magic method. This method is called when the += operator is used on an instance of the class, and it should modify the object in place and return the modified object.*\n",
        "\n",
        "*Here's an example of how you might define the __iadd__ method for a simple class that represents a point in 2D space:*"
      ],
      "metadata": {
        "id": "eTP0h_rl3LOt"
      }
    },
    {
      "cell_type": "code",
      "source": [
        "class Point:\n",
        "    def __init__(self, x, y):\n",
        "        self.x = x\n",
        "        self.y = y\n",
        "    \n",
        "    def __iadd__(self, other):\n",
        "        self.x += other.x\n",
        "        self.y += other.y\n",
        "        return self\n"
      ],
      "metadata": {
        "id": "_Wpi2wylGkG1"
      },
      "execution_count": 1,
      "outputs": []
    },
    {
      "cell_type": "markdown",
      "source": [
        "With this implementation, you can use the += operator to add two Point objects together and update the first object in place:"
      ],
      "metadata": {
        "id": "KHwqcuEu3auq"
      }
    },
    {
      "cell_type": "code",
      "source": [
        "p1 = Point(1, 2)\n",
        "p2 = Point(3, 4)\n",
        "p1 += p2\n",
        "print(p1.x) \n",
        "print(p1.y) "
      ],
      "metadata": {
        "colab": {
          "base_uri": "https://localhost:8080/"
        },
        "id": "gVQ2DYOq3XWy",
        "outputId": "9d31a8b7-d7bc-4205-90c1-0444a8a16e3e"
      },
      "execution_count": 3,
      "outputs": [
        {
          "output_type": "stream",
          "name": "stdout",
          "text": [
            "4\n",
            "6\n"
          ]
        }
      ]
    },
    {
      "cell_type": "markdown",
      "source": [
        "It's important to note that the __iadd__ method should return the modified object, so that the object on the left side of the += operator gets updated. If the __iadd__ method does not return anything, the left-hand side of the += operator will be set to None."
      ],
      "metadata": {
        "id": "hPpsieMx8lmI"
      }
    },
    {
      "cell_type": "markdown",
      "source": [
        "**Q5. When is it appropriate to use operator overloading?**"
      ],
      "metadata": {
        "id": "klo2v0-e9a6d"
      }
    },
    {
      "cell_type": "markdown",
      "source": [
        "*Operator overloading is a technique in Python that allows you to define the behavior of operators (such as +, -, *, etc.) *when they are used with instances of a class. This can be useful when you want to define a custom class and make it behave like a built-in data type, or when you want to give your class a more intuitive interface.*\n",
        "\n",
        "However, it's important to use operator overloading sparingly and only when it makes sense for the class you are defining. Overloading operators can make your code more difficult to read and understand, especially for people who are not familiar with your code.\n",
        "\n",
        "In general, it's a good idea to use operator overloading when:\n",
        "\n",
        "You want to define a class that behaves like a built-in data type (such as a list, tuple, or dict).\n",
        "\n",
        "You want to define a class that represents a mathematical concept (such as a vector, matrix, or complex number).\n",
        "\n",
        "You want to define a class that has a natural representation using operators (such as a point in 2D space).\n",
        "\n",
        "\n",
        "*It's generally not a good idea to use operator overloading when:*\n",
        "\n",
        "You are defining a class that does not have a natural representation using operators.\n",
        "\n",
        "You are defining a class that is not intended to be used with mathematical operations.\n",
        "\n",
        "You are defining a class that is primarily intended to hold data, rather than to perform operations on that data."
      ],
      "metadata": {
        "id": "F4ALzdAK9gHh"
      }
    },
    {
      "cell_type": "code",
      "source": [],
      "metadata": {
        "id": "wFAR7Xnl3eG6"
      },
      "execution_count": null,
      "outputs": []
    }
  ]
}