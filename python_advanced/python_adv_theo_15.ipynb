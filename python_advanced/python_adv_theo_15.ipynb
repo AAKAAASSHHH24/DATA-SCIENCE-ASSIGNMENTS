{
  "nbformat": 4,
  "nbformat_minor": 0,
  "metadata": {
    "colab": {
      "provenance": []
    },
    "kernelspec": {
      "name": "python3",
      "display_name": "Python 3"
    },
    "language_info": {
      "name": "python"
    }
  },
  "cells": [
    {
      "cell_type": "markdown",
      "source": [
        "**2. What is monkey patching in Python?**"
      ],
      "metadata": {
        "id": "eW-T-bz4Vkx7"
      }
    },
    {
      "cell_type": "markdown",
      "source": [
        "Monkey patching in Python refers to the practice of dynamically modifying a class or module at runtime, usually to add or change functionality. Monkey patching is often used as a quick workaround or as a way to extend the functionality of a third-party library without modifying the original source code. However, monkey patching can also make code more difficult to understand and maintain, and it can cause unintended side effects, so it is generally considered to be a \"hack\" and is not a recommended programming practice."
      ],
      "metadata": {
        "id": "gI4JwUvzVqF2"
      }
    },
    {
      "cell_type": "markdown",
      "source": [
        "**3. What is the difference between a shallow copy and deep copy?**"
      ],
      "metadata": {
        "id": "tH7SZeP7Vs7h"
      }
    },
    {
      "cell_type": "markdown",
      "source": [
        "A shallow copy is a copy of an object that creates a new object with a new reference, but the elements inside the object are still references to the original object. In other words, a shallow copy creates a new top-level object, but the child objects within the original object are not copied.\n",
        "\n",
        "A deep copy is a copy of an object that creates a completely independent copy of the original object, including all child objects. In other words, a deep copy creates a new top-level object and copies all child objects within the original object, recursively."
      ],
      "metadata": {
        "id": "MnBnYC6-VzvS"
      }
    },
    {
      "cell_type": "markdown",
      "source": [
        "**4.What is the maximum possible length of an identifier?**\n"
      ],
      "metadata": {
        "id": "ZSzZvfn3V-SS"
      }
    },
    {
      "cell_type": "markdown",
      "source": [
        "In Python, the maximum possible length of an identifier (i.e., the name of a variable, function, etc.) is determined by the underlying operating system and file system. On most systems, the maximum length for a file name is 255 characters, and Python imposes no additional limits on the length of an identifier beyond this. However, it is generally a good idea to keep identifier names short and meaningful, as long as they are still unique, to make your code more readable and maintainable."
      ],
      "metadata": {
        "id": "XrGhHRKOWLOS"
      }
    },
    {
      "cell_type": "markdown",
      "source": [
        "**5. What is generator comprehension?**"
      ],
      "metadata": {
        "id": "W7w98q6YWFSL"
      }
    },
    {
      "cell_type": "markdown",
      "source": [
        "Generator comprehension is a concise way to create a generator object in Python. It is similar to list comprehension, but it returns a generator instead of a list.\n",
        "\n",
        "For example, here is a generator comprehension that produces a generator that yields the values 0 through 9:"
      ],
      "metadata": {
        "id": "QYTdVsEHWPjS"
      }
    },
    {
      "cell_type": "code",
      "execution_count": 1,
      "metadata": {
        "id": "4oUN2RieVRdl"
      },
      "outputs": [],
      "source": [
        "count_up_to_10 = (i for i in range(10))\n"
      ]
    },
    {
      "cell_type": "markdown",
      "source": [
        "This generator comprehension is equivalent to the following generator function:"
      ],
      "metadata": {
        "id": "4iJnv9IlWVTt"
      }
    },
    {
      "cell_type": "code",
      "source": [
        "def count_up_to_10():\n",
        "    for i in range(10):\n",
        "        yield i\n"
      ],
      "metadata": {
        "id": "mSqtnjyiWHVo"
      },
      "execution_count": 2,
      "outputs": []
    },
    {
      "cell_type": "markdown",
      "source": [
        "Generator comprehension is often used to create simple generators because it is more concise than writing a full generator function."
      ],
      "metadata": {
        "id": "PuOqBpFvWbM4"
      }
    },
    {
      "cell_type": "code",
      "source": [],
      "metadata": {
        "id": "zXNtmSwmWYew"
      },
      "execution_count": null,
      "outputs": []
    }
  ]
}