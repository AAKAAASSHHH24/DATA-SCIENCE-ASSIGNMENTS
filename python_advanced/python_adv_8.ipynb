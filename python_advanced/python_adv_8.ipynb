{
  "nbformat": 4,
  "nbformat_minor": 0,
  "metadata": {
    "colab": {
      "provenance": []
    },
    "kernelspec": {
      "name": "python3",
      "display_name": "Python 3"
    },
    "language_info": {
      "name": "python"
    }
  },
  "cells": [
    {
      "cell_type": "markdown",
      "source": [
        "**1. Given a sentence as txt, return True if any two adjacent words have this\n",
        "property: One word ends with a vowel, while the word immediately after\n",
        "begins with a vowel (a e i o u).**"
      ],
      "metadata": {
        "id": "3-EP3Hrh40rL"
      }
    },
    {
      "cell_type": "markdown",
      "source": [
        "Here is one way you can solve this problem using string methods and looping:"
      ],
      "metadata": {
        "id": "UYPi2IJO496F"
      }
    },
    {
      "cell_type": "code",
      "execution_count": 1,
      "metadata": {
        "colab": {
          "base_uri": "https://localhost:8080/"
        },
        "id": "vfaRFcCB4NGQ",
        "outputId": "fbdf1f7a-996a-484e-eb88-745131ff715f"
      },
      "outputs": [
        {
          "output_type": "stream",
          "name": "stdout",
          "text": [
            "False\n",
            "True\n"
          ]
        }
      ],
      "source": [
        "def has_adjacent_vowel_words(txt):\n",
        "    words = txt.split()  # split the sentence into words\n",
        "\n",
        "    # loop through the words and check for adjacent vowel words\n",
        "    for i in range(len(words) - 1):\n",
        "        if words[i][-1] in 'aeiouAEIOU' and words[i+1][0] in 'aeiouAEIOU':\n",
        "            return True  # found an adjacent vowel word pair, return True\n",
        "\n",
        "    # no adjacent vowel word pair was found\n",
        "    return False\n",
        "\n",
        "# test the function\n",
        "txt = 'The quick brown fox jumps over the lazy dog'\n",
        "print(has_adjacent_vowel_words(txt))  # prints False\n",
        "\n",
        "txt = 'An apple a day keeps the doctor away'\n",
        "print(has_adjacent_vowel_words(txt))  # prints True\n"
      ]
    },
    {
      "cell_type": "markdown",
      "source": [
        "This solution first splits the input string txt into a list of words using the split method. It then loops through the words and checks if each word ends with a vowel and the word immediately after begins with a vowel. If it finds an adjacent vowel word pair, it returns True. If it reaches the end of the loop without finding an adjacent vowel word pair, it returns False."
      ],
      "metadata": {
        "id": "WiOzCfzS5Dw1"
      }
    },
    {
      "cell_type": "markdown",
      "source": [
        "**2. You are given three inputs: a string, one letter, and a second letter.\n",
        "Write a function that returns True if every instance of the first letter occurs\n",
        "before every instance of the second letter.**"
      ],
      "metadata": {
        "id": "yuMofWiH5RVm"
      }
    },
    {
      "cell_type": "markdown",
      "source": [
        "Here is a solution to this problem using string methods:"
      ],
      "metadata": {
        "id": "6wGOVHVi5V3B"
      }
    },
    {
      "cell_type": "code",
      "source": [
        "def first_letter_before_second(txt, letter1, letter2):\n",
        "    # find the first occurrence of each letter\n",
        "    i1 = txt.index(letter1)\n",
        "    i2 = txt.index(letter2)\n",
        "\n",
        "    # return True if the first letter occurs before the second letter\n",
        "    return i1 < i2\n",
        "\n",
        "# test the function\n",
        "txt = 'The quick brown fox jumps over the lazy dog'\n",
        "print(first_letter_before_second(txt, 'f', 'o'))  # prints True\n",
        "print(first_letter_before_second(txt, 'o', 'f'))  # prints False\n"
      ],
      "metadata": {
        "colab": {
          "base_uri": "https://localhost:8080/"
        },
        "id": "Q7sHuZAh5Adk",
        "outputId": "b5397215-ca0f-4f02-95d3-78ee8661802b"
      },
      "execution_count": 2,
      "outputs": [
        {
          "output_type": "stream",
          "name": "stdout",
          "text": [
            "False\n",
            "True\n"
          ]
        }
      ]
    },
    {
      "cell_type": "markdown",
      "source": [
        "This solution first uses the index method to find the index of the first occurrence of each letter in the input string txt. It then compares the indices of the letters and returns True if the first letter occurs before the second letter, and False otherwise.\n",
        "\n",
        "Note that this solution assumes that the input string txt contains at least one occurrence of each letter. If one of the letters is not present in the string, the index method will raise a ValueError. You can handle this case by adding an exception handler or by using the find method instead of the index method."
      ],
      "metadata": {
        "id": "OIGmHsMC5sTJ"
      }
    },
    {
      "cell_type": "markdown",
      "source": [
        "**3. Create a function that returns the characters from a list or string r on odd or\n",
        "even positions, depending on the specifier s. The specifier will be &quot;odd&quot; for\n",
        "items on odd positions (1, 3, 5, ...) and &quot;even&quot; for items on even positions (2,\n",
        "4, 6, ...).**"
      ],
      "metadata": {
        "id": "L4hL3d_M6hHA"
      }
    },
    {
      "cell_type": "markdown",
      "source": [
        "Here is one way you can solve this problem using slicing and string methods:"
      ],
      "metadata": {
        "id": "6gXPRwJ-6mUn"
      }
    },
    {
      "cell_type": "code",
      "source": [
        "def get_characters_on_positions(r, s):\n",
        "    if s == 'odd':\n",
        "        # return the characters at odd positions\n",
        "        return r[::2]\n",
        "    elif s == 'even':\n",
        "        # return the characters at even positions\n",
        "        return r[1::2]\n",
        "    else:\n",
        "        # return an empty string if the specifier is invalid\n",
        "        return ''\n",
        "\n",
        "# test the function\n",
        "print(get_characters_on_positions('abcdef', 'odd'))  # prints 'ace'\n",
        "print(get_characters_on_positions('abcdef', 'even'))  # prints 'bdf'\n",
        "print(get_characters_on_positions('abcdef', 'invalid'))  # prints ''\n"
      ],
      "metadata": {
        "colab": {
          "base_uri": "https://localhost:8080/"
        },
        "id": "TyQNeF0M5mbz",
        "outputId": "74a5c908-fe20-4684-e2d9-4be98ff02287"
      },
      "execution_count": 3,
      "outputs": [
        {
          "output_type": "stream",
          "name": "stdout",
          "text": [
            "ace\n",
            "bdf\n",
            "\n"
          ]
        }
      ]
    },
    {
      "cell_type": "markdown",
      "source": [
        "This solution uses slicing to extract the characters from the input list or string r on odd or even positions, depending on the specifier s. If s is 'odd', it returns the characters at odd positions by slicing r with a step size of 2. If s is 'even', it returns the characters at even positions by slicing r with a start index of 1 and a step size of 2. If s is any other value, it returns an empty string.\n",
        "\n",
        "Note that this solution assumes that the input list or string r is not empty. If r is empty, the slicing operation will return an empty list or string. You can handle this case by adding an additional check for an empty input."
      ],
      "metadata": {
        "id": "xHDIq8f_6u7Z"
      }
    },
    {
      "cell_type": "markdown",
      "source": [
        "**4. Write a function that returns the greatest common divisor of all list\n",
        "elements. If the greatest common divisor is 1, return 1.**"
      ],
      "metadata": {
        "id": "x3MJ0gMc7ARK"
      }
    },
    {
      "cell_type": "code",
      "source": [
        "import math\n",
        "\n",
        "def greatest_common_divisor(lst):\n",
        "    # start with the first element as the greatest common divisor\n",
        "    gcd = lst[0]\n",
        "\n",
        "    # loop through the remaining elements and calculate the gcd\n",
        "    for i in range(1, len(lst)):\n",
        "        gcd = math.gcd(gcd, lst[i])  # calculate the gcd of gcd and lst[i]\n",
        "\n",
        "    # return 1 if the gcd is 1, otherwise return the gcd\n",
        "    return 1 if gcd == 1 else gcd\n",
        "\n",
        "# test the function\n",
        "print(greatest_common_divisor([12, 18, 6])) \n",
        "print(greatest_common_divisor([15, 25, 35]))  \n",
        "print(greatest_common_divisor([16, 32, 64]))  "
      ],
      "metadata": {
        "colab": {
          "base_uri": "https://localhost:8080/"
        },
        "id": "Ns1RdIB56pLn",
        "outputId": "69c4b27b-11c1-4c74-f919-23dd54265607"
      },
      "execution_count": 5,
      "outputs": [
        {
          "output_type": "stream",
          "name": "stdout",
          "text": [
            "6\n",
            "5\n",
            "16\n"
          ]
        }
      ]
    },
    {
      "cell_type": "markdown",
      "source": [
        "This solution uses a loop to iteratively calculate the greatest common divisor (gcd) of all elements in the input list lst. It starts with the first element as the gcd, and then calculates the gcd of the current gcd and each subsequent element using the math.gcd function.\n",
        "\n",
        "Finally, it checks if the gcd is 1, and returns 1 if it is, or the gcd if it is not.\n",
        "\n",
        "Note that this solution assumes that the input list lst is not empty. If lst is empty, an IndexError will be raised when trying to access the first element. You can handle this case by adding an additional check for an empty input."
      ],
      "metadata": {
        "id": "XqYgSEnh7SOR"
      }
    },
    {
      "cell_type": "markdown",
      "source": [
        "**5. A number/string is a palindrome if the digits/characters are the same when\n",
        "read both forward and backward. Examples include &quot;racecar&quot; and 12321.\n",
        "Given a positive number n, check if n or the binary representation of n is\n",
        "palindromic. Return the following:**\n",
        "- &quot;Decimal only.&quot; if only n is a palindrome.\n",
        "- &quot;Binary only.&quot; if only the binary representation of n is a palindrome.\n",
        "- &quot;Decimal and binary.&quot; if both are palindromes.\n",
        "- &quot;Neither!&quot; if neither are palindromes."
      ],
      "metadata": {
        "id": "1-jcvqeg7pZn"
      }
    },
    {
      "cell_type": "code",
      "source": [
        "def check_palindromes(n):\n",
        "    # convert n to a string and check if it is a palindrome\n",
        "    decimal_palindrome = str(n) == str(n)[::-1]\n",
        "\n",
        "    # convert n to a binary string and check if it is a palindrome\n",
        "    binary_palindrome = bin(n)[2:] == bin(n)[2:][::-1]\n",
        "\n",
        "    # return the appropriate message based on the palindrome status of n and its binary representation\n",
        "    if decimal_palindrome and binary_palindrome:\n",
        "        return 'Decimal and binary.'\n",
        "    elif decimal_palindrome:\n",
        "        return 'Decimal only.'\n",
        "    elif binary_palindrome:\n",
        "        return 'Binary only.'\n",
        "    else:\n",
        "        return 'Neither!'\n",
        "\n",
        "# test the function\n",
        "print(check_palindromes(12321))  \n",
        "print(check_palindromes(12345))  \n",
        "print(check_palindromes(1234321))  \n",
        "print(check_palindromes(123456))  \n"
      ],
      "metadata": {
        "colab": {
          "base_uri": "https://localhost:8080/"
        },
        "id": "UTb9BjRK7Ixu",
        "outputId": "e2eb42a4-d241-4753-ab09-e531d2c3e2a7"
      },
      "execution_count": 7,
      "outputs": [
        {
          "output_type": "stream",
          "name": "stdout",
          "text": [
            "Decimal only.\n",
            "Neither!\n",
            "Decimal only.\n",
            "Neither!\n"
          ]
        }
      ]
    },
    {
      "cell_type": "markdown",
      "source": [
        "This solution converts the input number n to a string and checks if it is a palindrome using string slicing. It also converts n to a binary string using the bin function and checks if it is a palindrome in the same way.\n",
        "\n",
        "Finally, it returns the appropriate message based on the palindrome status of n and its binary representation.\n",
        "\n",
        "Note that this solution assumes that the input number n is positive. If n is negative, the binary string will contain a leading '-' character, which will affect the palindrome check. You can handle this case by adding an additional check for a negative input."
      ],
      "metadata": {
        "id": "s0tlsKSW8i4T"
      }
    },
    {
      "cell_type": "code",
      "source": [],
      "metadata": {
        "id": "LIMrgHJ-704J"
      },
      "execution_count": null,
      "outputs": []
    }
  ]
}