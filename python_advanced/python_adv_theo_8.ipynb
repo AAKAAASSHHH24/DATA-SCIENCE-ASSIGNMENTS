{
  "nbformat": 4,
  "nbformat_minor": 0,
  "metadata": {
    "colab": {
      "provenance": []
    },
    "kernelspec": {
      "name": "python3",
      "display_name": "Python 3"
    },
    "language_info": {
      "name": "python"
    }
  },
  "cells": [
    {
      "cell_type": "markdown",
      "source": [
        "**Q2. How are class-based exceptions that have been raised matched to handlers?**"
      ],
      "metadata": {
        "id": "UP2zblPUmiZq"
      }
    },
    {
      "cell_type": "markdown",
      "source": [
        "When an exception is raised, the Python interpreter searches for a matching except clause to handle the exception. The except clause must specify the class of the exception that it is handling, or a parent class of the exception.\n",
        "\n",
        "For example, consider the following code:"
      ],
      "metadata": {
        "id": "_En9ewVPmop8"
      }
    },
    {
      "cell_type": "code",
      "execution_count": 1,
      "metadata": {
        "id": "xTr6c33JOg5q"
      },
      "outputs": [],
      "source": [
        "try:\n",
        "    # some code here\n",
        "    pass\n",
        "except ValueError:\n",
        "    # this block will be executed if a ValueError is raised\n",
        "    pass\n",
        "except ArithmeticError:\n",
        "    # this block will be executed if an ArithmeticError is raised\n",
        "    # this block will also be executed if a ZeroDivisionError is raised,\n",
        "    # since ZeroDivisionError is a subclass of ArithmeticError\n",
        "    pass\n"
      ]
    },
    {
      "cell_type": "markdown",
      "source": [
        "In this code, if a ValueError is raised, it will be caught by the first except clause. \n",
        "\n",
        "If an ArithmeticError is raised, it will be caught by the second except clause. \n",
        "\n",
        "If a ZeroDivisionError is raised, it will also be caught by the second except clause, since ZeroDivisionError is a subclass of ArithmeticError.\n",
        "\n",
        "The interpreter will attempt to match the exception to the except clauses in the order that they appear. \n",
        "\n",
        "If no match is found, the exception will be unhandled, and the program will terminate with an uncaught exception error."
      ],
      "metadata": {
        "id": "h9godaofmxhx"
      }
    },
    {
      "cell_type": "markdown",
      "source": [
        "**Q3. Describe two methods for attaching context information to exception artefacts.**"
      ],
      "metadata": {
        "id": "tt42qoNFnI6M"
      }
    },
    {
      "cell_type": "markdown",
      "source": [
        "There are several ways to attach context information to exception objects in Python:\n",
        "\n",
        "Custom attributes: You can attach additional information to an exception object by defining custom attributes on the object. For example:"
      ],
      "metadata": {
        "id": "3f7KPByfnR3g"
      }
    },
    {
      "cell_type": "code",
      "source": [
        "try:\n",
        "    # some code here\n",
        "    pass\n",
        "except Exception as e:\n",
        "    e.context_info = 'some context information'\n",
        "    raise e\n"
      ],
      "metadata": {
        "id": "duErT0Edms5j"
      },
      "execution_count": 2,
      "outputs": []
    },
    {
      "cell_type": "markdown",
      "source": [
        "Chaining exceptions: You can chain an exception with additional context information to an original exception using the from clause. This allows you to preserve the original traceback, while also adding additional context information to the exception. For example:"
      ],
      "metadata": {
        "id": "BO0nFut8nZGY"
      }
    },
    {
      "cell_type": "code",
      "source": [
        "try:\n",
        "    # some code here\n",
        "    pass\n",
        "except Exception as e:\n",
        "    raise Exception('additional context information') from e\n"
      ],
      "metadata": {
        "id": "3O3nqPPpnVkB"
      },
      "execution_count": 3,
      "outputs": []
    },
    {
      "cell_type": "markdown",
      "source": [
        "In both cases, the context information will be available as part of the exception object, and can be accessed by code that handles the exception."
      ],
      "metadata": {
        "id": "mdAG_XxmngR5"
      }
    },
    {
      "cell_type": "markdown",
      "source": [
        "**Q4. Describe two methods for specifying the text of an exception object&#39;s error message.**"
      ],
      "metadata": {
        "id": "rhcAxC9Dnp9W"
      }
    },
    {
      "cell_type": "markdown",
      "source": [
        "There are several ways to specify the error message for an exception object in Python:\n",
        "\n",
        "Using the message attribute: You can specify the error message for an exception object by setting the message attribute of the object. For example:"
      ],
      "metadata": {
        "id": "XUOpNKU7nzMC"
      }
    },
    {
      "cell_type": "code",
      "source": [
        "try:\n",
        "    raise Exception('error message')\n",
        "except Exception as e:\n",
        "    print(e.message)  # output: \"error message\"\n"
      ],
      "metadata": {
        "colab": {
          "base_uri": "https://localhost:8080/",
          "height": 373
        },
        "id": "FNsFaVA5nc3L",
        "outputId": "56df011e-d3ab-4c55-f735-045958562e27"
      },
      "execution_count": 4,
      "outputs": [
        {
          "output_type": "error",
          "ename": "AttributeError",
          "evalue": "ignored",
          "traceback": [
            "\u001b[0;31m---------------------------------------------------------------------------\u001b[0m",
            "\u001b[0;31mException\u001b[0m                                 Traceback (most recent call last)",
            "\u001b[0;32m<ipython-input-4-05b2980bf5ed>\u001b[0m in \u001b[0;36m<module>\u001b[0;34m\u001b[0m\n\u001b[1;32m      1\u001b[0m \u001b[0;32mtry\u001b[0m\u001b[0;34m:\u001b[0m\u001b[0;34m\u001b[0m\u001b[0;34m\u001b[0m\u001b[0m\n\u001b[0;32m----> 2\u001b[0;31m     \u001b[0;32mraise\u001b[0m \u001b[0mException\u001b[0m\u001b[0;34m(\u001b[0m\u001b[0;34m'error message'\u001b[0m\u001b[0;34m)\u001b[0m\u001b[0;34m\u001b[0m\u001b[0;34m\u001b[0m\u001b[0m\n\u001b[0m\u001b[1;32m      3\u001b[0m \u001b[0;32mexcept\u001b[0m \u001b[0mException\u001b[0m \u001b[0;32mas\u001b[0m \u001b[0me\u001b[0m\u001b[0;34m:\u001b[0m\u001b[0;34m\u001b[0m\u001b[0;34m\u001b[0m\u001b[0m\n",
            "\u001b[0;31mException\u001b[0m: error message",
            "\nDuring handling of the above exception, another exception occurred:\n",
            "\u001b[0;31mAttributeError\u001b[0m                            Traceback (most recent call last)",
            "\u001b[0;32m<ipython-input-4-05b2980bf5ed>\u001b[0m in \u001b[0;36m<module>\u001b[0;34m\u001b[0m\n\u001b[1;32m      2\u001b[0m     \u001b[0;32mraise\u001b[0m \u001b[0mException\u001b[0m\u001b[0;34m(\u001b[0m\u001b[0;34m'error message'\u001b[0m\u001b[0;34m)\u001b[0m\u001b[0;34m\u001b[0m\u001b[0;34m\u001b[0m\u001b[0m\n\u001b[1;32m      3\u001b[0m \u001b[0;32mexcept\u001b[0m \u001b[0mException\u001b[0m \u001b[0;32mas\u001b[0m \u001b[0me\u001b[0m\u001b[0;34m:\u001b[0m\u001b[0;34m\u001b[0m\u001b[0;34m\u001b[0m\u001b[0m\n\u001b[0;32m----> 4\u001b[0;31m     \u001b[0mprint\u001b[0m\u001b[0;34m(\u001b[0m\u001b[0me\u001b[0m\u001b[0;34m.\u001b[0m\u001b[0mmessage\u001b[0m\u001b[0;34m)\u001b[0m  \u001b[0;31m# output: \"error message\"\u001b[0m\u001b[0;34m\u001b[0m\u001b[0;34m\u001b[0m\u001b[0m\n\u001b[0m",
            "\u001b[0;31mAttributeError\u001b[0m: 'Exception' object has no attribute 'message'"
          ]
        }
      ]
    },
    {
      "cell_type": "markdown",
      "source": [
        "Using the args attribute: You can specify the error message for an exception object by setting the args attribute of the object. The args attribute is a tuple that can contain any number of elements, but the first element is usually the error message. For example:"
      ],
      "metadata": {
        "id": "odqVacSfoNy3"
      }
    },
    {
      "cell_type": "code",
      "source": [
        "try:\n",
        "    raise Exception('error message')\n",
        "except Exception as e:\n",
        "    print(e.args[0])  # output: \"error message\"\n"
      ],
      "metadata": {
        "colab": {
          "base_uri": "https://localhost:8080/"
        },
        "id": "VXhj8B4cn26m",
        "outputId": "6494bce5-2ab4-44e0-8dd6-a2c46f46f73c"
      },
      "execution_count": 5,
      "outputs": [
        {
          "output_type": "stream",
          "name": "stdout",
          "text": [
            "error message\n"
          ]
        }
      ]
    },
    {
      "cell_type": "markdown",
      "source": [
        "**Q5. Why do you no longer use string-based exceptions?**"
      ],
      "metadata": {
        "id": "DbL0l-rVqDay"
      }
    },
    {
      "cell_type": "markdown",
      "source": [
        "String-based exceptions are not used in modern Python for several reasons:\n",
        "\n",
        "Inconsistent syntax: In Python 2.x, there are two different syntaxes for raising string-based exceptions:\n",
        "raise \"error message\"\n",
        "raise Exception, \"error message\"\n",
        "This can make it confusing for developers to use string-based exceptions, as they have to remember which syntax to use.\n",
        "\n",
        "Lack of object-oriented features: String-based exceptions are just simple strings, and do not have any object-oriented features. This makes it difficult to attach additional context information to the exception, or to create custom exception classes.\n",
        "\n",
        "Deprecation in Python 2.x: The use of string-based exceptions was officially deprecated in Python 2.6. This means that they are no longer recommended for use, and will likely be removed in a future version of Python.\n",
        "\n",
        "For these reasons, it is recommended to use class-based exceptions in modern Python instead of string-based exceptions. Class-based exceptions are more powerful, flexible, and consistent than string-based exceptions."
      ],
      "metadata": {
        "id": "moM6VShgqOyn"
      }
    },
    {
      "cell_type": "code",
      "source": [],
      "metadata": {
        "id": "lEUzuEY6oQ0A"
      },
      "execution_count": null,
      "outputs": []
    }
  ]
}