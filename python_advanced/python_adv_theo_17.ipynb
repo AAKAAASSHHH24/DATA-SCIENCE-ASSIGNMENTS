{
  "nbformat": 4,
  "nbformat_minor": 0,
  "metadata": {
    "colab": {
      "provenance": []
    },
    "kernelspec": {
      "name": "python3",
      "display_name": "Python 3"
    },
    "language_info": {
      "name": "python"
    }
  },
  "cells": [
    {
      "cell_type": "markdown",
      "source": [
        "**Q1. Explain the difference between greedy and non-greedy syntax with visual terms in as few words\n",
        "as possible. What is the bare minimum effort required to transform a greedy pattern into a non-greedy\n",
        "one? What characters or characters can you introduce or change?**"
      ],
      "metadata": {
        "id": "XJiKxRcud6cB"
      }
    },
    {
      "cell_type": "markdown",
      "source": [
        "In regular expressions, the difference between greedy and non-greedy syntax refers to the way that the regex engine handles repeated optional patterns.\n",
        "\n",
        "Greedy syntax: When a repeated optional pattern is greedy, it will match as many occurrences as possible, up to the maximum number allowed by the pattern.\n",
        "For example, consider the pattern \"a.*b\" applied to the string \"aabcdb\". With greedy syntax, this pattern will match the entire string \"aabcdb\", because the .* part of the pattern will match all characters between the a and the b.\n",
        "\n",
        "Non-greedy syntax: When a repeated optional pattern is non-greedy, it will match as few occurrences as possible, up to the minimum number required by the pattern.\n",
        "For example, consider the same pattern \"a.*b\" applied to the same string \"aabcdb\". With non-greedy syntax, this pattern will match the string \"aab\", because the .* part of the pattern will match only the characters between the a and the first b that it encounters.\n",
        "\n",
        "To transform a greedy pattern into a non-greedy pattern, you can add the ? character after the repeat operator (*, +, ?, or {}). For example, the pattern \"a.*?b\" would be the non-greedy version of the pattern \"a.*b\".\n",
        "\n",
        "Note that not all regex engines support non-greedy syntax, so you should check the documentation for the specific regex library that you are using to see if it is supported."
      ],
      "metadata": {
        "id": "mu0m-MnZeF27"
      }
    },
    {
      "cell_type": "markdown",
      "source": [
        "**Q2. When exactly does greedy versus non-greedy make a difference?  What if you&#39;re looking for a\n",
        "non-greedy match but the only one available is greedy?**"
      ],
      "metadata": {
        "id": "Qo6cbCiDeUKi"
      }
    },
    {
      "cell_type": "markdown",
      "source": [
        "Greedy versus non-greedy syntax makes a difference when a repeated optional pattern can match multiple occurrences of a subpattern. In this case, the greedy version of the pattern will match the maximum number of occurrences possible, while the non-greedy version will match the minimum number of occurrences possible.\n",
        "\n",
        "For example, consider the pattern \"a.*b\" applied to the string \"aabcdb\". With greedy syntax, this pattern will match the entire string \"aabcdb\", because the .* part of the pattern will match all characters between the a and the b. With non-greedy syntax, the pattern will match the string \"aab\", because the .*? part of the pattern will match only the characters between the a and the first b that it encounters.\n",
        "\n",
        "If you are looking for a non-greedy match but the only available pattern is greedy, you can try using the non-greedy version of the pattern (by adding a ? after the repeat operator) or you can try using a different pattern that does not have the optional repeat operator.\n",
        "\n",
        "For example, if you want to match the string \"aab\" from the input \"aabcdb\", and the only available pattern is \"a.*b\", you can try using the non-greedy version of the pattern \"a.*?b\". Alternatively, you could use the pattern \"a.*b.*b\", which would match the string \"aab\" without using the optional repeat operator."
      ],
      "metadata": {
        "id": "euu1oCGneeKy"
      }
    },
    {
      "cell_type": "markdown",
      "source": [
        "**Q6. In standard expressions, what is the difference between positive look-ahead and negative look-\n",
        "ahead?**"
      ],
      "metadata": {
        "id": "l17NbPw-eqBC"
      }
    },
    {
      "cell_type": "markdown",
      "source": [
        "In regular expressions, positive look-ahead and negative look-ahead are zero-width assertions that allow you to match a pattern based on whether it is followed (or not followed) by another pattern.\n",
        "\n",
        "Positive look-ahead: A positive look-ahead assertion allows you to match a pattern only if it is followed by another pattern. The positive look-ahead assertion is represented by the syntax (?=...), where ... is the pattern that the preceding pattern must be followed by.\n",
        "For example, the pattern \"\\d+(?=%)\" will match any number that is followed by a % character, such as \"50%\" or \"75%\", but it will not match the % character itself.\n",
        "\n",
        "Negative look-ahead: A negative look-ahead assertion allows you to match a pattern only if it is not followed by another pattern. The negative look-ahead assertion is represented by the syntax (?!...), where ... is the pattern that the preceding pattern must not be followed by.\n",
        "For example, the pattern \"\\d+(?!%)\" will match any number that is not followed by a % character, such as \"50\" or \"75\", but it will not match numbers that are followed by a % character, such as \"50%\" or \"75%\".\n",
        "\n",
        "Overall, positive and negative look-ahead assertions allow you to match a pattern based on whether it is followed (or not followed) by another pattern, without consuming the characters of the following pattern as"
      ],
      "metadata": {
        "id": "Z4Dj3gbgexpS"
      }
    },
    {
      "cell_type": "markdown",
      "source": [
        "**Q7. What is the benefit of referring to groups by name rather than by number in a standard\n",
        "expression?**"
      ],
      "metadata": {
        "id": "6Q7JBPssfiHh"
      }
    },
    {
      "cell_type": "markdown",
      "source": [
        "In regular expressions, you can use groups to capture substrings of the input string and then refer to those substrings later in the pattern or in a substitution string. Groups are denoted by enclosing the pattern in parentheses (...).\n",
        "\n",
        "By default, groups are numbered sequentially based on the order in which they appear in the pattern, starting with 1. For example, in the pattern \"(\\w+) (\\d+)\", the first group (\\w+) is group 1, and the second group (\\d+) is group 2.\n",
        "\n",
        "However, you can also give groups names by using the syntax (?P<name>...), where name is the name of the group and ... is the pattern that the group will capture. For example, in the pattern \"(?P<word>\\w+) (?P<number>\\d+)\", the first group (?P<word>\\w+) is named \"word\", and the second group (?P<number>\\d+) is named \"number\".\n",
        "\n",
        "There are several benefits to referring to groups by name rather than by number:\n",
        "\n",
        "Readability: Named groups can make your regular expression more readable and easier to understand, because the names give context to the patterns that the groups are capturing.\n",
        "\n",
        "Maintainability: If you need to change the order of the groups in the pattern, you will not have to update the group references if you are using names instead of numbers.\n",
        "\n",
        "Flexibility: Named groups allow you to use the same group name multiple times in the same pattern, which can be useful in certain situations.\n",
        "\n",
        "Overall, named groups can make your regular expressions more readable, maintainable, and flexible, and they can make your code that uses the regular expressions easier to understand and maintain."
      ],
      "metadata": {
        "id": "Bw0ACY2HfpYH"
      }
    },
    {
      "cell_type": "code",
      "execution_count": null,
      "metadata": {
        "id": "smiF5kpJdyPT"
      },
      "outputs": [],
      "source": []
    }
  ]
}