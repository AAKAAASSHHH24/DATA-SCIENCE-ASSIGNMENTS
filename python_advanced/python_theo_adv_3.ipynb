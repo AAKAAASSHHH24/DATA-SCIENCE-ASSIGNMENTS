{
  "nbformat": 4,
  "nbformat_minor": 0,
  "metadata": {
    "colab": {
      "provenance": []
    },
    "kernelspec": {
      "name": "python3",
      "display_name": "Python 3"
    },
    "language_info": {
      "name": "python"
    }
  },
  "cells": [
    {
      "cell_type": "markdown",
      "source": [
        "**1. What is the concept of an abstract superclass?**"
      ],
      "metadata": {
        "id": "pKD3HXAq2C0Z"
      }
    },
    {
      "cell_type": "markdown",
      "source": [
        "*An abstract superclass is a class that is designed to be inherited from, but not to be instantiated directly. Abstract superclasses are used to define a common interface or set of behaviors that can be shared by multiple derived classes, but they do not provide a complete implementation of those behaviors. Instead, they define abstract methods, which are methods that are declared in the abstract superclass but do not have an implementation. Derived classes that inherit from the abstract superclass are required to provide an implementation for the abstract methods in order to be instantiated.*"
      ],
      "metadata": {
        "id": "KCYjOeh_2Id6"
      }
    },
    {
      "cell_type": "markdown",
      "source": [
        "**What happens when a class statement's top level contains a basic assignment statement?**"
      ],
      "metadata": {
        "id": "ITu3tHGS4LDk"
      }
    },
    {
      "cell_type": "markdown",
      "source": [
        "*When a class statement's top level (i.e., the body of the class definition) contains a basic assignment statement (e.g., x = 10), it creates a class attribute with the name of the variable (e.g., x) and the value of the expression on the right-hand side of the assignment (e.g., 10). Class attributes are shared by all instances of the class and can be accessed using the dot notation (e.g., obj.x).*\n",
        "\n",
        "*Here is an example of how a basic assignment statement creates a class attribute:*"
      ],
      "metadata": {
        "id": "F7uavKYe4Swi"
      }
    },
    {
      "cell_type": "code",
      "execution_count": 1,
      "metadata": {
        "colab": {
          "base_uri": "https://localhost:8080/"
        },
        "id": "lDBHKNsx2Bx1",
        "outputId": "84ba2b5d-a9bb-4bbc-c2c6-0bfceb6cc0fd"
      },
      "outputs": [
        {
          "output_type": "stream",
          "name": "stdout",
          "text": [
            "10\n"
          ]
        }
      ],
      "source": [
        "class MyClass:\n",
        "    x = 10  # This creates a class attribute called \"x\" with the value 10\n",
        "\n",
        "# Create an instance of MyClass\n",
        "obj = MyClass()\n",
        "\n",
        "# The instance has access to the class attribute \"x\"\n",
        "print(obj.x)  # Output: 10\n"
      ]
    },
    {
      "cell_type": "markdown",
      "source": [
        "**Why does a class need to manually call a superclass's init method?**"
      ],
      "metadata": {
        "id": "SSITnXYr4d99"
      }
    },
    {
      "cell_type": "markdown",
      "source": [
        "In Python, when a class inherits from a superclass, it is generally a good idea to call the superclass's __init__() method (i.e., the constructor method) in the derived class's __init__() method. This is because the superclass's __init__() method is responsible for initializing the attributes of the superclass"
      ],
      "metadata": {
        "id": "Y7_sCwtH4nZx"
      }
    },
    {
      "cell_type": "markdown",
      "source": [
        "**How can you augment, instead of completely replacing, an inherited method?**"
      ],
      "metadata": {
        "id": "dsV0SqSv5Dkd"
      }
    },
    {
      "cell_type": "markdown",
      "source": [
        "*To augment an inherited method in Python, you can define a new method in the derived class with the same name as the inherited method. This will override the inherited method in the derived class, but you can still call the inherited method from within the new method using the super() function.*\n",
        "\n",
        "*Here is an example of how to augment an inherited method in Python:*"
      ],
      "metadata": {
        "id": "J71Vow2m5IWY"
      }
    },
    {
      "cell_type": "code",
      "source": [
        "class BaseClass:\n",
        "    def foo(self):\n",
        "        print(\"foo in BaseClass\")\n",
        "\n",
        "class DerivedClass(BaseClass):\n",
        "    def foo(self):\n",
        "        # Call the inherited foo() method\n",
        "        super().foo()\n",
        "        print(\"foo in DerivedClass\")\n",
        "\n",
        "# Create an instance of DerivedClass\n",
        "obj = DerivedClass()\n",
        "\n",
        "# Call the foo() method on the instance\n",
        "obj.foo()  # Output: \"foo in BaseClass\" and \"foo in DerivedClass\"\n"
      ],
      "metadata": {
        "colab": {
          "base_uri": "https://localhost:8080/"
        },
        "id": "tYmMSoGR4aNH",
        "outputId": "a9414146-ec22-442d-81f6-2bb8974885e6"
      },
      "execution_count": 2,
      "outputs": [
        {
          "output_type": "stream",
          "name": "stdout",
          "text": [
            "foo in BaseClass\n",
            "foo in DerivedClass\n"
          ]
        }
      ]
    },
    {
      "cell_type": "markdown",
      "source": [
        "**How is the local scope of a class different from that of a function?**"
      ],
      "metadata": {
        "id": "ONFAyn985ZkM"
      }
    },
    {
      "cell_type": "markdown",
      "source": [
        "The local scope of a class is different from the local scope of a function in several ways:\n",
        "\n",
        "The local scope of a class includes all the attributes and methods defined within the class definition, as well as any variables or functions defined within the body of the class methods.\n",
        "\n",
        "The local scope of a function is limited to the body of the function and does not include any attributes or methods defined outside the function.\n",
        "\n",
        "The local scope of a class is created when the class is defined, whereas the local scope of a function is created when the function is called.\n",
        "\n",
        "The local scope of a class is shared by all instances of the class, whereas the local scope of a function is created anew for each call to the function.\n",
        "\n",
        "The local scope of a class can be accessed from within class methods using the self argument, whereas the local scope of a function can be accessed using the local variables and arguments passed to the function."
      ],
      "metadata": {
        "id": "OsWrgvTc5e1a"
      }
    },
    {
      "cell_type": "code",
      "source": [],
      "metadata": {
        "id": "OiCeUo3c5TjB"
      },
      "execution_count": null,
      "outputs": []
    }
  ]
}