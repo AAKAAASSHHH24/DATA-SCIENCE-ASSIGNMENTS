{
  "nbformat": 4,
  "nbformat_minor": 0,
  "metadata": {
    "colab": {
      "provenance": []
    },
    "kernelspec": {
      "name": "python3",
      "display_name": "Python 3"
    },
    "language_info": {
      "name": "python"
    }
  },
  "cells": [
    {
      "cell_type": "markdown",
      "source": [
        "**Q1. What is the benefit of regular expressions?**"
      ],
      "metadata": {
        "id": "eTiSdC7iX4qX"
      }
    },
    {
      "cell_type": "markdown",
      "source": [
        "Regular expressions, also known as regexes, are a powerful tool for matching patterns in text. They are especially useful for extracting information from large amounts of data, such as log files or documents. Some of the benefits of using regular expressions include:\n",
        "\n",
        "Efficiency: Regular expressions can be much faster than manually parsing text or using string manipulation functions, especially for large volumes of data.\n",
        "\n",
        "Flexibility: Regular expressions can be easily modified and adapted to match different patterns, making them very flexible and reusable.\n",
        "\n",
        "Conciseness: Regular expressions are often much shorter and more concise than the equivalent code using string manipulation functions, making them easier to read and understand.\n",
        "\n",
        "Support in many programming languages: Regular expressions are supported by many programming languages, making them a widely-available tool for text processing.\n",
        "\n",
        "Overall, regular expressions are a useful tool for working with text data, and they can greatly simplify and speed up tasks that would otherwise be time-consuming or difficult to implement."
      ],
      "metadata": {
        "id": "DZqkvBxUYC_U"
      }
    },
    {
      "cell_type": "markdown",
      "source": [
        "**Q2. Describe the difference between the effects of &quot;(ab)c+&quot; and &quot;a(bc)+.&quot; Which of these, if any, is the\n",
        "unqualified pattern &quot;abc+&quot;?**"
      ],
      "metadata": {
        "id": "n6O76fjNYVMJ"
      }
    },
    {
      "cell_type": "markdown",
      "source": [
        "The regular expression \"(ab)c+\" will match a string that consists of the letter a, followed by the letter b, followed by one or more occurrences of the letter c. For example, the string abc, abcabc, and abcabcabc would all match this pattern.\n",
        "\n",
        "The regular expression \"a(bc)+\" will match a string that consists of the letter a, followed by one or more occurrences of the letters b and c in sequence. For example, the string abc, abcbc, and abcbcbc would all match this pattern.\n",
        "\n",
        "The unqualified pattern \"abc+\" is equivalent to the regular expression \"abc+\", and it will match a string that consists of the letters a, b, and c in sequence, with one or more occurrences of c. This is different from both \"(ab)c+\" and \"a(bc)+\", which have different requirements for the number and order of the letters a, b, and c."
      ],
      "metadata": {
        "id": "gAB0WPRJYcV1"
      }
    },
    {
      "cell_type": "markdown",
      "source": [
        "**Q4. Which characters have special significance in square brackets when expressing a range, and\n",
        "under what circumstances?**"
      ],
      "metadata": {
        "id": "U_41oDCVY0aL"
      }
    },
    {
      "cell_type": "markdown",
      "source": [
        "In a regular expression, square brackets are used to match a single character from a set of characters. The characters - and ^ have special significance in square brackets.\n",
        "If - is placed between two characters, it indicates a range of characters, such as [a-z], which will match any lowercase letter.\n",
        "If ^ is placed as the first character inside the square brackets, it negates the character set, meaning that it will match any character that is not in the set. For example, [^a-z] will match any character that is not a lowercase letter."
      ],
      "metadata": {
        "id": "CiDfN4fCY93J"
      }
    },
    {
      "cell_type": "markdown",
      "source": [
        "**Q5. How does compiling a regular-expression object benefit you?**"
      ],
      "metadata": {
        "id": "PlIjFbJSZIjg"
      }
    },
    {
      "cell_type": "markdown",
      "source": [
        "Compiling a regular-expression object has several benefits:\n",
        "Performance: Compiling a regular expression can be faster than matching a raw regular expression string, especially for patterns that will be used multiple times or for patterns that are very complex.\n",
        "Reusability: Compiling a regular-expression object allows you to reuse the same pattern multiple times without the overhead of recompiling it each time.\n",
        "Readability: Compiling a regular expression can make your code more readable by separating the pattern definition from the code that uses the pattern.\n",
        "Error checking: Compiling a regular expression allows you to catch syntax errors in the pattern before you try to use it, which can save time and debugging effort."
      ],
      "metadata": {
        "id": "L93PpLj2ZOBp"
      }
    },
    {
      "cell_type": "markdown",
      "source": [
        "**Q6. What are some examples of how to use the match object returned by re.match and re.search?**"
      ],
      "metadata": {
        "id": "dN00iTV9ZdzM"
      }
    },
    {
      "cell_type": "markdown",
      "source": [
        "The match object returned by re.match and re.search has several useful methods and attributes that allow you to extract information about the search and the matched string. Some examples of how to use the match object are:\n",
        "match.string: returns the original string that was searched\n",
        "match.start() and match.end(): return the start and end indices of the match in the string\n",
        "match.span(): returns a tuple of the start and end indices of the match in the string\n",
        "match.group(): returns the matched string\n",
        "match.groups(): returns a tuple of the captured groups in the match\n",
        "For example:"
      ],
      "metadata": {
        "id": "5HHX9GtVZrC8"
      }
    },
    {
      "cell_type": "code",
      "execution_count": 1,
      "metadata": {
        "colab": {
          "base_uri": "https://localhost:8080/"
        },
        "id": "BYVw8sAvXyag",
        "outputId": "afa14410-b988-4521-e464-d1bdfb9cc85a"
      },
      "outputs": [
        {
          "output_type": "stream",
          "name": "stdout",
          "text": [
            "The quick brown fox jumps over the lazy dog.\n",
            "4 19\n",
            "(4, 19)\n",
            "quick brown fox\n",
            "brown\n"
          ]
        }
      ],
      "source": [
        "import re\n",
        "\n",
        "string = \"The quick brown fox jumps over the lazy dog.\"\n",
        "match = re.search(r\"quick (\\w+) fox\", string)\n",
        "\n",
        "if match:\n",
        "    # Print the original string\n",
        "    print(match.string)\n",
        "    # Print the start and end indices of the match\n",
        "    print(match.start(), match.end())\n",
        "    # Print the span of the match\n",
        "    print(match.span())\n",
        "    # Print the matched string\n",
        "    print(match.group())\n",
        "    # Print the first captured group\n",
        "    print(match.groups()[0])\n"
      ]
    },
    {
      "cell_type": "markdown",
      "source": [
        "**Q7. What is the difference between using a vertical bar (|) as an alteration and using square brackets\n",
        "as a character set?**"
      ],
      "metadata": {
        "id": "wOB6lLC_ZirE"
      }
    },
    {
      "cell_type": "markdown",
      "source": [
        "The vertical bar | is used as an alteration in a regular expression, meaning that it will match either the expression before or the expression after it. For example, cat|dog will match either cat or dog.\n",
        "Square brackets are used to define a character set, which will match any single character from the set. For example, [cd]og will match cog or dog.\n",
        "\n",
        "The main difference between using a vertical bar and using square brackets is that the vertical bar is used to match one of two alternatives, whereas square brackets are used to match any single character from a set."
      ],
      "metadata": {
        "id": "H0m5ExqTZzCL"
      }
    },
    {
      "cell_type": "code",
      "source": [],
      "metadata": {
        "id": "gR39Jv-9ZlKP"
      },
      "execution_count": null,
      "outputs": []
    }
  ]
}