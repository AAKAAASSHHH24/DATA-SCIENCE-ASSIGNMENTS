{
  "nbformat": 4,
  "nbformat_minor": 0,
  "metadata": {
    "colab": {
      "provenance": []
    },
    "kernelspec": {
      "name": "python3",
      "display_name": "Python 3"
    },
    "language_info": {
      "name": "python"
    }
  },
  "cells": [
    {
      "cell_type": "markdown",
      "source": [
        "**Q3. What is a histogram, exactly? Name a numpy method for creating such a graph.**"
      ],
      "metadata": {
        "id": "9ZVmQuxwkJdD"
      }
    },
    {
      "cell_type": "markdown",
      "source": [
        "A histogram is a graph that represents the frequency distribution of a dataset. It is a way to visualize the underlying distribution of the data by dividing the data into a set of bins and counting the number of data points that fall into each bin. The x-axis of the graph typically represents the bins, and the y-axis represents the frequency of data points in each bin.\n",
        "\n",
        "In NumPy, you can use the histogram function to create a histogram. This function takes in a dataset and returns the histogram bin edges and frequencies. Here is an example of how you might use it:"
      ],
      "metadata": {
        "id": "W260SkLckOrR"
      }
    },
    {
      "cell_type": "code",
      "execution_count": 1,
      "metadata": {
        "colab": {
          "base_uri": "https://localhost:8080/"
        },
        "id": "_oDW9J0JjqQ3",
        "outputId": "adea58c3-6ace-4e13-b4b1-332324a4e7b3"
      },
      "outputs": [
        {
          "output_type": "stream",
          "name": "stdout",
          "text": [
            "[  1  13  52 172 255 268 155  67  15   2]\n",
            "[-3.68653771 -2.95298925 -2.21944079 -1.48589233 -0.75234387 -0.01879541\n",
            "  0.71475305  1.44830151  2.18184997  2.91539843  3.64894689]\n"
          ]
        }
      ],
      "source": [
        "import numpy as np\n",
        "\n",
        "# Generate some random data\n",
        "data = np.random.normal(0, 1, 1000)\n",
        "\n",
        "# Use the histogram function to compute the bin edges and frequencies\n",
        "hist, edges = np.histogram(data)\n",
        "\n",
        "# Print the results\n",
        "print(hist)\n",
        "print(edges)\n"
      ]
    },
    {
      "cell_type": "markdown",
      "source": [
        "This will print out the frequencies and bin edges for the histogram of the data array. You can then use these values to plot the histogram using a library like matplotlib."
      ],
      "metadata": {
        "id": "omjhDdOQpxq6"
      }
    },
    {
      "cell_type": "markdown",
      "source": [
        "**Q4. If necessary, how do you change the aspect ratios between the X and Y axes?**"
      ],
      "metadata": {
        "id": "vKlihKO4p5ZX"
      }
    },
    {
      "cell_type": "markdown",
      "source": [
        "To change the aspect ratio between the x-axis and y-axis of a plot, you can use the set_aspect method of the Axes object in matplotlib. This method takes in a single parameter, which is the aspect ratio that you want to use.\n",
        "\n",
        "Here is an example of how you might use this method to set the aspect ratio to \"equal\", which means that the x-axis and y-axis will have the same length:"
      ],
      "metadata": {
        "id": "r3c6-XRop_dZ"
      }
    },
    {
      "cell_type": "code",
      "source": [
        "import matplotlib.pyplot as plt\n",
        "\n",
        "# Generate some random data\n",
        "x = np.random.normal(0, 1, 1000)\n",
        "y = np.random.normal(0, 1, 1000)\n",
        "\n",
        "# Create a scatter plot\n",
        "fig, ax = plt.subplots()\n",
        "ax.scatter(x, y)\n",
        "\n",
        "# Set the aspect ratio to \"equal\"\n",
        "ax.set_aspect(\"equal\")\n",
        "\n",
        "# Show the plot\n",
        "plt.show()\n"
      ],
      "metadata": {
        "colab": {
          "base_uri": "https://localhost:8080/",
          "height": 265
        },
        "id": "MpPvQKO-kRsL",
        "outputId": "8809efc9-31bd-4516-9d86-265c963551d0"
      },
      "execution_count": 2,
      "outputs": [
        {
          "output_type": "display_data",
          "data": {
            "text/plain": [
              "<Figure size 432x288 with 1 Axes>"
            ],
            "image/png": "[encoded data removed]"
          },
          "metadata": {
            "needs_background": "light"
          }
        }
      ]
    },
    {
      "cell_type": "markdown",
      "source": [
        "**Q5. Compare and contrast the three types of array multiplication between two numpy arrays: dot\n",
        "product, outer product, and regular multiplication of two numpy arrays.**"
      ],
      "metadata": {
        "id": "oqEN-DWZtJMW"
      }
    },
    {
      "cell_type": "markdown",
      "source": [
        "The dot product of two numpy arrays is a measure of the similarity between the arrays, and is calculated by multiplying the corresponding elements of the arrays and summing the result. The dot product of two arrays a and b is represented as a.b, and is calculated as follows:"
      ],
      "metadata": {
        "id": "l7Oper1TtQ1S"
      }
    },
    {
      "cell_type": "code",
      "source": [
        "dot_product = sum(a[i] * b[i] for i in range(len(a)))\n"
      ],
      "metadata": {
        "id": "6Af5d9sgqGMY"
      },
      "execution_count": null,
      "outputs": []
    },
    {
      "cell_type": "markdown",
      "source": [
        "The outer product of two numpy arrays is a multi-dimensional array that is formed by taking the product of each element in one array with every element in the other array. The outer product of two arrays a and b is represented as a * b, and is calculated as follows:"
      ],
      "metadata": {
        "id": "_gMsD9s2te7Z"
      }
    },
    {
      "cell_type": "code",
      "source": [
        "outer_product = [[a[i] * b[j] for j in range(len(b))] for i in range(len(a))]"
      ],
      "metadata": {
        "id": "gWinegV_tfmT"
      },
      "execution_count": null,
      "outputs": []
    },
    {
      "cell_type": "markdown",
      "source": [
        "Regular multiplication of two numpy arrays simply multiplies the corresponding elements of the arrays. The result is a new array with the same shape as the original arrays. This is represented as a * b and is calculated as follows:"
      ],
      "metadata": {
        "id": "SSSMFguuuXzS"
      }
    },
    {
      "cell_type": "code",
      "source": [
        "result = [a[i] * b[i] for i in range(len(a))]"
      ],
      "metadata": {
        "id": "1cOYDDhPtsWf"
      },
      "execution_count": null,
      "outputs": []
    },
    {
      "cell_type": "markdown",
      "source": [
        "So to summarize, the dot product is a measure of similarity between two arrays, the outer product is a multi-dimensional array formed by taking the product of each element in one array with every element in the other array, and regular multiplication is the element-wise multiplication of the arrays."
      ],
      "metadata": {
        "id": "RTVp-8ocvnAE"
      }
    },
    {
      "cell_type": "markdown",
      "source": [
        "**Q6. Before you buy a home, which numpy function will you use to measure your monthly mortgage\n",
        "payment?**"
      ],
      "metadata": {
        "id": "JCW4dXWQv9gl"
      }
    },
    {
      "cell_type": "markdown",
      "source": [
        "To calculate your monthly mortgage payment, you can use the pmt function from NumPy's financial module. This function calculates the fixed periodic payment required to pay off a loan or mortgage in full over a given period of time.\n",
        "\n",
        "The pmt function takes in several arguments:\n",
        "\n",
        "rate: The interest rate per period.\n",
        "nper: The total number of payment periods.\n",
        "pv: The present value of the loan or mortgage, which is the total amount that you need to borrow.\n",
        "fv: The future value of the loan or mortgage, which is the balance that you will have left after making all of the payments. This is typically set to 0 for a loan or mortgage.\n",
        "when: This specifies when the payments are made. It can be one of the following: \"beginning\" (payments are made at the beginning of the period), \"ending\" (payments are made at the end of the period), or \"arbitrary\" (payments are made at the same point in each period).\n",
        "Here is an example of how you might use the pmt function to calculate your monthly mortgage payment:"
      ],
      "metadata": {
        "id": "Jof2yCOMwGYB"
      }
    },
    {
      "cell_type": "code",
      "source": [
        "import numpy as np\n",
        "\n",
        "# Set the loan parameters\n",
        "loan_amount = 300000  # The total amount that you need to borrow\n",
        "interest_rate = 0.05  # The annual interest rate\n",
        "loan_term = 30  # The loan term in years\n",
        "\n",
        "# Calculate the monthly mortgage payment\n",
        "monthly_payment = np.pmt(interest_rate/12, loan_term*12, loan_amount)\n",
        "\n",
        "print(f\"Your monthly mortgage payment is ${monthly_payment:.2f}.\")\n"
      ],
      "metadata": {
        "id": "plT2bx6jvnqg"
      },
      "execution_count": null,
      "outputs": []
    },
    {
      "cell_type": "markdown",
      "source": [
        "**Q7. Can string data be stored in numpy arrays? If so, list at least one restriction that applies to this\n",
        "data.**"
      ],
      "metadata": {
        "id": "v_XldJ1vw6yl"
      }
    },
    {
      "cell_type": "markdown",
      "source": [
        "Yes, string data can be stored in NumPy arrays. However, there are a few restrictions that apply:\n",
        "\n",
        "All of the elements in the array must be of the same length. This is because NumPy arrays are homogenous, meaning that they can only contain elements of the same data type. Since strings can have different lengths, NumPy requires that all strings in the same array have the same length.\n",
        "\n",
        "The length of the strings must be fixed and determined when the array is created. This means that you cannot change the length of the strings after the array has been created.\n",
        "\n",
        "The strings are stored as fixed-size bytes in the array, rather than Unicode characters. This means that you may need to encode and decode the strings when storing and retrieving them from the array.\n",
        "\n",
        "Here is an example of how you might create a NumPy array with string data:"
      ],
      "metadata": {
        "id": "_m2Qs-AWxJLW"
      }
    },
    {
      "cell_type": "code",
      "source": [
        "import numpy as np\n",
        "\n",
        "# Create an array with string data\n",
        "arr = np.array(['cat', 'dog', 'bird', 'fish'], dtype='S4')\n",
        "\n",
        "print(arr)\n"
      ],
      "metadata": {
        "colab": {
          "base_uri": "https://localhost:8080/"
        },
        "id": "prvQkwUpwKPx",
        "outputId": "9642ae13-626f-42e6-ed3c-a4a378166541"
      },
      "execution_count": 7,
      "outputs": [
        {
          "output_type": "stream",
          "name": "stdout",
          "text": [
            "[b'cat' b'dog' b'bird' b'fish']\n"
          ]
        }
      ]
    },
    {
      "cell_type": "code",
      "source": [],
      "metadata": {
        "id": "4mE9S5WSxM9J"
      },
      "execution_count": null,
      "outputs": []
    }
  ]
}