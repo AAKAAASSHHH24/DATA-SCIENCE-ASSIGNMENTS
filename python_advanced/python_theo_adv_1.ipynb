{
  "nbformat": 4,
  "nbformat_minor": 0,
  "metadata": {
    "colab": {
      "provenance": []
    },
    "kernelspec": {
      "name": "python3",
      "display_name": "Python 3"
    },
    "language_info": {
      "name": "python"
    }
  },
  "cells": [
    {
      "cell_type": "markdown",
      "source": [
        "**Q1. What is the purpose of Python&#39;s OOP?**"
      ],
      "metadata": {
        "id": "ggmT99Ypq05y"
      }
    },
    {
      "cell_type": "markdown",
      "source": [
        "*The purpose of Python's object-oriented programming (OOP) features is to enable users to define their own objects that behave like built-in objects in Python, but can also have custom methods and attributes. This allows for more modular and reusable code, as well as a higher level of abstraction. In Python, OOP is implemented using classes, which allow users to define the attributes and methods that belong to a particular object type. Classes can also be organized into an inheritance hierarchy, allowing for inheritance of attributes and methods from parent classes to child classes. OOP allows for the creation of complex programs by dividing them into smaller, modular pieces that can be more easily understood and maintained.*"
      ],
      "metadata": {
        "id": "hTa5oqkCq6um"
      }
    },
    {
      "cell_type": "markdown",
      "source": [
        "**Q2. Where does an inheritance search look for an attribute?**"
      ],
      "metadata": {
        "id": "fP0wEaVAq_za"
      }
    },
    {
      "cell_type": "markdown",
      "source": [
        "*In Python, when an attribute is accessed on an object, the object's class and all of its parent classes (if it has any) are searched for the attribute. This process is called inheritance search. The search starts with the object's class and proceeds up the inheritance hierarchy until it reaches the base class (i.e., the class at the top of the hierarchy). If the attribute is not found in any of the classes in the hierarchy, an AttributeError is raised.*\n",
        "\n",
        "*For example, consider the following class hierarchy:*"
      ],
      "metadata": {
        "id": "hToHd6QErFqZ"
      }
    },
    {
      "cell_type": "code",
      "execution_count": 1,
      "metadata": {
        "id": "t9Ix52R-qtIL"
      },
      "outputs": [],
      "source": [
        "class A:\n",
        "    def foo(self):\n",
        "        print(\"foo in A\")\n",
        "\n",
        "class B(A):\n",
        "    def bar(self):\n",
        "        print(\"bar in B\")\n",
        "\n",
        "class C(B):\n",
        "    def baz(self):\n",
        "        print(\"baz in C\")\n"
      ]
    },
    {
      "cell_type": "markdown",
      "source": [
        "*If an object obj of type C is created and the attribute foo is accessed on it, the inheritance search will start with the C class and proceed up the hierarchy to the B class and then the A class, where it will find the foo attribute. If the attribute had not been found in any of these classes, an AttributeError would have been raised.*"
      ],
      "metadata": {
        "id": "1_24wKqCrcoF"
      }
    },
    {
      "cell_type": "markdown",
      "source": [
        "**Q3. How do you distinguish between a class object and an instance object?**"
      ],
      "metadata": {
        "id": "dSd3mHR2r_wr"
      }
    },
    {
      "cell_type": "markdown",
      "source": [
        "*In Python, a class object is a type of object that represents a user-defined class. It is created using the class keyword and defines the attributes and methods that belong to objects of that class. An instance object, on the other hand, is an object that is created from a class object using the class's constructor method (i.e., the __init__() method). It represents a specific instance of the class, with its own attribute values and methods.*\n",
        "\n",
        "*Here is an example of how to create a class object and an instance object in Python:*"
      ],
      "metadata": {
        "id": "LjxC6p9NsFeO"
      }
    },
    {
      "cell_type": "code",
      "source": [
        "class MyClass:\n",
        "    def __init__(self, value):\n",
        "        self.value = value\n",
        "    \n",
        "    def do_something(self):\n",
        "        print(f\"Doing something with value {self.value}\")\n",
        "\n",
        "# This is the class object\n",
        "print(MyClass)\n",
        "\n",
        "# This is an instance object\n",
        "obj = MyClass(10)\n",
        "print(obj)\n"
      ],
      "metadata": {
        "colab": {
          "base_uri": "https://localhost:8080/"
        },
        "id": "xs_Vk53nrYbU",
        "outputId": "296a2ba9-b787-449f-88f4-4bda821c49b8"
      },
      "execution_count": 2,
      "outputs": [
        {
          "output_type": "stream",
          "name": "stdout",
          "text": [
            "<class '__main__.MyClass'>\n",
            "<__main__.MyClass object at 0x7fc32fc2afa0>\n"
          ]
        }
      ]
    },
    {
      "cell_type": "markdown",
      "source": [
        "*In this example, MyClass is the class object and obj is an instance object of type MyClass. You can distinguish between a class object and an instance object by using the type() function, which returns the type of an object. For example, type(MyClass) would return <class 'type'>, indicating that `My*"
      ],
      "metadata": {
        "id": "mi2_LZ6Ksaho"
      }
    },
    {
      "cell_type": "markdown",
      "source": [
        "**Q4. What makes the first argument in a class’s method function special?**"
      ],
      "metadata": {
        "id": "ld7CwP1fss3S"
      }
    },
    {
      "cell_type": "markdown",
      "source": [
        "*In Python, the first argument in a class's method function is typically called self and is used to refer to the instance object on which the method is being called. This argument is special because it is used to access the attributes and methods of the instance object from within the method. It is also used to distinguish instance methods from other functions or variables that may have the same name.*\n",
        "\n",
        "*Here is an example of a class with a method that uses the self argument:*"
      ],
      "metadata": {
        "id": "ppBlHqpPsvpH"
      }
    },
    {
      "cell_type": "code",
      "source": [
        "class MyClass:\n",
        "    def __init__(self, value):\n",
        "        self.value = value\n",
        "    \n",
        "    def do_something(self):\n",
        "        print(f\"Doing something with value {self.value}\")\n",
        "\n",
        "# Create an instance of MyClass\n",
        "obj = MyClass(10)\n",
        "\n",
        "# Call the do_something() method on the instance\n",
        "obj.do_something() \n"
      ],
      "metadata": {
        "colab": {
          "base_uri": "https://localhost:8080/"
        },
        "id": "cvWpouB4sM5s",
        "outputId": "9a6f4135-f568-48f4-bae8-7aadde1e40d3"
      },
      "execution_count": 4,
      "outputs": [
        {
          "output_type": "stream",
          "name": "stdout",
          "text": [
            "Doing something with value 10\n"
          ]
        }
      ]
    },
    {
      "cell_type": "markdown",
      "source": [
        "**Q5. What is the purpose of the __init__ method?**"
      ],
      "metadata": {
        "id": "vtlfMPCOtMpC"
      }
    },
    {
      "cell_type": "markdown",
      "source": [
        "*In Python, the __init__() method (also known as the \"constructor\" method) is a special method that is called when an object is created from a class. It is used to initialize the attributes of the object and perform any other setup that is required before the object is ready to be used.*\n",
        "\n",
        "*The __init__() method is defined in the class definition and takes the instance object as its first argument (traditionally called self). Any additional arguments that are required to initialize the object's attributes should also be included in the method's signature.*\n",
        "\n",
        "*Here is an example of a class that has an __init__() method:*"
      ],
      "metadata": {
        "id": "e0J7VKXQtbSA"
      }
    },
    {
      "cell_type": "code",
      "source": [
        "class MyClass:\n",
        "    def __init__(self, value):\n",
        "        self.value = value\n",
        "\n",
        "# Create an instance of MyClass\n",
        "obj = MyClass(10)\n",
        "\n",
        "# The value attribute of the instance has been initialized with the value passed to the constructor\n",
        "print(obj.value)  # Output: 10\n"
      ],
      "metadata": {
        "colab": {
          "base_uri": "https://localhost:8080/"
        },
        "id": "6bTNhy3Zs7vG",
        "outputId": "85003466-4e32-4f25-e653-bfe4c487b742"
      },
      "execution_count": 5,
      "outputs": [
        {
          "output_type": "stream",
          "name": "stdout",
          "text": [
            "10\n"
          ]
        }
      ]
    },
    {
      "cell_type": "markdown",
      "source": [
        "**Q6. What is the process for creating a class instance?**"
      ],
      "metadata": {
        "id": "F4YRBAH5t4jU"
      }
    },
    {
      "cell_type": "markdown",
      "source": [
        "*In Python, you can create an instance of a class by calling the class's constructor method (i.e., the __init__() method). To do this, you need to follow these steps:*\n",
        "\n",
        "*Define the class using the class keyword and give it a name.\n",
        "Define the __init__() method within the class definition. This method should take at least one argument, traditionally called self, which represents the instance object.\n",
        "Within the __init__() method, initialize the attributes of the instance object using the self argument.*\n",
        "\n",
        "*Create an instance of the class by calling the class name followed by a set of parentheses containing any required arguments for the __init__() method.\n",
        "Here is an example of how to create a class instance in Python:*"
      ],
      "metadata": {
        "id": "MmHPu3ZOuCr8"
      }
    },
    {
      "cell_type": "code",
      "source": [
        "class MyClass:\n",
        "    def __init__(self, value):\n",
        "        self.value = value\n",
        "\n",
        "# Create an instance of MyClass\n",
        "obj = MyClass(10)\n",
        "\n",
        "# The instance has been created and its value attribute has been initialized\n",
        "print(obj.value)  # Output: 10\n"
      ],
      "metadata": {
        "colab": {
          "base_uri": "https://localhost:8080/"
        },
        "id": "VtHeaZR1tXdg",
        "outputId": "c01fa768-9fe3-44a5-8837-fb0b0c473305"
      },
      "execution_count": 6,
      "outputs": [
        {
          "output_type": "stream",
          "name": "stdout",
          "text": [
            "10\n"
          ]
        }
      ]
    },
    {
      "cell_type": "markdown",
      "source": [
        "**Q8. How would you define the superclasses of a class?**"
      ],
      "metadata": {
        "id": "QwWRV3a-uoEL"
      }
    },
    {
      "cell_type": "markdown",
      "source": [
        "*In Python, you can define the superclasses of a class using the class inheritance mechanism. To do this, you need to follow these steps:*\n",
        "\n",
        "*Define a base class that contains the attributes and methods that you want to be inherited by the subclass.\n",
        "Define the subclass using the class keyword and give it a name.\n",
        "In the subclass definition, specify the base class or classes in parentheses after the subclass name.\n",
        "Here is an example of how to define superclasses for a class in Python:*"
      ],
      "metadata": {
        "id": "r2DEu0ODutoG"
      }
    },
    {
      "cell_type": "code",
      "source": [
        "class BaseClass:\n",
        "    def foo(self):\n",
        "        print(\"foo in BaseClass\")\n",
        "\n",
        "class SubClass(BaseClass):\n",
        "    def bar(self):\n",
        "        print(\"bar in SubClass\")\n",
        "\n",
        "# Create an instance of SubClass\n",
        "obj = SubClass()\n",
        "\n",
        "# The instance has access to the foo() method from the BaseClass\n",
        "obj.foo()  # Output: \"foo in BaseClass\"\n"
      ],
      "metadata": {
        "colab": {
          "base_uri": "https://localhost:8080/"
        },
        "id": "YqphHxrjudGN",
        "outputId": "db185bc8-62e7-4205-83e0-09474c4aab41"
      },
      "execution_count": 7,
      "outputs": [
        {
          "output_type": "stream",
          "name": "stdout",
          "text": [
            "foo in BaseClass\n"
          ]
        }
      ]
    },
    {
      "cell_type": "code",
      "source": [],
      "metadata": {
        "id": "5upYV9R8u9oZ"
      },
      "execution_count": null,
      "outputs": []
    }
  ]
}