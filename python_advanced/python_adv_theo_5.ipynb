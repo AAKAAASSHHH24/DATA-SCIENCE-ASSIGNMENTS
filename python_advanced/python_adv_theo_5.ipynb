{
  "nbformat": 4,
  "nbformat_minor": 0,
  "metadata": {
    "colab": {
      "provenance": []
    },
    "kernelspec": {
      "name": "python3",
      "display_name": "Python 3"
    },
    "language_info": {
      "name": "python"
    }
  },
  "cells": [
    {
      "cell_type": "markdown",
      "source": [
        "**Q1. What is the meaning of multiple inheritance?**"
      ],
      "metadata": {
        "id": "sDBvzsA7_J2o"
      }
    },
    {
      "cell_type": "markdown",
      "source": [
        "*Multiple inheritance is a feature of object-oriented programming languages that allows a class to inherit characteristics and behaviors from multiple parent classes. This means that a class can have more than one direct superclass, and it can inherit attributes and methods from all of its superclasses.*"
      ],
      "metadata": {
        "id": "KgXWKtud_Odp"
      }
    },
    {
      "cell_type": "markdown",
      "source": [
        "Multiple inheritance can be a powerful tool, but it can also be confusing and hard to understand. It's generally a good idea to use multiple inheritance sparingly, and to carefully consider the implications of using it in your code."
      ],
      "metadata": {
        "id": "coGkFBSk_UP5"
      }
    },
    {
      "cell_type": "markdown",
      "source": [
        "**Q2. What is the concept of delegation?**"
      ],
      "metadata": {
        "id": "iKWAGab5_pED"
      }
    },
    {
      "cell_type": "markdown",
      "source": [
        "*In object-oriented programming, delegation is a design pattern that allows an object to delegate some of its responsibilities to another object. This can be useful when you want to reuse code, or when you want to separate concerns in your code to make it more modular and easier to maintain.*\n",
        "\n",
        "The idea behind delegation is simple: you define a parent class that provides a basic set of behaviors, and you define one or more child classes that override or extend those behaviors as needed. The child classes delegate to the parent class for any behaviors that they don't need to override.\n",
        "\n",
        "Here's an example of how delegation might be used in Python:"
      ],
      "metadata": {
        "id": "omKZqxEv_vb5"
      }
    },
    {
      "cell_type": "code",
      "execution_count": 1,
      "metadata": {
        "colab": {
          "base_uri": "https://localhost:8080/"
        },
        "id": "29JOqKyn--iI",
        "outputId": "db44c06a-6d3b-4309-a8a9-7d03aca6489e"
      },
      "outputs": [
        {
          "output_type": "stream",
          "name": "stdout",
          "text": [
            "Doing something in the parent class\n",
            "Doing something in the child class\n"
          ]
        }
      ],
      "source": [
        "class Parent:\n",
        "    def do_something(self):\n",
        "        print(\"Doing something in the parent class\")\n",
        "\n",
        "class Child(Parent):\n",
        "    def do_something(self):\n",
        "        # Delegate to the parent class\n",
        "        super().do_something()\n",
        "        print(\"Doing something in the child class\")\n",
        "\n",
        "child = Child()\n",
        "child.do_something()\n"
      ]
    },
    {
      "cell_type": "markdown",
      "source": [
        "**Q3. What is the concept of composition?**"
      ],
      "metadata": {
        "id": "WRKJjRnnB3v8"
      }
    },
    {
      "cell_type": "markdown",
      "source": [
        "*Composition is a design pattern in object-oriented programming that allows you to create complex objects by combining simpler objects. This can be useful when you want to build up complex behaviors from smaller, reusable pieces.*\n",
        "\n",
        "*The idea behind composition is simple: you define a set of simple classes that represent the basic building blocks of your system, and you define one or more complex classes that are composed of these building blocks. The complex classes use the building blocks to implement their behaviors.*\n",
        "\n",
        "*Here's an example of how composition might be used in Python:*"
      ],
      "metadata": {
        "id": "XmkIe_i_B9Ru"
      }
    },
    {
      "cell_type": "code",
      "source": [
        "class Engine:\n",
        "    def start(self):\n",
        "        print(\"Starting engine\")\n",
        "\n",
        "class Car:\n",
        "    def __init__(self):\n",
        "        self.engine = Engine()\n",
        "    \n",
        "    def start(self):\n",
        "        self.engine.start()\n",
        "        print(\"Starting car\")\n",
        "\n",
        "car = Car()\n",
        "car.start()\n"
      ],
      "metadata": {
        "colab": {
          "base_uri": "https://localhost:8080/"
        },
        "id": "4DnCEIHT_yt2",
        "outputId": "deea2529-fea2-4771-b62f-9faa417038c8"
      },
      "execution_count": 2,
      "outputs": [
        {
          "output_type": "stream",
          "name": "stdout",
          "text": [
            "Starting engine\n",
            "Starting car\n"
          ]
        }
      ]
    },
    {
      "cell_type": "markdown",
      "source": [
        "In this example, the Car class is composed of an Engine object. The Car class delegates the task of starting the engine to the Engine object, and adds its own behavior of starting the car. This allows the Car class to reuse the code in the Engine class, while still adding its own unique functionality.\n",
        "\n",
        "Composition can be a powerful tool, and it's often used in combination with inheritance to create complex systems from simple building blocks."
      ],
      "metadata": {
        "id": "3Wih-MJaCI1j"
      }
    },
    {
      "cell_type": "markdown",
      "source": [
        "**Q4. What are bound methods and how do we use them?**"
      ],
      "metadata": {
        "id": "IuFexSZKFUWf"
      }
    },
    {
      "cell_type": "markdown",
      "source": [
        "In Python, a bound method is a method that is bound to a specific object instance. This means that when you call the method, the object instance is passed as the first argument (also known as the \"self\" argument) automatically.\n",
        "\n",
        "Bound methods are created when you access a method of an object instance. For example:"
      ],
      "metadata": {
        "id": "NFx9EksAFa3-"
      }
    },
    {
      "cell_type": "code",
      "source": [
        "class MyClass:\n",
        "    def greet(self):\n",
        "        print(\"Hello!\")\n",
        "\n",
        "obj = MyClass()\n",
        "method = obj.greet\n"
      ],
      "metadata": {
        "id": "7gObowqOCFn8"
      },
      "execution_count": 3,
      "outputs": []
    },
    {
      "cell_type": "markdown",
      "source": [
        "In this example, the greet method is a bound method because it is bound to the obj object instance. When you call the method, the obj instance is passed as the first argument automatically:"
      ],
      "metadata": {
        "id": "GOsYw0IQFgwg"
      }
    },
    {
      "cell_type": "code",
      "source": [
        "method() \n"
      ],
      "metadata": {
        "colab": {
          "base_uri": "https://localhost:8080/"
        },
        "id": "S38ZeJ12Fdg8",
        "outputId": "2908f717-eb83-46eb-f6c8-bcc954191f87"
      },
      "execution_count": 5,
      "outputs": [
        {
          "output_type": "stream",
          "name": "stdout",
          "text": [
            "Hello!\n"
          ]
        }
      ]
    },
    {
      "cell_type": "markdown",
      "source": [
        "You can also create a bound method by using the method function from the types module:"
      ],
      "metadata": {
        "id": "Nhdel6rIGHH2"
      }
    },
    {
      "cell_type": "code",
      "source": [
        "import types\n",
        "\n",
        "method = types.MethodType(MyClass.greet, obj)\n"
      ],
      "metadata": {
        "id": "5M6VmihBFjoU"
      },
      "execution_count": 6,
      "outputs": []
    },
    {
      "cell_type": "markdown",
      "source": [
        "Bound methods are useful because they allow you to bind a method to an object instance and pass it around as a callable object, without having to explicitly specify the self argument every time you call the method."
      ],
      "metadata": {
        "id": "FwvVL4EVGQoc"
      }
    },
    {
      "cell_type": "markdown",
      "source": [
        "**Q5. What is the purpose of pseudoprivate attributes?**"
      ],
      "metadata": {
        "id": "VzuIlbttHnFr"
      }
    },
    {
      "cell_type": "markdown",
      "source": [
        "Pseudoprivate attributes, also known as \"name mangling,\" is a technique in Python that is used to make instance variables in a class less accessible from outside the class. This can be useful when you want to discourage external code from directly accessing or modifying the internal state of an object, and instead encourage them to use the object's public methods to interact with the object.\n",
        "\n",
        "In Python, you can make an instance variable pseudoprivate by prefixing its name with a double underscore (__). For example:"
      ],
      "metadata": {
        "id": "YaCx-KnVHr8Y"
      }
    },
    {
      "cell_type": "code",
      "source": [
        "class MyClass:\n",
        "    def __init__(self):\n",
        "        self.__private = \"Private\"\n",
        "\n",
        "obj = MyClass()\n",
        "print(obj.__private)  # This will raise an AttributeError\n"
      ],
      "metadata": {
        "colab": {
          "base_uri": "https://localhost:8080/",
          "height": 200
        },
        "id": "AQkEPxB3GT53",
        "outputId": "6ff182b7-f2df-4746-9be3-b6226ebae820"
      },
      "execution_count": 8,
      "outputs": [
        {
          "output_type": "error",
          "ename": "AttributeError",
          "evalue": "ignored",
          "traceback": [
            "\u001b[0;31m---------------------------------------------------------------------------\u001b[0m",
            "\u001b[0;31mAttributeError\u001b[0m                            Traceback (most recent call last)",
            "\u001b[0;32m<ipython-input-8-1165c9c71f22>\u001b[0m in \u001b[0;36m<module>\u001b[0;34m\u001b[0m\n\u001b[1;32m      4\u001b[0m \u001b[0;34m\u001b[0m\u001b[0m\n\u001b[1;32m      5\u001b[0m \u001b[0mobj\u001b[0m \u001b[0;34m=\u001b[0m \u001b[0mMyClass\u001b[0m\u001b[0;34m(\u001b[0m\u001b[0;34m)\u001b[0m\u001b[0;34m\u001b[0m\u001b[0;34m\u001b[0m\u001b[0m\n\u001b[0;32m----> 6\u001b[0;31m \u001b[0mprint\u001b[0m\u001b[0;34m(\u001b[0m\u001b[0mobj\u001b[0m\u001b[0;34m.\u001b[0m\u001b[0m__private\u001b[0m\u001b[0;34m)\u001b[0m  \u001b[0;31m# This will raise an AttributeError\u001b[0m\u001b[0;34m\u001b[0m\u001b[0;34m\u001b[0m\u001b[0m\n\u001b[0m",
            "\u001b[0;31mAttributeError\u001b[0m: 'MyClass' object has no attribute '__private'"
          ]
        }
      ]
    },
    {
      "cell_type": "markdown",
      "source": [
        "*When you prefix an instance variable with double underscores, Python will automatically \"mangle\" the name of the variable by adding a unique suffix to the name. This makes it difficult for external code to access the variable directly, because the actual name of the variable is not what it appears to be.*\n",
        "\n",
        "However, it's important to note that pseudoprivate attributes are not truly private, and they can still be accessed from outside the class using a \"name mangling\" technique. For example:"
      ],
      "metadata": {
        "id": "-NJzYEZBI0Ng"
      }
    },
    {
      "cell_type": "code",
      "source": [
        "print(obj._MyClass__private)  # Output: \"Private\"\n"
      ],
      "metadata": {
        "colab": {
          "base_uri": "https://localhost:8080/"
        },
        "id": "rpwx0K8eHvVF",
        "outputId": "ae76c456-49b9-4b70-a24a-3db4fe1755e7"
      },
      "execution_count": 9,
      "outputs": [
        {
          "output_type": "stream",
          "name": "stdout",
          "text": [
            "Private\n"
          ]
        }
      ]
    },
    {
      "cell_type": "markdown",
      "source": [
        "Pseudoprivate attributes are intended to be a \"hint\" to external code, rather than a true form of encapsulation. They are not meant to be a security measure, and they should not be relied upon to prevent external code from accessing or modifying an object's internal state. Instead, they are meant to encourage good programming practices, such as using public methods to interact with an object's internal state."
      ],
      "metadata": {
        "id": "bzIETrhxJM6K"
      }
    },
    {
      "cell_type": "code",
      "source": [],
      "metadata": {
        "id": "GaJCjENOJBKN"
      },
      "execution_count": null,
      "outputs": []
    }
  ]
}