{
  "nbformat": 4,
  "nbformat_minor": 0,
  "metadata": {
    "colab": {
      "provenance": []
    },
    "kernelspec": {
      "name": "python3",
      "display_name": "Python 3"
    },
    "language_info": {
      "name": "python"
    }
  },
  "cells": [
    {
      "cell_type": "markdown",
      "source": [
        "**Q1. What is the distinction between a numpy array and a pandas data frame? Is there a way to\n",
        "convert between the two if there is?**"
      ],
      "metadata": {
        "id": "foGdCCAsEjJL"
      }
    },
    {
      "cell_type": "markdown",
      "source": [
        "Numpy is a Python library that is primarily used for scientific and numerical computing, while Pandas is a library that is primarily used for data analysis and manipulation. One of the main differences between Numpy arrays and Pandas data frames is that Numpy arrays are homogenous (i.e., they can only contain elements of the same data type), while Pandas data frames can contain elements of multiple data types.\n",
        "\n",
        "It is possible to convert between Numpy arrays and Pandas data frames. To convert a Numpy array to a Pandas data frame, you can use the pandas.DataFrame() constructor and pass in the Numpy array as an argument. To convert a Pandas data frame to a Numpy array, you can use the DataFrame.to_numpy() method.\n",
        "\n",
        "For example:\n",
        "\n"
      ],
      "metadata": {
        "id": "gRy_fVC5EuSq"
      }
    },
    {
      "cell_type": "code",
      "execution_count": 1,
      "metadata": {
        "id": "7QrPACn5EPrc"
      },
      "outputs": [],
      "source": [
        "import pandas as pd\n",
        "import numpy as np\n",
        "\n",
        "# Convert a Numpy array to a Pandas data frame\n",
        "numpy_array = np.array([[1, 2, 3], [4, 5, 6]])\n",
        "df = pd.DataFrame(numpy_array)\n",
        "\n",
        "# Convert a Pandas data frame to a Numpy array\n",
        "df_array = df.to_numpy()\n"
      ]
    },
    {
      "cell_type": "markdown",
      "source": [
        "**Q5. What is the best way to limit the length of a pandas data frame to less than a year?**"
      ],
      "metadata": {
        "id": "NXdELAvXFbhf"
      }
    },
    {
      "cell_type": "markdown",
      "source": [
        "There are several ways to limit the length of a Pandas data frame to less than a year, depending on the specifics of your use case and the format of the data in the data frame. Here are a few options:\n",
        "\n",
        "Filter rows based on date: If your data frame has a column that contains dates, you can use this column to filter the rows of the data frame to only include those that are within the desired time period. For example, you can use the DataFrame.loc[] method to select only those rows where the date column is within the past year."
      ],
      "metadata": {
        "id": "PIk4eDc8FhCE"
      }
    },
    {
      "cell_type": "code",
      "source": [
        "import pandas as pd\n",
        "\n",
        "# Load the data frame\n",
        "df = pd.read_csv(\"data.csv\")\n",
        "\n",
        "# Select only the rows where the date is within the past year\n",
        "df = df.loc[df['date'] > pd.Timestamp.now() - pd.Timedelta(days=365)]\n"
      ],
      "metadata": {
        "id": "JCQq_rFGEysL"
      },
      "execution_count": null,
      "outputs": []
    },
    {
      "cell_type": "markdown",
      "source": [
        "Truncate the data frame: \n",
        "\n",
        "If you want to keep the first or last n rows of the data frame, regardless of the date, you can use the DataFrame.head() or DataFrame.tail() method to truncate the data frame to a desired length."
      ],
      "metadata": {
        "id": "TEttN7ERGlqX"
      }
    },
    {
      "cell_type": "code",
      "source": [
        "import pandas as pd\n",
        "\n",
        "# Load the data frame\n",
        "df = pd.read_csv(\"data.csv\")\n",
        "\n",
        "# Keep only the first 365 rows (approx. one year's worth of data)\n",
        "df = df.head(365)\n",
        "\n",
        "# Keep only the last 365 rows (approx. one year's worth of data)\n",
        "df = df.tail(365)\n"
      ],
      "metadata": {
        "id": "8L1mEC8XFkO6"
      },
      "execution_count": null,
      "outputs": []
    },
    {
      "cell_type": "markdown",
      "source": [
        "Resample the data: \n",
        "\n",
        "If your data is time-series data and you want to resample it to a coarser time granularity (e.g., monthly data instead of daily data), you can use the DataFrame.resample() method to resample the data and then use the DataFrame.truncate() method to truncate the resulting data frame to the desired length.\n"
      ],
      "metadata": {
        "id": "qN7Z0NMiGvIQ"
      }
    },
    {
      "cell_type": "code",
      "source": [
        "import pandas as pd\n",
        "\n",
        "# Load the data frame\n",
        "df = pd.read_csv(\"data.csv\")\n",
        "\n",
        "# Resample the data to monthly granularity\n",
        "df = df.resample('M').mean()\n",
        "\n",
        "# Truncate the data frame to the past year\n",
        "df = df.truncate(before=pd.Timestamp.now() - pd.Timedelta(days=365))\n"
      ],
      "metadata": {
        "id": "ckxeRK0BGyht"
      },
      "execution_count": null,
      "outputs": []
    }
  ]
}