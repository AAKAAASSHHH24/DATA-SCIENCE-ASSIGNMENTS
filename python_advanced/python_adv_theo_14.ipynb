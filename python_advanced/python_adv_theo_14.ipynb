{
  "nbformat": 4,
  "nbformat_minor": 0,
  "metadata": {
    "colab": {
      "provenance": []
    },
    "kernelspec": {
      "name": "python3",
      "display_name": "Python 3"
    },
    "language_info": {
      "name": "python"
    }
  },
  "cells": [
    {
      "cell_type": "markdown",
      "source": [
        "**Q1. Is an assignment operator like += only for show? Is it possible that it would lead to faster results\n",
        "at the runtime?**"
      ],
      "metadata": {
        "id": "g9YxqYRBOHIa"
      }
    },
    {
      "cell_type": "markdown",
      "source": [
        " Assignment operators like += are not just for show, and they can actually lead to faster results at runtime in some cases. When you use an assignment operator like +=, the interpreter can perform the operation and assignment in a single step, rather than evaluating the expression on the right-hand side and then assigning the result to the variable on the left-hand side. This can save time and make your code run more efficiently, especially if the operation is being performed many times in a loop or in other performance-critical sections of your code."
      ],
      "metadata": {
        "id": "-XjIr7HxOeO7"
      }
    },
    {
      "cell_type": "markdown",
      "source": [
        "**Q2. What is the smallest number of statements you&#39;d have to write in most programming languages to\n",
        "replace the Python expression a, b = a + b, a?**"
      ],
      "metadata": {
        "id": "aiup5eV7ONNJ"
      }
    },
    {
      "cell_type": "markdown",
      "source": [
        " In most programming languages, you would have to write at least three statements to replace the Python expression a, b = a + b, a. Here is an example of how you could do this in Python:"
      ],
      "metadata": {
        "id": "E6ZQxbGaOj3q"
      }
    },
    {
      "cell_type": "code",
      "source": [
        "temp = a + b\n",
        "a = temp\n",
        "b = a\n"
      ],
      "metadata": {
        "id": "_dRk16vIOqe9"
      },
      "execution_count": null,
      "outputs": []
    },
    {
      "cell_type": "markdown",
      "source": [
        "This code first calculates the sum of a and b, stores it in a temporary variable called temp, and then assigns temp to a. Finally, it assigns the value of a to b."
      ],
      "metadata": {
        "id": "-gG7gTQhOvyK"
      }
    },
    {
      "cell_type": "markdown",
      "source": [
        "**Q3. In Python, what is the most effective way to set a list of 100 integers to 0?**"
      ],
      "metadata": {
        "id": "wcQ63OgROTe9"
      }
    },
    {
      "cell_type": "markdown",
      "source": [
        "There are a few ways you can set a list of 100 integers to 0 in Python, but some methods may be more effective than others depending on your specific needs. Here are a few options you can consider:\n",
        "\n",
        "Using a for loop: You can use a for loop to iterate over the list and set each element to 0:"
      ],
      "metadata": {
        "id": "1dyoBrVqOryN"
      }
    },
    {
      "cell_type": "code",
      "source": [
        "lst = [1, 2, 3, 4, 5, ...]  # List with 100 elements\n",
        "for i in range(len(lst)):\n",
        "  lst[i] = 0\n"
      ],
      "metadata": {
        "id": "yIm3DKW1OVZD"
      },
      "execution_count": 2,
      "outputs": []
    },
    {
      "cell_type": "markdown",
      "source": [
        "Using the [value] * n syntax: You can use the [value] * n syntax to create a new list with n copies of value:"
      ],
      "metadata": {
        "id": "XMjk55PbO-Np"
      }
    },
    {
      "cell_type": "code",
      "source": [
        "lst = [0] * 100\n"
      ],
      "metadata": {
        "id": "KuVVlvrQO7CM"
      },
      "execution_count": 3,
      "outputs": []
    },
    {
      "cell_type": "markdown",
      "source": [
        "Using a list comprehension: You can use a list comprehension to create a new list with 100 copies of 0:"
      ],
      "metadata": {
        "id": "mnBdamo8PFa-"
      }
    },
    {
      "cell_type": "code",
      "source": [
        "lst = [0 for _ in range(100)]\n"
      ],
      "metadata": {
        "id": "YNVvvI2_PB7n"
      },
      "execution_count": 4,
      "outputs": []
    },
    {
      "cell_type": "markdown",
      "source": [
        "**Q5. If you&#39;re using IDLE to run a Python application, explain how to print a multidimensional list as\n",
        "efficiently?**"
      ],
      "metadata": {
        "id": "8I8zW464PX8N"
      }
    },
    {
      "cell_type": "markdown",
      "source": [
        "To print a multidimensional list efficiently in IDLE (or in any other Python environment), you can use a nested loop to iterate over the elements of the list and print each one separately.\n",
        "\n",
        "Here is an example of how you could do this:"
      ],
      "metadata": {
        "id": "zE_DGlNyQnVA"
      }
    },
    {
      "cell_type": "code",
      "source": [
        "def print_list(lst):\n",
        "  # Iterate over the outer list\n",
        "  for row in lst:\n",
        "    # Iterate over the inner list\n",
        "    for item in row:\n",
        "      # Print the item\n",
        "      print(item, end=\" \")\n",
        "    # Print a newline after each row\n",
        "    print()\n",
        "\n",
        "# Test the function\n",
        "print_list([[1, 2, 3], [4, 5, 6], [7, 8, 9]])\n",
        "# Outputs:\n",
        "# 1 2 3\n",
        "# 4 5 6\n",
        "# 7 8 9\n"
      ],
      "metadata": {
        "colab": {
          "base_uri": "https://localhost:8080/"
        },
        "id": "Y5SwHMrzPIyl",
        "outputId": "de2898bb-6913-4df9-f1a1-ec0b56c51ae6"
      },
      "execution_count": 5,
      "outputs": [
        {
          "output_type": "stream",
          "name": "stdout",
          "text": [
            "1 2 3 \n",
            "4 5 6 \n",
            "7 8 9 \n"
          ]
        }
      ]
    },
    {
      "cell_type": "markdown",
      "source": [
        "This code uses a nested for loop to iterate over the elements of the list and print each one, with a space between them. The inner loop iterates over the elements of each row, and the outer loop iterates over the rows themselves."
      ],
      "metadata": {
        "id": "RJG4vMJbQx8V"
      }
    },
    {
      "cell_type": "markdown",
      "source": [
        "**Q9. How do you distinguish between a wrapper, a wrapped feature, and a decorator?**"
      ],
      "metadata": {
        "id": "1PquYkL9RGxF"
      }
    },
    {
      "cell_type": "markdown",
      "source": [
        "In general, a wrapper is a piece of code that provides additional functionality to an existing piece of code by \"wrapping\" around it. There are a few different ways that this concept is used in programming:\n",
        "\n",
        "A feature wrapper is a layer of code that provides additional functionality to a specific feature or module. For example, you might have a feature wrapper that adds extra error checking to a database access module, or that adds extra logging to a function.\n",
        "\n",
        "A wrapped feature is a feature that has been modified or enhanced by a wrapper. For example, if you have a function that calculates the sum of a list of numbers, and you add a wrapper that caches the results of the function, the wrapped version of the function would be able to return results more quickly, because it would be able to look up the results in a cache rather than recalculating them every time.\n",
        "\n",
        "A decorator is a specific type of wrapper that is used to modify the behavior of a function or method in Python. Decorators are written using the @ symbol, and they are applied to a function by placing the decorator name above the function definition. For example:"
      ],
      "metadata": {
        "id": "63wjt9hVR9sm"
      }
    },
    {
      "cell_type": "code",
      "source": [
        "@cache\n",
        "def sum_numbers(numbers):\n",
        "    return sum(numbers)\n"
      ],
      "metadata": {
        "id": "InM9P0XZQqsC"
      },
      "execution_count": null,
      "outputs": []
    },
    {
      "cell_type": "markdown",
      "source": [
        "In this example, the @cache decorator is a wrapper that adds caching behavior to the sum_numbers function. The sum_numbers function is the wrapped feature."
      ],
      "metadata": {
        "id": "obXfh-eJSGQn"
      }
    },
    {
      "cell_type": "markdown",
      "source": [
        "**Q10. If a function is a generator function, what does it return?**"
      ],
      "metadata": {
        "id": "pAf0CE-WSwQL"
      }
    },
    {
      "cell_type": "markdown",
      "source": [
        "A generator function is a special type of function that returns a generator object when it is called. A generator is an iterable object that produces a stream of values, one at a time, when it is iterated over.\n",
        "\n",
        "*To create a generator function, you use the yield keyword in the function body instead of return. When the generator function is called, it does not execute the function body immediately. Instead, it returns a generator object that can be used to execute the function body \"lazily\", one step at a time.*\n",
        "\n",
        "For example, here is a simple generator function that yields the values 0 through 9:"
      ],
      "metadata": {
        "id": "IU395HvXTDIB"
      }
    },
    {
      "cell_type": "code",
      "source": [
        "def count_up_to(max):\n",
        "    count = 0\n",
        "    while count < max:\n",
        "        yield count\n",
        "        count += 1\n"
      ],
      "metadata": {
        "id": "zDHQeAbVSAqn"
      },
      "execution_count": 7,
      "outputs": []
    },
    {
      "cell_type": "markdown",
      "source": [
        "When this generator function is called, it does not execute the while loop. Instead, it returns a generator object that can be used to execute the while loop one iteration at a time.\n",
        "\n",
        "You can iterate over the generator object to execute the function body and produce the stream of values. For example:\n",
        "\n"
      ],
      "metadata": {
        "id": "DgkWXsQ5TJlT"
      }
    },
    {
      "cell_type": "code",
      "source": [
        "for number in count_up_to(10):\n",
        "    print(number)\n"
      ],
      "metadata": {
        "colab": {
          "base_uri": "https://localhost:8080/"
        },
        "id": "hE7UYeHmTGeW",
        "outputId": "30a2e75c-985f-474b-e169-fdb1d3793326"
      },
      "execution_count": 8,
      "outputs": [
        {
          "output_type": "stream",
          "name": "stdout",
          "text": [
            "0\n",
            "1\n",
            "2\n",
            "3\n",
            "4\n",
            "5\n",
            "6\n",
            "7\n",
            "8\n",
            "9\n"
          ]
        }
      ]
    },
    {
      "cell_type": "markdown",
      "source": [
        "This would print the numbers 0 through 9, one number per line."
      ],
      "metadata": {
        "id": "bMJ4QU6yTRgN"
      }
    },
    {
      "cell_type": "markdown",
      "source": [
        "**Q11. What is the one improvement that must be made to a function in order for it to become a\n",
        "generator function in the Python language?**"
      ],
      "metadata": {
        "id": "gsTpwCTiTYhS"
      }
    },
    {
      "cell_type": "markdown",
      "source": [
        "To turn a function into a generator function in Python, you need to use the yield keyword in the function body instead of return.\n",
        "\n",
        "For example, here is a simple function that returns a list of numbers from 0 to 9:"
      ],
      "metadata": {
        "id": "4TO8ltAKUQFR"
      }
    },
    {
      "cell_type": "code",
      "source": [
        "def count_up_to(max):\n",
        "    count = 0\n",
        "    numbers = []\n",
        "    while count < max:\n",
        "        numbers.append(count)\n",
        "        count += 1\n",
        "    return numbers\n"
      ],
      "metadata": {
        "id": "7tV-c6LVTN6J"
      },
      "execution_count": 9,
      "outputs": []
    },
    {
      "cell_type": "markdown",
      "source": [
        "To turn this function into a generator function, you would need to change the return statement to a yield statement:"
      ],
      "metadata": {
        "id": "se3H6R34UZSR"
      }
    },
    {
      "cell_type": "code",
      "source": [
        "def count_up_to(max):\n",
        "    count = 0\n",
        "    while count < max:\n",
        "        yield count\n",
        "        count += 1\n"
      ],
      "metadata": {
        "id": "Rpz8hU-HUTiS"
      },
      "execution_count": 10,
      "outputs": []
    },
    {
      "cell_type": "markdown",
      "source": [
        "Now, when this function is called, it will return a generator object that can be used to produce the stream of values, rather than returning a list of all the values at once."
      ],
      "metadata": {
        "id": "_5mf95NdUfqX"
      }
    },
    {
      "cell_type": "markdown",
      "source": [
        "**Q12. Identify at least one benefit of generators.**"
      ],
      "metadata": {
        "id": "nWDfe415UoS5"
      }
    },
    {
      "cell_type": "markdown",
      "source": [
        "There are several benefits to using generators in Python:\n",
        "\n",
        "Generators can be more memory-efficient than lists: When you use a generator, the values are produced one at a time, rather than being stored in a list. This means that you can iterate over a very large sequence of values without using up a lot of memory.\n",
        "\n",
        "Generators can be faster than lists: Because generators produce values one at a time, they can be faster than lists when you only need to process the values one at a time, rather than all at once.\n",
        "\n",
        "Generators can be easier to write than lists: Generators can be more concise and easier to read than lists, especially for complex operations that would require many lines of code to implement as a list comprehension.\n",
        "\n",
        "Generators are lazy: Generators only produce values when they are requested, which can be useful for producing large sequences of values that you may not need to use all at once. This can make your code more efficient by avoiding unnecessary work."
      ],
      "metadata": {
        "id": "Cnh9tYGXUvCt"
      }
    },
    {
      "cell_type": "code",
      "source": [],
      "metadata": {
        "id": "uM-6ROFjUcAo"
      },
      "execution_count": null,
      "outputs": []
    }
  ]
}