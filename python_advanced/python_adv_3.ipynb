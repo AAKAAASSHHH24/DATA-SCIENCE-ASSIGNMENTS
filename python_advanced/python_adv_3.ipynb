{
  "nbformat": 4,
  "nbformat_minor": 0,
  "metadata": {
    "colab": {
      "provenance": []
    },
    "kernelspec": {
      "name": "python3",
      "display_name": "Python 3"
    },
    "language_info": {
      "name": "python"
    }
  },
  "cells": [
    {
      "cell_type": "markdown",
      "source": [
        "**1. Create a function to perform basic arithmetic operations that includes\n",
        "addition, subtraction, multiplication and division on a string number (e.g. &quot;12 +\n",
        "24&quot; or &quot;23 - 21&quot; or &quot;12 // 12&quot; or &quot;12 * 21&quot;).**"
      ],
      "metadata": {
        "id": "aHcJZp59Lurs"
      }
    },
    {
      "cell_type": "code",
      "execution_count": 1,
      "metadata": {
        "id": "c6MXwnnGLIPK"
      },
      "outputs": [],
      "source": [
        "def basic_arithmetic(s):\n",
        "  # Use the eval function to safely evaluate the string and return the result\n",
        "  return eval(s)\n"
      ]
    },
    {
      "cell_type": "code",
      "source": [
        "result = basic_arithmetic(\"12 + 24\")\n",
        "print(result) "
      ],
      "metadata": {
        "colab": {
          "base_uri": "https://localhost:8080/"
        },
        "id": "tUfzm2JjMBgK",
        "outputId": "688f91e5-be55-4011-c3c7-fc8921f37343"
      },
      "execution_count": 2,
      "outputs": [
        {
          "output_type": "stream",
          "name": "stdout",
          "text": [
            "36\n"
          ]
        }
      ]
    },
    {
      "cell_type": "markdown",
      "source": [
        "**2. Write a function that takes the coordinates of three points in the form of a\n",
        "2d array and returns the perimeter of the triangle. The given points are the\n",
        "vertices of a triangle on a two-dimensional plane.**"
      ],
      "metadata": {
        "id": "NzbvEmHJMKii"
      }
    },
    {
      "cell_type": "code",
      "source": [
        "import math\n",
        "\n",
        "def triangle_perimeter(points):\n",
        "  # Calculate the distance between each pair of points\n",
        "  d1 = math.sqrt((points[0][0] - points[1][0])**2 + (points[0][1] - points[1][1])**2)\n",
        "  d2 = math.sqrt((points[1][0] - points[2][0])**2 + (points[1][1] - points[2][1])**2)\n",
        "  d3 = math.sqrt((points[2][0] - points[0][0])**2 + (points[2][1] - points[0][1])**2)\n",
        "  # Return the sum of the distances\n",
        "  return d1 + d2 + d3\n"
      ],
      "metadata": {
        "id": "W3KICbDJMGVA"
      },
      "execution_count": 3,
      "outputs": []
    },
    {
      "cell_type": "code",
      "source": [
        "points = [[0, 0], [0, 1], [1, 0]]\n",
        "perimeter = triangle_perimeter(points)\n",
        "print(perimeter) \n"
      ],
      "metadata": {
        "colab": {
          "base_uri": "https://localhost:8080/"
        },
        "id": "iVlc7NzBNGVo",
        "outputId": "3ff09de4-67ec-4976-e8e6-823c7ea959aa"
      },
      "execution_count": 4,
      "outputs": [
        {
          "output_type": "stream",
          "name": "stdout",
          "text": [
            "3.414213562373095\n"
          ]
        }
      ]
    },
    {
      "cell_type": "markdown",
      "source": [
        "**3. A city skyline can be represented as a 2-D list with 1s representing\n",
        "buildings.Create a function that takes a skyline (2-D list of 0&#39;s and 1&#39;s) and returns the\n",
        "height of the tallest skyscraper.**"
      ],
      "metadata": {
        "id": "k969K8DBNYC5"
      }
    },
    {
      "cell_type": "code",
      "source": [
        "def tallest_skyscraper(skyline):\n",
        "  # Initialize a variable to store the tallest height\n",
        "  tallest_height = 0\n",
        "\n",
        "  # Iterate through each column in the skyline\n",
        "  for column in skyline:\n",
        "    # Find the height of the tallest building in the column\n",
        "    #print(column)\n",
        "    column_height = 0\n",
        "    column_height = column.count(1)+ column_height\n",
        "    #print(column_height)\n",
        "    # Update the tallest height if necessary\n",
        "    tallest_height = max(tallest_height, column_height)\n",
        "  # Return the tallest height\n",
        "  return tallest_height\n"
      ],
      "metadata": {
        "id": "wGPuBqNnNTyK"
      },
      "execution_count": 25,
      "outputs": []
    },
    {
      "cell_type": "code",
      "source": [
        "skyline = [[0, 0, 0, 0, 1],\n",
        "           [0, 0, 0, 1, 1],\n",
        "           [0, 0, 1, 1, 1],\n",
        "           [0, 0, 0, 1, 1],\n",
        "           [0, 0, 0, 0, 1]]\n",
        "height = tallest_skyscraper(skyline)\n",
        "print(height)  \n"
      ],
      "metadata": {
        "colab": {
          "base_uri": "https://localhost:8080/"
        },
        "id": "gb-8PY18NsHC",
        "outputId": "8ee9f5d0-aab4-41b7-f101-fbb7c7866dfa"
      },
      "execution_count": 26,
      "outputs": [
        {
          "output_type": "stream",
          "name": "stdout",
          "text": [
            "3\n"
          ]
        }
      ]
    },
    {
      "cell_type": "code",
      "source": [],
      "metadata": {
        "id": "DRQKHx6rOP6R"
      },
      "execution_count": null,
      "outputs": []
    }
  ]
}