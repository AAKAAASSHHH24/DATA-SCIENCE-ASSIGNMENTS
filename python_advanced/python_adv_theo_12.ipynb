{
  "nbformat": 4,
  "nbformat_minor": 0,
  "metadata": {
    "colab": {
      "provenance": []
    },
    "kernelspec": {
      "name": "python3",
      "display_name": "Python 3"
    },
    "language_info": {
      "name": "python"
    }
  },
  "cells": [
    {
      "cell_type": "markdown",
      "source": [
        "**Q1. Does assigning a value to a string&#39;s indexed character violate Python&#39;s string immutability?**"
      ],
      "metadata": {
        "id": "861CakJszDGI"
      }
    },
    {
      "cell_type": "markdown",
      "source": [
        "Yes, assigning a value to a string's indexed character violates Python's string immutability. In Python, strings are immutable, which means that they cannot be modified once they are created.\n",
        "\n",
        "You can create a new string that is a modified version of an existing string, but you cannot modify the original string directly. For example:"
      ],
      "metadata": {
        "id": "xGV51AOSzHwL"
      }
    },
    {
      "cell_type": "code",
      "execution_count": 1,
      "metadata": {
        "colab": {
          "base_uri": "https://localhost:8080/",
          "height": 235
        },
        "id": "ClfmmKS_yjzt",
        "outputId": "59e84cb2-de48-4757-aeb5-488908949819"
      },
      "outputs": [
        {
          "output_type": "error",
          "ename": "TypeError",
          "evalue": "ignored",
          "traceback": [
            "\u001b[0;31m---------------------------------------------------------------------------\u001b[0m",
            "\u001b[0;31mTypeError\u001b[0m                                 Traceback (most recent call last)",
            "\u001b[0;32m<ipython-input-1-6bb61ece54eb>\u001b[0m in \u001b[0;36m<module>\u001b[0;34m\u001b[0m\n\u001b[1;32m      2\u001b[0m \u001b[0;34m\u001b[0m\u001b[0m\n\u001b[1;32m      3\u001b[0m \u001b[0;31m# this will raise a TypeError\u001b[0m\u001b[0;34m\u001b[0m\u001b[0;34m\u001b[0m\u001b[0;34m\u001b[0m\u001b[0m\n\u001b[0;32m----> 4\u001b[0;31m \u001b[0ms\u001b[0m\u001b[0;34m[\u001b[0m\u001b[0;36m0\u001b[0m\u001b[0;34m]\u001b[0m \u001b[0;34m=\u001b[0m \u001b[0;34m'H'\u001b[0m\u001b[0;34m\u001b[0m\u001b[0;34m\u001b[0m\u001b[0m\n\u001b[0m\u001b[1;32m      5\u001b[0m \u001b[0;34m\u001b[0m\u001b[0m\n\u001b[1;32m      6\u001b[0m \u001b[0;31m# this is okay\u001b[0m\u001b[0;34m\u001b[0m\u001b[0;34m\u001b[0m\u001b[0;34m\u001b[0m\u001b[0m\n",
            "\u001b[0;31mTypeError\u001b[0m: 'str' object does not support item assignment"
          ]
        }
      ],
      "source": [
        "s = 'hello'\n",
        "\n",
        "# this will raise a TypeError\n",
        "s[0] = 'H'\n"
      ]
    },
    {
      "cell_type": "code",
      "source": [
        "# this is okay\n",
        "s = 'H' + s[1:]\n"
      ],
      "metadata": {
        "id": "bbMNuOzvzVxL"
      },
      "execution_count": 2,
      "outputs": []
    },
    {
      "cell_type": "markdown",
      "source": [
        "In the first example, an attempt is made to assign a new value to the first character of the string s. This is not allowed, because strings are immutable, and a TypeError is raised.\n",
        "\n",
        "In the second example, a new string is created by concatenating the character 'H' with the slice of s starting at the second character. This creates a new string, and does not modify the original string."
      ],
      "metadata": {
        "id": "3O2VOhKOzSW-"
      }
    },
    {
      "cell_type": "markdown",
      "source": [
        "**Q2. Does using the += operator to concatenate strings violate Python&#39;s string immutability? Why or\n",
        "why not?**"
      ],
      "metadata": {
        "id": "FkxfAr_1zhRH"
      }
    },
    {
      "cell_type": "markdown",
      "source": [
        "No, using the += operator to concatenate strings does not violate Python's string immutability.\n",
        "\n",
        "The += operator is a shorthand notation for combining an operator and an assignment. It is equivalent to writing x = x + y. For example:"
      ],
      "metadata": {
        "id": "FVj1zfDnzmi1"
      }
    },
    {
      "cell_type": "code",
      "source": [
        "x = 1\n",
        "x += 2  # equivalent to x = x + 2\n"
      ],
      "metadata": {
        "id": "rGy6HOHLzKhc"
      },
      "execution_count": 3,
      "outputs": []
    },
    {
      "cell_type": "markdown",
      "source": [
        "When the += operator is used with strings, it creates a new string by concatenating the two operands, and assigns the result to the left operand. This does not modify the original string operands, and therefore does not violate string immutability.\n",
        "\n",
        "For example:"
      ],
      "metadata": {
        "id": "V-GWB8fszr8y"
      }
    },
    {
      "cell_type": "code",
      "source": [
        "s1 = 'hello'\n",
        "s2 = 'world'\n",
        "s1 += s2  # s1 is now 'helloworld', but s2 is unchanged\n"
      ],
      "metadata": {
        "id": "NlhOu8wuzpTA"
      },
      "execution_count": 4,
      "outputs": []
    },
    {
      "cell_type": "markdown",
      "source": [
        "In this example, the += operator creates a new string by concatenating s1 and s2, and assigns the result to s1. The original strings s1 and s2 are not modified, and remain unchanged.\n",
        "\n",
        "So, while the += operator can be used to concatenate strings in Python, it does not violate string immutability, because it does not modify the original strings."
      ],
      "metadata": {
        "id": "zdXudA7bz0_F"
      }
    },
    {
      "cell_type": "markdown",
      "source": [
        "**Q3. In Python, how many different ways are there to index a character?**"
      ],
      "metadata": {
        "id": "FHw8usQQ0D3k"
      }
    },
    {
      "cell_type": "markdown",
      "source": [
        "Using a positive integer index: This allows you to access a specific character in the string, using its position in the string. For example:\n"
      ],
      "metadata": {
        "id": "djtTHSwE0KEG"
      }
    },
    {
      "cell_type": "code",
      "source": [
        "s = 'hello'\n",
        "c = s[2]  # c is 'l'\n"
      ],
      "metadata": {
        "id": "xhbsA7b0zu29"
      },
      "execution_count": 5,
      "outputs": []
    },
    {
      "cell_type": "markdown",
      "source": [
        "Using a negative integer index: This allows you to access a specific character in the string, using its position relative to the end of the string. For example:"
      ],
      "metadata": {
        "id": "fTH3vV8G0P_P"
      }
    },
    {
      "cell_type": "code",
      "source": [
        "s = 'hello'\n",
        "c = s[-2]  # c is 'l'\n"
      ],
      "metadata": {
        "id": "IRtO_ker0My-"
      },
      "execution_count": 6,
      "outputs": []
    },
    {
      "cell_type": "markdown",
      "source": [
        "**Q4. What is the relationship between indexing and slicing?**"
      ],
      "metadata": {
        "id": "zp67kuHr0bsn"
      }
    },
    {
      "cell_type": "markdown",
      "source": [
        " The relationship between indexing and slicing is that slicing is a more general form of indexing. Indexing allows you to access a single character in a string, using a single integer index. Slicing allows you to access a sub-string of a string, using two integer indices that specify a start and end position.\n",
        "\n",
        "For example:"
      ],
      "metadata": {
        "id": "DBPh-czA0gqK"
      }
    },
    {
      "cell_type": "code",
      "source": [
        "s = 'hello'\n",
        "\n",
        "# indexing\n",
        "c = s[2]  # c is 'l'\n",
        "\n",
        "# slicing\n",
        "sub = s[1:4]  # sub is 'ell'\n"
      ],
      "metadata": {
        "id": "e6bchQel0UzR"
      },
      "execution_count": 7,
      "outputs": []
    },
    {
      "cell_type": "markdown",
      "source": [
        "**Q5. What is an indexed character&#39;s exact data type? What is the data form of a slicing-generated\n",
        "substring?**"
      ],
      "metadata": {
        "id": "Qg3YC0Ch0pWZ"
      }
    },
    {
      "cell_type": "markdown",
      "source": [
        "The data type of an indexed character in a string is a string with a length of 1. This is because a string in Python is a sequence of characters, and indexing a string returns a new string that contains a single character from the original string.\n",
        "\n",
        "The data form of a slicing-generated substring is also a string. A slice of a string creates a new string that contains a sub-sequence of the characters from the original string. The data type of the resulting substring is the same as the data type of the original string."
      ],
      "metadata": {
        "id": "aMVyjbOR0xMT"
      }
    },
    {
      "cell_type": "markdown",
      "source": [
        "**Q8. What is the benefit of first checking the target string with in or not in before using the index\n",
        "method to find a substring?**"
      ],
      "metadata": {
        "id": "UDMngzMG1IZi"
      }
    },
    {
      "cell_type": "markdown",
      "source": [
        "One benefit of checking the target string with in or not in before using the index method to find a substring is that it can avoid a ValueError being raised.\n",
        "\n",
        "The index method searches for a substring within a string, and returns the index of the first occurrence of the substring. If the substring is not found, the index method raises a ValueError.\n",
        "\n",
        "By using the in or not in operator to check for the presence of the substring before calling the index method, you can avoid the ValueError being raised if the substring is not found.\n",
        "\n",
        "For example:"
      ],
      "metadata": {
        "id": "4XWlW9v61VXG"
      }
    },
    {
      "cell_type": "code",
      "source": [
        "s = 'hello'\n",
        "\n",
        "if 'ell' in s:\n",
        "    # 'ell' is in s, so it's safe to call index()\n",
        "    i = s.index('ell')\n",
        "else:\n",
        "    # 'ell' is not in s, so we can handle the situation appropriately\n",
        "    i = -1\n"
      ],
      "metadata": {
        "id": "p7kXHYgX0jmh"
      },
      "execution_count": 8,
      "outputs": []
    },
    {
      "cell_type": "markdown",
      "source": [
        "**Q9. Which operators and built-in string methods produce simple Boolean (true/false) results?**"
      ],
      "metadata": {
        "id": "rreGxRz11Nwu"
      }
    },
    {
      "cell_type": "markdown",
      "source": [
        "*Some of the operators and built-in string methods that produce simple Boolean (true/false) results are:*\n",
        "\n",
        "Comparison operators (e.g., ==, !=, <, >, <=, >=)\n",
        "Membership operators (e.g., in, not in)\n",
        "String methods that return a boolean value (e.g., str.isdigit(), str.isalpha(), str.isspace())\n",
        "For example:**"
      ],
      "metadata": {
        "id": "B4T44WYd1j_q"
      }
    },
    {
      "cell_type": "code",
      "source": [
        "s = 'hello'\n",
        "\n",
        "# comparison operator\n",
        "print(s == 'hello')  # prints True\n",
        "print(s == 'world')  # prints False\n",
        "\n",
        "# membership operator\n",
        "print('ell' in s)  # prints True\n",
        "print('wor' in s)  # prints False\n",
        "\n",
        "# string method\n",
        "print(s.isdigit())  # prints False\n",
        "print(s.isalpha())  # prints True\n",
        "print(s.isspace())  # prints False\n"
      ],
      "metadata": {
        "colab": {
          "base_uri": "https://localhost:8080/"
        },
        "id": "hE6AqTUh1gaS",
        "outputId": "af77cf70-2cb8-4668-8080-235e491c7049"
      },
      "execution_count": 9,
      "outputs": [
        {
          "output_type": "stream",
          "name": "stdout",
          "text": [
            "True\n",
            "False\n",
            "True\n",
            "False\n",
            "False\n",
            "True\n",
            "False\n"
          ]
        }
      ]
    },
    {
      "cell_type": "code",
      "source": [],
      "metadata": {
        "id": "kbo1x7Va1rYc"
      },
      "execution_count": null,
      "outputs": []
    }
  ]
}