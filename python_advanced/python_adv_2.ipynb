{
  "nbformat": 4,
  "nbformat_minor": 0,
  "metadata": {
    "colab": {
      "provenance": []
    },
    "kernelspec": {
      "name": "python3",
      "display_name": "Python 3"
    },
    "language_info": {
      "name": "python"
    }
  },
  "cells": [
    {
      "cell_type": "markdown",
      "source": [
        "**1. Write a function that takes a positive integer num and calculates how many\n",
        "dots exist in a pentagonal shape around the center dot on the Nth iteration.\n",
        "In the image below you can see the first iteration is only a single dot. On the\n",
        "second, there are 6 dots. On the third, there are 16 dots, and on the fourth\n",
        "there are 31 dots.**"
      ],
      "metadata": {
        "id": "LyD-bQYNqgfy"
      }
    },
    {
      "cell_type": "code",
      "source": [
        "def centered_pentagonal_Num(n):\n",
        " \n",
        "    # Formula to calculate nth\n",
        "    # Centered pentagonal number.\n",
        "     \n",
        "    return (5 * n * n - 5 * n + 2) // 2"
      ],
      "metadata": {
        "id": "R4JBKfA5rOv4"
      },
      "execution_count": 3,
      "outputs": []
    },
    {
      "cell_type": "code",
      "source": [
        "centered_pentagonal_Num(8)"
      ],
      "metadata": {
        "colab": {
          "base_uri": "https://localhost:8080/"
        },
        "id": "ss7TFNU-ufFg",
        "outputId": "48ec4124-0940-4fd0-ea17-b61f5d6f39b0"
      },
      "execution_count": 4,
      "outputs": [
        {
          "output_type": "execute_result",
          "data": {
            "text/plain": [
              "141"
            ]
          },
          "metadata": {},
          "execution_count": 4
        }
      ]
    },
    {
      "cell_type": "markdown",
      "source": [
        "2. Make a function that encrypts a given input with these steps:\n",
        "\n",
        "Input: &quot;apple&quot;\n",
        "\n",
        "Step 1: Reverse the input: &quot;elppa&quot;\n",
        "\n",
        "Step 2: Replace all vowels using the following chart:\n",
        "a =&gt; 0\n",
        "e =&gt; 1\n",
        "i =&gt; 2\n",
        "o =&gt; 2\n",
        "u =&gt; 3\n",
        "\n",
        "Step 3: Add &quot;aca&quot; to the end of the word: &quot;1lpp0aca&quot;"
      ],
      "metadata": {
        "id": "_kqaDM7Hv5mG"
      }
    },
    {
      "cell_type": "code",
      "source": [
        "def encrypt(input_string):\n",
        "    # Step 1: Reverse the input\n",
        "    reversed_string = input_string[::-1]\n",
        "\n",
        "    # Step 2: Replace all vowels\n",
        "    encrypted_string = \"\"\n",
        "    for char in reversed_string:\n",
        "        if char == 'a':\n",
        "            encrypted_string += '0'\n",
        "        elif char == 'e':\n",
        "            encrypted_string += '1'\n",
        "        elif char == 'i':\n",
        "            encrypted_string += '2'\n",
        "        elif char == 'o':\n",
        "            encrypted_string += '2'\n",
        "        elif char == 'u':\n",
        "            encrypted_string += '3'\n",
        "        else:\n",
        "            encrypted_string += char\n",
        "\n",
        "    encrypted_string += \"aca\"\n",
        "\n",
        "    return encrypted_string\n"
      ],
      "metadata": {
        "id": "LbG5wKQMuh3v"
      },
      "execution_count": 5,
      "outputs": []
    },
    {
      "cell_type": "code",
      "source": [
        "encrypt('banana')"
      ],
      "metadata": {
        "colab": {
          "base_uri": "https://localhost:8080/",
          "height": 36
        },
        "id": "3lGdb5Bdwe6_",
        "outputId": "00713a23-09e3-48e7-919c-f17ce776c5e3"
      },
      "execution_count": 7,
      "outputs": [
        {
          "output_type": "execute_result",
          "data": {
            "text/plain": [
              "'0n0n0baca'"
            ],
            "application/vnd.google.colaboratory.intrinsic+json": {
              "type": "string"
            }
          },
          "metadata": {},
          "execution_count": 7
        }
      ]
    },
    {
      "cell_type": "markdown",
      "source": [
        "**3. Given the month and year as numbers, return whether that month contains\n",
        "a Friday 13th.(i.e You can check Python&#39;s datetime module)**"
      ],
      "metadata": {
        "id": "4sC-7WVyw-Bj"
      }
    },
    {
      "cell_type": "code",
      "source": [
        "import datetime\n",
        "\n",
        "def has_friday_13th(month, year):\n",
        "  date = datetime.date(year, month, 13)\n",
        "  return date.weekday() == 4\n",
        "  \n"
      ],
      "metadata": {
        "id": "ZiiVVqwLwlYt"
      },
      "execution_count": 9,
      "outputs": []
    },
    {
      "cell_type": "code",
      "source": [
        "print(has_friday_13th(8, 2021)) # should return True\n",
        "print(has_friday_13th(7, 2021)) # should return False"
      ],
      "metadata": {
        "colab": {
          "base_uri": "https://localhost:8080/"
        },
        "id": "8RwA5Ei9xTwi",
        "outputId": "eb6a0cfb-8d07-4c7b-b9f9-dff130c59fa2"
      },
      "execution_count": 11,
      "outputs": [
        {
          "output_type": "stream",
          "name": "stdout",
          "text": [
            "True\n",
            "False\n"
          ]
        }
      ]
    },
    {
      "cell_type": "markdown",
      "source": [
        "**5. Given a list of words in the singular form, return a set of those words in the\n",
        "plural form if they appear more than once in the list.**"
      ],
      "metadata": {
        "id": "9niLtDZO1T1p"
      }
    },
    {
      "cell_type": "code",
      "source": [
        "def get_plural_form(words):\n",
        "  # Create a dictionary to store the count of each word\n",
        "  word_count = {}\n",
        "  # Iterate through the list of words\n",
        "  for word in words:\n",
        "    # If the word is not in the dictionary, add it and set the count to 1\n",
        "    if word not in word_count:\n",
        "      word_count[word] = 1\n",
        "    # If the word is already in the dictionary, increment the count by 1\n",
        "    else:\n",
        "      word_count[word] += 1\n",
        "  # Initialize an empty set to store the plural forms of the words\n",
        "  plural_form = set()\n",
        "  # Iterate through the dictionary\n",
        "  for word, count in word_count.items():\n",
        "    # If the count is greater than 1, add the plural form of the word to the set\n",
        "    if count > 1:\n",
        "      plural_form.add(word + \"s\")\n",
        "  # Return the set of plural forms\n",
        "  return plural_form\n"
      ],
      "metadata": {
        "id": "GSKvXs-B1W-Z"
      },
      "execution_count": 13,
      "outputs": []
    },
    {
      "cell_type": "code",
      "source": [
        "words = [\"cat\", \"dog\", \"bird\", \"cat\", \"bird\"]\n",
        "plural_form = get_plural_form(words)\n",
        "print(plural_form) \n"
      ],
      "metadata": {
        "colab": {
          "base_uri": "https://localhost:8080/"
        },
        "id": "dOul7wEF1n3F",
        "outputId": "d7249f92-c254-4ef9-fe23-7a8113a85bff"
      },
      "execution_count": 15,
      "outputs": [
        {
          "output_type": "stream",
          "name": "stdout",
          "text": [
            "{'birds', 'cats'}\n"
          ]
        }
      ]
    },
    {
      "cell_type": "code",
      "source": [],
      "metadata": {
        "id": "ddYkyctnF9D-"
      },
      "execution_count": null,
      "outputs": []
    }
  ]
}