{
  "nbformat": 4,
  "nbformat_minor": 0,
  "metadata": {
    "colab": {
      "provenance": []
    },
    "kernelspec": {
      "name": "python3",
      "display_name": "Python 3"
    },
    "language_info": {
      "name": "python"
    }
  },
  "cells": [
    {
      "cell_type": "markdown",
      "source": [
        "# 1. Write a function that takes a list of lists and returns the value of all of the\n",
        "# symbols in it, where each symbol adds or takes something from the total score. \n",
        "Symbol values: # = 5\n",
        "O = 3\n",
        "X = 1\n",
        "! = -1\n",
        "!! = -3\n",
        "!!! = -5"
      ],
      "metadata": {
        "id": "lC6FJUm2dVUi"
      }
    },
    {
      "cell_type": "code",
      "execution_count": 1,
      "metadata": {
        "id": "FwPw0xy9bJce"
      },
      "outputs": [],
      "source": [
        "def symbol_score(lst):\n",
        "    # Initialize score to 0\n",
        "    score = 0\n",
        "    \n",
        "    # Iterate over each element in the list\n",
        "    for sublist in lst:\n",
        "        for elem in sublist:\n",
        "            # Add or subtract the appropriate value for each symbol\n",
        "            if elem == '#':\n",
        "                score += 5\n",
        "            elif elem == 'O':\n",
        "                score += 3\n",
        "            elif elem == 'X':\n",
        "                score += 1\n",
        "            elif elem == '!':\n",
        "                score -= 1\n",
        "            elif elem == '!!':\n",
        "                score -= 3\n",
        "            elif elem == '!!!':\n",
        "                score -= 5\n",
        "    \n",
        "    # Return the final score\n",
        "    return score\n"
      ]
    },
    {
      "cell_type": "code",
      "source": [
        "symbol_score([['#', 'X', '!!'], ['!!!', 'O']])"
      ],
      "metadata": {
        "colab": {
          "base_uri": "https://localhost:8080/"
        },
        "id": "hqKx-pZ7d04m",
        "outputId": "c0307457-36bf-44e1-d74a-268b0101f04a"
      },
      "execution_count": 2,
      "outputs": [
        {
          "output_type": "execute_result",
          "data": {
            "text/plain": [
              "1"
            ]
          },
          "metadata": {},
          "execution_count": 2
        }
      ]
    },
    {
      "cell_type": "markdown",
      "source": [
        "2. Create a function that takes a variable number of arguments, each\n",
        "argument representing the number of items in a group, and returns the\n",
        "number of permutations (combinations) of items that you could get by taking\n",
        "one item from each group."
      ],
      "metadata": {
        "id": "IOZHvA3UjVVy"
      }
    },
    {
      "cell_type": "code",
      "source": [
        "def permutation_count(*args):\n",
        "    from math import prod\n",
        "    return prod(args)\n"
      ],
      "metadata": {
        "id": "TwcbZsCWd6jU"
      },
      "execution_count": 3,
      "outputs": []
    },
    {
      "cell_type": "markdown",
      "source": [
        "This function uses the prod() function from the math module to calculate the product of all the arguments passed to it. The product of a sequence of numbers is the result you get when you multiply all the numbers together, so in this case, the function will return the total number of permutations by multiplying together the number of items in each group."
      ],
      "metadata": {
        "id": "IbJFr79zjvsg"
      }
    },
    {
      "cell_type": "code",
      "source": [
        "permutation_count(3, 4, 2)\n"
      ],
      "metadata": {
        "colab": {
          "base_uri": "https://localhost:8080/"
        },
        "id": "4P2a0x4HjqQQ",
        "outputId": "82004f8d-7e1b-47af-8ddd-f87d427b7549"
      },
      "execution_count": 4,
      "outputs": [
        {
          "output_type": "execute_result",
          "data": {
            "text/plain": [
              "24"
            ]
          },
          "metadata": {},
          "execution_count": 4
        }
      ]
    },
    {
      "cell_type": "markdown",
      "source": [
        "3. Create a function that takes a string as an argument and returns the Morse\n",
        "code equivalent. "
      ],
      "metadata": {
        "id": "JLfrzlLRj_JH"
      }
    },
    {
      "cell_type": "code",
      "source": [
        "def morse_encode(string):\n",
        "    # Create a dictionary with the Morse code for each letter\n",
        "    morse_code = {\n",
        "        'A': '.-',\n",
        "        'B': '-...',\n",
        "        'C': '-.-.',\n",
        "        'D': '-..',\n",
        "        'E': '.',\n",
        "        'F': '..-.',\n",
        "        'G': '--.',\n",
        "        'H': '....',\n",
        "        'I': '..',\n",
        "        'J': '.---',\n",
        "        'K': '-.-',\n",
        "        'L': '.-..',\n",
        "        'M': '--',\n",
        "        'N': '-.',\n",
        "        'O': '---',\n",
        "        'P': '.--.',\n",
        "        'Q': '--.-',\n",
        "        'R': '.-.',\n",
        "        'S': '...',\n",
        "        'T': '-',\n",
        "        'U': '..-',\n",
        "        'V': '...-',\n",
        "        'W': '.--',\n",
        "        'X': '-..-',\n",
        "        'Y': '-.--',\n",
        "        'Z': '--..',\n",
        "        '1': '.----',\n",
        "        '2': '..---',\n",
        "        '3': '...--',\n",
        "        '4': '....-',\n",
        "        '5': '.....',\n",
        "        '6': '-....',\n",
        "        '7': '--...',\n",
        "        '8': '---..',\n",
        "        '9': '----.',\n",
        "        '0': '-----',\n",
        "        ' ': '/'\n",
        "    }\n",
        "    \n",
        "    # Initialize an empty list to store the Morse code for each character in the string\n",
        "    morse_string = []\n",
        "    \n",
        "    # Iterate over each character in the string\n",
        "    for char in string:\n",
        "        # Add the Morse code for the character to the list\n",
        "        morse_string.append(morse_code[char.upper()])\n",
        "    \n",
        "    # Join the list of Morse code characters into a single string and return it\n",
        "    return ' '.join(morse_string)\n"
      ],
      "metadata": {
        "id": "C76qY9tsj2Gv"
      },
      "execution_count": 5,
      "outputs": []
    },
    {
      "cell_type": "code",
      "source": [
        "morse_encode('HELLO WORLD')\n"
      ],
      "metadata": {
        "colab": {
          "base_uri": "https://localhost:8080/",
          "height": 36
        },
        "id": "rnl_HRUhk_nj",
        "outputId": "e0362e16-9197-4a14-8003-aa8c54bd9370"
      },
      "execution_count": 6,
      "outputs": [
        {
          "output_type": "execute_result",
          "data": {
            "text/plain": [
              "'.... . .-.. .-.. --- / .-- --- .-. .-.. -..'"
            ],
            "application/vnd.google.colaboratory.intrinsic+json": {
              "type": "string"
            }
          },
          "metadata": {},
          "execution_count": 6
        }
      ]
    },
    {
      "cell_type": "markdown",
      "source": [
        "**4. Write a function that takes a number and returns True if it&#39;s a prime; False\n",
        "otherwise. The number can be 2^64-1 (2 to the power of 63, not XOR). With\n",
        "the standard technique it would be O(2^64-1), which is much too large for the\n",
        "10 second time limit.**"
      ],
      "metadata": {
        "id": "jIbwuxqLle6F"
      }
    },
    {
      "cell_type": "markdown",
      "source": [
        "If the number is less than 2, return False (all numbers less than 2 are not prime).\n",
        "\n",
        "Iterate over a range of numbers from 2 to the square root of the number, inclusive.\n",
        "\n",
        "For each number in the range, check if the number is evenly divisible by the current number. If it is, return False (the number is not prime).\n",
        "After the loop finishes, return True (the number is prime)."
      ],
      "metadata": {
        "id": "2zlqhnULnT7G"
      }
    },
    {
      "cell_type": "code",
      "source": [
        "def is_prime(n):\n",
        "    if n < 2:\n",
        "        return False\n",
        "    for i in range(2, int(n ** 0.5) + 1):\n",
        "        if n % i == 0:\n",
        "            return False\n",
        "    return True\n"
      ],
      "metadata": {
        "id": "aqfLvI_HlD_N"
      },
      "execution_count": 7,
      "outputs": []
    },
    {
      "cell_type": "markdown",
      "source": [
        "This function takes a number as an argument and returns True if it's prime, or False otherwise. The time complexity of this function is O(sqrt(n)), which is much faster than the O(n) time complexity of a naive approach that checks all numbers up to n"
      ],
      "metadata": {
        "id": "abFZYQH4nmHK"
      }
    },
    {
      "cell_type": "code",
      "source": [
        "is_prime(17)\n"
      ],
      "metadata": {
        "colab": {
          "base_uri": "https://localhost:8080/"
        },
        "id": "oZY7xYconOt5",
        "outputId": "90aab379-fb25-4cd1-acc3-ba833774e2ac"
      },
      "execution_count": 8,
      "outputs": [
        {
          "output_type": "execute_result",
          "data": {
            "text/plain": [
              "True"
            ]
          },
          "metadata": {},
          "execution_count": 8
        }
      ]
    },
    {
      "cell_type": "markdown",
      "source": [
        "**Create a function that converts a word to a bitstring and then to a boolean\n",
        "list based on the following criteria:**\n",
        "1. Locate the position of the letter in the English alphabet (from 1 to 26).\n",
        "2. Odd positions will be represented as 1 and 0 otherwise.\n",
        "3. Convert the represented positions to boolean values, 1 for True and 0\n",
        "for False.\n",
        "4. Store the conversions into an array."
      ],
      "metadata": {
        "id": "dNmi5jHvoZMQ"
      }
    },
    {
      "cell_type": "code",
      "source": [
        "def word_to_boolean(word):\n",
        "    # Initialize an empty list to store the boolean values\n",
        "    boolean_list = []\n",
        "    \n",
        "    # Iterate over each character in the word\n",
        "    for char in word:\n",
        "        # Get the position of the character in the alphabet (1-26)\n",
        "        alphabet_position = ord(char.upper()) - 64\n",
        "        \n",
        "        # If the alphabet position is odd, append 1 to the boolean list\n",
        "        if alphabet_position % 2 == 1:\n",
        "            boolean_list.append(True)\n",
        "        # If the alphabet position is even, append 0 to the boolean list\n",
        "        else:\n",
        "            boolean_list.append(False)\n",
        "    \n",
        "    # Return the boolean list\n",
        "    return boolean_list\n"
      ],
      "metadata": {
        "id": "Gdvehh3Pn6r0"
      },
      "execution_count": 9,
      "outputs": []
    },
    {
      "cell_type": "code",
      "source": [
        "word_to_boolean('hello')\n"
      ],
      "metadata": {
        "colab": {
          "base_uri": "https://localhost:8080/"
        },
        "id": "1ncg82mBoV9r",
        "outputId": "b61c23d4-24b2-43f4-a79d-470f00191321"
      },
      "execution_count": 10,
      "outputs": [
        {
          "output_type": "execute_result",
          "data": {
            "text/plain": [
              "[False, True, False, False, True]"
            ]
          },
          "metadata": {},
          "execution_count": 10
        }
      ]
    },
    {
      "cell_type": "code",
      "source": [],
      "metadata": {
        "id": "wPh3PNumo0Ok"
      },
      "execution_count": null,
      "outputs": []
    }
  ]
}