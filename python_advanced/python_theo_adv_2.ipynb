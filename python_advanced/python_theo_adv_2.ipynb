{
  "nbformat": 4,
  "nbformat_minor": 0,
  "metadata": {
    "colab": {
      "provenance": []
    },
    "kernelspec": {
      "name": "python3",
      "display_name": "Python 3"
    },
    "language_info": {
      "name": "python"
    }
  },
  "cells": [
    {
      "cell_type": "markdown",
      "source": [
        "**Q1. What is the relationship between classes and modules?**"
      ],
      "metadata": {
        "id": "2VtYg-dTvsM2"
      }
    },
    {
      "cell_type": "markdown",
      "source": [
        "*Classes and modules are both fundamental building blocks in Python that can be used to organize code into reusable and modular units. A module is a file containing Python code (e.g., functions, variables, and classes) that can be imported and used in other Python code. A class is a template for creating objects that contain both data and behavior. Classes are typically defined in a module and can be imported and used in other Python code just like any other module.*"
      ],
      "metadata": {
        "id": "Hud-aVbMvsJW"
      }
    },
    {
      "cell_type": "markdown",
      "source": [
        "**Q2. How do you make instances and classes?**"
      ],
      "metadata": {
        "id": "btF9CI-4v1Ae"
      }
    },
    {
      "cell_type": "markdown",
      "source": [
        "*To create an instance of a class in Python, you need to call the class's constructor method (i.e., the __init__() method). This is done by calling the class name followed by a set of parentheses containing any required arguments for the __init__() method. For example:*"
      ],
      "metadata": {
        "id": "0T-lvgHCv50k"
      }
    },
    {
      "cell_type": "code",
      "execution_count": 1,
      "metadata": {
        "id": "v13kHIVQvgmu"
      },
      "outputs": [],
      "source": [
        "class MyClass:\n",
        "    def __init__(self, value):\n",
        "        self.value = value\n",
        "\n",
        "# Create an instance of MyClass\n",
        "obj = MyClass(10)\n"
      ]
    },
    {
      "cell_type": "markdown",
      "source": [
        "**Q3. Where and how should be class attributes created?**"
      ],
      "metadata": {
        "id": "5krfuaiswLoS"
      }
    },
    {
      "cell_type": "markdown",
      "source": [
        "*Class attributes in Python are attributes that belong to the class itself, rather than to individual instances of the class. They are typically created within the class definition and are shared by all instances of the class. To create a class attribute in Python, you can simply assign a value to a variable within the class definition. For example:*"
      ],
      "metadata": {
        "id": "NawAk5CqwQ_3"
      }
    },
    {
      "cell_type": "code",
      "source": [
        "class MyClass:\n",
        "    # This is a class attribute\n",
        "    class_attribute = \"class attribute value\"\n",
        "\n",
        "    def __init__(self, value):\n",
        "        self.value = value\n"
      ],
      "metadata": {
        "id": "emTwZJG_wE2c"
      },
      "execution_count": 2,
      "outputs": []
    },
    {
      "cell_type": "markdown",
      "source": [
        "*In this example, the class_attribute is a class attribute that is shared by all instances of MyClass. It can be accessed using the dot notation (e.g., MyClass.class_attribute) or through an instance of the class (e.g., obj.class_attribute).*"
      ],
      "metadata": {
        "id": "KYowOZi9wbB8"
      }
    },
    {
      "cell_type": "markdown",
      "source": [
        "**Q4. Where and how are instance attributes created?**"
      ],
      "metadata": {
        "id": "gtbAM53kwjU2"
      }
    },
    {
      "cell_type": "markdown",
      "source": [
        "*Instance attributes in Python are attributes that belong to individual instances of a class, rather than to the class itself. They are typically created within the class's constructor method (i.e., the __init__() method) using the self argument, which refers to the instance object. To create an instance attribute in Python, you can simply assign a value to a variable using the self argument. For example:*"
      ],
      "metadata": {
        "id": "OW9khivkwqJ-"
      }
    },
    {
      "cell_type": "code",
      "source": [
        "class MyClass:\n",
        "    def __init__(self, value):\n",
        "        # This is an instance attribute\n",
        "        self.value = value\n",
        "\n",
        "# Create an instance of MyClass\n",
        "obj = MyClass(10)\n",
        "\n",
        "# The instance has an instance attribute called \"value\"\n",
        "print(obj.value) \n"
      ],
      "metadata": {
        "colab": {
          "base_uri": "https://localhost:8080/"
        },
        "id": "A3LFzPoewWBO",
        "outputId": "5155f2ce-8390-4be3-aab9-8c95a0902142"
      },
      "execution_count": 4,
      "outputs": [
        {
          "output_type": "stream",
          "name": "stdout",
          "text": [
            "10\n"
          ]
        }
      ]
    },
    {
      "cell_type": "markdown",
      "source": [
        "*In this example, the value attribute is an instance attribute that belongs to the obj instance of MyClass. It can be accessed using the dot notation (e.g., obj.value). Other instances of MyClass can have their own value attribute with a different value.*"
      ],
      "metadata": {
        "id": "P7gYxVorw0WS"
      }
    },
    {
      "cell_type": "markdown",
      "source": [
        "**Q5. What does the term &quot;self&quot; in a Python class mean?**"
      ],
      "metadata": {
        "id": "WnKAiHLHxHI_"
      }
    },
    {
      "cell_type": "markdown",
      "source": [
        "*In Python, the term \"self\" is used within the body of a class definition to refer to the instance object on which a method is being called. It is similar to the this keyword in other object-oriented languages. The self argument is always the first argument of a class method and is used to access the attributes and methods of the instance object from within the method.*\n",
        "\n",
        "*Here is an example of how the self argument is used in a Python class:*"
      ],
      "metadata": {
        "id": "GttjHvojxMyC"
      }
    },
    {
      "cell_type": "code",
      "source": [
        "class MyClass:\n",
        "    def __init__(self, value):\n",
        "        self.value = value\n",
        "    \n",
        "    def do_something(self):\n",
        "        print(f\"Doing something with value {self.value}\")\n",
        "\n",
        "# Create an instance of MyClass\n",
        "obj = MyClass(10)\n",
        "\n",
        "# Call the do_something() method on the instance\n",
        "obj.do_something()  # Output: \"Doing something with value 10\"\n"
      ],
      "metadata": {
        "colab": {
          "base_uri": "https://localhost:8080/"
        },
        "id": "Vz53muimwvhS",
        "outputId": "614c034a-6bf3-453f-ef7f-a973b1b720c4"
      },
      "execution_count": 5,
      "outputs": [
        {
          "output_type": "stream",
          "name": "stdout",
          "text": [
            "Doing something with value 10\n"
          ]
        }
      ]
    },
    {
      "cell_type": "markdown",
      "source": [
        "**Q6. How does a Python class handle operator overloading?**"
      ],
      "metadata": {
        "id": "xTIPaNtmzHxy"
      }
    },
    {
      "cell_type": "markdown",
      "source": [
        "*In Python, operator overloading is the ability of a class to define how its instances should behave when they are used with certain operators (e.g., +, -, *, etc.). This is achieved by implementing special methods in the class definition that have double underscores at the beginning and end of their names (e.g., __add__(), __sub__(), __mul__(), etc.). These special methods are called \"magic methods\"*"
      ],
      "metadata": {
        "id": "ruDlh90IzMqh"
      }
    },
    {
      "cell_type": "markdown",
      "source": [
        "**Q7. When do you consider allowing operator overloading of your classes?**"
      ],
      "metadata": {
        "id": "HYWJyFiczaic"
      }
    },
    {
      "cell_type": "markdown",
      "source": [
        "*You may want to consider allowing operator overloading in your Python classes if you want to define custom behavior for operators when they are used with instances of your class. This can be useful when you want to create classes that behave like built-in types (e.g., lists, dictionaries, etc.), or when you want to make it easier for users of your class to perform common operations on its instances.*\n",
        "\n",
        "*However, it is important to be careful when allowing operator overloading in your classes, as it can make your code more difficult to understand and can lead to confusion if not used appropriately. It is generally a good idea to only allow operator overloading in your classes if it makes sense in the context of the class's functionality and if it will improve the usability of the class for its intended users.*"
      ],
      "metadata": {
        "id": "UD6RIy5y0E6V"
      }
    },
    {
      "cell_type": "markdown",
      "source": [
        "**Q8. What is the most popular form of operator overloading?**"
      ],
      "metadata": {
        "id": "NPmn8kCC0M2T"
      }
    },
    {
      "cell_type": "markdown",
      "source": [
        "*One of the most common forms of operator overloading in Python is the ability to define custom behavior for the + operator, which is used for concatenation and addition. This is achieved by implementing the __add__() magic method in the class definition.*\n",
        "\n",
        "*Here is an example of how to allow operator overloading for the + operator in a Python class:*"
      ],
      "metadata": {
        "id": "KrEkiOeYzgRH"
      }
    },
    {
      "cell_type": "code",
      "source": [
        "class MyClass:\n",
        "    def __init__(self, value):\n",
        "        self.value = value\n",
        "    \n",
        "    def __add__(self, other):\n",
        "        return MyClass(self.value + other.value)\n",
        "\n",
        "# Create two instances of MyClass\n",
        "obj1 = MyClass(10)\n",
        "obj2 = MyClass(20)\n",
        "\n",
        "# Overload the + operator to add the value attributes of the instances\n",
        "obj3 = obj1 + obj2\n",
        "\n",
        "# The value attribute of the new instance is the sum of the value attributes\n"
      ],
      "metadata": {
        "id": "IyXI3eOyxXF5"
      },
      "execution_count": 6,
      "outputs": []
    },
    {
      "cell_type": "code",
      "source": [],
      "metadata": {
        "id": "CiMSg131znNA"
      },
      "execution_count": null,
      "outputs": []
    }
  ]
}