{
  "nbformat": 4,
  "nbformat_minor": 0,
  "metadata": {
    "colab": {
      "provenance": []
    },
    "kernelspec": {
      "name": "python3",
      "display_name": "Python 3"
    },
    "language_info": {
      "name": "python"
    }
  },
  "cells": [
    {
      "cell_type": "markdown",
      "source": [
        "1. What is the result of the code, and explain?\n",
        "\n",
        "&gt;&gt;&gt; X = &#39;iNeuron&#39;\n",
        "\n",
        "&gt;&gt;&gt; def func():\n",
        "\n",
        "print(X)\n",
        "\n",
        "&gt;&gt;&gt; func()"
      ],
      "metadata": {
        "id": "1uE9aWwMVFzT"
      }
    },
    {
      "cell_type": "markdown",
      "source": [
        "The result of the code will be 'iNeuron'. This is because the variable X is defined outside the scope of the function func(). The function func() has access to the global scope and the variable X is defined in the global scope, so it can access the value of the variable X and print it.\n",
        "When the function is called, it will print the value of the variable X which is 'iNeuron'.\n",
        "It's worth noting that if the variable X was defined inside the function scope and you try to access the variable from the global scope it will raise a NameError, because the variable is not defined in the global scope."
      ],
      "metadata": {
        "id": "dTHB1T69d57z"
      }
    },
    {
      "cell_type": "markdown",
      "source": [
        "**2.What is the result of the code, and explain?**\n",
        "\n",
        "&gt;&gt;&gt; X = &#39;iNeuron&#39;\n",
        "\n",
        "&gt;&gt;&gt; def func():\n",
        "\n",
        "X = &#39;NI!&#39;\n",
        "\n",
        "&gt;&gt;&gt; func()\n",
        "\n",
        "&gt;&gt;&gt; print(X)"
      ],
      "metadata": {
        "id": "x6zDHh0aesiT"
      }
    },
    {
      "cell_type": "markdown",
      "source": [
        "The result of the code will be 'iNeuron'. This is because inside the function func(), the variable X is defined in the local scope of the function, and it is assigned the value \"NI!\". However, this does not affect the value of the global variable X which is 'iNeuron' and is defined outside the scope of the function.\n",
        "When the function is called, it assigns a new value to the local variable X which is 'NI!', but this variable goes out of scope after the function call so it won't affect the global variable.\n",
        "Then, when you try to print the variable X after the function call, it will print the value of the global variable X which is 'iNeuron'."
      ],
      "metadata": {
        "id": "xyDEf2LFe2v-"
      }
    },
    {
      "cell_type": "markdown",
      "source": [
        "**3.What does this code print, and why?**\n",
        "\n",
        "&gt;&gt;&gt; X = &#39;iNeuron&#39;\n",
        "\n",
        "&gt;&gt;&gt; def func():\n",
        "\n",
        "X = &#39;NI&#39;\n",
        "\n",
        "print(X)\n",
        "\n",
        "&gt;&gt;&gt; func()\n",
        "\n",
        "&gt;&gt;&gt; print(X)"
      ],
      "metadata": {
        "id": "0sP7mGwifcOY"
      }
    },
    {
      "cell_type": "markdown",
      "source": [
        "The code will print \"NI\" and then \"iNeuron\".\n",
        "When the function func() is called, it assigns a new value to the local variable X which is 'NI' and then it prints the value of the local variable X. Since X is a local variable to the function, it only exists within the scope of the function, so when the function ends, the value of X is discarded.\n",
        "After the function call, when you try to print the variable X it will print the value of the global variable X which is 'iNeuron'.\n",
        "In short, the first print statement inside the function func() prints the value of the local variable X, which is 'NI', and the second print statement prints the value of the global variable X, which is 'iNeuron'."
      ],
      "metadata": {
        "id": "6FguiKEkfvuk"
      }
    },
    {
      "cell_type": "markdown",
      "source": [
        "**4.What output does this code produce? Why?**\n",
        "\n",
        "&gt;&gt;&gt; X = &#39;iNeuron&#39;\n",
        "\n",
        "&gt;&gt;&gt; def func():\n",
        "\n",
        "global X\n",
        "\n",
        "X = &#39;NI&#39;\n",
        "\n",
        "&gt;&gt;&gt; func()\n",
        "\n",
        "&gt;&gt;&gt; print(X)"
      ],
      "metadata": {
        "id": "733pGLoEf6Rd"
      }
    },
    {
      "cell_type": "markdown",
      "source": [
        "The code will print \"NI\".\n",
        "The global keyword inside the function func() tells Python that the variable X being assigned is the global variable, rather than a new local variable. So the assignment statement X = 'NI' inside the function func() will change the value of the global variable X from 'iNeuron' to 'NI'.\n",
        "After the function call, when you try to print the variable X, it will print the value of the global variable X, which is 'NI' as it was modified inside the function.\n",
        "In short, the function func() changes the value of the global variable X to 'NI' and the last print statement prints the value of the global variable X, which is 'NI' as a result."
      ],
      "metadata": {
        "id": "-OrMb_0EgHBJ"
      }
    },
    {
      "cell_type": "markdown",
      "source": [
        "**5.What about this code—what’s the output, and why?**\n",
        "\n",
        "&gt;&gt;&gt; X = &#39;iNeuron&#39;\n",
        "\n",
        "&gt;&gt;&gt; def func():\n",
        "\n",
        "X = &#39;NI&#39;\n",
        "\n",
        "def nested():\n",
        "\n",
        "print(X)\n",
        "\n",
        "nested()\n",
        "\n",
        "&gt;&gt;&gt; func()\n",
        "\n",
        "&gt;&gt;&gt; X"
      ],
      "metadata": {
        "id": "FjDgUWATgPbV"
      }
    },
    {
      "cell_type": "markdown",
      "source": [
        "The code will print \"NI\" and then \"iNeuron\".\n",
        "When the function func() is called, it assigns a new value to the local variable X which is 'NI' and then it defines a nested function nested() which has access to the parent function's scope , so it can access the value of the local variable X and print it. The nested function is called and it will print the value of local variable X which is 'NI'.\n",
        "After the function call, when you try to print the variable X it will print the value of the global variable X which is 'iNeuron' because the local variable X defined inside the function goes out of scope after the function call and it doesn't affect the global variable.\n",
        "In short, the function func() assigns a new value to the local variable X which is 'NI' and defines a nested function that prints the value of that local variable. After the nested function call, the global variable X is printed and it still holds the original value 'iNeuron'."
      ],
      "metadata": {
        "id": "n2G7Q1YzglUU"
      }
    },
    {
      "cell_type": "markdown",
      "source": [
        "**6.How about this code: what is its output in Python 3, and explain?**\n",
        "\n",
        "&gt;&gt;&gt; def func():\n",
        "\n",
        "X = &#39;NI&#39;\n",
        "\n",
        "def nested():\n",
        "\n",
        "nonlocal X\n",
        "\n",
        "X = &#39;Spam&#39;\n",
        "\n",
        "nested()\n",
        "\n",
        "print(X)\n",
        "\n",
        "&gt;&gt;&gt; func()"
      ],
      "metadata": {
        "id": "wAZ_UWV2g3YI"
      }
    },
    {
      "cell_type": "markdown",
      "source": [
        "The code will print \"Spam\".\n",
        "\n",
        "The nonlocal keyword inside the function nested() tells Python that the variable X being assigned is the nonlocal variable, rather than a new local variable. The nonlocal keyword is used to indicate that a variable is nonlocal to the current scope, which means that it is defined in an enclosing scope.\n",
        "\n",
        "In this case, the variable X is defined in the outer function func() and is assigned a value 'NI', and the nested function nested() is defined within the scope of func(). nested() function uses nonlocal keyword to access and modify the value of the nonlocal variable X to 'Spam'.\n",
        "After the nested function call, the outer function func() prints the value of X which is 'Spam' as it was modified by the nested function.\n",
        "\n",
        "In short, the nested function nested() uses the nonlocal keyword to change the value of the nonlocal variable X to 'Spam' and the outer function func() prints the value of the nonlocal variable X which is 'Spam' as a result."
      ],
      "metadata": {
        "id": "ZBh2QnZ-hHCe"
      }
    },
    {
      "cell_type": "code",
      "execution_count": null,
      "metadata": {
        "id": "5ZOZF4M_VExI"
      },
      "outputs": [],
      "source": []
    }
  ]
}