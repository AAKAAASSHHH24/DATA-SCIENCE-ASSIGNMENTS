{
  "nbformat": 4,
  "nbformat_minor": 0,
  "metadata": {
    "colab": {
      "provenance": []
    },
    "kernelspec": {
      "name": "python3",
      "display_name": "Python 3"
    },
    "language_info": {
      "name": "python"
    }
  },
  "cells": [
    {
      "cell_type": "markdown",
      "source": [
        "**1. What advantages do Excel spreadsheets have over CSV spreadsheets?**\n"
      ],
      "metadata": {
        "id": "c8GOFy61KYsN"
      }
    },
    {
      "cell_type": "markdown",
      "source": [
        "Excel spreadsheets have several advantages over CSV spreadsheets, including:\n",
        "\n",
        "Better formatting options: Excel spreadsheets have more formatting options than CSV spreadsheets, allowing for better organization and presentation of data.\n",
        "\n",
        "Built-in formulas and functions: Excel spreadsheets have a wide range of built-in formulas and functions that can perform complex calculations on data, which can be very useful for analyzing and processing large amounts of data.\n",
        "\n",
        "Graphical representation: Excel spreadsheets have powerful charting and graphing capabilities, allowing you to create and display data in graphical form, making it easier to understand and present to others.\n",
        "\n",
        "Interactivity: Excel spreadsheets allow for interactivity, such as the ability to sort and filter data, add drop-down menus, and more, making it easier to work with data and make changes to it."
      ],
      "metadata": {
        "id": "DUXaH69XKm9s"
      }
    },
    {
      "cell_type": "markdown",
      "source": [
        "**2.What do you pass to csv.reader() and csv.writer() to create reader and writer objects?**\n"
      ],
      "metadata": {
        "id": "g__Q45tbKgDr"
      }
    },
    {
      "cell_type": "markdown",
      "source": [
        "To create a reader object using the csv module, you pass a file object that has been opened in read mode to the csv.reader() function. To create a writer object, you pass a file object that has been opened in write mode to the csv.writer() function. Here's an example:"
      ],
      "metadata": {
        "id": "e9WPGKkvKwGL"
      }
    },
    {
      "cell_type": "code",
      "source": [
        "import csv\n",
        "\n",
        "# Create a reader object\n",
        "with open(\"data.csv\", \"r\") as file:\n",
        "    reader = csv.reader(file)\n",
        "\n",
        "# Create a writer object\n",
        "with open(\"new_data.csv\", \"w\") as file:\n",
        "    writer = csv.writer(file)\n"
      ],
      "metadata": {
        "id": "x4V6btncKyr7"
      },
      "execution_count": null,
      "outputs": []
    },
    {
      "cell_type": "markdown",
      "source": [
        "**3. What modes do File objects for reader and writer objects need to be opened in?**"
      ],
      "metadata": {
        "id": "vKw3YPFZKjKG"
      }
    },
    {
      "cell_type": "markdown",
      "source": [
        "To create a reader object, the file object must be opened in read mode (\"r\"). To create a writer object, the file object must be opened in write mode (\"w\"). If you want to append data to an existing file, the file object must be opened in append mode (\"a\")."
      ],
      "metadata": {
        "id": "DlabLUTmK6An"
      }
    },
    {
      "cell_type": "markdown",
      "source": [
        "**4. What method takes a list argument and writes it to a CSV file?**\n"
      ],
      "metadata": {
        "id": "SJGmG0w9LDyV"
      }
    },
    {
      "cell_type": "markdown",
      "source": [
        "The csv.writer object has a method called writerows that takes a list of lists as an argument and writes it to a CSV file. Here's an example:"
      ],
      "metadata": {
        "id": "UaDxSy8xLSsX"
      }
    },
    {
      "cell_type": "code",
      "source": [
        "import csv\n",
        "\n",
        "# Data to write to a CSV file\n",
        "data = [[\"Name\", \"Age\"],\n",
        "        [\"John Doe\", 30],\n",
        "        [\"Jane Doe\", 25]]\n",
        "\n",
        "# Create a writer object\n",
        "with open(\"data.csv\", \"w\") as file:\n",
        "    writer = csv.writer(file)\n",
        "    \n",
        "    # Write the data to the CSV file\n",
        "    writer.writerows(data)\n"
      ],
      "metadata": {
        "id": "LWFd9352LVyG"
      },
      "execution_count": null,
      "outputs": []
    },
    {
      "cell_type": "markdown",
      "source": [
        "**5. What do the keyword arguments delimiter and line terminator do?**\n"
      ],
      "metadata": {
        "id": "83e1raVmLHep"
      }
    },
    {
      "cell_type": "markdown",
      "source": [
        "The delimiter keyword argument of the csv.writer object specifies the character that separates the values in each row of the CSV file. By default, it is a comma. The line terminator keyword argument of the csv.writer object specifies the string that is used to separate rows in the CSV file. By default, it is the newline character, \\n."
      ],
      "metadata": {
        "id": "b4bZgQ14LZ8s"
      }
    },
    {
      "cell_type": "markdown",
      "source": [
        "**6. What function takes a string of JSON data and returns a Python data structure?**\n"
      ],
      "metadata": {
        "id": "LuhoV7T2LKgh"
      }
    },
    {
      "cell_type": "markdown",
      "source": [
        "The json module has a function called json.loads that takes a string of JSON data and returns a Python data structure (e.g., a dictionary or a list). Here's an example:"
      ],
      "metadata": {
        "id": "SgdYqhspLdmE"
      }
    },
    {
      "cell_type": "code",
      "source": [
        "import json\n",
        "\n",
        "# JSON data\n",
        "data = '{\"Name\": \"John Doe\", \"Age\": 30}'\n",
        "\n",
        "# Convert the JSON data to a Python data structure\n",
        "python_data = json.loads(data)\n"
      ],
      "metadata": {
        "id": "he0fjxV0LgiG"
      },
      "execution_count": null,
      "outputs": []
    },
    {
      "cell_type": "markdown",
      "source": [
        "**7. What function takes a Python data structure and returns a string of JSON data?**"
      ],
      "metadata": {
        "id": "e9s5LRGQLNSP"
      }
    },
    {
      "cell_type": "markdown",
      "source": [
        "The json module has a function called json.dumps that takes a Python data structure and returns a string of JSON data. Here's an example:"
      ],
      "metadata": {
        "id": "wzbBFcHjLk2r"
      }
    },
    {
      "cell_type": "code",
      "execution_count": null,
      "metadata": {
        "id": "ZxUUK_W2KX7p"
      },
      "outputs": [],
      "source": [
        "import json\n",
        "\n",
        "# Python data\n",
        "python_data = {\"Name\": \"John Doe\", \"Age\": 30}\n",
        "\n",
        "# Convert the Python data to JSON data\n",
        "json_data = json.dumps(python_data)\n"
      ]
    }
  ]
}