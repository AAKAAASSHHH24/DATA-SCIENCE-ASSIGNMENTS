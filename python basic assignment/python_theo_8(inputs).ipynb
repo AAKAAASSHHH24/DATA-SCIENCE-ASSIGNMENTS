{
  "nbformat": 4,
  "nbformat_minor": 0,
  "metadata": {
    "colab": {
      "provenance": []
    },
    "kernelspec": {
      "name": "python3",
      "display_name": "Python 3"
    },
    "language_info": {
      "name": "python"
    }
  },
  "cells": [
    {
      "cell_type": "markdown",
      "source": [
        "**1. Is the Python Standard Library included with PyInputPlus?**\n"
      ],
      "metadata": {
        "id": "6oKF2rGPbX4c"
      }
    },
    {
      "cell_type": "markdown",
      "source": [
        "PyInputPlus is not part of the Python Standard Library. It is an additional library that can be installed and used in Python."
      ],
      "metadata": {
        "id": "bUGZHx47bpah"
      }
    },
    {
      "cell_type": "markdown",
      "source": [
        "**2. Why is PyInputPlus commonly imported with import pyinputplus as pypi?**\n"
      ],
      "metadata": {
        "id": "sGu-Mc5mbf01"
      }
    },
    {
      "cell_type": "markdown",
      "source": [
        "PyInputPlus is commonly imported with \"import pyinputplus as pypi\" as an abbreviation to make it easier to reference later in the code."
      ],
      "metadata": {
        "id": "ny60UeGobthS"
      }
    },
    {
      "cell_type": "markdown",
      "source": [
        "**3. How do you distinguish between inputInt() and inputFloat()?**"
      ],
      "metadata": {
        "id": "ieDEXLUtbkCp"
      }
    },
    {
      "cell_type": "markdown",
      "source": [
        "inputInt() and inputFloat() are both functions in PyInputPlus that are used to retrieve user input. The difference between the two functions is that inputInt() retrieves and returns an integer value, while inputFloat() retrieves and returns a floating-point value.\n",
        "\n",
        "\n",
        "\n"
      ],
      "metadata": {
        "id": "KCF7IpGnbxJY"
      }
    },
    {
      "cell_type": "markdown",
      "source": [
        "**4. Using PyInputPlus, how do you ensure that the user enters a whole number between 0 and 99?**\n"
      ],
      "metadata": {
        "id": "HzXHlDRDcKAZ"
      }
    },
    {
      "cell_type": "markdown",
      "source": [
        "To ensure that the user enters a whole number between 0 and 99 using PyInputPlus, you can use the following code:"
      ],
      "metadata": {
        "id": "FKO_eojtcZ5o"
      }
    },
    {
      "cell_type": "code",
      "source": [
        "import pyinputplus as pypi\n",
        "\n",
        "response = pypi.inputInt(min=0, max=99)\n"
      ],
      "metadata": {
        "id": "jQlhMwlUccXb"
      },
      "execution_count": null,
      "outputs": []
    },
    {
      "cell_type": "markdown",
      "source": [
        "**5. What is transferred to the keyword arguments allowRegexes and blockRegexes?**\n"
      ],
      "metadata": {
        "id": "DcIHldRIcNtN"
      }
    },
    {
      "cell_type": "markdown",
      "source": [
        "The keyword arguments allowRegexes and blockRegexes in PyInputPlus are used to specify regular expressions for acceptable and unacceptable input, respectively. These regular expressions define what input is accepted or blocked by the function."
      ],
      "metadata": {
        "id": "AOKoLqhRcg2q"
      }
    },
    {
      "cell_type": "markdown",
      "source": [
        "**6. If a blank input is entered three times, what does inputStr(limit=3) do?**\n"
      ],
      "metadata": {
        "id": "80-nG_thcRht"
      }
    },
    {
      "cell_type": "markdown",
      "source": [
        "If a blank input is entered three times, inputStr(limit=3) will raise a RetryLimitException after the third attempt, indicating that the maximum number of retries has been reached.\n",
        "\n"
      ],
      "metadata": {
        "id": "dUfAfBvRckKQ"
      }
    },
    {
      "cell_type": "markdown",
      "source": [
        "**7. If blank input is entered three times, what does inputStr(limit=3, default=&#39;hello&#39;) do?**"
      ],
      "metadata": {
        "id": "-aMQPScvcVuA"
      }
    },
    {
      "cell_type": "markdown",
      "source": [
        "If a blank input is entered three times, inputStr(limit=3, default='hello') will automatically return the value 'hello' after the third attempt, since the default argument specifies a default value to be returned if the maximum number of retries is reached."
      ],
      "metadata": {
        "id": "0g2WsiY2cnT4"
      }
    },
    {
      "cell_type": "code",
      "execution_count": null,
      "metadata": {
        "id": "n9qNMc0JbW6W"
      },
      "outputs": [],
      "source": []
    }
  ]
}