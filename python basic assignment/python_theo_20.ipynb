{
  "nbformat": 4,
  "nbformat_minor": 0,
  "metadata": {
    "colab": {
      "provenance": []
    },
    "kernelspec": {
      "name": "python3",
      "display_name": "Python 3"
    },
    "language_info": {
      "name": "python"
    }
  },
  "cells": [
    {
      "cell_type": "markdown",
      "source": [
        "**1.Set the variable test1 to the string &#39;This is a test of the emergency text system,&#39; and save test1 to a\n",
        "file named test.txt.**\n",
        "\n",
        "**2.Read the contents of the file test.txt into the variable test2. Is there a difference between test 1\n",
        "and test 2?**"
      ],
      "metadata": {
        "id": "tmqyd9N6qmh0"
      }
    },
    {
      "cell_type": "markdown",
      "source": [
        "Here's an example of how you can set the variable test1 to the string 'This is a test of the emergency text system,' and save it to a file named test.txt in Python:"
      ],
      "metadata": {
        "id": "ON8_D9dxq0Fj"
      }
    },
    {
      "cell_type": "code",
      "source": [
        "test1 = 'This is a test of the emergency text system,'\n",
        "\n",
        "# open the file in write mode and write the contents of test1\n",
        "with open(\"test.txt\", \"w\") as file:\n",
        "    file.write(test1)"
      ],
      "metadata": {
        "id": "6QymQj-dq3Ys"
      },
      "execution_count": null,
      "outputs": []
    },
    {
      "cell_type": "markdown",
      "source": [
        "To read the contents of the file test.txt into the variable test2, you can use the following code:"
      ],
      "metadata": {
        "id": "fI71uxhprI9A"
      }
    },
    {
      "cell_type": "code",
      "source": [
        "with open(\"test.txt\", \"r\") as file:\n",
        "    test2 = file.read()"
      ],
      "metadata": {
        "id": "x8Oi_zW2rLZi"
      },
      "execution_count": null,
      "outputs": []
    },
    {
      "cell_type": "markdown",
      "source": [
        "The contents of test1 and test2 should be identical as they are being read from the same file.\n",
        "It's worth noting that the read() method reads the entire contents of the file and returns a string."
      ],
      "metadata": {
        "id": "K0MA9gvSrP5N"
      }
    },
    {
      "cell_type": "markdown",
      "source": [
        "**3.Create a CSV file called books.csv by using these lines:**\n",
        "\n",
        "title,author,year\n",
        "\n",
        "The Weirdstone of Brisingamen,Alan Garner,1960\n",
        "\n",
        "Perdido Street Station,China Miéville,2000\n",
        "\n",
        "Thud!,Terry Pratchett,2005\n",
        "\n",
        "The Spellman Files,Lisa Lutz,2007\n",
        "\n",
        "Small Gods,Terry Pratchett,1992"
      ],
      "metadata": {
        "id": "Z6SMJoQ8tRp5"
      }
    },
    {
      "cell_type": "code",
      "source": [
        "import csv\n",
        "\n",
        "# Create a list of book information\n",
        "books = [\n",
        "    [\"The Weirdstone of Brisingamen\", \"Alan Garner\", 1960],\n",
        "    [\"Perdido Street Station\", \"China Miéville\", 2000],\n",
        "    [\"Thud!\", \"Terry Pratchett\", 2005],\n",
        "    [\"The Spellman Files\", \"Lisa Lutz\", 2007],\n",
        "    [\"Small Gods\", \"Terry Pratchett\", 1992]\n",
        "]\n",
        "\n",
        "# Create a CSV file and write the book information to it\n",
        "with open(\"books.csv\", \"w\", newline=\"\") as file:\n",
        "    writer = csv.writer(file)\n",
        "    writer.writerow([\"title\", \"author\", \"year\"])\n",
        "    writer.writerows(books)\n"
      ],
      "metadata": {
        "id": "4PplNwRvrQhG"
      },
      "execution_count": 2,
      "outputs": []
    },
    {
      "cell_type": "markdown",
      "source": [
        "**4.Use the sqlite3 module to create a SQLite database called books.db, and a table called books with\n",
        "these fields: title (text), author (text), and year (integer).**"
      ],
      "metadata": {
        "id": "_thrvpm3uVJp"
      }
    },
    {
      "cell_type": "code",
      "source": [
        "import sqlite3\n",
        "\n",
        "# Connect to or create the database\n",
        "conn = sqlite3.connect(\"books.db\")\n",
        "\n",
        "# Create a cursor\n",
        "c = conn.cursor()\n",
        "\n",
        "# Create the table\n",
        "c.execute('''CREATE TABLE books (title TEXT, author TEXT, year INTEGER)''')\n",
        "\n",
        "# Commit the changes and close the connection\n",
        "conn.commit()\n",
        "conn.close()\n"
      ],
      "metadata": {
        "id": "c8lsIF60tK0D"
      },
      "execution_count": 3,
      "outputs": []
    },
    {
      "cell_type": "markdown",
      "source": [
        "This will create a database called \"books.db\" in the current working directory and a table called \"books\" with the fields \"title\", \"author\", and \"year\".\n",
        "Once you have created the table, you can insert data into it by running SQL INSERT statement using the execute() method."
      ],
      "metadata": {
        "id": "_NJlh2t6uhMM"
      }
    },
    {
      "cell_type": "code",
      "source": [
        "c.execute(\"INSERT INTO books VALUES ('The Weirdstone of Brisingamen', 'Alan Garner', 1960)\")\n",
        "c.execute(\"INSERT INTO books VALUES ('Perdido Street Station', 'China Miéville', 2000)\")\n",
        "c.execute(\"INSERT INTO books VALUES ('Thud!', 'Terry Pratchett', 2005)\")\n",
        "c.execute(\"INSERT INTO books VALUES ('The Spellman Files', 'Lisa Lutz', 2007)\")\n",
        "c.execute(\"INSERT INTO books VALUES ('Small Gods', 'Terry Pratchett', 1992)\")\n",
        "conn.commit()\n"
      ],
      "metadata": {
        "id": "vWJVEtyBucc6"
      },
      "execution_count": null,
      "outputs": []
    },
    {
      "cell_type": "markdown",
      "source": [
        "This is just a basic example of how to create a table and insert data into it using sqlite3 module, you can also use other methods such as executemany() to insert multiple records at once.\n",
        "\n",
        "You should also remember to close the connection to the database after you are done using it, otherwise it might cause issues and also it's a good practice."
      ],
      "metadata": {
        "id": "VZjBNZqCu1dD"
      }
    },
    {
      "cell_type": "markdown",
      "source": [
        "**9.Install the Redis server and the Python redis library (pip install redis) on your computer. Create a\n",
        "Redis hash called test with the fields count (1) and name (&#39;Fester Bestertester&#39;). Print all the fields for\n",
        "test.**\n",
        "\n",
        "**10. Increment the count field of test and print it.**"
      ],
      "metadata": {
        "id": "IyIGGFi2x907"
      }
    },
    {
      "cell_type": "markdown",
      "source": [
        "To install the Redis server and the Python redis library on your computer, you can use the following commands:"
      ],
      "metadata": {
        "id": "_c8izi8cyG5k"
      }
    },
    {
      "cell_type": "code",
      "source": [
        "# Install Redis server\n",
        "!sudo apt-get install redis-server\n",
        "\n",
        "# Install the Python redis library\n",
        "!pip install redis\n"
      ],
      "metadata": {
        "colab": {
          "base_uri": "https://localhost:8080/"
        },
        "id": "IFNWKL1guko3",
        "outputId": "9f7e6aae-4583-41d7-b53b-978c88165fbf"
      },
      "execution_count": 6,
      "outputs": [
        {
          "output_type": "stream",
          "name": "stdout",
          "text": [
            "Reading package lists... Done\n",
            "Building dependency tree       \n",
            "Reading state information... Done\n",
            "The following package was automatically installed and is no longer required:\n",
            "  libnvidia-common-460\n",
            "Use 'sudo apt autoremove' to remove it.\n",
            "The following additional packages will be installed:\n",
            "  libjemalloc1 redis-tools\n",
            "Suggested packages:\n",
            "  ruby-redis\n",
            "The following NEW packages will be installed:\n",
            "  libjemalloc1 redis-server redis-tools\n",
            "0 upgraded, 3 newly installed, 0 to remove and 21 not upgraded.\n",
            "Need to get 634 kB of archives.\n",
            "After this operation, 3,012 kB of additional disk space will be used.\n",
            "Get:1 http://archive.ubuntu.com/ubuntu bionic/universe amd64 libjemalloc1 amd64 3.6.0-11 [82.4 kB]\n",
            "Get:2 http://archive.ubuntu.com/ubuntu bionic-updates/universe amd64 redis-tools amd64 5:4.0.9-1ubuntu0.2 [516 kB]\n",
            "Get:3 http://archive.ubuntu.com/ubuntu bionic-updates/universe amd64 redis-server amd64 5:4.0.9-1ubuntu0.2 [35.4 kB]\n",
            "Fetched 634 kB in 1s (519 kB/s)\n",
            "debconf: unable to initialize frontend: Dialog\n",
            "debconf: (No usable dialog-like program is installed, so the dialog based frontend cannot be used. at /usr/share/perl5/Debconf/FrontEnd/Dialog.pm line 76, <> line 3.)\n",
            "debconf: falling back to frontend: Readline\n",
            "debconf: unable to initialize frontend: Readline\n",
            "debconf: (This frontend requires a controlling tty.)\n",
            "debconf: falling back to frontend: Teletype\n",
            "dpkg-preconfigure: unable to re-open stdin: \n",
            "Selecting previously unselected package libjemalloc1.\n",
            "(Reading database ... 124016 files and directories currently installed.)\n",
            "Preparing to unpack .../libjemalloc1_3.6.0-11_amd64.deb ...\n",
            "Unpacking libjemalloc1 (3.6.0-11) ...\n",
            "Selecting previously unselected package redis-tools.\n",
            "Preparing to unpack .../redis-tools_5%3a4.0.9-1ubuntu0.2_amd64.deb ...\n",
            "Unpacking redis-tools (5:4.0.9-1ubuntu0.2) ...\n",
            "Selecting previously unselected package redis-server.\n",
            "Preparing to unpack .../redis-server_5%3a4.0.9-1ubuntu0.2_amd64.deb ...\n",
            "Unpacking redis-server (5:4.0.9-1ubuntu0.2) ...\n",
            "Setting up libjemalloc1 (3.6.0-11) ...\n",
            "Setting up redis-tools (5:4.0.9-1ubuntu0.2) ...\n",
            "Setting up redis-server (5:4.0.9-1ubuntu0.2) ...\n",
            "invoke-rc.d: could not determine current runlevel\n",
            "invoke-rc.d: policy-rc.d denied execution of start.\n",
            "Created symlink /etc/systemd/system/redis.service → /lib/systemd/system/redis-server.service.\n",
            "Created symlink /etc/systemd/system/multi-user.target.wants/redis-server.service → /lib/systemd/system/redis-server.service.\n",
            "Processing triggers for systemd (237-3ubuntu10.56) ...\n",
            "Processing triggers for man-db (2.8.3-2ubuntu0.1) ...\n",
            "Processing triggers for libc-bin (2.27-3ubuntu1.6) ...\n",
            "Looking in indexes: https://pypi.org/simple, https://us-python.pkg.dev/colab-wheels/public/simple/\n",
            "Collecting redis\n",
            "  Downloading redis-4.4.2-py3-none-any.whl (237 kB)\n",
            "\u001b[2K     \u001b[90m━━━━━━━━━━━━━━━━━━━━━━━━━━━━━━━━━━━━━━\u001b[0m \u001b[32m237.8/237.8 KB\u001b[0m \u001b[31m10.0 MB/s\u001b[0m eta \u001b[36m0:00:00\u001b[0m\n",
            "\u001b[?25hRequirement already satisfied: async-timeout>=4.0.2 in /usr/local/lib/python3.8/dist-packages (from redis) (4.0.2)\n",
            "Installing collected packages: redis\n",
            "Successfully installed redis-4.4.2\n"
          ]
        }
      ]
    },
    {
      "cell_type": "markdown",
      "source": [
        "Once the installation is complete, you can use the Python redis library to create a Redis hash called \"test\" with the fields \"count\" (1) and \"name\" ('Fester Bestertester') using the following code:"
      ],
      "metadata": {
        "id": "Vb28mK2VyUUs"
      }
    },
    {
      "cell_type": "code",
      "source": [
        "import redis\n",
        "\n",
        "# Connect to Redis server\n",
        "r = redis.Redis(host='localhost', port=6379, db=0)\n",
        "\n",
        "# Create a hash called \"test\" with fields \"count\" and \"name\"\n",
        "r.hmset(\"test\", {\"count\": \"1\", \"name\": \"Fester Bestertester\"})\n",
        "\n",
        "# Print all fields for \"test\"\n",
        "print(r.hgetall(\"test\"))\n"
      ],
      "metadata": {
        "id": "MDiL_tf4yJh1"
      },
      "execution_count": null,
      "outputs": []
    },
    {
      "cell_type": "markdown",
      "source": [
        "To increment the \"count\" field of \"test\" and print it, you can use the following code snippet:"
      ],
      "metadata": {
        "id": "4TAGKKBSyoCX"
      }
    },
    {
      "cell_type": "code",
      "source": [
        "import redis\n",
        "r = redis.Redis(host='localhost', port=6379, db=0)\n",
        "\n",
        "# increment the count field by 1\n",
        "r.hincrby(\"test\", \"count\", 1)\n",
        "\n",
        "# print the count field\n",
        "print(r.hget(\"test\", \"count\"))\n"
      ],
      "metadata": {
        "id": "FARZuZX8yX2a"
      },
      "execution_count": null,
      "outputs": []
    },
    {
      "cell_type": "code",
      "source": [],
      "metadata": {
        "id": "d_mS6mJhyqyk"
      },
      "execution_count": null,
      "outputs": []
    }
  ]
}