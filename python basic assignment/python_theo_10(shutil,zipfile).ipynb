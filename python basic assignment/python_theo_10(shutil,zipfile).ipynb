{
  "nbformat": 4,
  "nbformat_minor": 0,
  "metadata": {
    "colab": {
      "provenance": []
    },
    "kernelspec": {
      "name": "python3",
      "display_name": "Python 3"
    },
    "language_info": {
      "name": "python"
    }
  },
  "cells": [
    {
      "cell_type": "markdown",
      "source": [
        "**1. How do you distinguish between shutil.copy() and shutil.copytree()?**\n"
      ],
      "metadata": {
        "id": "SlxYbGf6UFo6"
      }
    },
    {
      "cell_type": "markdown",
      "source": [
        "shutil.copy() copies a single file to a destination location, while shutil.copytree() copies an entire directory, including all its contents and subdirectories, to a destination location."
      ],
      "metadata": {
        "id": "xmUucj9VUY7K"
      }
    },
    {
      "cell_type": "code",
      "source": [
        "import shutil\n",
        "\n",
        "# shutil.copy() is used to copy a single file to another location\n",
        "shutil.copy(\"file1.txt\", \"destination_folder/file1_copy.txt\")\n",
        "\n",
        "# shutil.copytree() is used to copy an entire directory to another location\n",
        "shutil.copytree(\"source_folder\", \"destination_folder\")\n"
      ],
      "metadata": {
        "id": "h6gjZ6HGUf6i"
      },
      "execution_count": null,
      "outputs": []
    },
    {
      "cell_type": "markdown",
      "source": [
        "**2. What function is used to rename files??**\n"
      ],
      "metadata": {
        "id": "txhqWBLqUJJl"
      }
    },
    {
      "cell_type": "code",
      "source": [
        "import shutil\n",
        "\n",
        "# Rename a file\n",
        "shutil.move(\"old_file_name.txt\", \"new_file_name.txt\")\n"
      ],
      "metadata": {
        "id": "6S1RhNMQUmUN"
      },
      "execution_count": null,
      "outputs": []
    },
    {
      "cell_type": "markdown",
      "source": [
        "**3. What is the difference between the delete functions in the send2trash and shutil modules?**"
      ],
      "metadata": {
        "id": "OAzjHZIxUME5"
      }
    },
    {
      "cell_type": "markdown",
      "source": [
        "The difference between the delete functions in the send2trash and shutil modules:\n",
        "send2trash is used to move files to the trash or recycle bin, rather than permanently deleting them."
      ],
      "metadata": {
        "id": "BA6OjuRTUuba"
      }
    },
    {
      "cell_type": "code",
      "execution_count": null,
      "metadata": {
        "id": "yWwaJg38T8Ta"
      },
      "outputs": [],
      "source": [
        "import send2trash\n",
        "\n",
        "# Move a file to the trash or recycle bin\n",
        "send2trash.send2trash(\"file_to_delete.txt\")\n"
      ]
    },
    {
      "cell_type": "markdown",
      "source": [
        "shutil's rmtree() function is used to permanently delete a directory and all its contents."
      ],
      "metadata": {
        "id": "t2QRlyyCU1N3"
      }
    },
    {
      "cell_type": "code",
      "source": [
        "import shutil\n",
        "\n",
        "# Permanently delete a directory and its contents\n",
        "shutil.rmtree(\"folder_to_delete\")\n"
      ],
      "metadata": {
        "id": "VAUaXv7HU3uR"
      },
      "execution_count": null,
      "outputs": []
    },
    {
      "cell_type": "markdown",
      "source": [
        "**4.ZipFile objects have a close() method just like File objects’ close() method. What ZipFile method is\n",
        "equivalent to File objects’ open() method?**\n"
      ],
      "metadata": {
        "id": "zDnA9nszVBtC"
      }
    },
    {
      "cell_type": "markdown",
      "source": [
        "The equivalent of File object's open() method in ZipFile objects is the ZipFile() constructor."
      ],
      "metadata": {
        "id": "0UhQwD7XVSHS"
      }
    },
    {
      "cell_type": "markdown",
      "source": [
        "**5. Create a programme that searches a folder tree for files with a certain file extension (such as .pdf\n",
        "or .jpg). Copy these files from whatever location they are in to a new folder.**"
      ],
      "metadata": {
        "id": "xRJjRusPVFYa"
      }
    },
    {
      "cell_type": "markdown",
      "source": [
        "Here is an example of searching a folder tree for files with a certain extension and copying them to a new folder:"
      ],
      "metadata": {
        "id": "-dJF1A-vVYr_"
      }
    },
    {
      "cell_type": "code",
      "source": [
        "import os\n",
        "import shutil\n",
        "\n",
        "def search_and_copy(src_folder, dst_folder, file_extension):\n",
        "    for folder_name, sub_folders, file_names in os.walk(src_folder):\n",
        "        for file_name in file_names:\n",
        "            if file_name.endswith(file_extension):\n",
        "                shutil.copy(os.path.join(folder_name, file_name), dst_folder)\n",
        "\n",
        "search_and_copy(\"/path/to/src/folder\", \"/path/to/dst/folder\", \".pdf\")\n"
      ],
      "metadata": {
        "id": "MS44K3Z_VEse"
      },
      "execution_count": null,
      "outputs": []
    }
  ]
}