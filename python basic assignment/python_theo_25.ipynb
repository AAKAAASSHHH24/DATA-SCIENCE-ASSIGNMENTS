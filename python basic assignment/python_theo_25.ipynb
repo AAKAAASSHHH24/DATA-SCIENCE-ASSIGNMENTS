{
  "nbformat": 4,
  "nbformat_minor": 0,
  "metadata": {
    "colab": {
      "provenance": []
    },
    "kernelspec": {
      "name": "python3",
      "display_name": "Python 3"
    },
    "language_info": {
      "name": "python"
    }
  },
  "cells": [
    {
      "cell_type": "markdown",
      "source": [
        "**1) . What is the difference between enclosing a list comprehension in square brackets and\n",
        "parentheses?**"
      ],
      "metadata": {
        "id": "xB9hDcA1SfjV"
      }
    },
    {
      "cell_type": "markdown",
      "source": [
        "The difference between enclosing a list comprehension in square brackets and parentheses is that square brackets create a list, while parentheses create a generator expression.\n",
        "A list comprehension creates a new list, and the entire list is stored in memory. This can be useful if you need to perform multiple operations on the list, or if you need to access specific elements in the list multiple times.\n",
        "\n",
        "On the other hand, a generator expression creates a generator object, which is an iterator that generates values on the fly, rather than creating an entire list in memory at once. This can be more memory efficient if the list comprehension produces a large number of items, or if you only need to iterate over the items once.\n",
        "\n",
        "Syntactically the difference is that list comprehension is enclosed in square brackets [] , while generator expression uses parentheses ()\n",
        "\n",
        "Example :"
      ],
      "metadata": {
        "id": "oEf4yyjBSlFg"
      }
    },
    {
      "cell_type": "code",
      "execution_count": 1,
      "metadata": {
        "id": "3YeqysIrSSH2"
      },
      "outputs": [],
      "source": [
        "# List comprehension\n",
        "squared_numbers = [x**2 for x in range(10)]\n",
        "\n",
        "# Generator expression\n",
        "squared_numbers = (x**2 for x in range(10))\n"
      ]
    },
    {
      "cell_type": "markdown",
      "source": [
        "Here squared_numbers in the first example will be a list, while in the second it will be a generator object."
      ],
      "metadata": {
        "id": "yjbWDW6GSurG"
      }
    },
    {
      "cell_type": "markdown",
      "source": [
        "**2) What is the relationship between generators and iterators?**"
      ],
      "metadata": {
        "id": "gKaTidpES8WX"
      }
    },
    {
      "cell_type": "markdown",
      "source": [
        "Generators and iterators are closely related in Python.\n",
        "\n",
        "An iterator is an object that implements the iterator protocol, which consists of two methods: '__iter__' and '__next__'. The __iter__ method returns the iterator object itself, and the __next__ method returns the next item in the iteration. If there are no more items to return, __next__ raises a StopIteration exception.\n",
        "\n",
        "A generator is a special kind of iterator. It is a function that can be paused and resumed, and it automatically implements the iterator protocol by using the yield statement. When a generator function is called, it returns a generator object, which can be used in a for loop, or can be passed to the next() function to get the next item in the iteration.\n",
        "\n",
        "The key difference between a generator and an iterator is that generator uses yield statement, that allows to return multiple values during execution while iterator only returns one value at a time.\n",
        "\n",
        "Example :"
      ],
      "metadata": {
        "id": "ApwegFLFTBer"
      }
    },
    {
      "cell_type": "markdown",
      "source": [
        "**3) What are the signs that a function is a generator function?**\n"
      ],
      "metadata": {
        "id": "vQQivMKOfARG"
      }
    },
    {
      "cell_type": "markdown",
      "source": [
        "A generator function is defined like a normal function, but uses the yield statement to return a generator object."
      ],
      "metadata": {
        "id": "yQbbIom1fRqZ"
      }
    },
    {
      "cell_type": "markdown",
      "source": [
        "**4) What is the purpose of a yield statement?**"
      ],
      "metadata": {
        "id": "xYFixz9pfIiQ"
      }
    },
    {
      "cell_type": "markdown",
      "source": [
        "The yield statement is used in a function definition to indicate that the function should be a generator. When called, it returns an iterator object that can be used to traverse a series of values that are produced by the generator, rather than returning a single value. Each time the iterator's __next__() method is called, the generator function is executed until it encounters the yield statement, which returns the value and suspends the function's execution. The next time __next__() is called, the function resumes execution immediately after the last yield statement, and continues until the next yield statement (if any) is encountered."
      ],
      "metadata": {
        "id": "lKboHxUhfaJn"
      }
    },
    {
      "cell_type": "code",
      "source": [
        "# Generator function\n",
        "def fibonacci():\n",
        "    a, b = 0, 1\n",
        "    while True:\n",
        "        yield a\n",
        "        a, b = b, a + b\n",
        "\n",
        "fib = fibonacci()\n",
        "\n",
        "print(next(fib)) #0\n",
        "print(next(fib)) #1\n",
        "print(next(fib)) #1\n"
      ],
      "metadata": {
        "colab": {
          "base_uri": "https://localhost:8080/"
        },
        "id": "m8WimQTzSowi",
        "outputId": "8a651229-d160-48f0-8ccf-3b50c9ce3a7a"
      },
      "execution_count": 2,
      "outputs": [
        {
          "output_type": "stream",
          "name": "stdout",
          "text": [
            "0\n",
            "1\n",
            "1\n"
          ]
        }
      ]
    },
    {
      "cell_type": "markdown",
      "source": [
        "Here, fibonacci is a generator function that returns a generator object fib. When we call the next() function on fib, it runs the generator function until it encounters the yield statement and then returns the value of a. The next time next() is called, the generator function resumes where it left off, and so on.\n",
        "\n",
        "So in short, all generators are iterators, but not all iterators are generators. Generators have yield statement which makes them more powerful than a typical iterator."
      ],
      "metadata": {
        "id": "BIP1jWTATmh0"
      }
    },
    {
      "cell_type": "markdown",
      "source": [
        "**5) What is the relationship between map calls and list comprehensions? Make a comparison and\n",
        "contrast between the two.**"
      ],
      "metadata": {
        "id": "ru7ySiKfTxxf"
      }
    },
    {
      "cell_type": "markdown",
      "source": [
        "Both map() calls and list comprehensions are used to apply a function to each item in an iterable, such as a list or a range, and return a new iterable of the results. However, they have some key differences in terms of their syntax and behavior.\n",
        "\n",
        "A map() call takes a function and an iterable as arguments, and returns a map object, which is an iterator that applies the function to each item in the iterable. The map object can be converted to a list or other iterable using the list() or tuple() functions, or it can be iterated over directly in a for loop.\n",
        "\n",
        "Example :"
      ],
      "metadata": {
        "id": "CN9t3NM0T4k3"
      }
    },
    {
      "cell_type": "code",
      "source": [
        "squared_numbers = map(lambda x: x**2, range(10))\n",
        "print(list(squared_numbers))"
      ],
      "metadata": {
        "colab": {
          "base_uri": "https://localhost:8080/"
        },
        "id": "8klT_hCsTihG",
        "outputId": "765687fa-5216-4650-fcda-5127ebeaa569"
      },
      "execution_count": 4,
      "outputs": [
        {
          "output_type": "stream",
          "name": "stdout",
          "text": [
            "[0, 1, 4, 9, 16, 25, 36, 49, 64, 81]\n"
          ]
        }
      ]
    },
    {
      "cell_type": "markdown",
      "source": [
        "A list comprehension, on the other hand, is a more concise and readable way to express the same operation. A list comprehension consists of an expression, followed by one or more for clauses, and optionally one or more if clauses. The expression is applied to each item in the iterable, and the result of the expression is returned for each item that matches the if clause(s), if any."
      ],
      "metadata": {
        "id": "aS_FKgh0eBqJ"
      }
    },
    {
      "cell_type": "code",
      "source": [
        "squared_numbers = [x**2 for x in range(10)]\n",
        "print(squared_numbers)"
      ],
      "metadata": {
        "colab": {
          "base_uri": "https://localhost:8080/"
        },
        "id": "hM-ykIBid8AW",
        "outputId": "b5687dde-9011-4f13-a5ac-1337eef258a8"
      },
      "execution_count": 3,
      "outputs": [
        {
          "output_type": "stream",
          "name": "stdout",
          "text": [
            "[0, 1, 4, 9, 16, 25, 36, 49, 64, 81]\n"
          ]
        }
      ]
    },
    {
      "cell_type": "markdown",
      "source": [
        "The main difference is that map() returns a map object (an iterator) while list comprehension returns a list, so one way you can tell the difference is that map object can be iterated over only once, while list can be iterated multiple times.\n",
        "\n",
        "Another one is readability, list comprehension is easier to read and understand compared to map calls and lambda function.\n",
        "\n",
        "In terms of performance, list comprehensions are generally faster than map calls, because they create the entire list in memory at once, while the map object generates each item on the fly when it is requested.\n",
        "\n",
        "In short, both map() calls and list comprehensions can be used to perform the same operation of applying a function to each item in an iterable, but list comprehension is more readable and has better performance, while the map() call returns an iterator which you can work with, it also allows you to work with multiple iterables in parallel."
      ],
      "metadata": {
        "id": "HfrEtDkneSCv"
      }
    },
    {
      "cell_type": "code",
      "source": [],
      "metadata": {
        "id": "WhYFd3xjeHoj"
      },
      "execution_count": null,
      "outputs": []
    }
  ]
}