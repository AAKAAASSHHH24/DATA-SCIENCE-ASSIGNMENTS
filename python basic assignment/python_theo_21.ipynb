{
  "nbformat": 4,
  "nbformat_minor": 0,
  "metadata": {
    "colab": {
      "provenance": []
    },
    "kernelspec": {
      "name": "python3",
      "display_name": "Python 3"
    },
    "language_info": {
      "name": "python"
    }
  },
  "cells": [
    {
      "cell_type": "markdown",
      "source": [
        "**1.Add the current date to the text file today.txt as a string.**\n"
      ],
      "metadata": {
        "id": "WEodOJKkjJHa"
      }
    },
    {
      "cell_type": "markdown",
      "source": [
        "To add the current date to the text file today.txt as a string, you can use the following code:"
      ],
      "metadata": {
        "id": "nRZViex9jaWq"
      }
    },
    {
      "cell_type": "code",
      "execution_count": 1,
      "metadata": {
        "id": "G2OuqW5Ui48X"
      },
      "outputs": [],
      "source": [
        "from datetime import datetime\n",
        "\n",
        "# get the current date\n",
        "now = datetime.now()\n",
        "\n",
        "# format the date as a string\n",
        "date_string = now.strftime(\"%Y-%m-%d\")\n",
        "\n",
        "# open the file and write the date string\n",
        "with open(\"today.txt\", \"w\") as file:\n",
        "    file.write(date_string)\n"
      ]
    },
    {
      "cell_type": "markdown",
      "source": [
        "**2.Read the text file today.txt into the string today_string**\n"
      ],
      "metadata": {
        "id": "ul7Tbb3PjPdB"
      }
    },
    {
      "cell_type": "markdown",
      "source": [
        "To read the text file today.txt into the string today_string, you can use the following code:"
      ],
      "metadata": {
        "id": "nm8iRbrTjsTv"
      }
    },
    {
      "cell_type": "code",
      "source": [
        "with open(\"today.txt\", \"r\") as file:\n",
        "    today_string = file.read()\n"
      ],
      "metadata": {
        "id": "-sBwZkCkjTkB"
      },
      "execution_count": 2,
      "outputs": []
    },
    {
      "cell_type": "markdown",
      "source": [
        "**3.Parse the date from today_string.**"
      ],
      "metadata": {
        "id": "Zg7IN0MljUH-"
      }
    },
    {
      "cell_type": "markdown",
      "source": [
        "To parse the date from today_string, you can use the datetime module's strptime function, specifying the format of the date string:"
      ],
      "metadata": {
        "id": "IAxkUoHej-D7"
      }
    },
    {
      "cell_type": "code",
      "source": [
        "from datetime import datetime\n",
        "date = datetime.strptime(today_string, \"%Y-%m-%d\")\n"
      ],
      "metadata": {
        "id": "HUtTO5HUjWWf"
      },
      "execution_count": 3,
      "outputs": []
    },
    {
      "cell_type": "markdown",
      "source": [
        "**4.List the files in your current directory\n",
        "5.Create a list of all of the files in your parent directory (minimum five files should be available).**"
      ],
      "metadata": {
        "id": "sVuwtuGwpfwz"
      }
    },
    {
      "cell_type": "code",
      "source": [
        "import os\n",
        "\n",
        "# list the files in the current directory\n",
        "print(\"Files in the current directory:\")\n",
        "print(os.listdir())\n",
        "\n",
        "# list the files in the parent directory\n",
        "parent_dir = os.path.dirname(os.getcwd())\n",
        "print(\"Files in the parent directory:\")\n",
        "print(os.listdir(parent_dir))\n"
      ],
      "metadata": {
        "colab": {
          "base_uri": "https://localhost:8080/"
        },
        "id": "PkiJRj8xpixb",
        "outputId": "978c0928-f2bb-4cd7-9701-81215d26842c"
      },
      "execution_count": 9,
      "outputs": [
        {
          "output_type": "stream",
          "name": "stdout",
          "text": [
            "Files in the current directory:\n",
            "['.config', 'today.txt', 'sample_data']\n",
            "Files in the parent directory:\n",
            "['tmp', 'dev', 'run', 'srv', 'proc', 'mnt', 'sys', 'bin', 'media', 'lib64', 'usr', 'home', 'lib', 'opt', 'sbin', 'var', 'etc', 'root', 'boot', 'content', '.dockerenv', 'tools', 'datalab', 'python-apt', 'lib32', 'NGC-DL-CONTAINER-LICENSE']\n"
          ]
        }
      ]
    },
    {
      "cell_type": "markdown",
      "source": [
        "It's worth noting that the strptime function raises a ValueError exception if the date string passed to it does not match the specified format."
      ],
      "metadata": {
        "id": "r8pItN4Qkdig"
      }
    },
    {
      "cell_type": "markdown",
      "source": [
        "**6.Use multiprocessing to create three separate processes. Make each one wait a random number of\n",
        "seconds between one and five, print the current time, and then exit.**"
      ],
      "metadata": {
        "id": "Np_llc39mM3c"
      }
    },
    {
      "cell_type": "markdown",
      "source": [
        "Here is an example of how you can use the multiprocessing module to create three separate processes and make each one wait a random number of seconds between one and five, print the current time, and then exit:"
      ],
      "metadata": {
        "id": "ILI61rI6mT8q"
      }
    },
    {
      "cell_type": "code",
      "source": [
        "import multiprocessing\n",
        "import time\n",
        "import random\n",
        "\n",
        "def worker():\n",
        "    delay = random.randint(1, 5)\n",
        "    time.sleep(delay)\n",
        "    print(f\"Process {multiprocessing.current_process().name} completed after {delay} seconds at {time.ctime()}\")\n",
        "\n",
        "processes = []\n",
        "for i in range(3):\n",
        "    p = multiprocessing.Process(target=worker)\n",
        "    p.start()\n",
        "    processes.append(p)\n",
        "\n",
        "for p in processes:\n",
        "    p.join()\n"
      ],
      "metadata": {
        "colab": {
          "base_uri": "https://localhost:8080/"
        },
        "id": "w6K2AUxqkBHC",
        "outputId": "5f57bce6-2144-401b-98de-d38fa85d620e"
      },
      "execution_count": 4,
      "outputs": [
        {
          "output_type": "stream",
          "name": "stdout",
          "text": [
            "Process Process-2 completed after 1 seconds at Fri Jan 13 19:28:54 2023\n",
            "Process Process-3 completed after 2 seconds at Fri Jan 13 19:28:55 2023\n",
            "Process Process-1 completed after 3 seconds at Fri Jan 13 19:28:56 2023\n"
          ]
        }
      ]
    },
    {
      "cell_type": "markdown",
      "source": [
        "This code creates a function called worker() that waits for a random number of seconds between 1 and 5, then prints the current time and the name of the process. Then, we start three processes using the multiprocessing.Process() function, passing worker function as an argument. Each process runs independently and the execution of the code continues without waiting for each process to complete.\n",
        "The join() method is used to wait for all the processes to complete before exiting the script.\n",
        "\n",
        "It's worth noting that the current_process().name return the name of the process as a string and the ctime() method returns the current time in a human-readable format."
      ],
      "metadata": {
        "id": "SLKVhd8lmnNF"
      }
    },
    {
      "cell_type": "markdown",
      "source": [
        "**7.Create a date object of your day of birth.**\n",
        "\n"
      ],
      "metadata": {
        "id": "_ehsYiKzoBEq"
      }
    },
    {
      "cell_type": "markdown",
      "source": [
        "here is an example of how you can create a date object of your day of birth in python using the datetime module and then use it to answer the next two questions:"
      ],
      "metadata": {
        "id": "bpaixObsoSNH"
      }
    },
    {
      "cell_type": "code",
      "source": [
        "from datetime import datetime, timedelta\n",
        "day_of_birth = datetime(year=1994, month=2, day=24)"
      ],
      "metadata": {
        "id": "SehtdoRbmY2W"
      },
      "execution_count": 8,
      "outputs": []
    },
    {
      "cell_type": "markdown",
      "source": [
        "**8.What day of the week was your day of birth?**\n"
      ],
      "metadata": {
        "id": "tmPg0327oGTP"
      }
    },
    {
      "cell_type": "code",
      "source": [
        "print(\"Day of the week:\", day_of_birth.strftime(\"%A\"))"
      ],
      "metadata": {
        "colab": {
          "base_uri": "https://localhost:8080/"
        },
        "id": "cyYBZYDpoKlU",
        "outputId": "7c00d29d-8b92-4ded-a288-0d9774f7f109"
      },
      "execution_count": 6,
      "outputs": [
        {
          "output_type": "stream",
          "name": "stdout",
          "text": [
            "Day of the week: Thursday\n"
          ]
        }
      ]
    },
    {
      "cell_type": "markdown",
      "source": [
        "**9.When will you be (or when were you) 10,000 days old?**"
      ],
      "metadata": {
        "id": "QmPVBVamoLPC"
      }
    },
    {
      "cell_type": "code",
      "source": [
        "ten_thousand_days_old = day_of_birth + timedelta(days=10000)\n",
        "print(\"10,000 days old:\",ten_thousand_days_old.strftime(\"%Y-%m-%d\"))"
      ],
      "metadata": {
        "colab": {
          "base_uri": "https://localhost:8080/"
        },
        "id": "OfOQlUj4oOB0",
        "outputId": "d31cc338-823d-4373-ecba-8cff2c35ceca"
      },
      "execution_count": 7,
      "outputs": [
        {
          "output_type": "stream",
          "name": "stdout",
          "text": [
            "10,000 days old: 2021-07-12\n"
          ]
        }
      ]
    },
    {
      "cell_type": "code",
      "source": [],
      "metadata": {
        "id": "c4YbLpzLo9XR"
      },
      "execution_count": null,
      "outputs": []
    }
  ]
}