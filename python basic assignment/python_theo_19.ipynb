{
  "nbformat": 4,
  "nbformat_minor": 0,
  "metadata": {
    "colab": {
      "provenance": []
    },
    "kernelspec": {
      "name": "python3",
      "display_name": "Python 3"
    },
    "language_info": {
      "name": "python"
    }
  },
  "cells": [
    {
      "cell_type": "markdown",
      "source": [
        "**1. Make a class called Thing with no contents and print it. Then, create an object called example\n",
        "from this class and also print it. Are the printed values the same or different?**"
      ],
      "metadata": {
        "id": "dpn2jrwPS4id"
      }
    },
    {
      "cell_type": "code",
      "execution_count": 1,
      "metadata": {
        "colab": {
          "base_uri": "https://localhost:8080/"
        },
        "id": "g23pCuvBOAQs",
        "outputId": "88102ab5-5a38-43bc-922e-1091c2cd6a9d"
      },
      "outputs": [
        {
          "output_type": "stream",
          "name": "stdout",
          "text": [
            "<class '__main__.Thing'>\n",
            "<__main__.Thing object at 0x7fccc9e9dc70>\n"
          ]
        }
      ],
      "source": [
        "class Thing:\n",
        "    pass\n",
        "\n",
        "print(Thing)\n",
        "\n",
        "example = Thing()\n",
        "print(example)\n"
      ]
    },
    {
      "cell_type": "markdown",
      "source": [
        "The printed values will be different. \n",
        "\n",
        "The first print(Thing) statement will print the class definition of the Thing class, while the second print(example) statement will print the object (or instance) of the Thing class.\n",
        "\n",
        "**The first one is the class object and the second one is the instance object.**"
      ],
      "metadata": {
        "id": "rJ98vfYaTNqF"
      }
    },
    {
      "cell_type": "markdown",
      "source": [
        "2. Create a new class called Thing2 and add the value &#39;abc&#39; to the letters class attribute. Letters\n",
        "should be printed."
      ],
      "metadata": {
        "id": "KtKtrZ9sVYEo"
      }
    },
    {
      "cell_type": "code",
      "source": [
        "class Thing2:\n",
        "    letters = 'abc'\n",
        "\n",
        "print(Thing2.letters)\n"
      ],
      "metadata": {
        "colab": {
          "base_uri": "https://localhost:8080/"
        },
        "id": "cqZRgMIaTH15",
        "outputId": "8368eaa9-b4b2-4fb5-b794-c71aa90c836b"
      },
      "execution_count": 2,
      "outputs": [
        {
          "output_type": "stream",
          "name": "stdout",
          "text": [
            "abc\n"
          ]
        }
      ]
    },
    {
      "cell_type": "markdown",
      "source": [
        "**3. Make yet another class called, of course, Thing3. This time, assign the value &#39;xyz&#39; to an instance\n",
        "(object) attribute called letters. Print letters. Do you need to make an object from the class to do\n",
        "this?**"
      ],
      "metadata": {
        "id": "ygZR70jKYNNV"
      }
    },
    {
      "cell_type": "code",
      "source": [
        "class Thing3:\n",
        "    def __init__(self):\n",
        "        self.letters = 'xyz'\n",
        "\n",
        "example = Thing3()\n",
        "print(example.letters)\n"
      ],
      "metadata": {
        "colab": {
          "base_uri": "https://localhost:8080/"
        },
        "id": "bZcT85BGVcCE",
        "outputId": "f72ad1b9-42fb-4793-a9b0-db6c2d0713bd"
      },
      "execution_count": 3,
      "outputs": [
        {
          "output_type": "stream",
          "name": "stdout",
          "text": [
            "xyz\n"
          ]
        }
      ]
    },
    {
      "cell_type": "markdown",
      "source": [
        "This will create a new class called Thing3 with a special method called __init__. The __init__ method is called when a new object is created from the class, and it's used to set up the attributes of the object. In this case, it's used to create an instance attribute called letters and assign the value 'xyz' to it.\n",
        "\n",
        "When you create an instance of Thing3 using example = Thing3(), it calls the __init__ method and assigns the value 'xyz' to the letters attribute. And then, when you call print(example.letters), it will print 'xyz'.\n",
        "\n",
        "Yes, you need to create an object/instance of the class to access the instance attribute letters."
      ],
      "metadata": {
        "id": "Kbfu1C1iYcVt"
      }
    },
    {
      "cell_type": "markdown",
      "source": [
        "**4. Create an Element class with the instance attributes name, symbol, and number. Create a class\n",
        "object with the values &#39;Hydrogen,&#39; &#39;H,&#39; and 1.**"
      ],
      "metadata": {
        "id": "PaKXpMvaZj3N"
      }
    },
    {
      "cell_type": "code",
      "source": [
        "class Element:\n",
        "    def __init__(self, name, symbol, number):\n",
        "        self.name = name\n",
        "        self.symbol = symbol\n",
        "        self.number = number\n",
        "\n",
        "hydrogen = Element('Hydrogen', 'H', 1)\n"
      ],
      "metadata": {
        "id": "CG9jfXIqYUPn"
      },
      "execution_count": 4,
      "outputs": []
    },
    {
      "cell_type": "markdown",
      "source": [
        "This will create a new class called Element with an __init__ method that takes three arguments name, symbol and number. The __init__ method assigns these values to the instance attributes of the same name.\n",
        "\n",
        "Then we create an instance of class Element called hydrogen, passing the values 'Hydrogen', 'H', and 1 as arguments to the init method.\n",
        "\n",
        "You can access the attributes of the instance using the dot notation hydrogen.name will return 'Hydrogen', hydrogen.symbol will return 'H' and hydrogen.number will return 1."
      ],
      "metadata": {
        "id": "uRjblMDNZruc"
      }
    },
    {
      "cell_type": "markdown",
      "source": [
        "**5. Make a dictionary with these keys and values: &#39;name&#39;: &#39;Hydrogen&#39;, &#39;symbol&#39;: &#39;H&#39;, &#39;number&#39;: 1. Then,\n",
        "create an object called hydrogen from class Element using this dictionary.**"
      ],
      "metadata": {
        "id": "C5ourYe9Zzsa"
      }
    },
    {
      "cell_type": "code",
      "source": [
        "class Element:\n",
        "    def __init__(self, name, symbol, number):\n",
        "        self.name = name\n",
        "        self.symbol = symbol\n",
        "        self.number = number\n",
        "\n",
        "element_data = {'name': 'Hydrogen', 'symbol': 'H', 'number': 1}\n",
        "hydrogen = Element(**element_data)\n"
      ],
      "metadata": {
        "id": "OZmN0GSRZoQ5"
      },
      "execution_count": 2,
      "outputs": []
    },
    {
      "cell_type": "markdown",
      "source": [
        "This will create a dictionary with keys 'name', 'symbol' and 'number' and respective values.\n",
        "\n",
        "Then, we use the double asterisk (**) operator in front of the dictionary, when passing it as an argument to the class, it unpacks the keys and values as separate arguments for the __init__ method, so the name key's value becomes the first argument, symbol key's value becomes the second argument, and so on.* Therefore, the values in the dictionary are passed to the __init__ method and assigned to the instance attributes of the same name.\n",
        "\n",
        "Alternatively, you can use the following approach:"
      ],
      "metadata": {
        "id": "I2UTk4vraC8y"
      }
    },
    {
      "cell_type": "code",
      "source": [
        "hydrogen = Element(element_data['name'], element_data['symbol'], element_data['number'])\n"
      ],
      "metadata": {
        "id": "xIiL1-tGZ7RJ"
      },
      "execution_count": 3,
      "outputs": []
    },
    {
      "cell_type": "markdown",
      "source": [
        "**10. Define these classes: Laser, Claw, and SmartPhone. Each has only one method: does(). This\n",
        "returns &#39;disintegrate&#39; (Laser), &#39;crush&#39; (Claw), or &#39;ring&#39; (SmartPhone). Then, define the class Robot that\n",
        "has one instance (object) of each of these. Define a does() method for the Robot that prints what its\n",
        "component objects do.**"
      ],
      "metadata": {
        "id": "k8Dn82qZS1Zz"
      }
    },
    {
      "cell_type": "code",
      "source": [
        "class Laser:\n",
        "    def does(self):\n",
        "        return \"disintegrate\"\n",
        "\n",
        "class Claw:\n",
        "    def does(self):\n",
        "        return \"crush\"\n",
        "\n",
        "class SmartPhone:\n",
        "    def does(self):\n",
        "        return \"ring\"\n",
        "\n",
        "class Robot:\n",
        "    def __init__(self):\n",
        "        self.laser = Laser()\n",
        "        self.claw = Claw()\n",
        "        self.smartphone = SmartPhone()\n",
        "\n",
        "    def does(self):\n",
        "        print(f\"Laser: {self.laser.does()}\")\n",
        "        print(f\"Claw: {self.claw.does()}\")\n",
        "        print(f\"Smartphone: {self.smartphone.does()}\")\n"
      ],
      "metadata": {
        "id": "ds1BHcHFDr9P"
      },
      "execution_count": 4,
      "outputs": []
    },
    {
      "cell_type": "markdown",
      "source": [
        "In this example, the Robot class has an __init__ method that creates an instance of the Laser, Claw, and SmartPhone classes, and assigns them to the laser, claw, and smartphone attributes respectively. The Robot class also has a does method that calls the does method of each of its component objects and prints the result."
      ],
      "metadata": {
        "id": "Leo5f0SfTGSN"
      }
    },
    {
      "cell_type": "code",
      "source": [],
      "metadata": {
        "id": "iJbG-p-LTCQa"
      },
      "execution_count": null,
      "outputs": []
    }
  ]
}