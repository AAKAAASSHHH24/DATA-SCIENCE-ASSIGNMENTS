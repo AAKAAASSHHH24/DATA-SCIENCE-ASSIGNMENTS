{
  "nbformat": 4,
  "nbformat_minor": 0,
  "metadata": {
    "colab": {
      "provenance": []
    },
    "kernelspec": {
      "name": "python3",
      "display_name": "Python 3"
    },
    "language_info": {
      "name": "python"
    }
  },
  "cells": [
    {
      "cell_type": "markdown",
      "source": [
        "**1. Create a list called years_list, starting with the year of your birth, and each year thereafter until\n",
        "the year of your fifth birthday.**"
      ],
      "metadata": {
        "id": "s95rY0N889OP"
      }
    },
    {
      "cell_type": "code",
      "execution_count": null,
      "metadata": {
        "id": "XUob1KZn7lYZ"
      },
      "outputs": [],
      "source": [
        "year_of_birth = 1990\n",
        "year_of_5th_birthday = 1995\n",
        "years_list = []\n",
        "for year in range(year_of_birth, year_of_5th_birthday+1):\n",
        "    years_list.append(year)\n",
        "print(years_list)\n"
      ]
    },
    {
      "cell_type": "markdown",
      "source": [
        "**4. Make a list called things with these three strings as elements: &quot;mozzarella&quot;, &quot;cinderella&quot;,\n",
        "&quot;salmonella&quot;.**\n"
      ],
      "metadata": {
        "id": "Ti9h1NyR9aku"
      }
    },
    {
      "cell_type": "code",
      "source": [
        "things = [\"mozzarella\", \"cinderella\", \"salmonella\"]\n",
        "\n"
      ],
      "metadata": {
        "id": "QD59D3vi9l7v"
      },
      "execution_count": 1,
      "outputs": []
    },
    {
      "cell_type": "markdown",
      "source": [
        "**5. Capitalize the element in things that refers to a person and then print the list. Did it change the\n",
        "element in the list?**"
      ],
      "metadata": {
        "id": "_Z1_oASg9mhg"
      }
    },
    {
      "cell_type": "code",
      "source": [
        "things[1] = things[1].capitalize()\n",
        "print(things)"
      ],
      "metadata": {
        "colab": {
          "base_uri": "https://localhost:8080/"
        },
        "id": "w3GmpoDz9ogK",
        "outputId": "12cabcb2-ad83-4136-dfc0-4e17face16f9"
      },
      "execution_count": 2,
      "outputs": [
        {
          "output_type": "stream",
          "name": "stdout",
          "text": [
            "['mozzarella', 'Cinderella', 'salmonella']\n"
          ]
        }
      ]
    },
    {
      "cell_type": "markdown",
      "source": [
        "**6. Make a surprise list with the elements &quot;Groucho,&quot; &quot;Chico,&quot; and &quot;Harpo.&quot;**\n"
      ],
      "metadata": {
        "id": "b7svicRMA141"
      }
    },
    {
      "cell_type": "code",
      "source": [
        "surprise = ['Groucho', 'Chico', 'Harpo']"
      ],
      "metadata": {
        "id": "cL_795kiA_9z"
      },
      "execution_count": 9,
      "outputs": []
    },
    {
      "cell_type": "markdown",
      "source": [
        "**7. Lowercase the last element of the surprise list, reverse it, and then capitalize it.**"
      ],
      "metadata": {
        "id": "9WtTaRdDA7P4"
      }
    },
    {
      "cell_type": "code",
      "source": [
        "surprise[-1] = surprise[-1].lower()[::-1].capitalize()\n",
        "print(surprise)"
      ],
      "metadata": {
        "colab": {
          "base_uri": "https://localhost:8080/"
        },
        "id": "eQ1xC2I7BSsj",
        "outputId": "07e213c0-0fe0-434a-f924-0fedf0fef72b"
      },
      "execution_count": 8,
      "outputs": [
        {
          "output_type": "stream",
          "name": "stdout",
          "text": [
            "['Groucho', 'Chico', 'Harpo']\n"
          ]
        }
      ]
    },
    {
      "cell_type": "markdown",
      "source": [
        "**13. Make a multilevel dictionary called life. Use these strings for the topmost keys: &#39;animals&#39;, &#39;plants&#39;,\n",
        "and &#39;other&#39;. Make the &#39;animals&#39; key refer to another dictionary with the keys &#39;cats&#39;, &#39;octopi&#39;, and\n",
        "&#39;emus&#39;. Make the &#39;cats&#39; key refer to a list of strings with the values &#39;Henri&#39;, &#39;Grumpy&#39;, and &#39;Lucy&#39;.\n",
        "Make all the other keys refer to empty dictionaries.**"
      ],
      "metadata": {
        "id": "lsw3Z9E0_cNp"
      }
    },
    {
      "cell_type": "code",
      "source": [
        "life = {\n",
        "    'animals': {\n",
        "        'cats': ['Henri', 'Grumpy', 'Lucy'],\n",
        "        'octopi': {},\n",
        "        'emus': {}\n",
        "    },\n",
        "    'plants': {},\n",
        "    'other': {}\n",
        "}\n"
      ],
      "metadata": {
        "id": "6_omfLPm9_WX"
      },
      "execution_count": 3,
      "outputs": []
    },
    {
      "cell_type": "markdown",
      "source": [
        "This will create a multi-level dictionary called life with topmost keys 'animals', 'plants', and 'other'. The 'animals' key will refer to another dictionary with keys 'cats', 'octopi', and 'emus'. The 'cats' key will refer to a list of strings with values 'Henri', 'Grumpy', and 'Lucy'. All the other keys will refer to empty dictionaries."
      ],
      "metadata": {
        "id": "o5IsFQ93_j59"
      }
    },
    {
      "cell_type": "markdown",
      "source": [
        "14. Print the top-level keys of life.\n"
      ],
      "metadata": {
        "id": "SZ7BcfQk_rZh"
      }
    },
    {
      "cell_type": "code",
      "source": [
        "print(life.keys())\n"
      ],
      "metadata": {
        "colab": {
          "base_uri": "https://localhost:8080/"
        },
        "id": "4eG44mJY_gsd",
        "outputId": "f317af03-d0d2-42f0-f71c-8695f8630b2e"
      },
      "execution_count": 4,
      "outputs": [
        {
          "output_type": "stream",
          "name": "stdout",
          "text": [
            "dict_keys(['animals', 'plants', 'other'])\n"
          ]
        }
      ]
    },
    {
      "cell_type": "markdown",
      "source": [
        "15. Print the keys for life[&#39;animals&#39;].\n"
      ],
      "metadata": {
        "id": "wLtZL6YD_t6h"
      }
    },
    {
      "cell_type": "code",
      "source": [
        "print(life['animals'].keys())\n"
      ],
      "metadata": {
        "colab": {
          "base_uri": "https://localhost:8080/"
        },
        "id": "onbSBaQQ_wmY",
        "outputId": "9a0e4b1b-096f-4c2a-bb09-1293d18dda18"
      },
      "execution_count": 5,
      "outputs": [
        {
          "output_type": "stream",
          "name": "stdout",
          "text": [
            "dict_keys(['cats', 'octopi', 'emus'])\n"
          ]
        }
      ]
    },
    {
      "cell_type": "markdown",
      "source": [
        "16. Print the values for life[&#39;animals&#39;][&#39;cats&#39;]"
      ],
      "metadata": {
        "id": "kkv7LYg-_xRF"
      }
    },
    {
      "cell_type": "code",
      "source": [
        "print(life['animals']['cats'])\n"
      ],
      "metadata": {
        "colab": {
          "base_uri": "https://localhost:8080/"
        },
        "id": "XzashsQh_xxO",
        "outputId": "252fc32b-7d29-4c28-dab4-b79bc6c4051e"
      },
      "execution_count": 6,
      "outputs": [
        {
          "output_type": "stream",
          "name": "stdout",
          "text": [
            "['Henri', 'Grumpy', 'Lucy']\n"
          ]
        }
      ]
    },
    {
      "cell_type": "code",
      "source": [],
      "metadata": {
        "id": "IrJY9xFW_9_t"
      },
      "execution_count": null,
      "outputs": []
    }
  ]
}