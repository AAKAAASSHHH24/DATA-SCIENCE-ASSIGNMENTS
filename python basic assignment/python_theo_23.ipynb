{
  "nbformat": 4,
  "nbformat_minor": 0,
  "metadata": {
    "colab": {
      "provenance": []
    },
    "kernelspec": {
      "name": "python3",
      "display_name": "Python 3"
    },
    "language_info": {
      "name": "python"
    }
  },
  "cells": [
    {
      "cell_type": "markdown",
      "source": [
        "**1.What is the result of the code, and why?**\n",
        "\n",
        "&gt;&gt;&gt; def func(a, b=6, c=8):\n",
        "\n",
        "print(a, b, c)\n",
        "\n",
        "&gt;&gt;&gt; func(1, 2)"
      ],
      "metadata": {
        "id": "p1nB0YwjQ49M"
      }
    },
    {
      "cell_type": "markdown",
      "source": [
        "The result of the code will be \"1 2 8\". This is because the function \"func\" takes in three parameters: \"a\", \"b\", and \"c\". The values passed in when calling the function are \"1\" for \"a\" and \"2\" for \"b\". Since a value for \"c\" is not provided, it defaults to the value specified in the function definition, which is \"8\". Therefore, the function will print the values of \"a\", \"b\", and \"c\" which are 1, 2 and 8 respectively."
      ],
      "metadata": {
        "id": "pCQbfdatRFUd"
      }
    },
    {
      "cell_type": "markdown",
      "source": [
        "**2.What is the result of this code, and why?**\n",
        "\n",
        "&gt;&gt;&gt; def func(a, b, c=5):\n",
        "\n",
        "print(a, b, c)\n",
        "\n",
        "&gt;&gt;&gt; func(1, c=3, b=2)"
      ],
      "metadata": {
        "id": "-QzzfeJwRSUe"
      }
    },
    {
      "cell_type": "markdown",
      "source": [
        "The result of the code will be \"1 2 3\". This is because the function \"func\" takes in three parameters: \"a\", \"b\", and \"c\". When calling the function, the values passed in are \"1\" for \"a\", \"2\" for \"b\" using keyword arguments and 3 for \"c\" using keyword arguments as well. Since the values for \"b\" and \"c\" are passed using keyword arguments, the order of the arguments passed in does not matter. Therefore, the function will print the values of \"a\", \"b\", and \"c\" which are 1, 2 and 3 respectively."
      ],
      "metadata": {
        "id": "dLdzABmuRSJl"
      }
    },
    {
      "cell_type": "markdown",
      "source": [
        "**3.How about this code: what is its result, and why?**\n",
        "\n",
        "&gt;&gt;&gt; def func(a, *pargs):\n",
        "\n",
        "print(a, pargs)\n",
        "\n",
        "&gt;&gt;&gt; func(1, 2, 3)"
      ],
      "metadata": {
        "id": "KMH9Xa3GRgEU"
      }
    },
    {
      "cell_type": "markdown",
      "source": [
        "The result of the code will be \"1 (2, 3)\". This is because the function \"func\" takes in two parameters: \"a\" and \"*pargs\". The parameter \"*pargs\" is a special syntax in Python that allows the function to accept any additional positional arguments passed to it. When calling the function, the values passed in are \"1\" for \"a\" and \"2\" and \"3\" for \"pargs\". The parameter \"*pargs\" collects all positional arguments as a tuple, and the function will print the values of \"a\" and \"pargs\" which are 1, and (2, 3) respectively."
      ],
      "metadata": {
        "id": "Bx8nWkCBRnOs"
      }
    },
    {
      "cell_type": "markdown",
      "source": [
        "**4.What does this code print, and why?**\n",
        "\n",
        "&gt;&gt;&gt; def func(a, **kargs):\n",
        "\n",
        "print(a, kargs)\n",
        "\n",
        "&gt;&gt;&gt; func(a=1, c=3, b=2)"
      ],
      "metadata": {
        "id": "eRKUdYRyRu3f"
      }
    },
    {
      "cell_type": "markdown",
      "source": [
        "The result of the code will be \"1 {'c': 3, 'b': 2}\". This is because the function \"func\" takes in two parameters: \"a\" and \"**kargs\". The parameter \"**kargs\" is a special syntax in Python that allows the function to accept any additional keyword arguments passed to it. When calling the function, the values passed in are \"1\" for \"a\" and \"c=3\" and \"b=2\" for \"kargs\". The parameter \"**kargs\" collects all keyword arguments as a dictionary, and the function will print the values of \"a\" and \"kargs\" which are 1, and {'c': 3, 'b': 2} respectively."
      ],
      "metadata": {
        "id": "Jy44lMD5R2Xf"
      }
    },
    {
      "cell_type": "markdown",
      "source": [
        "**5.What gets printed by this, and explain?**\n",
        "\n",
        "&gt;&gt;&gt; def func(a, b, c=8, d=5): print(a, b, c, d)\n",
        "\n",
        "&gt;&gt;&gt; func(1, *(5, 6))"
      ],
      "metadata": {
        "id": "kGVI4emrR73X"
      }
    },
    {
      "cell_type": "markdown",
      "source": [
        "The result of the code will be \"1 5 6 5\". This is because the function \"func\" takes in four parameters: \"a\", \"b\", \"c\" and \"d\". When calling the function, the values passed in are \"1\" for \"a\" and \"5, 6\" for the tuple, which gets unpacked as arguments and passed to the function. Since you only passed two arguments the last two parameters \"c\" and \"d\" will get their default value respectively 8 and 5. Therefore, the function will print the values of \"a\", \"b\", \"c\", and \"d\" which are 1, 5, 6 and 5 respectively."
      ],
      "metadata": {
        "id": "joLterQKSCg8"
      }
    },
    {
      "cell_type": "markdown",
      "source": [
        "**6.What is the result of this, and explain?**\n",
        "\n",
        "&gt;&gt;&gt; def func(a, b, c): a = 2; b[0] = &#39;x&#39;; c[&#39;a&#39;] = &#39;y&#39;\n",
        "\n",
        "&gt;&gt;&gt; l=1; m=[1]; n={&#39;a&#39;:0}\n",
        "\n",
        "&gt;&gt;&gt; func(l, m, n)"
      ],
      "metadata": {
        "id": "j5jDb3ZySJly"
      }
    },
    {
      "cell_type": "markdown",
      "source": [
        "The result of the code will be None, but the values of the variables l, m, and n will change to 1, ['x'] and {'a': 'y'} respectively. This is because the function \"func\" takes in three parameters: \"a\", \"b\", and \"c\". When calling the function, the values passed in are \"1\" for \"a\" which is a immutable object, \"m\" which is a list, and \"n\" which is a dictionary. Inside the function, the first statement a=2 assigns a new value to the local variable a, so the value passed in as an argument will not be changed. The second statement b[0] = 'x' changes the value of the first element in the list m passed in as the argument, so the original list m will be changed to ['x']. The third statement c['a'] = 'y' changes the value of the key 'a' in the dictionary n passed in as the argument, so the original dictionary n will be changed to {'a': 'y'}."
      ],
      "metadata": {
        "id": "VOSCu0UTSTuy"
      }
    },
    {
      "cell_type": "code",
      "execution_count": null,
      "metadata": {
        "id": "Rzl3J09uQsBm"
      },
      "outputs": [],
      "source": []
    }
  ]
}