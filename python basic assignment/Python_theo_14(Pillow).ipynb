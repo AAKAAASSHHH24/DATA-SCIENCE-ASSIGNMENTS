{
  "nbformat": 4,
  "nbformat_minor": 0,
  "metadata": {
    "colab": {
      "provenance": []
    },
    "kernelspec": {
      "name": "python3",
      "display_name": "Python 3"
    },
    "language_info": {
      "name": "python"
    }
  },
  "cells": [
    {
      "cell_type": "markdown",
      "source": [
        "**1. What does RGBA stand for?**\n"
      ],
      "metadata": {
        "id": "_9QP1_G4DZp9"
      }
    },
    {
      "cell_type": "markdown",
      "source": [
        "RGBA stands for Red, Green, Blue, and Alpha. It is a color model used in computer graphics to represent colors as a combination of red, green, and blue light intensities and an alpha channel, which represents the transparency of a color."
      ],
      "metadata": {
        "id": "xMIw9wg5DpQF"
      }
    },
    {
      "cell_type": "markdown",
      "source": [
        "**2. From the Pillow module, how do you get the RGBA value of any images?**\n"
      ],
      "metadata": {
        "id": "LUXAPYwFDh-D"
      }
    },
    {
      "cell_type": "markdown",
      "source": [
        "In the Pillow module, you can get the RGBA value of an image using the getpixel() method of the Image object. This method takes two arguments, the x and y coordinates of the pixel, and returns a tuple of 4 values representing the red, green, blue, and alpha values of the pixel.\n",
        "\n"
      ],
      "metadata": {
        "id": "6Nyq0ieLDsIu"
      }
    },
    {
      "cell_type": "markdown",
      "source": [
        "**3. What is a box tuple, and how does it work?**"
      ],
      "metadata": {
        "id": "ioOi_JUlDk15"
      }
    },
    {
      "cell_type": "markdown",
      "source": [
        "A box tuple in the context of image processing refers to a tuple of 4 values (left, upper, right, lower) representing the coordinates of a bounding box around an object in an image. These values define the left, upper, right, and lower edges of the box and can be used to extract a region of interest (ROI) from an image or to crop an image to the specified region.\n",
        "\n",
        "\n",
        "\n"
      ],
      "metadata": {
        "id": "1z6-AeFEDv5M"
      }
    },
    {
      "cell_type": "markdown",
      "source": [
        "**4. Use your image and load in notebook then, How can you find out the width and height of an\n",
        "Image object?**"
      ],
      "metadata": {
        "id": "cXOMqHBDENwH"
      }
    },
    {
      "cell_type": "markdown",
      "source": [
        "You can find the width and height of an Image object in the Pillow module by accessing the width and height attributes of the Image object. Here's an example in a Jupyter notebook:"
      ],
      "metadata": {
        "id": "5HKSt6_IEG0g"
      }
    },
    {
      "cell_type": "code",
      "execution_count": null,
      "metadata": {
        "id": "JSg2z7WKCG8A"
      },
      "outputs": [],
      "source": [
        "from PIL import Image\n",
        "\n",
        "# Open an image\n",
        "image = Image.open(\"image.jpg\")\n",
        "\n",
        "# Get the width and height of the image\n",
        "width, height = image.size\n",
        "\n",
        "# Print the width and height\n",
        "print(\"Width:\", width)\n",
        "print(\"Height:\", height)\n"
      ]
    },
    {
      "cell_type": "markdown",
      "source": [
        "**5. What method would you call to get Image object for a 100×100 image, excluding the lower-left\n",
        "quarter of it?**\n"
      ],
      "metadata": {
        "id": "caBk_QBzEqdu"
      }
    },
    {
      "cell_type": "markdown",
      "source": [
        "To get an Image object for a 100x100 image excluding the lower-left quarter of it, you would first create a blank 100x100 Image object, and then paste a region from the original image into it, excluding the lower-left quarter. You can use the crop method to extract a region of interest from the original image and the paste method to paste it into the blank image. Here's an example:"
      ],
      "metadata": {
        "id": "kGvV0BrqEy6M"
      }
    },
    {
      "cell_type": "code",
      "source": [
        "from PIL import Image\n",
        "\n",
        "# Open an image\n",
        "original_image = Image.open(\"image.jpg\")\n",
        "\n",
        "# Get the size of the original image\n",
        "width, height = original_image.size\n",
        "\n",
        "# Create a blank 100x100 image\n",
        "new_image = Image.new(\"RGB\", (100, 100), \"white\")\n",
        "\n",
        "# Get the region to be copied, excluding the lower-left quarter\n",
        "region = original_image.crop((0, 0, width//2, height//2))\n",
        "\n",
        "# Paste the region into the blank image\n",
        "new_image.paste(region, (0, 0, region.width, region.height))\n"
      ],
      "metadata": {
        "id": "wOMwMa6VE1sE"
      },
      "execution_count": null,
      "outputs": []
    },
    {
      "cell_type": "markdown",
      "source": [
        "**6. After making changes to an Image object, how could you save it as an image file?**"
      ],
      "metadata": {
        "id": "h7pbzRnpEuYW"
      }
    },
    {
      "cell_type": "markdown",
      "source": [
        "To save an Image object as an image file, you can use the save method. The method takes the filename as an argument and saves the image in the specified format. Here's an example:"
      ],
      "metadata": {
        "id": "3utZijK1E6O-"
      }
    },
    {
      "cell_type": "code",
      "source": [
        "# Save the image\n",
        "new_image.save(\"new_image.jpg\")\n"
      ],
      "metadata": {
        "id": "0j2EqhGCEteM"
      },
      "execution_count": null,
      "outputs": []
    },
    {
      "cell_type": "markdown",
      "source": [
        "Note that you can specify the format by changing the extension of the filename, e.g. \".jpg\", \".png\", \".gif\", etc."
      ],
      "metadata": {
        "id": "Of9DUOidFBTk"
      }
    },
    {
      "cell_type": "markdown",
      "source": [
        "**7. What module contains Pillow’s shape-drawing code?**\n"
      ],
      "metadata": {
        "id": "PAMPXLMMJkkq"
      }
    },
    {
      "cell_type": "markdown",
      "source": [
        "The module that contains Pillow's shape-drawing code is the ImageDraw module. It provides the ImageDraw.Draw class, which has a number of methods for drawing shapes and text on an image."
      ],
      "metadata": {
        "id": "oSyBegn1Jv6o"
      }
    },
    {
      "cell_type": "markdown",
      "source": [
        "**8. Image objects do not have drawing methods. What kind of object does? How do you get this kind\n",
        "of object?**"
      ],
      "metadata": {
        "id": "DeIJgtGYJnjO"
      }
    },
    {
      "cell_type": "markdown",
      "source": [
        "Image objects do not have drawing methods, but you can get a drawing object from an Image object using the ImageDraw.Draw class from the ImageDraw module. The ImageDraw.Draw class takes an Image object as the first argument and returns a drawing object that you can use to draw shapes and text on the image. Here's an example:"
      ],
      "metadata": {
        "id": "z8kela-MJyzE"
      }
    },
    {
      "cell_type": "code",
      "source": [
        "from PIL import Image, ImageDraw\n",
        "\n",
        "# Open an image\n",
        "image = Image.open(\"image.jpg\")\n",
        "\n",
        "# Get a drawing object\n",
        "draw = ImageDraw.Draw(image)\n",
        "\n",
        "# Draw shapes and text on the image\n",
        "draw.rectangle((10, 10, 90, 90), fill=\"red\")\n",
        "draw.text((20, 20), \"Hello, World!\", fill=\"blue\")\n",
        "\n",
        "# Save the image\n",
        "image.save(\"new_image.jpg\")\n"
      ],
      "metadata": {
        "id": "8Vf460oQFB8H"
      },
      "execution_count": null,
      "outputs": []
    }
  ]
}