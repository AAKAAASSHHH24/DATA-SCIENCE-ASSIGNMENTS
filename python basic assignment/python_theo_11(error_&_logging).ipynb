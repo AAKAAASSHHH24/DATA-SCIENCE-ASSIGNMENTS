{
  "nbformat": 4,
  "nbformat_minor": 0,
  "metadata": {
    "colab": {
      "provenance": []
    },
    "kernelspec": {
      "name": "python3",
      "display_name": "Python 3"
    },
    "language_info": {
      "name": "python"
    }
  },
  "cells": [
    {
      "cell_type": "markdown",
      "source": [
        "**1. Create an assert statement that throws an AssertionError if the variable spam is a negative\n",
        "integer.**\n"
      ],
      "metadata": {
        "id": "yIwD7f0GRZfC"
      }
    },
    {
      "cell_type": "markdown",
      "source": [
        "The following assert statement will throw an AssertionError if the variable spam is a negative integer:"
      ],
      "metadata": {
        "id": "eIoch7epRoBq"
      }
    },
    {
      "cell_type": "code",
      "source": [
        "assert spam >= 0, \"spam must not be a negative integer\"\n"
      ],
      "metadata": {
        "id": "9xlll8mORqee"
      },
      "execution_count": null,
      "outputs": []
    },
    {
      "cell_type": "markdown",
      "source": [
        "**2. Write an assert statement that triggers an AssertionError if the variables eggs and bacon contain\n",
        "strings that are the same as each other, even if their cases are different (that is, &#39;hello&#39; and &#39;hello&#39; are\n",
        "considered the same, and &#39;goodbye&#39; and &#39;GOODbye&#39; are also considered the same).**\n"
      ],
      "metadata": {
        "id": "1u0uZmVSRdFl"
      }
    },
    {
      "cell_type": "markdown",
      "source": [
        "The following assert statement will throw an AssertionError if the variables eggs and bacon contain strings that are the same as each other, even if their cases are different:"
      ],
      "metadata": {
        "id": "bAComeaYRyRf"
      }
    },
    {
      "cell_type": "code",
      "source": [
        "assert eggs.lower() != bacon.lower(), \"eggs and bacon cannot contain the same string\"\n"
      ],
      "metadata": {
        "id": "CuEEGuXuR2FH"
      },
      "execution_count": null,
      "outputs": []
    },
    {
      "cell_type": "markdown",
      "source": [
        "**3. Create an assert statement that throws an AssertionError every time.**\n"
      ],
      "metadata": {
        "id": "Xxwn5GwkRglY"
      }
    },
    {
      "cell_type": "markdown",
      "source": [
        "The following assert statement will always throw an AssertionError:"
      ],
      "metadata": {
        "id": "Dd8NAd4uR6MR"
      }
    },
    {
      "cell_type": "code",
      "source": [
        "assert False, \"This assert statement will always trigger an AssertionError\"\n"
      ],
      "metadata": {
        "id": "U3z5agdaR87w"
      },
      "execution_count": null,
      "outputs": []
    },
    {
      "cell_type": "markdown",
      "source": [
        "**4. What are the two lines that must be present in your software in order to call logging.debug()?**"
      ],
      "metadata": {
        "id": "XPvs-ij8Rj7j"
      }
    },
    {
      "cell_type": "markdown",
      "source": [
        "To call logging.debug(), the following two lines must be present in your software:"
      ],
      "metadata": {
        "id": "mSoveSn6SArY"
      }
    },
    {
      "cell_type": "code",
      "execution_count": null,
      "metadata": {
        "id": "RTx2jrToRYn1"
      },
      "outputs": [],
      "source": [
        "import logging\n",
        "logging.basicConfig(level=logging.DEBUG, format='%(message)s')\n"
      ]
    },
    {
      "cell_type": "markdown",
      "source": [
        "The first line imports the logging module, and the second line sets up basic logging configuration. The level argument is set to logging.DEBUG to enable debugging messages, and the format argument is set to '%(message)s' to display the message only."
      ],
      "metadata": {
        "id": "krQBYUAVSG3e"
      }
    },
    {
      "cell_type": "markdown",
      "source": [
        "**5. What are the two lines that your program must have in order to have logging.debug() send a\n",
        "logging message to a file named programLog.txt?**\n"
      ],
      "metadata": {
        "id": "HTe79wIPSR0J"
      }
    },
    {
      "cell_type": "markdown",
      "source": [
        "To send logging messages to a file named \"programLog.txt\", you need to configure a logging handler to write to the file, for example:"
      ],
      "metadata": {
        "id": "As6uITeoSfEV"
      }
    },
    {
      "cell_type": "code",
      "source": [
        "import logging\n",
        "logging.basicConfig(filename='programLog.txt', level=logging.DEBUG)\n"
      ],
      "metadata": {
        "id": "57BJbDf4Shc6"
      },
      "execution_count": null,
      "outputs": []
    },
    {
      "cell_type": "markdown",
      "source": [
        "**6. What are the five levels of logging?**\n"
      ],
      "metadata": {
        "id": "RoNElMT_SU8-"
      }
    },
    {
      "cell_type": "markdown",
      "source": [
        "The five levels of logging, in order of increasing severity, are: DEBUG, INFO, WARNING, ERROR, and CRITICAL."
      ],
      "metadata": {
        "id": "G4TwGFIMSk63"
      }
    },
    {
      "cell_type": "markdown",
      "source": [
        "**7. What line of code would you add to your software to disable all logging messages?**\n"
      ],
      "metadata": {
        "id": "lkC_YqkJSYD8"
      }
    },
    {
      "cell_type": "markdown",
      "source": [
        "To disable all logging messages, set the logging level to logging.CRITICAL or higher:"
      ],
      "metadata": {
        "id": "3_31KeEvSpBR"
      }
    },
    {
      "cell_type": "code",
      "source": [
        "import logging\n",
        "logging.basicConfig(level=logging.CRITICAL)\n"
      ],
      "metadata": {
        "id": "AiMNIKcHSrz-"
      },
      "execution_count": null,
      "outputs": []
    },
    {
      "cell_type": "markdown",
      "source": [
        "**8.Why is using logging messages better than using print() to display the same message?**"
      ],
      "metadata": {
        "id": "vzgD5_gLSbB3"
      }
    },
    {
      "cell_type": "markdown",
      "source": [
        "Using logging is better than using print() for several reasons:\n",
        "\n",
        "Logging provides a way to categorize messages based on severity levels, making it easier to filter the messages you want to see.\n",
        "\n",
        "Logging provides a unified way to handle messages, making it easier to change the way messages are displayed (e.g., to a file instead of the console) or to stop displaying messages altogether.\n",
        "\n",
        "Logging messages can be captured by other programs, such as logging servers, which can provide additional functionality, such as alerting or long-term storage.\n",
        "\n",
        "Logging messages can be timestamped, making it easier to determine when an event occurred.\n",
        "\n",
        "\n",
        "\n"
      ],
      "metadata": {
        "id": "S6rl7xHbSwWY"
      }
    },
    {
      "cell_type": "markdown",
      "source": [
        "**9. What are the differences between the Step Over, Step In, and Step Out buttons in the debugger?**\n"
      ],
      "metadata": {
        "id": "s6iAjJ5zTDrS"
      }
    },
    {
      "cell_type": "markdown",
      "source": [
        "The \"Step Over\" button allows the debugger to execute the next line of code without entering any functions that are called in the line. \"Step In\" allows the debugger to enter a function that is called in the line, and \"Step Out\" returns control to the debugger after executing the rest of the code in the current function."
      ],
      "metadata": {
        "id": "yW5SvArKTNeV"
      }
    },
    {
      "cell_type": "markdown",
      "source": [
        "**10.After you click Continue, when will the debugger stop ?**\n"
      ],
      "metadata": {
        "id": "JvRLdNolTGw8"
      }
    },
    {
      "cell_type": "markdown",
      "source": [
        "The debugger will stop when it reaches a breakpoint, an exception is raised, or when the program finishes executing."
      ],
      "metadata": {
        "id": "P0Uq_zpTTQck"
      }
    },
    {
      "cell_type": "markdown",
      "source": [
        "**11. What is the concept of a breakpoint?**"
      ],
      "metadata": {
        "id": "kLqcNkanTJxC"
      }
    },
    {
      "cell_type": "markdown",
      "source": [
        "A breakpoint is a marker in the code that tells the debugger to pause execution at a specific line. This allows you to inspect the state of the program and see how it's executing.\n",
        "\n",
        "\n",
        "\n"
      ],
      "metadata": {
        "id": "Dz4b9na2TTd_"
      }
    },
    {
      "cell_type": "code",
      "source": [],
      "metadata": {
        "id": "4HxfvBizSH6N"
      },
      "execution_count": null,
      "outputs": []
    }
  ]
}