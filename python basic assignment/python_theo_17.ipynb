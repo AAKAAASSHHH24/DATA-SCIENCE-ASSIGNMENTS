{
  "nbformat": 4,
  "nbformat_minor": 0,
  "metadata": {
    "colab": {
      "provenance": []
    },
    "kernelspec": {
      "name": "python3",
      "display_name": "Python 3"
    },
    "language_info": {
      "name": "python"
    }
  },
  "cells": [
    {
      "cell_type": "markdown",
      "source": [
        "**1. Assign the value 7 to the variable guess_me. Then, write the conditional tests (if, else, and elif) to\n",
        "print the string &#39;too low&#39; if guess_me is less than 7, &#39;too high&#39; if greater than 7, and &#39;just right&#39; if equal\n",
        "to 7.**\n"
      ],
      "metadata": {
        "id": "DwWrXk7cvSWL"
      }
    },
    {
      "cell_type": "code",
      "execution_count": 2,
      "metadata": {
        "colab": {
          "base_uri": "https://localhost:8080/"
        },
        "id": "QVpIYniJuSqN",
        "outputId": "419a4791-2c4f-4c42-f967-342fdbb93569"
      },
      "outputs": [
        {
          "output_type": "stream",
          "name": "stdout",
          "text": [
            "just right\n"
          ]
        }
      ],
      "source": [
        "guess_me = 7\n",
        "if guess_me < 7:\n",
        " print(\"too low\")\n",
        "elif guess_me > 7:\n",
        " print(\"too high\")\n",
        "else:\n",
        " print(\"just right\")\n",
        "\n"
      ]
    },
    {
      "cell_type": "markdown",
      "source": [
        "**2. Assign the value 7 to the variable guess_me and the value 1 to the variable start. Write a while\n",
        "loop that compares start with guess_me. Print too low if start is less than guess me. If start equals\n",
        "guess_me, print &#39;found it!&#39; and exit the loop. If start is greater than guess_me, print &#39;oops&#39; and exit\n",
        "the loop. Increment start at the end of the loop.**"
      ],
      "metadata": {
        "id": "-x99d1nUvW7q"
      }
    },
    {
      "cell_type": "code",
      "source": [
        "guess_me = 7\n",
        "start = 1\n",
        "while start != guess_me:\n",
        "  if start < guess_me:\n",
        "   print(\"too low\")\n",
        "  elif start > guess_me:\n",
        "   print(\"oops\")\n",
        "  break\n",
        "  if start == guess_me:\n",
        "   print(\"found it!\")\n",
        "  break\n",
        "  start += 1"
      ],
      "metadata": {
        "colab": {
          "base_uri": "https://localhost:8080/"
        },
        "id": "rw2-NLzQvZh3",
        "outputId": "b4fbb00e-6272-42e1-f876-5acfe1a50ff2"
      },
      "execution_count": 3,
      "outputs": [
        {
          "output_type": "stream",
          "name": "stdout",
          "text": [
            "too low\n"
          ]
        }
      ]
    },
    {
      "cell_type": "markdown",
      "source": [
        "**4. Use a list comprehension to make a list of the even numbers in range(10)**\n"
      ],
      "metadata": {
        "id": "d8my9kiYwixv"
      }
    },
    {
      "cell_type": "code",
      "source": [
        "even_numbers = [x for x in range(10) if x % 2 == 0]"
      ],
      "metadata": {
        "id": "QFZImVsQv2F4"
      },
      "execution_count": 5,
      "outputs": []
    },
    {
      "cell_type": "markdown",
      "source": [
        "**5. Use a dictionary comprehension to create the dictionary squares. Use range(10) to return the\n",
        "keys, and use the square of each key as its value.**"
      ],
      "metadata": {
        "id": "M0dlthQvwoh3"
      }
    },
    {
      "cell_type": "code",
      "source": [
        "squares = {x:x**2 for x in range(10)}"
      ],
      "metadata": {
        "id": "K_OZJnkMwrKl"
      },
      "execution_count": 6,
      "outputs": []
    },
    {
      "cell_type": "markdown",
      "source": [
        "**6. Construct the set odd from the odd numbers in the range using a set comprehension (10).**\n"
      ],
      "metadata": {
        "id": "xc-yFFjXxM0m"
      }
    },
    {
      "cell_type": "code",
      "source": [
        "odd = {x for x in range(10) if x % 2 != 0}"
      ],
      "metadata": {
        "id": "ZKbmYPJcwzP7"
      },
      "execution_count": 7,
      "outputs": []
    },
    {
      "cell_type": "markdown",
      "source": [
        "**7. Use a generator comprehension to return the string &#39;Got &#39; and a number for the numbers in\n",
        "range(10). Iterate through this by using a for loop.**"
      ],
      "metadata": {
        "id": "GySUsOONxQuf"
      }
    },
    {
      "cell_type": "code",
      "source": [
        "generator_comprehension = ('Got ' + str(x) for x in range(10))\n",
        "for item in generator_comprehension:\n",
        " print(item)"
      ],
      "metadata": {
        "colab": {
          "base_uri": "https://localhost:8080/"
        },
        "id": "Uv9bWYyfxSNL",
        "outputId": "dd28e5fb-1ac5-42ba-c0e1-4453b9238ee2"
      },
      "execution_count": 8,
      "outputs": [
        {
          "output_type": "stream",
          "name": "stdout",
          "text": [
            "Got 0\n",
            "Got 1\n",
            "Got 2\n",
            "Got 3\n",
            "Got 4\n",
            "Got 5\n",
            "Got 6\n",
            "Got 7\n",
            "Got 8\n",
            "Got 9\n"
          ]
        }
      ]
    },
    {
      "cell_type": "markdown",
      "source": [
        "**8. Define a function called good that returns the list [&#39;Harry&#39;, &#39;Ron&#39;, &#39;Hermione&#39;].**\n"
      ],
      "metadata": {
        "id": "qJV386pYyHvy"
      }
    },
    {
      "cell_type": "code",
      "source": [
        "def good():\n",
        " return ['Harry', 'Ron', 'Hermione']"
      ],
      "metadata": {
        "id": "v_G7esnjxZru"
      },
      "execution_count": 9,
      "outputs": []
    },
    {
      "cell_type": "markdown",
      "source": [
        "**9. Define a generator function called get_odds that returns the odd numbers from range(10). Use a\n",
        "for loop to find and print the third value returned.**\n"
      ],
      "metadata": {
        "id": "tZV9j6tRyKi9"
      }
    },
    {
      "cell_type": "code",
      "source": [
        "def get_odds():\n",
        "  for x in range(10):\n",
        "   if x % 2 != 0:\n",
        "    yield x\n",
        "  gen = get_odds()\n",
        "  print(next(gen))\n",
        "  print(next(gen))\n",
        "  print(next(gen))"
      ],
      "metadata": {
        "id": "8RUoEI7_yPBf"
      },
      "execution_count": null,
      "outputs": []
    },
    {
      "cell_type": "markdown",
      "source": [
        "**10. Define an exception called OopsException. Raise this exception to see what happens. Then write\n",
        "the code to catch this exception and print &#39;Caught an oops&#39;.**"
      ],
      "metadata": {
        "id": "XhRnW2GXyPfc"
      }
    },
    {
      "cell_type": "code",
      "source": [
        "class OopsException(Exception):\n",
        " pass\n",
        "\n",
        "try:\n",
        " raise OopsException\n",
        "except OopsException:\n",
        " print(\"Caught an oops\")"
      ],
      "metadata": {
        "colab": {
          "base_uri": "https://localhost:8080/"
        },
        "id": "CsbBP5eJyRRw",
        "outputId": "1279fea0-b038-458f-e59c-e04b1dd1fc63"
      },
      "execution_count": 10,
      "outputs": [
        {
          "output_type": "stream",
          "name": "stdout",
          "text": [
            "Caught an oops\n"
          ]
        }
      ]
    },
    {
      "cell_type": "markdown",
      "source": [
        "**11. Use zip() to make a dictionary called movies that pairs these lists: titles = [&#39;Creature of Habit&#39;,\n",
        "&#39;Crewel Fate&#39;] and plots = [&#39;A nun turns into a monster&#39;, &#39;A haunted yarn shop&#39;].**"
      ],
      "metadata": {
        "id": "dxSfNBWazXwe"
      }
    },
    {
      "cell_type": "markdown",
      "source": [
        "The zip() function in Python is used to combine two or more iterables (such as lists, tuples, or arrays) into a single iterable, where the first element of each iterable is paired together, the second element is paired together, and so on. The resulting iterable is returned as an object of the zip class, which can be converted to a list, tuple, or other data structure if desired."
      ],
      "metadata": {
        "id": "XTKdAQ0I0p1_"
      }
    },
    {
      "cell_type": "code",
      "source": [
        "\n",
        "titles = ['Creature of Habit', 'Crewel Fate']\n",
        "plots = ['A nun turns into a monster', 'A haunted yarn shop']\n",
        "movies = dict(zip(titles, plots))\n",
        "print(movies)"
      ],
      "metadata": {
        "colab": {
          "base_uri": "https://localhost:8080/"
        },
        "id": "TuWBiWhdy7-C",
        "outputId": "a7cf07a0-1b62-44a2-ca02-e85a06fc8bfa"
      },
      "execution_count": 11,
      "outputs": [
        {
          "output_type": "stream",
          "name": "stdout",
          "text": [
            "{'Creature of Habit': 'A nun turns into a monster', 'Crewel Fate': 'A haunted yarn shop'}\n"
          ]
        }
      ]
    },
    {
      "cell_type": "code",
      "source": [],
      "metadata": {
        "id": "ayi38G6iziXU"
      },
      "execution_count": null,
      "outputs": []
    }
  ]
}