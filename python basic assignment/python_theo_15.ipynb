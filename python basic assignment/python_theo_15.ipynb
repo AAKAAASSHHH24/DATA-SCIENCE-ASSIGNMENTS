{
  "nbformat": 4,
  "nbformat_minor": 0,
  "metadata": {
    "colab": {
      "provenance": []
    },
    "kernelspec": {
      "name": "python3",
      "display_name": "Python 3"
    },
    "language_info": {
      "name": "python"
    }
  },
  "cells": [
    {
      "cell_type": "markdown",
      "source": [
        "**1.How many seconds are in an hour? Use the interactive interpreter as a calculator and multiply the\n",
        "number of seconds in a minute (60) by the number of minutes in an hour (also 60).\n",
        "sol. 60**\n"
      ],
      "metadata": {
        "id": "EZ0bX5erEkCa"
      }
    },
    {
      "cell_type": "markdown",
      "source": [
        "**2. Assign the result from the previous task (seconds in an hour) to a variable called\n",
        "seconds_per_hour.**"
      ],
      "metadata": {
        "id": "cJrQb4ZPEomJ"
      }
    },
    {
      "cell_type": "code",
      "execution_count": 1,
      "metadata": {
        "colab": {
          "base_uri": "https://localhost:8080/"
        },
        "id": "iqoTg6CiCtdO",
        "outputId": "e73ac108-2f1f-46c5-d6e8-27268e1b7e04"
      },
      "outputs": [
        {
          "output_type": "stream",
          "name": "stdout",
          "text": [
            "3600\n"
          ]
        }
      ],
      "source": [
        "seconds_per_hour = 60 * 60\n",
        "print(seconds_per_hour)\n"
      ]
    },
    {
      "cell_type": "markdown",
      "source": [
        "**3. How many seconds do you think there are in a day? Make use of the variables seconds per hour\n",
        "and minutes per hour.**"
      ],
      "metadata": {
        "id": "fat0cvmrE5bE"
      }
    },
    {
      "cell_type": "code",
      "source": [
        "seconds_per_day = seconds_per_hour * 24\n",
        "print(seconds_per_day)\n",
        "\n"
      ],
      "metadata": {
        "colab": {
          "base_uri": "https://localhost:8080/"
        },
        "id": "pVrTTq1PEp9_",
        "outputId": "5e630cc5-2a96-4132-ea1e-a900a87536f6"
      },
      "execution_count": 2,
      "outputs": [
        {
          "output_type": "stream",
          "name": "stdout",
          "text": [
            "86400\n"
          ]
        }
      ]
    },
    {
      "cell_type": "markdown",
      "source": [
        "**7. Write a generator, genPrimes, that returns the sequence of prime numbers on successive calls to\n",
        "its next() method: 2, 3, 5, 7, 11, ...**"
      ],
      "metadata": {
        "id": "eRJAMzMSFSlT"
      }
    },
    {
      "cell_type": "code",
      "source": [
        "def genPrimes():\n",
        "    primes = []   # list to hold the prime numbers\n",
        "    num = 2       # first number to check for prime\n",
        "    while True:\n",
        "        for prime in primes:\n",
        "            if num % prime == 0:\n",
        "                break\n",
        "        else:\n",
        "            primes.append(num)\n",
        "            yield num\n",
        "        num += 1\n"
      ],
      "metadata": {
        "id": "T9FZ4I8PFFXg"
      },
      "execution_count": 3,
      "outputs": []
    },
    {
      "cell_type": "markdown",
      "source": [
        "This will create a generator function called genPrimes that returns the sequence of prime numbers on successive calls to its next() method. It starts with an empty list to hold the prime numbers and initializes a variable num to 2, which is the first number to check for prime. It then enters an infinite loop, checks if the number is divisible by any of the prime numbers generated so far. If it's divisible by none of them, it will add the number to the list of primes and yield the number. Then it will increment the num by 1 and repeat the process, thus returning the sequence of prime numbers 2,3,5,7,11,13,17 and so on."
      ],
      "metadata": {
        "id": "tngTj4qaFg-F"
      }
    },
    {
      "cell_type": "code",
      "source": [],
      "metadata": {
        "id": "9fxDAJzEFdIs"
      },
      "execution_count": null,
      "outputs": []
    }
  ]
}