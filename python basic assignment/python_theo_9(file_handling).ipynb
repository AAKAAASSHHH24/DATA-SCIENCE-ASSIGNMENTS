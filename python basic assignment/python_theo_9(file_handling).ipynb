{
  "nbformat": 4,
  "nbformat_minor": 0,
  "metadata": {
    "colab": {
      "provenance": []
    },
    "kernelspec": {
      "name": "python3",
      "display_name": "Python 3"
    },
    "language_info": {
      "name": "python"
    }
  },
  "cells": [
    {
      "cell_type": "markdown",
      "source": [
        "**1. To what does a relative path refer?**\n"
      ],
      "metadata": {
        "id": "RFYxWwIKX1BN"
      }
    },
    {
      "cell_type": "markdown",
      "source": [
        "A relative path refers to a file or directory location relative to the current directory, as opposed to an absolute path, which specifies the exact location of a file or directory from the root directory."
      ],
      "metadata": {
        "id": "-V-3oTBjYB8N"
      }
    },
    {
      "cell_type": "markdown",
      "source": [
        "**2. What does an absolute path start with your operating system?**\n"
      ],
      "metadata": {
        "id": "12Z9fYT3X4sr"
      }
    },
    {
      "cell_type": "markdown",
      "source": [
        "An absolute path starts with the root directory symbol, which is \"/\" in Unix-based systems and \"C:\" in Windows systems."
      ],
      "metadata": {
        "id": "teAdEHs_YE3N"
      }
    },
    {
      "cell_type": "markdown",
      "source": [
        "**3. What do the functions os.getcwd() and os.chdir() do?**\n"
      ],
      "metadata": {
        "id": "bHAg3dNWX7ew"
      }
    },
    {
      "cell_type": "markdown",
      "source": [
        "In Python, os.getcwd() returns the current working directory (i.e., the directory from which the Python script is executed), while os.chdir() changes the current working directory to the specified directory.\n",
        "\n"
      ],
      "metadata": {
        "id": "8XlfJfToYHvt"
      }
    },
    {
      "cell_type": "markdown",
      "source": [
        "**4. What are the . and .. folders?**"
      ],
      "metadata": {
        "id": "JP7Ph5jXX-QX"
      }
    },
    {
      "cell_type": "markdown",
      "source": [
        "The \".\" and \"..\" folders refer to the current directory and the parent directory, respectively, in Unix-based systems. \".\" represents the current directory, and \"..\" represents the parent directory."
      ],
      "metadata": {
        "id": "gNnhp-xcYKqP"
      }
    },
    {
      "cell_type": "markdown",
      "source": [
        "**6. What are the three “mode” arguments that can be passed to the open() function?**\n"
      ],
      "metadata": {
        "id": "YaELmCDeaFDT"
      }
    },
    {
      "cell_type": "markdown",
      "source": [
        "The three \"mode\" arguments that can be passed to the open() function in Python are: \"r\" for read-only mode, \"w\" for write mode, and \"a\" for append mode."
      ],
      "metadata": {
        "id": "CdDeaUswaVmV"
      }
    },
    {
      "cell_type": "markdown",
      "source": [
        "**7. What happens if an existing file is opened in write mode?**\n"
      ],
      "metadata": {
        "id": "EvaKu6EUaJYn"
      }
    },
    {
      "cell_type": "markdown",
      "source": [
        "If an existing file is opened in write mode (i.e., with \"w\" mode argument), any content that was previously in the file will be truncated and replaced with any new content written to the file."
      ],
      "metadata": {
        "id": "Iimi61_3aZv_"
      }
    },
    {
      "cell_type": "markdown",
      "source": [
        "**8. How do you tell the difference between read() and readlines()?**\n"
      ],
      "metadata": {
        "id": "2blSXpLiaNVB"
      }
    },
    {
      "cell_type": "markdown",
      "source": [
        "The read() method returns the entire contents of a file as a single string, while the readlines() method returns a list of strings, where each string is a line from the file."
      ],
      "metadata": {
        "id": "4KKp4WDsaeqW"
      }
    },
    {
      "cell_type": "markdown",
      "source": [
        "**9. What data structure does a shelf value resemble?9. What data structure does a shelf value resemble?**"
      ],
      "metadata": {
        "id": "vMtlwiUWaRA5"
      }
    },
    {
      "cell_type": "markdown",
      "source": [
        "A shelf value resembles a dictionary-like data structure, where values can be stored and retrieved using key-value pairs. A shelf is persistent, meaning that the data stored in it can be retrieved even after the program has been closed and reopened."
      ],
      "metadata": {
        "id": "nTBrUBaZaiTR"
      }
    },
    {
      "cell_type": "code",
      "execution_count": null,
      "metadata": {
        "id": "0d3sFPbiWBPq"
      },
      "outputs": [],
      "source": []
    }
  ]
}