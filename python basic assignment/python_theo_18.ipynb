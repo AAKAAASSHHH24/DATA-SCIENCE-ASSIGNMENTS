{
  "nbformat": 4,
  "nbformat_minor": 0,
  "metadata": {
    "colab": {
      "provenance": []
    },
    "kernelspec": {
      "name": "python3",
      "display_name": "Python 3"
    },
    "language_info": {
      "name": "python"
    }
  },
  "cells": [
    {
      "cell_type": "markdown",
      "source": [
        "**1. Create a zoo.py file first. Define the hours() function, which prints the string &#39;Open 9-5 daily&#39;.\n",
        "Then, use the interactive interpreter to import the zoo module and call its hours() function.**"
      ],
      "metadata": {
        "id": "3MUuOd8UkPUy"
      }
    },
    {
      "cell_type": "code",
      "execution_count": 1,
      "metadata": {
        "id": "teW0u9q7il15"
      },
      "outputs": [],
      "source": [
        "def hours():\n",
        "    print(\"Open 9-5 daily\")\n"
      ]
    },
    {
      "cell_type": "code",
      "source": [
        ">>> import zoo\n",
        ">>> zoo.hours()\n",
        "Open 9-5 daily\n"
      ],
      "metadata": {
        "id": "LfC9PJPKkUMw"
      },
      "execution_count": null,
      "outputs": []
    },
    {
      "cell_type": "markdown",
      "source": [
        "Note that you need to be running the interpreter in the same directory where the file is located. Also the function call should be without the () in the end of the function name."
      ],
      "metadata": {
        "id": "x_GPqJ-tkxJl"
      }
    },
    {
      "cell_type": "markdown",
      "source": [
        "**6.Make an OrderedDict called fancy from the same pairs listed in 5 and print it. Did it print in the\n",
        "same order as plain?**"
      ],
      "metadata": {
        "id": "JWjIizzSnA4j"
      }
    },
    {
      "cell_type": "code",
      "source": [
        "from collections import OrderedDict\n",
        "\n",
        "plain = {\"a\": 1, \"b\": 2, \"c\": 3, \"d\": 4, \"e\": 5}\n",
        "\n",
        "fancy = OrderedDict(plain.items())\n",
        "\n",
        "print(fancy)\n"
      ],
      "metadata": {
        "colab": {
          "base_uri": "https://localhost:8080/"
        },
        "id": "5dBXIvZfkxqz",
        "outputId": "7c4f5a02-7317-47b8-9d7e-e92b2480732c"
      },
      "execution_count": 2,
      "outputs": [
        {
          "output_type": "stream",
          "name": "stdout",
          "text": [
            "OrderedDict([('a', 1), ('b', 2), ('c', 3), ('d', 4), ('e', 5)])\n"
          ]
        }
      ]
    },
    {
      "cell_type": "markdown",
      "source": [
        "This will create an ordered dictionary with the same keys and values as the plain dictionary plain, and it will maintain the order of the keys as they were defined in the plain dictionary.\n",
        "If the plain dictionary was defined in a way where the keys were not in a particular order, then the fancy dictionary will not be in the same order as plain dictionary.\n",
        "\n",
        "You can also create the fancy dictionary using the key value pairs directly, like this:"
      ],
      "metadata": {
        "id": "rayY3HZun7BG"
      }
    },
    {
      "cell_type": "code",
      "source": [
        "fancy = OrderedDict([(\"a\", 1), (\"b\", 2), (\"c\", 3), (\"d\", 4), (\"e\", 5)])\n"
      ],
      "metadata": {
        "id": "HpYZGCxLnmLd"
      },
      "execution_count": 3,
      "outputs": []
    },
    {
      "cell_type": "markdown",
      "source": [
        "**7. Make a default dictionary called dict_of_lists and pass it the argument list. Make the list\n",
        "dict_of_lists[&#39;a&#39;] and append the value &#39;something for a&#39; to it in one assignment. Print\n",
        "dict_of_lists[&#39;a&#39;].**"
      ],
      "metadata": {
        "id": "IkIoA1gUpEE8"
      }
    },
    {
      "cell_type": "code",
      "source": [
        "from collections import defaultdict\n",
        "\n",
        "dict_of_lists = defaultdict(list)\n"
      ],
      "metadata": {
        "id": "iNMzNx7un9ga"
      },
      "execution_count": 4,
      "outputs": []
    },
    {
      "cell_type": "markdown",
      "source": [
        "This creates a default dictionary that returns an empty list when a key that doesn't exist is accessed.\n",
        "\n",
        "You can then make the list dict_of_lists['a'] and append the value 'something for a' to it in one assignment as follows:"
      ],
      "metadata": {
        "id": "MuHnSTsGpaB0"
      }
    },
    {
      "cell_type": "code",
      "source": [
        "dict_of_lists['a'].append('something for a')\n"
      ],
      "metadata": {
        "id": "zV9fx5FLpTPj"
      },
      "execution_count": 5,
      "outputs": []
    },
    {
      "cell_type": "markdown",
      "source": [
        "You can print the list dict_of_lists['a'] as follows:"
      ],
      "metadata": {
        "id": "ln9Hdrjvpgeh"
      }
    },
    {
      "cell_type": "code",
      "source": [
        "print(dict_of_lists['a'])\n"
      ],
      "metadata": {
        "colab": {
          "base_uri": "https://localhost:8080/"
        },
        "id": "Cyg4ChozpddR",
        "outputId": "c356ce62-4a1a-4e7b-b693-83fc9aaae89d"
      },
      "execution_count": 6,
      "outputs": [
        {
          "output_type": "stream",
          "name": "stdout",
          "text": [
            "['something for a']\n"
          ]
        }
      ]
    },
    {
      "cell_type": "markdown",
      "source": [
        "You can also use the default_factory attribute of defaultdict to change the default value."
      ],
      "metadata": {
        "id": "TU17L4Zupvwx"
      }
    },
    {
      "cell_type": "code",
      "source": [
        "dict_of_lists = defaultdict(lambda : [])\n"
      ],
      "metadata": {
        "id": "uet-zpTNpjLM"
      },
      "execution_count": 7,
      "outputs": []
    },
    {
      "cell_type": "markdown",
      "source": [
        "This creates a default dictionary with a default factory function that returns an empty list every time a key that doesn't exist is accessed."
      ],
      "metadata": {
        "id": "O4FOXYbzp3WA"
      }
    },
    {
      "cell_type": "code",
      "source": [],
      "metadata": {
        "id": "WMKoUtPnp0Np"
      },
      "execution_count": null,
      "outputs": []
    }
  ]
}