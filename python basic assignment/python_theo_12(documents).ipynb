{
  "nbformat": 4,
  "nbformat_minor": 0,
  "metadata": {
    "colab": {
      "provenance": []
    },
    "kernelspec": {
      "name": "python3",
      "display_name": "Python 3"
    },
    "language_info": {
      "name": "python"
    }
  },
  "cells": [
    {
      "cell_type": "markdown",
      "source": [
        "**1. In what modes should the PdfFileReader() and PdfFileWriter() File objects will be opened?**\n"
      ],
      "metadata": {
        "id": "GF5H_2d4NKuS"
      }
    },
    {
      "cell_type": "markdown",
      "source": [
        "The PdfFileReader() and PdfFileWriter() objects from the PyPDF2 module should be opened in \"rb\" (read binary) mode for reading and \"wb\" (write binary) mode for writing, respectively."
      ],
      "metadata": {
        "id": "dty8k8LtNdss"
      }
    },
    {
      "cell_type": "markdown",
      "source": [
        "**2. From a PdfFileReader object, how do you get a Page object for page 5?**\n"
      ],
      "metadata": {
        "id": "rQgfKZO4NPbT"
      }
    },
    {
      "cell_type": "markdown",
      "source": [
        "From a PdfFileReader object, you can get a Page object for page 5 using the following code:"
      ],
      "metadata": {
        "id": "ou447Jp-NkYn"
      }
    },
    {
      "cell_type": "code",
      "source": [
        "pdf_reader = PdfFileReader(open(\"document.pdf\", \"rb\"))\n",
        "page_5 = pdf_reader.getPage(4) # Page numbers start from 0\n"
      ],
      "metadata": {
        "id": "tHkYPc7FNojF"
      },
      "execution_count": null,
      "outputs": []
    },
    {
      "cell_type": "markdown",
      "source": [
        "**3. What PdfFileReader variable stores the number of pages in the PDF document?**\n"
      ],
      "metadata": {
        "id": "TFRdQzMANStf"
      }
    },
    {
      "cell_type": "markdown",
      "source": [
        "The number of pages in a PDF document can be obtained from the PdfFileReader object's numPages variable:"
      ],
      "metadata": {
        "id": "KhrXPD-XNyQA"
      }
    },
    {
      "cell_type": "code",
      "source": [
        "pdf_reader = PdfFileReader(open(\"document.pdf\", \"rb\"))\n",
        "num_pages = pdf_reader.numPages\n"
      ],
      "metadata": {
        "id": "iLzLx0tcN0ig"
      },
      "execution_count": null,
      "outputs": []
    },
    {
      "cell_type": "markdown",
      "source": [
        "**4. If a PdfFileReader object’s PDF is encrypted with the password swordfish, what must you do\n",
        "before you can obtain Page objects from it?**"
      ],
      "metadata": {
        "id": "1poa7RZTNVgI"
      }
    },
    {
      "cell_type": "markdown",
      "source": [
        "If a PdfFileReader object's PDF is encrypted with the password \"swordfish\", you must first decrypt the document using the decrypt method and the password:\n",
        "makefile\n"
      ],
      "metadata": {
        "id": "Vt849ThhN7yn"
      }
    },
    {
      "cell_type": "code",
      "execution_count": null,
      "metadata": {
        "id": "dn6tsVo4NId_"
      },
      "outputs": [],
      "source": [
        "pdf_reader = PdfFileReader(open(\"encrypted_document.pdf\", \"rb\"))\n",
        "pdf_reader.decrypt(\"swordfish\")\n",
        "page_5 = pdf_reader.getPage(4)\n"
      ]
    },
    {
      "cell_type": "markdown",
      "source": [
        "**5. What methods do you use to rotate a page?**\n"
      ],
      "metadata": {
        "id": "tAqcuwjDPE57"
      }
    },
    {
      "cell_type": "markdown",
      "source": [
        "To rotate a page in PyPDF2, you can use the rotateClockwise or rotateCounterClockwise method of the Page object. For example:"
      ],
      "metadata": {
        "id": "V_Lf4ZBWPTul"
      }
    },
    {
      "cell_type": "code",
      "source": [
        "pdf_reader = PdfFileReader(open(\"document.pdf\", \"rb\"))\n",
        "page = pdf_reader.getPage(0)\n",
        "page.rotateClockwise(90)\n"
      ],
      "metadata": {
        "id": "e2UHUVvZPb9T"
      },
      "execution_count": null,
      "outputs": []
    },
    {
      "cell_type": "markdown",
      "source": [
        "**6. What is the difference between a Run object and a Paragraph object?**\n"
      ],
      "metadata": {
        "id": "mHmFqqTVPI1S"
      }
    },
    {
      "cell_type": "markdown",
      "source": [
        "Run objects and Paragraph objects are part of the python-docx library and are used to represent elements of a Microsoft Word document. A Run object represents a portion of text with the same character formatting (such as font, size, and color) within a Paragraph, while a Paragraph object represents a block of text with its own formatting and style properties."
      ],
      "metadata": {
        "id": "zyNqA34FPfUg"
      }
    },
    {
      "cell_type": "markdown",
      "source": [
        "**7. How do you obtain a list of Paragraph objects for a Document object that’s stored in a variable\n",
        "named doc?**"
      ],
      "metadata": {
        "id": "eRlkET6qPMDl"
      }
    },
    {
      "cell_type": "markdown",
      "source": [
        "To obtain a list of Paragraph objects for a Document object stored in a variable named doc, you can use the following code:"
      ],
      "metadata": {
        "id": "fdpcDG4JPila"
      }
    },
    {
      "cell_type": "code",
      "source": [
        "para_list = [para for para in doc.paragraphs]\n"
      ],
      "metadata": {
        "id": "lpepO4g-PID5"
      },
      "execution_count": null,
      "outputs": []
    },
    {
      "cell_type": "markdown",
      "source": [
        "**8. What type of object has bold, underline, italic, strike, and outline variables?**\n"
      ],
      "metadata": {
        "id": "0m95rHEHQBhp"
      }
    },
    {
      "cell_type": "markdown",
      "source": [
        "The Run object in the python-docx library has the variables bold, underline, italic, strike, and outline to represent character formatting."
      ],
      "metadata": {
        "id": "vDSF4r0jQM75"
      }
    },
    {
      "cell_type": "markdown",
      "source": [
        "**9. What is the difference between False, True, and None for the bold variable?**\n"
      ],
      "metadata": {
        "id": "YQjURuDpQFMu"
      }
    },
    {
      "cell_type": "markdown",
      "source": [
        "In python-docx, the bold variable of a Run object can have three values: False, True, or None. False represents that the text is not bold, True represents that the text is bold, and None represents that the bold setting is not defined for the text."
      ],
      "metadata": {
        "id": "zz4BX3AXQQju"
      }
    },
    {
      "cell_type": "markdown",
      "source": [
        "**10. How do you create a Document object for a new Word document?**"
      ],
      "metadata": {
        "id": "Mj8a9P-hQJR2"
      }
    },
    {
      "cell_type": "markdown",
      "source": [
        "To create a Document object for a new Word document in the python-docx library, you can use the following code:"
      ],
      "metadata": {
        "id": "7PrkBaWFQTlE"
      }
    },
    {
      "cell_type": "code",
      "source": [
        "from docx import Document\n",
        "\n",
        "doc = Document()\n"
      ],
      "metadata": {
        "id": "bM_krZ_gQElL"
      },
      "execution_count": null,
      "outputs": []
    },
    {
      "cell_type": "markdown",
      "source": [
        "**11. How do you add a paragraph with the text &#39;Hello, there!&#39; to a Document object stored in a\n",
        "variable named doc?**\n"
      ],
      "metadata": {
        "id": "IGopWcHCQcw3"
      }
    },
    {
      "cell_type": "markdown",
      "source": [
        "To add a paragraph with the text 'Hello, there!' to a Document object stored in a variable named doc, you can use the following code:"
      ],
      "metadata": {
        "id": "MccJ5vBfQjQz"
      }
    },
    {
      "cell_type": "code",
      "source": [
        "from docx import Document\n",
        "\n",
        "doc = Document()\n",
        "para = doc.add_paragraph('Hello, there!')\n"
      ],
      "metadata": {
        "id": "1Wx_uD_6Qlx9"
      },
      "execution_count": null,
      "outputs": []
    },
    {
      "cell_type": "markdown",
      "source": [
        "**12. What integers represent the levels of headings available in Word documents?**"
      ],
      "metadata": {
        "id": "K94FtW_hQf_G"
      }
    },
    {
      "cell_type": "markdown",
      "source": [
        "In Word documents, headings are typically represented by different levels, ranging from 1 to 9. The integers 1 to 9 represent the available levels of headings in Word documents, with level 1 being the largest and most prominent heading, and level 9 being the smallest and least prominent heading."
      ],
      "metadata": {
        "id": "a1QOyEUdQoxl"
      }
    },
    {
      "cell_type": "code",
      "source": [],
      "metadata": {
        "id": "1XFj2Qy6QfYi"
      },
      "execution_count": null,
      "outputs": []
    }
  ]
}