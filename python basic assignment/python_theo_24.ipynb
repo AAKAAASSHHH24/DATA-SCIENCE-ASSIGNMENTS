{
  "nbformat": 4,
  "nbformat_minor": 0,
  "metadata": {
    "colab": {
      "provenance": []
    },
    "kernelspec": {
      "name": "python3",
      "display_name": "Python 3"
    },
    "language_info": {
      "name": "python"
    }
  },
  "cells": [
    {
      "cell_type": "markdown",
      "source": [
        "**2. What is the benefit of lambda?**"
      ],
      "metadata": {
        "id": "89f73nf0hMrG"
      }
    },
    {
      "cell_type": "markdown",
      "source": [
        "The benefit of using lambda functions, also known as anonymous functions, is that they can be defined in a concise and readable way, allowing for short and simple expressions to be passed as arguments or assigned to variables. This can make code more readable and maintainable. Lambda functions are also useful when a small piece of functionality needs to be passed as an argument to a higher-order function, such as map(), filter(), or reduce(), without having to define a separate function.\n",
        "\n",
        "Additionally, Lambda functions are generally more lightweight and have less overhead than defining a function with a name, as they are generally used for a single time.\n",
        "\n",
        "In Python programming language you can use it for example for filter to select only specific elements from an iterable and map to manipulate each element of an iterable."
      ],
      "metadata": {
        "id": "FEbRnwMFiDaC"
      }
    },
    {
      "cell_type": "markdown",
      "source": [
        "**3. Compare and contrast map, filter, and reduce.**"
      ],
      "metadata": {
        "id": "1d_3KWf6iJqo"
      }
    },
    {
      "cell_type": "markdown",
      "source": [
        "map(), filter(), and reduce() are all higher-order functions that take a function and an iterable as arguments and return a new iterable."
      ],
      "metadata": {
        "id": "Xz571WhZiiNa"
      }
    },
    {
      "cell_type": "markdown",
      "source": [
        "map() *applies a given function to each element* of an iterable, and returns a new iterable containing the modified elements. It takes two arguments: the first is a function that takes one argument, and the second is an iterable. The function passed to map() is applied to each element of the iterable, and the result is a new iterable containing the modified elements."
      ],
      "metadata": {
        "id": "b27qv7moimTp"
      }
    },
    {
      "cell_type": "code",
      "execution_count": 5,
      "metadata": {
        "colab": {
          "base_uri": "https://localhost:8080/"
        },
        "id": "bwOhLKxMhACP",
        "outputId": "efd406b8-8db2-4951-f1ff-a7c751eca926"
      },
      "outputs": [
        {
          "output_type": "stream",
          "name": "stdout",
          "text": [
            "[1, 4, 9, 16, 25]\n",
            "[3, 3, 4]\n"
          ]
        }
      ],
      "source": [
        "numbers = [1, 2, 3, 4, 5]\n",
        "squares = map(lambda x: x**2, numbers)\n",
        "print(list(squares))\n",
        "\n",
        "words = ['cat', 'dog', 'bird']\n",
        "lengths = map(len, words)\n",
        "print(list(lengths))"
      ]
    },
    {
      "cell_type": "markdown",
      "source": [
        "filter() returns an iterable containing only the elements that satisfy a given condition. It takes two arguments: the first is a function that takes one argument and returns a Boolean value, and the second is an iterable. The function passed to filter() is applied to each element of the iterable, and the result is a new iterable containing only the elements for which the function returned True."
      ],
      "metadata": {
        "id": "5XG1v5QmizV1"
      }
    },
    {
      "cell_type": "code",
      "source": [
        "numbers = [1, 2, 3, 4, 5, 6, 7, 8, 9, 10]\n",
        "evens = filter(lambda x: x % 2 == 0, numbers)\n",
        "print(list(evens))\n",
        "\n",
        "words = ['cat', 'dog', 'bird', 'fish', 'monkey']\n",
        "long_words = filter(lambda x: len(x) > 3, words)\n",
        "print(list(long_words))"
      ],
      "metadata": {
        "colab": {
          "base_uri": "https://localhost:8080/"
        },
        "id": "Io0CHSRsisoN",
        "outputId": "a5784fd2-1d1c-47c1-85ea-8b98d66a0db2"
      },
      "execution_count": 4,
      "outputs": [
        {
          "output_type": "stream",
          "name": "stdout",
          "text": [
            "[2, 4, 6, 8, 10]\n",
            "['bird', 'fish', 'monkey']\n"
          ]
        }
      ]
    },
    {
      "cell_type": "markdown",
      "source": [
        "reduce() is an implementation of a mathematical concept called folding and it applies a binary function (accepting two elements) cumulatively on the elements of an iterable, from left to right, so as to reduce the iterable to a single value. It takes two arguments: a function that takes two arguments and returns a single value, and an iterable. The function passed to reduce() is applied to the first two elements of the iterable, then to the result and the next element, and so on, until the iterable is reduced to a single value.\n",
        "Keep in mind that reduce() is not available in Python built-in function and you have to import it from functools library."
      ],
      "metadata": {
        "id": "DrIT-ug1jGTn"
      }
    },
    {
      "cell_type": "code",
      "source": [
        "from functools import reduce\n",
        "\n",
        "numbers = [1, 2, 3, 4, 5]\n",
        "product = reduce(lambda x, y: x*y, numbers)\n",
        "print(product)\n",
        "\n",
        "words = ['cat', 'dog', 'bird']\n",
        "concatenation = reduce(lambda x, y: x + y, words)\n",
        "print(concatenation)"
      ],
      "metadata": {
        "colab": {
          "base_uri": "https://localhost:8080/"
        },
        "id": "bifU_4oui21u",
        "outputId": "f2ab7444-b971-4deb-9a69-1e2acf62ba7a"
      },
      "execution_count": 6,
      "outputs": [
        {
          "output_type": "stream",
          "name": "stdout",
          "text": [
            "120\n",
            "catdogbird\n"
          ]
        }
      ]
    },
    {
      "cell_type": "markdown",
      "source": [
        "**4. What are function annotations, and how are they used?**\n"
      ],
      "metadata": {
        "id": "91ySQCTxGgv7"
      }
    },
    {
      "cell_type": "markdown",
      "source": [
        "Function annotations are a way to provide a programmer's intended type for a function's arguments and return value. They are not enforced by the Python interpreter and are used mainly for documentation purposes, but they can be used by third-party type checkers and IDEs. They are written in the form of name: type after the function argument, and they can also be used to specify the return type using -> type after the function arguments."
      ],
      "metadata": {
        "id": "DAI-YBdfGvA_"
      }
    },
    {
      "cell_type": "markdown",
      "source": [
        "**5. What are recursive functions, and how are they used?**"
      ],
      "metadata": {
        "id": "YCT6QUliGpIz"
      }
    },
    {
      "cell_type": "markdown",
      "source": [
        "A recursive function is a function that calls itself. It has a base case that stops the recursion, and one or more recursive cases that call the function again with different arguments. This allows the function to solve a problem by breaking it down into smaller instances of the same problem. Recursive functions are used for solving problems that have a natural recursive structure, such as traversing a tree data structure or computing factorials.\n",
        "\n",
        "\n",
        "\n"
      ],
      "metadata": {
        "id": "mq8wvNZHG4qk"
      }
    },
    {
      "cell_type": "code",
      "source": [
        "def factorial(n: int) -> int:\n",
        "    if n == 0:\n",
        "        return 1\n",
        "    else:\n",
        "        return n * factorial(n-1)\n"
      ],
      "metadata": {
        "id": "pq19un05jNAe"
      },
      "execution_count": 7,
      "outputs": []
    },
    {
      "cell_type": "markdown",
      "source": [
        "In this example, the base case is when n is equal to 0, in which case the function returns 1. In the recursive case, the function calls itself with the argument n-1 and multiplies the result by n. This will keep happening until n reaches 0, it stops and return the final result.\n",
        "\n",
        "For example, if we call factorial(5), it will evaluate as:\n",
        "\n",
        "5 * factorial(4) -> 5 * 4 * factorial(3) -> 5 * 4 * 3 * factorial(2) -> 5 * 4 * 3 * 2 * factorial(1) -> 5 * 4 * 3 * 2 * 1 * factorial(0) -> 5 * 4 * 3 * 2 * 1 * 1 = 120\n",
        "\n",
        "This is the mathematical definition of factorial, which is the product of all the integers from 1 to n (5!), and the recursive implementation follows that concept."
      ],
      "metadata": {
        "id": "uv6jJy2iIroA"
      }
    },
    {
      "cell_type": "markdown",
      "source": [
        "**6. What are some general design guidelines for coding functions?**\n"
      ],
      "metadata": {
        "id": "W6HAkuoAJDZY"
      }
    },
    {
      "cell_type": "markdown",
      "source": [
        "Some general design guidelines for coding functions are:\n",
        "Keep functions small and focused. A function should have a single, well-defined purpose and should not try to do too many things.\n",
        "\n",
        "Give functions descriptive and meaningful names. The name of a function should clearly indicate what it does.\n",
        "\n",
        "Use function arguments to make the function flexible and reusable. Instead of hardcoding values in a function, use arguments to allow the caller to specify them.\n",
        "\n",
        "Use clear and descriptive variable names. The variable names used within a function should be clear and meaningful, making it easy to understand the function's purpose.\n",
        "\n",
        "Use meaningful return values. A function's return value should be used to communicate its results to the caller."
      ],
      "metadata": {
        "id": "5xVnjvesJMbJ"
      }
    },
    {
      "cell_type": "markdown",
      "source": [
        "**7. Name three or more ways that functions can communicate results to a caller.**"
      ],
      "metadata": {
        "id": "6-3RwzqjJHvt"
      }
    },
    {
      "cell_type": "markdown",
      "source": [
        "Some ways that functions can communicate results to a caller are:\n",
        "\n",
        "Return statement: Functions can use the return statement to return a value or expression to the caller. For example, a function that calculates the factorial of a number can return the result as its return value.\n",
        "\n",
        "Side effect: A function can also communicate results to a caller by changing the state of one or more objects outside of the function, known as side effects.\n",
        "\n",
        "Exception: Functions can raise an exception to signal to the caller that an error has occurred. This can be used to indicate an exceptional condition that the caller must handle.\n",
        "\n",
        "Output parameters : Functions can take input and output parameters, in other words, passed by reference. A function can change the value of the parameter, this change would reflect back in the calling function."
      ],
      "metadata": {
        "id": "JNJ6VZXeJQuP"
      }
    },
    {
      "cell_type": "code",
      "source": [],
      "metadata": {
        "id": "wQ68OrHsGrHi"
      },
      "execution_count": null,
      "outputs": []
    },
    {
      "cell_type": "code",
      "source": [],
      "metadata": {
        "id": "hL4Cg4YWJJNu"
      },
      "execution_count": null,
      "outputs": []
    }
  ]
}